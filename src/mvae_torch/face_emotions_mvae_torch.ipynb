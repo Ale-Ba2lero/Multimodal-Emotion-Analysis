{
 "cells": [
  {
   "cell_type": "code",
   "execution_count": 1,
   "id": "9a8f36e1",
   "metadata": {},
   "outputs": [],
   "source": [
    "import os, sys; sys.path.append(os.path.dirname(os.getcwd()))"
   ]
  },
  {
   "cell_type": "code",
   "execution_count": 2,
   "id": "17f22e92",
   "metadata": {},
   "outputs": [],
   "source": [
    "import torch\n",
    "from torchvision import transforms\n",
    "from torch.utils.data import DataLoader\n",
    "\n",
    "import numpy as np\n",
    "\n",
    "import util.RAVDESS_dataset_util as Rd\n",
    "import multimodal_vae\n",
    "from train_mvae import build_model, train\n",
    "\n",
    "from config_args import ConfigModelArgs, ConfigTrainArgs\n",
    "import torch_mvae_util as U"
   ]
  },
  {
   "cell_type": "code",
   "execution_count": 3,
   "id": "38e7928d",
   "metadata": {},
   "outputs": [],
   "source": [
    "cfg_model = ConfigModelArgs()\n",
    "cfg_train = ConfigTrainArgs()"
   ]
  },
  {
   "cell_type": "code",
   "execution_count": 4,
   "id": "b6282284",
   "metadata": {},
   "outputs": [
    {
     "name": "stdout",
     "output_type": "stream",
     "text": [
      "training set size:  4900 \n",
      "test set size:  4967\n"
     ]
    }
   ],
   "source": [
    "face_dataset = Rd.FaceEmotionDataset(\n",
    "    root_dir=cfg_model.dataset_path,\n",
    "    transform=transforms.Compose\n",
    "    ([\n",
    "        Rd.Rescale(cfg_model.img_size), \n",
    "        Rd.CenterCrop(cfg_model.img_size), \n",
    "        Rd.ToTensor()\n",
    "    ]))\n",
    "\n",
    "trainingset_len = len(face_dataset) // 100 * 50\n",
    "testset_len = len(face_dataset) - trainingset_len\n",
    "training_dataset, testing_dataset = torch.utils.data.random_split(\n",
    "    face_dataset, \n",
    "    [trainingset_len, testset_len],\n",
    "    generator=torch.Generator().manual_seed(42)\n",
    ")\n",
    "\n",
    "dataset_loader = DataLoader(training_dataset, batch_size=cfg_train.batch_size,\n",
    "                        shuffle=True, num_workers=cfg_train.num_workers)\n",
    "\n",
    "testset_loader = DataLoader(testing_dataset, batch_size=cfg_train.batch_size,\n",
    "                        shuffle=True, num_workers=cfg_train.num_workers)\n",
    "\n",
    "print('training set size: ',trainingset_len,'\\ntest set size: ',testset_len)"
   ]
  },
  {
   "cell_type": "code",
   "execution_count": 5,
   "id": "acb4c5be",
   "metadata": {},
   "outputs": [],
   "source": [
    "model_args = {\n",
    "    'cat_dim' : cfg_model.cat_dim,\n",
    "    'latent_space_dim' : cfg_model.z_dim,\n",
    "    'hidden_dim' : cfg_model.hidden_dim,\n",
    "    'num_channels' : cfg_model.channel_dim,\n",
    "    'loss_weights' : cfg_model.loss_weights,\n",
    "    'expert_type' : cfg_model.expert_type,\n",
    "    'use_cuda' : True\n",
    "}\n",
    "\n",
    "model: torch.nn.Module = build_model(**model_args).double()"
   ]
  },
  {
   "cell_type": "code",
   "execution_count": 6,
   "id": "a0e27a42",
   "metadata": {},
   "outputs": [],
   "source": [
    "load_model = False\n",
    "\n",
    "if load_model:    \n",
    "    PATH = cfg_train.model_save_path\n",
    "    loaded_data = torch.load(PATH)\n",
    "    \n",
    "    model: torch.nn.Module = build_model(**loaded_data['model_args']).double()\n",
    "    model.load_state_dict(loaded_data['model_params'])\n",
    "    \n",
    "    training_losses = loaded_data['training_loss']\n",
    "    U.print_losses(training_losses)\n",
    "    \n",
    "    model.eval()"
   ]
  },
  {
   "cell_type": "code",
   "execution_count": null,
   "id": "133b91a5",
   "metadata": {
    "scrolled": true
   },
   "outputs": [
    {
     "name": "stderr",
     "output_type": "stream",
     "text": [
      " 16%|████▏                     | 4/25 [20:06<1:47:03, 305.89s/it]"
     ]
    }
   ],
   "source": [
    "train_model = True\n",
    "\n",
    "if train_model:\n",
    "    training_losses = train(\n",
    "        mvae_model=model,\n",
    "        dataset_loader=dataset_loader,\n",
    "        learning_rate=cfg_train.learning_rate,\n",
    "        optim_betas=cfg_train.optim_betas,\n",
    "        num_epochs=cfg_train.num_epochs,\n",
    "        batch_size=cfg_train.batch_size,\n",
    "        checkpoint_every=cfg_train.checkpoint_every,\n",
    "        checkpoint_path=cfg_train.checkpoint_path,\n",
    "        save_model=cfg_train.save_model,\n",
    "        seed=cfg_train.seed,\n",
    "        use_cuda=cfg_train.use_cuda,\n",
    "        cfg=cfg_train\n",
    "    )\n",
    "    \n",
    "    U.print_losses(training_losses)"
   ]
  },
  {
   "cell_type": "code",
   "execution_count": null,
   "id": "5d1c22ae",
   "metadata": {
    "scrolled": false
   },
   "outputs": [],
   "source": [
    "U.test_batch(model, testset_loader)"
   ]
  },
  {
   "cell_type": "code",
   "execution_count": null,
   "id": "15e4c416",
   "metadata": {},
   "outputs": [],
   "source": [
    "print(U.recon_and_classiffication_accuracy(model, testset_loader))"
   ]
  },
  {
   "cell_type": "code",
   "execution_count": null,
   "id": "1ad716a7",
   "metadata": {},
   "outputs": [],
   "source": [
    "print(U.classiffication_accuracy(model, testset_loader))"
   ]
  },
  {
   "cell_type": "code",
   "execution_count": null,
   "id": "48e3886c",
   "metadata": {
    "scrolled": true
   },
   "outputs": [],
   "source": [
    "save_model = True\n",
    "\n",
    "if save_model:\n",
    "    PATH = cfg_train.model_save_path\n",
    "    torch.save({'model_params' : model.state_dict(),\n",
    "                'model_args' : model_args,\n",
    "                'training_loss' : training_losses}, PATH)"
   ]
  }
 ],
 "metadata": {
  "kernelspec": {
   "display_name": "Python 3 (ipykernel)",
   "language": "python",
   "name": "python3"
  },
  "language_info": {
   "codemirror_mode": {
    "name": "ipython",
    "version": 3
   },
   "file_extension": ".py",
   "mimetype": "text/x-python",
   "name": "python",
   "nbconvert_exporter": "python",
   "pygments_lexer": "ipython3",
   "version": "3.9.7"
  }
 },
 "nbformat": 4,
 "nbformat_minor": 5
}
