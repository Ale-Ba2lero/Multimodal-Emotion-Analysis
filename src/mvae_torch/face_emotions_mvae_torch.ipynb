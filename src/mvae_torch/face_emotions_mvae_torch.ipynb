{
 "cells": [
  {
   "cell_type": "code",
   "execution_count": 1,
   "id": "9a8f36e1",
   "metadata": {},
   "outputs": [],
   "source": [
    "import os, sys; sys.path.append(os.path.dirname(os.getcwd()))"
   ]
  },
  {
   "cell_type": "code",
   "execution_count": 2,
   "id": "17f22e92",
   "metadata": {},
   "outputs": [],
   "source": [
    "import torch\n",
    "from torchvision import transforms\n",
    "from torch.utils.data import DataLoader\n",
    "\n",
    "import numpy as np\n",
    "import matplotlib.pyplot as plt\n",
    "\n",
    "import util.RAVDESS_dataset_util as Rd\n",
    "import multimodal_vae\n",
    "from train_mvae import build_model, train\n",
    "\n",
    "from config_args import ConfigModelArgs, ConfigTrainArgs"
   ]
  },
  {
   "cell_type": "code",
   "execution_count": 3,
   "id": "38e7928d",
   "metadata": {},
   "outputs": [],
   "source": [
    "cfg_model = ConfigModelArgs()\n",
    "cfg_train = ConfigTrainArgs()"
   ]
  },
  {
   "cell_type": "code",
   "execution_count": 4,
   "id": "b6282284",
   "metadata": {},
   "outputs": [
    {
     "name": "stdout",
     "output_type": "stream",
     "text": [
      "training set size:  6840 \n",
      "test set size:  360\n"
     ]
    }
   ],
   "source": [
    "face_dataset = Rd.FaceEmotionDataset(\n",
    "    root_dir=cfg_model.dataset_path,\n",
    "    transform=transforms.Compose\n",
    "    ([\n",
    "        Rd.Rescale(cfg_model.img_size), \n",
    "        Rd.CenterCrop(cfg_model.img_size), \n",
    "        Rd.ToTensor()\n",
    "    ]))\n",
    "\n",
    "trainingset_len = len(face_dataset) // 100 * 95\n",
    "testset_len = len(face_dataset) - trainingset_len\n",
    "training_dataset, testing_dataset = torch.utils.data.random_split(\n",
    "    face_dataset, \n",
    "    [trainingset_len, testset_len],\n",
    "    #generator=torch.Generator().manual_seed(42)\n",
    ")\n",
    "\n",
    "dataset_loader = DataLoader(training_dataset, batch_size=cfg_train.batch_size,\n",
    "                        shuffle=True, num_workers=cfg_train.num_workers)\n",
    "\n",
    "testset_loader = DataLoader(testing_dataset, batch_size=cfg_train.batch_size,\n",
    "                        shuffle=True, num_workers=cfg_train.num_workers)\n",
    "\n",
    "print('training set size: ',trainingset_len,'\\ntest set size: ',testset_len)"
   ]
  },
  {
   "cell_type": "code",
   "execution_count": 5,
   "id": "d5b31254",
   "metadata": {},
   "outputs": [],
   "source": [
    "model: torch.nn.Module = build_model(\n",
    "    cat_dim=cfg_model.cat_dim,\n",
    "    latent_space_dim=cfg_model.z_dim,\n",
    "    hidden_dim=cfg_model.hidden_dim,\n",
    "    num_channels=cfg_model.channel_dim,\n",
    "    loss_weights=cfg_model.loss_weights,\n",
    "    expert_type=cfg_model.expert_type,\n",
    "    use_cuda=True\n",
    ").double()"
   ]
  },
  {
   "cell_type": "code",
   "execution_count": 6,
   "id": "133b91a5",
   "metadata": {
    "scrolled": true
   },
   "outputs": [
    {
     "name": "stderr",
     "output_type": "stream",
     "text": [
      "  0%|▏                         | 1/200 [01:39<5:29:34, 99.37s/it]"
     ]
    },
    {
     "name": "stdout",
     "output_type": "stream",
     "text": [
      "Multimodal losses:\n",
      "Mean total loss: 4.7395;\n",
      "Mean reconstruction loss: 1.7029;\n",
      "Mean kld_loss loss: 30.366;\n",
      "Mean faces_reconstruction loss: 0.3529;\n",
      "Mean emotions_reconstruction loss: 1.35;\n",
      "\n",
      "Face losses:\n",
      "Mean total loss: 1.6217;\n",
      "Mean reconstruction loss: 0.3504;\n",
      "Mean kld_loss loss: 12.713;\n",
      "Mean faces_reconstruction loss: 0.3504;\n",
      "Mean emotions_reconstruction loss: 0.0;\n",
      "\n",
      "Emotion losses:\n",
      "Mean total loss: 2.936;\n",
      "Mean reconstruction loss: 1.1189;\n",
      "Mean kld_loss loss: 18.171;\n",
      "Mean faces_reconstruction loss: 0.0;\n",
      "Mean emotions_reconstruction loss: 1.1189;\n",
      "\n"
     ]
    },
    {
     "name": "stderr",
     "output_type": "stream",
     "text": [
      "\r",
      "  1%|▎                         | 2/200 [03:19<5:29:39, 99.90s/it]"
     ]
    },
    {
     "name": "stdout",
     "output_type": "stream",
     "text": [
      "Multimodal losses:\n",
      "Mean total loss: 2.5681;\n",
      "Mean reconstruction loss: 0.61434;\n",
      "Mean kld_loss loss: 19.537;\n",
      "Mean faces_reconstruction loss: 0.13081;\n",
      "Mean emotions_reconstruction loss: 0.48353;\n",
      "\n",
      "Face losses:\n",
      "Mean total loss: 0.68939;\n",
      "Mean reconstruction loss: 0.13053;\n",
      "Mean kld_loss loss: 5.5886;\n",
      "Mean faces_reconstruction loss: 0.13053;\n",
      "Mean emotions_reconstruction loss: 0.0;\n",
      "\n",
      "Emotion losses:\n",
      "Mean total loss: 1.2143;\n",
      "Mean reconstruction loss: 0.2271;\n",
      "Mean kld_loss loss: 9.8719;\n",
      "Mean faces_reconstruction loss: 0.0;\n",
      "Mean emotions_reconstruction loss: 0.2271;\n",
      "\n"
     ]
    },
    {
     "name": "stderr",
     "output_type": "stream",
     "text": [
      "\r",
      "  2%|▍                        | 3/200 [05:00<5:29:23, 100.32s/it]"
     ]
    },
    {
     "name": "stdout",
     "output_type": "stream",
     "text": [
      "Multimodal losses:\n",
      "Mean total loss: 2.3559;\n",
      "Mean reconstruction loss: 0.44156;\n",
      "Mean kld_loss loss: 19.144;\n",
      "Mean faces_reconstruction loss: 0.10429;\n",
      "Mean emotions_reconstruction loss: 0.33727;\n",
      "\n",
      "Face losses:\n",
      "Mean total loss: 0.59109;\n",
      "Mean reconstruction loss: 0.10416;\n",
      "Mean kld_loss loss: 4.8693;\n",
      "Mean faces_reconstruction loss: 0.10416;\n",
      "Mean emotions_reconstruction loss: 0.0;\n",
      "\n",
      "Emotion losses:\n",
      "Mean total loss: 1.0703;\n",
      "Mean reconstruction loss: 0.15104;\n",
      "Mean kld_loss loss: 9.1924;\n",
      "Mean faces_reconstruction loss: 0.0;\n",
      "Mean emotions_reconstruction loss: 0.15104;\n",
      "\n"
     ]
    },
    {
     "name": "stderr",
     "output_type": "stream",
     "text": [
      "\r",
      "  2%|▌                         | 4/200 [06:39<5:26:29, 99.95s/it]"
     ]
    },
    {
     "name": "stdout",
     "output_type": "stream",
     "text": [
      "Multimodal losses:\n",
      "Mean total loss: 2.2955;\n",
      "Mean reconstruction loss: 0.39314;\n",
      "Mean kld_loss loss: 19.023;\n",
      "Mean faces_reconstruction loss: 0.088349;\n",
      "Mean emotions_reconstruction loss: 0.30479;\n",
      "\n",
      "Face losses:\n",
      "Mean total loss: 0.53933;\n",
      "Mean reconstruction loss: 0.088226;\n",
      "Mean kld_loss loss: 4.5111;\n",
      "Mean faces_reconstruction loss: 0.088226;\n",
      "Mean emotions_reconstruction loss: 0.0;\n",
      "\n",
      "Emotion losses:\n",
      "Mean total loss: 1.0303;\n",
      "Mean reconstruction loss: 0.12853;\n",
      "Mean kld_loss loss: 9.0175;\n",
      "Mean faces_reconstruction loss: 0.0;\n",
      "Mean emotions_reconstruction loss: 0.12853;\n",
      "\n"
     ]
    },
    {
     "name": "stderr",
     "output_type": "stream",
     "text": [
      "\r",
      "  2%|▋                        | 5/200 [08:20<5:25:47, 100.24s/it]"
     ]
    },
    {
     "name": "stdout",
     "output_type": "stream",
     "text": [
      "Multimodal losses:\n",
      "Mean total loss: 2.222;\n",
      "Mean reconstruction loss: 0.32428;\n",
      "Mean kld_loss loss: 18.978;\n",
      "Mean faces_reconstruction loss: 0.054695;\n",
      "Mean emotions_reconstruction loss: 0.26958;\n",
      "\n",
      "Face losses:\n",
      "Mean total loss: 0.4882;\n",
      "Mean reconstruction loss: 0.054476;\n",
      "Mean kld_loss loss: 4.3372;\n",
      "Mean faces_reconstruction loss: 0.054476;\n",
      "Mean emotions_reconstruction loss: 0.0;\n",
      "\n",
      "Emotion losses:\n",
      "Mean total loss: 1.0314;\n",
      "Mean reconstruction loss: 0.13343;\n",
      "Mean kld_loss loss: 8.98;\n",
      "Mean faces_reconstruction loss: 0.0;\n",
      "Mean emotions_reconstruction loss: 0.13343;\n",
      "\n"
     ]
    },
    {
     "name": "stderr",
     "output_type": "stream",
     "text": [
      "\r",
      "  3%|▊                        | 6/200 [10:00<5:24:10, 100.26s/it]"
     ]
    },
    {
     "name": "stdout",
     "output_type": "stream",
     "text": [
      "Multimodal losses:\n",
      "Mean total loss: 2.2087;\n",
      "Mean reconstruction loss: 0.31597;\n",
      "Mean kld_loss loss: 18.927;\n",
      "Mean faces_reconstruction loss: 0.047616;\n",
      "Mean emotions_reconstruction loss: 0.26835;\n",
      "\n",
      "Face losses:\n",
      "Mean total loss: 0.46638;\n",
      "Mean reconstruction loss: 0.047521;\n",
      "Mean kld_loss loss: 4.1886;\n",
      "Mean faces_reconstruction loss: 0.047521;\n",
      "Mean emotions_reconstruction loss: 0.0;\n",
      "\n",
      "Emotion losses:\n",
      "Mean total loss: 1.0089;\n",
      "Mean reconstruction loss: 0.11394;\n",
      "Mean kld_loss loss: 8.95;\n",
      "Mean faces_reconstruction loss: 0.0;\n",
      "Mean emotions_reconstruction loss: 0.11394;\n",
      "\n"
     ]
    },
    {
     "name": "stderr",
     "output_type": "stream",
     "text": [
      "\r",
      "  4%|▉                        | 7/200 [11:40<5:21:57, 100.09s/it]"
     ]
    },
    {
     "name": "stdout",
     "output_type": "stream",
     "text": [
      "Multimodal losses:\n",
      "Mean total loss: 2.196;\n",
      "Mean reconstruction loss: 0.30383;\n",
      "Mean kld_loss loss: 18.922;\n",
      "Mean faces_reconstruction loss: 0.04589;\n",
      "Mean emotions_reconstruction loss: 0.25794;\n",
      "\n",
      "Face losses:\n",
      "Mean total loss: 0.45324;\n",
      "Mean reconstruction loss: 0.045817;\n",
      "Mean kld_loss loss: 4.0742;\n",
      "Mean faces_reconstruction loss: 0.045817;\n",
      "Mean emotions_reconstruction loss: 0.0;\n",
      "\n",
      "Emotion losses:\n",
      "Mean total loss: 1.0085;\n",
      "Mean reconstruction loss: 0.11424;\n",
      "Mean kld_loss loss: 8.9423;\n",
      "Mean faces_reconstruction loss: 0.0;\n",
      "Mean emotions_reconstruction loss: 0.11424;\n",
      "\n"
     ]
    },
    {
     "name": "stderr",
     "output_type": "stream",
     "text": [
      "\r",
      "  4%|█                        | 8/200 [13:20<5:20:20, 100.10s/it]"
     ]
    },
    {
     "name": "stdout",
     "output_type": "stream",
     "text": [
      "Multimodal losses:\n",
      "Mean total loss: 2.183;\n",
      "Mean reconstruction loss: 0.30201;\n",
      "Mean kld_loss loss: 18.81;\n",
      "Mean faces_reconstruction loss: 0.044571;\n",
      "Mean emotions_reconstruction loss: 0.25744;\n",
      "\n",
      "Face losses:\n",
      "Mean total loss: 0.44572;\n",
      "Mean reconstruction loss: 0.044493;\n",
      "Mean kld_loss loss: 4.0123;\n",
      "Mean faces_reconstruction loss: 0.044493;\n",
      "Mean emotions_reconstruction loss: 0.0;\n",
      "\n",
      "Emotion losses:\n",
      "Mean total loss: 0.99237;\n",
      "Mean reconstruction loss: 0.10886;\n",
      "Mean kld_loss loss: 8.8351;\n",
      "Mean faces_reconstruction loss: 0.0;\n",
      "Mean emotions_reconstruction loss: 0.10886;\n",
      "\n"
     ]
    },
    {
     "name": "stderr",
     "output_type": "stream",
     "text": [
      "\r",
      "  4%|█▏                       | 9/200 [15:01<5:19:00, 100.21s/it]"
     ]
    },
    {
     "name": "stdout",
     "output_type": "stream",
     "text": [
      "Multimodal losses:\n",
      "Mean total loss: 2.1802;\n",
      "Mean reconstruction loss: 0.29496;\n",
      "Mean kld_loss loss: 18.853;\n",
      "Mean faces_reconstruction loss: 0.043172;\n",
      "Mean emotions_reconstruction loss: 0.25179;\n",
      "\n",
      "Face losses:\n",
      "Mean total loss: 0.43913;\n",
      "Mean reconstruction loss: 0.04309;\n",
      "Mean kld_loss loss: 3.9604;\n",
      "Mean faces_reconstruction loss: 0.04309;\n",
      "Mean emotions_reconstruction loss: 0.0;\n",
      "\n",
      "Emotion losses:\n",
      "Mean total loss: 1.012;\n",
      "Mean reconstruction loss: 0.11702;\n",
      "Mean kld_loss loss: 8.9501;\n",
      "Mean faces_reconstruction loss: 0.0;\n",
      "Mean emotions_reconstruction loss: 0.11702;\n",
      "\n"
     ]
    },
    {
     "name": "stderr",
     "output_type": "stream",
     "text": [
      "\r",
      "  5%|█▏                      | 10/200 [16:41<5:17:23, 100.23s/it]"
     ]
    },
    {
     "name": "stdout",
     "output_type": "stream",
     "text": [
      "Multimodal losses:\n",
      "Mean total loss: 2.1784;\n",
      "Mean reconstruction loss: 0.29264;\n",
      "Mean kld_loss loss: 18.857;\n",
      "Mean faces_reconstruction loss: 0.03886;\n",
      "Mean emotions_reconstruction loss: 0.25378;\n",
      "\n",
      "Face losses:\n",
      "Mean total loss: 0.42884;\n",
      "Mean reconstruction loss: 0.038792;\n",
      "Mean kld_loss loss: 3.9005;\n",
      "Mean faces_reconstruction loss: 0.038792;\n",
      "Mean emotions_reconstruction loss: 0.0;\n",
      "\n",
      "Emotion losses:\n",
      "Mean total loss: 1.0018;\n",
      "Mean reconstruction loss: 0.1083;\n",
      "Mean kld_loss loss: 8.9354;\n",
      "Mean faces_reconstruction loss: 0.0;\n",
      "Mean emotions_reconstruction loss: 0.1083;\n",
      "\n"
     ]
    },
    {
     "name": "stderr",
     "output_type": "stream",
     "text": [
      "\r",
      "  6%|█▎                      | 11/200 [18:21<5:15:11, 100.06s/it]"
     ]
    },
    {
     "name": "stdout",
     "output_type": "stream",
     "text": [
      "Multimodal losses:\n",
      "Mean total loss: 2.1649;\n",
      "Mean reconstruction loss: 0.2873;\n",
      "Mean kld_loss loss: 18.777;\n",
      "Mean faces_reconstruction loss: 0.03836;\n",
      "Mean emotions_reconstruction loss: 0.24893;\n",
      "\n",
      "Face losses:\n",
      "Mean total loss: 0.42432;\n",
      "Mean reconstruction loss: 0.038319;\n",
      "Mean kld_loss loss: 3.86;\n",
      "Mean faces_reconstruction loss: 0.038319;\n",
      "Mean emotions_reconstruction loss: 0.0;\n",
      "\n",
      "Emotion losses:\n",
      "Mean total loss: 1.0042;\n",
      "Mean reconstruction loss: 0.11242;\n",
      "Mean kld_loss loss: 8.918;\n",
      "Mean faces_reconstruction loss: 0.0;\n",
      "Mean emotions_reconstruction loss: 0.11242;\n",
      "\n"
     ]
    },
    {
     "name": "stderr",
     "output_type": "stream",
     "text": [
      "\r",
      "  6%|█▌                       | 12/200 [20:00<5:13:08, 99.94s/it]"
     ]
    },
    {
     "name": "stdout",
     "output_type": "stream",
     "text": [
      "Multimodal losses:\n",
      "Mean total loss: 2.1694;\n",
      "Mean reconstruction loss: 0.29604;\n",
      "Mean kld_loss loss: 18.733;\n",
      "Mean faces_reconstruction loss: 0.038091;\n",
      "Mean emotions_reconstruction loss: 0.25795;\n",
      "\n",
      "Face losses:\n",
      "Mean total loss: 0.41901;\n",
      "Mean reconstruction loss: 0.038052;\n",
      "Mean kld_loss loss: 3.8096;\n",
      "Mean faces_reconstruction loss: 0.038052;\n",
      "Mean emotions_reconstruction loss: 0.0;\n",
      "\n",
      "Emotion losses:\n",
      "Mean total loss: 0.9965;\n",
      "Mean reconstruction loss: 0.10494;\n",
      "Mean kld_loss loss: 8.9156;\n",
      "Mean faces_reconstruction loss: 0.0;\n",
      "Mean emotions_reconstruction loss: 0.10494;\n",
      "\n"
     ]
    },
    {
     "name": "stderr",
     "output_type": "stream",
     "text": [
      "\r",
      "  6%|█▌                      | 13/200 [21:41<5:12:08, 100.15s/it]"
     ]
    },
    {
     "name": "stdout",
     "output_type": "stream",
     "text": [
      "Multimodal losses:\n",
      "Mean total loss: 2.1699;\n",
      "Mean reconstruction loss: 0.29785;\n",
      "Mean kld_loss loss: 18.721;\n",
      "Mean faces_reconstruction loss: 0.037628;\n",
      "Mean emotions_reconstruction loss: 0.26022;\n",
      "\n",
      "Face losses:\n",
      "Mean total loss: 0.41641;\n",
      "Mean reconstruction loss: 0.037604;\n",
      "Mean kld_loss loss: 3.788;\n",
      "Mean faces_reconstruction loss: 0.037604;\n",
      "Mean emotions_reconstruction loss: 0.0;\n",
      "\n",
      "Emotion losses:\n",
      "Mean total loss: 1.0009;\n",
      "Mean reconstruction loss: 0.10789;\n",
      "Mean kld_loss loss: 8.9301;\n",
      "Mean faces_reconstruction loss: 0.0;\n",
      "Mean emotions_reconstruction loss: 0.10789;\n",
      "\n"
     ]
    },
    {
     "name": "stderr",
     "output_type": "stream",
     "text": [
      "\r",
      "  7%|█▋                      | 14/200 [23:21<5:10:25, 100.14s/it]"
     ]
    },
    {
     "name": "stdout",
     "output_type": "stream",
     "text": [
      "Multimodal losses:\n",
      "Mean total loss: 2.1663;\n",
      "Mean reconstruction loss: 0.28828;\n",
      "Mean kld_loss loss: 18.78;\n",
      "Mean faces_reconstruction loss: 0.036851;\n",
      "Mean emotions_reconstruction loss: 0.25143;\n",
      "\n",
      "Face losses:\n",
      "Mean total loss: 0.41292;\n",
      "Mean reconstruction loss: 0.036836;\n",
      "Mean kld_loss loss: 3.7609;\n",
      "Mean faces_reconstruction loss: 0.036836;\n",
      "Mean emotions_reconstruction loss: 0.0;\n",
      "\n",
      "Emotion losses:\n",
      "Mean total loss: 1.0186;\n",
      "Mean reconstruction loss: 0.1143;\n",
      "Mean kld_loss loss: 9.0427;\n",
      "Mean faces_reconstruction loss: 0.0;\n",
      "Mean emotions_reconstruction loss: 0.1143;\n",
      "\n"
     ]
    },
    {
     "name": "stderr",
     "output_type": "stream",
     "text": [
      "\r",
      "  8%|█▉                       | 15/200 [25:01<5:08:16, 99.98s/it]"
     ]
    },
    {
     "name": "stdout",
     "output_type": "stream",
     "text": [
      "Multimodal losses:\n",
      "Mean total loss: 2.1677;\n",
      "Mean reconstruction loss: 0.30006;\n",
      "Mean kld_loss loss: 18.676;\n",
      "Mean faces_reconstruction loss: 0.036686;\n",
      "Mean emotions_reconstruction loss: 0.26337;\n",
      "\n",
      "Face losses:\n",
      "Mean total loss: 0.40865;\n",
      "Mean reconstruction loss: 0.03668;\n",
      "Mean kld_loss loss: 3.7197;\n",
      "Mean faces_reconstruction loss: 0.03668;\n",
      "Mean emotions_reconstruction loss: 0.0;\n",
      "\n",
      "Emotion losses:\n",
      "Mean total loss: 0.99731;\n",
      "Mean reconstruction loss: 0.10207;\n",
      "Mean kld_loss loss: 8.9524;\n",
      "Mean faces_reconstruction loss: 0.0;\n",
      "Mean emotions_reconstruction loss: 0.10207;\n",
      "\n"
     ]
    },
    {
     "name": "stderr",
     "output_type": "stream",
     "text": [
      "\r",
      "  8%|█▉                      | 16/200 [26:41<5:06:52, 100.07s/it]"
     ]
    },
    {
     "name": "stdout",
     "output_type": "stream",
     "text": [
      "Multimodal losses:\n",
      "Mean total loss: 2.1313;\n",
      "Mean reconstruction loss: 0.27265;\n",
      "Mean kld_loss loss: 18.586;\n",
      "Mean faces_reconstruction loss: 0.036608;\n",
      "Mean emotions_reconstruction loss: 0.23604;\n",
      "\n",
      "Face losses:\n",
      "Mean total loss: 0.41133;\n",
      "Mean reconstruction loss: 0.036616;\n",
      "Mean kld_loss loss: 3.7471;\n",
      "Mean faces_reconstruction loss: 0.036616;\n",
      "Mean emotions_reconstruction loss: 0.0;\n",
      "\n",
      "Emotion losses:\n",
      "Mean total loss: 1.0054;\n",
      "Mean reconstruction loss: 0.11449;\n",
      "Mean kld_loss loss: 8.9091;\n",
      "Mean faces_reconstruction loss: 0.0;\n",
      "Mean emotions_reconstruction loss: 0.11449;\n",
      "\n"
     ]
    },
    {
     "name": "stderr",
     "output_type": "stream",
     "text": [
      "\r",
      "  8%|██                      | 17/200 [28:21<5:05:11, 100.06s/it]"
     ]
    },
    {
     "name": "stdout",
     "output_type": "stream",
     "text": [
      "Multimodal losses:\n",
      "Mean total loss: 2.1327;\n",
      "Mean reconstruction loss: 0.27589;\n",
      "Mean kld_loss loss: 18.568;\n",
      "Mean faces_reconstruction loss: 0.036544;\n",
      "Mean emotions_reconstruction loss: 0.23935;\n",
      "\n",
      "Face losses:\n",
      "Mean total loss: 0.40688;\n",
      "Mean reconstruction loss: 0.036554;\n",
      "Mean kld_loss loss: 3.7032;\n",
      "Mean faces_reconstruction loss: 0.036554;\n",
      "Mean emotions_reconstruction loss: 0.0;\n",
      "\n",
      "Emotion losses:\n",
      "Mean total loss: 1.0012;\n",
      "Mean reconstruction loss: 0.11681;\n",
      "Mean kld_loss loss: 8.8435;\n",
      "Mean faces_reconstruction loss: 0.0;\n",
      "Mean emotions_reconstruction loss: 0.11681;\n",
      "\n"
     ]
    },
    {
     "name": "stderr",
     "output_type": "stream",
     "text": [
      "\r",
      "  9%|██▎                      | 18/200 [30:01<5:03:17, 99.99s/it]"
     ]
    },
    {
     "name": "stdout",
     "output_type": "stream",
     "text": [
      "Multimodal losses:\n",
      "Mean total loss: 2.1453;\n",
      "Mean reconstruction loss: 0.28981;\n",
      "Mean kld_loss loss: 18.555;\n",
      "Mean faces_reconstruction loss: 0.036367;\n",
      "Mean emotions_reconstruction loss: 0.25344;\n",
      "\n",
      "Face losses:\n",
      "Mean total loss: 0.40363;\n",
      "Mean reconstruction loss: 0.036388;\n",
      "Mean kld_loss loss: 3.6724;\n",
      "Mean faces_reconstruction loss: 0.036388;\n",
      "Mean emotions_reconstruction loss: 0.0;\n",
      "\n",
      "Emotion losses:\n",
      "Mean total loss: 1.0037;\n",
      "Mean reconstruction loss: 0.10842;\n",
      "Mean kld_loss loss: 8.9532;\n",
      "Mean faces_reconstruction loss: 0.0;\n",
      "Mean emotions_reconstruction loss: 0.10842;\n",
      "\n"
     ]
    },
    {
     "name": "stderr",
     "output_type": "stream",
     "text": [
      "\r",
      " 10%|██▎                     | 19/200 [31:41<5:02:09, 100.16s/it]"
     ]
    },
    {
     "name": "stdout",
     "output_type": "stream",
     "text": [
      "Multimodal losses:\n",
      "Mean total loss: 2.1219;\n",
      "Mean reconstruction loss: 0.27786;\n",
      "Mean kld_loss loss: 18.44;\n",
      "Mean faces_reconstruction loss: 0.036343;\n",
      "Mean emotions_reconstruction loss: 0.24152;\n",
      "\n",
      "Face losses:\n",
      "Mean total loss: 0.40302;\n",
      "Mean reconstruction loss: 0.036364;\n",
      "Mean kld_loss loss: 3.6665;\n",
      "Mean faces_reconstruction loss: 0.036364;\n",
      "Mean emotions_reconstruction loss: 0.0;\n",
      "\n",
      "Emotion losses:\n",
      "Mean total loss: 0.99961;\n",
      "Mean reconstruction loss: 0.11632;\n",
      "Mean kld_loss loss: 8.8329;\n",
      "Mean faces_reconstruction loss: 0.0;\n",
      "Mean emotions_reconstruction loss: 0.11632;\n",
      "\n"
     ]
    },
    {
     "name": "stderr",
     "output_type": "stream",
     "text": [
      "\r",
      " 10%|██▌                      | 20/200 [33:21<4:59:39, 99.89s/it]"
     ]
    },
    {
     "name": "stdout",
     "output_type": "stream",
     "text": [
      "Multimodal losses:\n",
      "Mean total loss: 2.138;\n",
      "Mean reconstruction loss: 0.29387;\n",
      "Mean kld_loss loss: 18.441;\n",
      "Mean faces_reconstruction loss: 0.036322;\n",
      "Mean emotions_reconstruction loss: 0.25754;\n",
      "\n",
      "Face losses:\n",
      "Mean total loss: 0.39846;\n",
      "Mean reconstruction loss: 0.036339;\n",
      "Mean kld_loss loss: 3.6212;\n",
      "Mean faces_reconstruction loss: 0.036339;\n",
      "Mean emotions_reconstruction loss: 0.0;\n",
      "\n",
      "Emotion losses:\n",
      "Mean total loss: 0.99206;\n",
      "Mean reconstruction loss: 0.10724;\n",
      "Mean kld_loss loss: 8.8482;\n",
      "Mean faces_reconstruction loss: 0.0;\n",
      "Mean emotions_reconstruction loss: 0.10724;\n",
      "\n"
     ]
    },
    {
     "name": "stderr",
     "output_type": "stream",
     "text": [
      "\r",
      " 10%|██▋                      | 21/200 [35:00<4:57:52, 99.85s/it]"
     ]
    },
    {
     "name": "stdout",
     "output_type": "stream",
     "text": [
      "Multimodal losses:\n",
      "Mean total loss: 2.1334;\n",
      "Mean reconstruction loss: 0.28475;\n",
      "Mean kld_loss loss: 18.487;\n",
      "Mean faces_reconstruction loss: 0.036243;\n",
      "Mean emotions_reconstruction loss: 0.2485;\n",
      "\n",
      "Face losses:\n",
      "Mean total loss: 0.39833;\n",
      "Mean reconstruction loss: 0.036276;\n",
      "Mean kld_loss loss: 3.6206;\n",
      "Mean faces_reconstruction loss: 0.036276;\n",
      "Mean emotions_reconstruction loss: 0.0;\n",
      "\n",
      "Emotion losses:\n",
      "Mean total loss: 1.0105;\n",
      "Mean reconstruction loss: 0.11468;\n",
      "Mean kld_loss loss: 8.9578;\n",
      "Mean faces_reconstruction loss: 0.0;\n",
      "Mean emotions_reconstruction loss: 0.11468;\n",
      "\n"
     ]
    },
    {
     "name": "stderr",
     "output_type": "stream",
     "text": [
      "\r",
      " 11%|██▊                      | 22/200 [36:40<4:55:57, 99.76s/it]"
     ]
    },
    {
     "name": "stdout",
     "output_type": "stream",
     "text": [
      "Multimodal losses:\n",
      "Mean total loss: 2.1101;\n",
      "Mean reconstruction loss: 0.27654;\n",
      "Mean kld_loss loss: 18.335;\n",
      "Mean faces_reconstruction loss: 0.036238;\n",
      "Mean emotions_reconstruction loss: 0.2403;\n",
      "\n",
      "Face losses:\n",
      "Mean total loss: 0.39723;\n",
      "Mean reconstruction loss: 0.036275;\n",
      "Mean kld_loss loss: 3.6096;\n",
      "Mean faces_reconstruction loss: 0.036275;\n",
      "Mean emotions_reconstruction loss: 0.0;\n",
      "\n",
      "Emotion losses:\n",
      "Mean total loss: 0.99763;\n",
      "Mean reconstruction loss: 0.11075;\n",
      "Mean kld_loss loss: 8.8688;\n",
      "Mean faces_reconstruction loss: 0.0;\n",
      "Mean emotions_reconstruction loss: 0.11075;\n",
      "\n"
     ]
    },
    {
     "name": "stderr",
     "output_type": "stream",
     "text": [
      "\r",
      " 12%|██▉                      | 23/200 [38:20<4:54:32, 99.84s/it]"
     ]
    },
    {
     "name": "stdout",
     "output_type": "stream",
     "text": [
      "Multimodal losses:\n",
      "Mean total loss: 2.1173;\n",
      "Mean reconstruction loss: 0.2838;\n",
      "Mean kld_loss loss: 18.335;\n",
      "Mean faces_reconstruction loss: 0.036226;\n",
      "Mean emotions_reconstruction loss: 0.24757;\n",
      "\n",
      "Face losses:\n",
      "Mean total loss: 0.39461;\n",
      "Mean reconstruction loss: 0.036268;\n",
      "Mean kld_loss loss: 3.5834;\n",
      "Mean faces_reconstruction loss: 0.036268;\n",
      "Mean emotions_reconstruction loss: 0.0;\n",
      "\n",
      "Emotion losses:\n",
      "Mean total loss: 0.99912;\n",
      "Mean reconstruction loss: 0.1129;\n",
      "Mean kld_loss loss: 8.8622;\n",
      "Mean faces_reconstruction loss: 0.0;\n",
      "Mean emotions_reconstruction loss: 0.1129;\n",
      "\n"
     ]
    },
    {
     "name": "stderr",
     "output_type": "stream",
     "text": [
      "\r",
      " 12%|██▉                     | 24/200 [40:01<4:53:32, 100.07s/it]"
     ]
    },
    {
     "name": "stdout",
     "output_type": "stream",
     "text": [
      "Multimodal losses:\n",
      "Mean total loss: 2.1138;\n",
      "Mean reconstruction loss: 0.28475;\n",
      "Mean kld_loss loss: 18.29;\n",
      "Mean faces_reconstruction loss: 0.036203;\n",
      "Mean emotions_reconstruction loss: 0.24855;\n",
      "\n",
      "Face losses:\n",
      "Mean total loss: 0.39277;\n",
      "Mean reconstruction loss: 0.036246;\n",
      "Mean kld_loss loss: 3.5652;\n",
      "Mean faces_reconstruction loss: 0.036246;\n",
      "Mean emotions_reconstruction loss: 0.0;\n",
      "\n",
      "Emotion losses:\n",
      "Mean total loss: 0.9923;\n",
      "Mean reconstruction loss: 0.10681;\n",
      "Mean kld_loss loss: 8.8548;\n",
      "Mean faces_reconstruction loss: 0.0;\n",
      "Mean emotions_reconstruction loss: 0.10681;\n",
      "\n"
     ]
    },
    {
     "name": "stderr",
     "output_type": "stream",
     "text": [
      "\r",
      " 12%|███                     | 25/200 [41:41<4:51:51, 100.06s/it]"
     ]
    },
    {
     "name": "stdout",
     "output_type": "stream",
     "text": [
      "Multimodal losses:\n",
      "Mean total loss: 2.1193;\n",
      "Mean reconstruction loss: 0.28476;\n",
      "Mean kld_loss loss: 18.346;\n",
      "Mean faces_reconstruction loss: 0.036156;\n",
      "Mean emotions_reconstruction loss: 0.2486;\n",
      "\n",
      "Face losses:\n",
      "Mean total loss: 0.39206;\n",
      "Mean reconstruction loss: 0.036214;\n",
      "Mean kld_loss loss: 3.5585;\n",
      "Mean faces_reconstruction loss: 0.036214;\n",
      "Mean emotions_reconstruction loss: 0.0;\n",
      "\n",
      "Emotion losses:\n",
      "Mean total loss: 0.99837;\n",
      "Mean reconstruction loss: 0.10942;\n",
      "Mean kld_loss loss: 8.8895;\n",
      "Mean faces_reconstruction loss: 0.0;\n",
      "Mean emotions_reconstruction loss: 0.10942;\n",
      "\n"
     ]
    },
    {
     "name": "stderr",
     "output_type": "stream",
     "text": [
      "\r",
      " 13%|███                     | 26/200 [43:21<4:50:11, 100.07s/it]"
     ]
    },
    {
     "name": "stdout",
     "output_type": "stream",
     "text": [
      "Multimodal losses:\n",
      "Mean total loss: 2.1018;\n",
      "Mean reconstruction loss: 0.27977;\n",
      "Mean kld_loss loss: 18.22;\n",
      "Mean faces_reconstruction loss: 0.036131;\n",
      "Mean emotions_reconstruction loss: 0.24363;\n",
      "\n",
      "Face losses:\n",
      "Mean total loss: 0.39067;\n",
      "Mean reconstruction loss: 0.036189;\n",
      "Mean kld_loss loss: 3.5448;\n",
      "Mean faces_reconstruction loss: 0.036189;\n",
      "Mean emotions_reconstruction loss: 0.0;\n",
      "\n",
      "Emotion losses:\n",
      "Mean total loss: 0.99057;\n",
      "Mean reconstruction loss: 0.11297;\n",
      "Mean kld_loss loss: 8.776;\n",
      "Mean faces_reconstruction loss: 0.0;\n",
      "Mean emotions_reconstruction loss: 0.11297;\n",
      "\n"
     ]
    },
    {
     "name": "stderr",
     "output_type": "stream",
     "text": [
      "\r",
      " 14%|███▏                    | 27/200 [45:01<4:48:27, 100.05s/it]"
     ]
    },
    {
     "name": "stdout",
     "output_type": "stream",
     "text": [
      "Multimodal losses:\n",
      "Mean total loss: 2.1093;\n",
      "Mean reconstruction loss: 0.2923;\n",
      "Mean kld_loss loss: 18.17;\n",
      "Mean faces_reconstruction loss: 0.036118;\n",
      "Mean emotions_reconstruction loss: 0.25618;\n",
      "\n",
      "Face losses:\n",
      "Mean total loss: 0.38807;\n",
      "Mean reconstruction loss: 0.036183;\n",
      "Mean kld_loss loss: 3.5188;\n",
      "Mean faces_reconstruction loss: 0.036183;\n",
      "Mean emotions_reconstruction loss: 0.0;\n",
      "\n",
      "Emotion losses:\n",
      "Mean total loss: 0.98427;\n",
      "Mean reconstruction loss: 0.10679;\n",
      "Mean kld_loss loss: 8.7748;\n",
      "Mean faces_reconstruction loss: 0.0;\n",
      "Mean emotions_reconstruction loss: 0.10679;\n",
      "\n"
     ]
    },
    {
     "name": "stderr",
     "output_type": "stream",
     "text": [
      "\r",
      " 14%|███▎                    | 28/200 [46:41<4:46:43, 100.02s/it]"
     ]
    },
    {
     "name": "stdout",
     "output_type": "stream",
     "text": [
      "Multimodal losses:\n",
      "Mean total loss: 2.1076;\n",
      "Mean reconstruction loss: 0.29091;\n",
      "Mean kld_loss loss: 18.167;\n",
      "Mean faces_reconstruction loss: 0.036108;\n",
      "Mean emotions_reconstruction loss: 0.25481;\n",
      "\n",
      "Face losses:\n",
      "Mean total loss: 0.38807;\n",
      "Mean reconstruction loss: 0.036168;\n",
      "Mean kld_loss loss: 3.519;\n",
      "Mean faces_reconstruction loss: 0.036168;\n",
      "Mean emotions_reconstruction loss: 0.0;\n",
      "\n",
      "Emotion losses:\n",
      "Mean total loss: 0.99116;\n",
      "Mean reconstruction loss: 0.10758;\n",
      "Mean kld_loss loss: 8.8358;\n",
      "Mean faces_reconstruction loss: 0.0;\n",
      "Mean emotions_reconstruction loss: 0.10758;\n",
      "\n"
     ]
    },
    {
     "name": "stderr",
     "output_type": "stream",
     "text": [
      "\r",
      " 14%|███▍                    | 29/200 [48:21<4:45:03, 100.02s/it]"
     ]
    },
    {
     "name": "stdout",
     "output_type": "stream",
     "text": [
      "Multimodal losses:\n",
      "Mean total loss: 2.1156;\n",
      "Mean reconstruction loss: 0.29289;\n",
      "Mean kld_loss loss: 18.227;\n",
      "Mean faces_reconstruction loss: 0.036085;\n",
      "Mean emotions_reconstruction loss: 0.2568;\n",
      "\n",
      "Face losses:\n",
      "Mean total loss: 0.38615;\n",
      "Mean reconstruction loss: 0.03615;\n",
      "Mean kld_loss loss: 3.5;\n",
      "Mean faces_reconstruction loss: 0.03615;\n",
      "Mean emotions_reconstruction loss: 0.0;\n",
      "\n",
      "Emotion losses:\n",
      "Mean total loss: 0.99407;\n",
      "Mean reconstruction loss: 0.10524;\n",
      "Mean kld_loss loss: 8.8883;\n",
      "Mean faces_reconstruction loss: 0.0;\n",
      "Mean emotions_reconstruction loss: 0.10524;\n",
      "\n"
     ]
    },
    {
     "name": "stderr",
     "output_type": "stream",
     "text": [
      "\r",
      " 15%|███▊                     | 30/200 [50:00<4:42:56, 99.86s/it]"
     ]
    },
    {
     "name": "stdout",
     "output_type": "stream",
     "text": [
      "Multimodal losses:\n",
      "Mean total loss: 2.0905;\n",
      "Mean reconstruction loss: 0.27909;\n",
      "Mean kld_loss loss: 18.114;\n",
      "Mean faces_reconstruction loss: 0.036075;\n",
      "Mean emotions_reconstruction loss: 0.24301;\n",
      "\n",
      "Face losses:\n",
      "Mean total loss: 0.38418;\n",
      "Mean reconstruction loss: 0.036157;\n",
      "Mean kld_loss loss: 3.4802;\n",
      "Mean faces_reconstruction loss: 0.036157;\n",
      "Mean emotions_reconstruction loss: 0.0;\n",
      "\n",
      "Emotion losses:\n",
      "Mean total loss: 0.98701;\n",
      "Mean reconstruction loss: 0.10892;\n",
      "Mean kld_loss loss: 8.7809;\n",
      "Mean faces_reconstruction loss: 0.0;\n",
      "Mean emotions_reconstruction loss: 0.10892;\n",
      "\n"
     ]
    },
    {
     "name": "stderr",
     "output_type": "stream",
     "text": [
      "\r",
      " 16%|███▉                     | 31/200 [51:40<4:41:07, 99.81s/it]"
     ]
    },
    {
     "name": "stdout",
     "output_type": "stream",
     "text": [
      "Multimodal losses:\n",
      "Mean total loss: 2.0866;\n",
      "Mean reconstruction loss: 0.28005;\n",
      "Mean kld_loss loss: 18.066;\n",
      "Mean faces_reconstruction loss: 0.03606;\n",
      "Mean emotions_reconstruction loss: 0.24399;\n",
      "\n",
      "Face losses:\n",
      "Mean total loss: 0.38328;\n",
      "Mean reconstruction loss: 0.036151;\n",
      "Mean kld_loss loss: 3.4713;\n",
      "Mean faces_reconstruction loss: 0.036151;\n",
      "Mean emotions_reconstruction loss: 0.0;\n",
      "\n",
      "Emotion losses:\n",
      "Mean total loss: 0.99085;\n",
      "Mean reconstruction loss: 0.11311;\n",
      "Mean kld_loss loss: 8.7774;\n",
      "Mean faces_reconstruction loss: 0.0;\n",
      "Mean emotions_reconstruction loss: 0.11311;\n",
      "\n"
     ]
    },
    {
     "name": "stderr",
     "output_type": "stream",
     "text": [
      "\r",
      " 16%|████                     | 32/200 [53:20<4:39:42, 99.89s/it]"
     ]
    },
    {
     "name": "stdout",
     "output_type": "stream",
     "text": [
      "Multimodal losses:\n",
      "Mean total loss: 2.0962;\n",
      "Mean reconstruction loss: 0.28958;\n",
      "Mean kld_loss loss: 18.066;\n",
      "Mean faces_reconstruction loss: 0.036059;\n",
      "Mean emotions_reconstruction loss: 0.25352;\n",
      "\n",
      "Face losses:\n",
      "Mean total loss: 0.38349;\n",
      "Mean reconstruction loss: 0.03614;\n",
      "Mean kld_loss loss: 3.4735;\n",
      "Mean faces_reconstruction loss: 0.03614;\n",
      "Mean emotions_reconstruction loss: 0.0;\n",
      "\n",
      "Emotion losses:\n",
      "Mean total loss: 0.99232;\n",
      "Mean reconstruction loss: 0.11013;\n",
      "Mean kld_loss loss: 8.8219;\n",
      "Mean faces_reconstruction loss: 0.0;\n",
      "Mean emotions_reconstruction loss: 0.11013;\n",
      "\n"
     ]
    },
    {
     "name": "stderr",
     "output_type": "stream",
     "text": [
      "\r",
      " 16%|████▏                    | 33/200 [55:00<4:37:46, 99.80s/it]"
     ]
    },
    {
     "name": "stdout",
     "output_type": "stream",
     "text": [
      "Multimodal losses:\n",
      "Mean total loss: 2.0893;\n",
      "Mean reconstruction loss: 0.28324;\n",
      "Mean kld_loss loss: 18.061;\n",
      "Mean faces_reconstruction loss: 0.03601;\n",
      "Mean emotions_reconstruction loss: 0.24723;\n",
      "\n",
      "Face losses:\n",
      "Mean total loss: 0.38069;\n",
      "Mean reconstruction loss: 0.036113;\n",
      "Mean kld_loss loss: 3.4458;\n",
      "Mean faces_reconstruction loss: 0.036113;\n",
      "Mean emotions_reconstruction loss: 0.0;\n",
      "\n",
      "Emotion losses:\n",
      "Mean total loss: 0.99565;\n",
      "Mean reconstruction loss: 0.11647;\n",
      "Mean kld_loss loss: 8.7918;\n",
      "Mean faces_reconstruction loss: 0.0;\n",
      "Mean emotions_reconstruction loss: 0.11647;\n",
      "\n"
     ]
    },
    {
     "name": "stderr",
     "output_type": "stream",
     "text": [
      "\r",
      " 17%|████▎                    | 34/200 [56:39<4:36:09, 99.82s/it]"
     ]
    },
    {
     "name": "stdout",
     "output_type": "stream",
     "text": [
      "Multimodal losses:\n",
      "Mean total loss: 2.0842;\n",
      "Mean reconstruction loss: 0.27888;\n",
      "Mean kld_loss loss: 18.053;\n",
      "Mean faces_reconstruction loss: 0.036009;\n",
      "Mean emotions_reconstruction loss: 0.24287;\n",
      "\n",
      "Face losses:\n",
      "Mean total loss: 0.37962;\n",
      "Mean reconstruction loss: 0.036112;\n",
      "Mean kld_loss loss: 3.4351;\n",
      "Mean faces_reconstruction loss: 0.036112;\n",
      "Mean emotions_reconstruction loss: 0.0;\n",
      "\n",
      "Emotion losses:\n",
      "Mean total loss: 1.0004;\n",
      "Mean reconstruction loss: 0.11891;\n",
      "Mean kld_loss loss: 8.8147;\n",
      "Mean faces_reconstruction loss: 0.0;\n",
      "Mean emotions_reconstruction loss: 0.11891;\n",
      "\n"
     ]
    },
    {
     "name": "stderr",
     "output_type": "stream",
     "text": [
      "\r",
      " 18%|████▍                    | 35/200 [58:19<4:34:42, 99.89s/it]"
     ]
    },
    {
     "name": "stdout",
     "output_type": "stream",
     "text": [
      "Multimodal losses:\n",
      "Mean total loss: 2.0974;\n",
      "Mean reconstruction loss: 0.29749;\n",
      "Mean kld_loss loss: 17.999;\n",
      "Mean faces_reconstruction loss: 0.035992;\n",
      "Mean emotions_reconstruction loss: 0.26149;\n",
      "\n",
      "Face losses:\n",
      "Mean total loss: 0.3766;\n",
      "Mean reconstruction loss: 0.036104;\n",
      "Mean kld_loss loss: 3.405;\n",
      "Mean faces_reconstruction loss: 0.036104;\n",
      "Mean emotions_reconstruction loss: 0.0;\n",
      "\n",
      "Emotion losses:\n",
      "Mean total loss: 0.99098;\n",
      "Mean reconstruction loss: 0.10899;\n",
      "Mean kld_loss loss: 8.8199;\n",
      "Mean faces_reconstruction loss: 0.0;\n",
      "Mean emotions_reconstruction loss: 0.10899;\n",
      "\n"
     ]
    },
    {
     "name": "stderr",
     "output_type": "stream",
     "text": [
      "\r",
      " 18%|████▌                    | 36/200 [59:59<4:32:36, 99.74s/it]"
     ]
    },
    {
     "name": "stdout",
     "output_type": "stream",
     "text": [
      "Multimodal losses:\n",
      "Mean total loss: 2.0723;\n",
      "Mean reconstruction loss: 0.28038;\n",
      "Mean kld_loss loss: 17.92;\n",
      "Mean faces_reconstruction loss: 0.035986;\n",
      "Mean emotions_reconstruction loss: 0.24439;\n",
      "\n",
      "Face losses:\n",
      "Mean total loss: 0.37686;\n",
      "Mean reconstruction loss: 0.036106;\n",
      "Mean kld_loss loss: 3.4076;\n",
      "Mean faces_reconstruction loss: 0.036106;\n",
      "Mean emotions_reconstruction loss: 0.0;\n",
      "\n",
      "Emotion losses:\n",
      "Mean total loss: 0.98135;\n",
      "Mean reconstruction loss: 0.10864;\n",
      "Mean kld_loss loss: 8.7271;\n",
      "Mean faces_reconstruction loss: 0.0;\n",
      "Mean emotions_reconstruction loss: 0.10864;\n",
      "\n"
     ]
    },
    {
     "name": "stderr",
     "output_type": "stream",
     "text": [
      "\r",
      " 18%|████▎                  | 37/200 [1:01:39<4:30:55, 99.73s/it]"
     ]
    },
    {
     "name": "stdout",
     "output_type": "stream",
     "text": [
      "Multimodal losses:\n",
      "Mean total loss: 2.0748;\n",
      "Mean reconstruction loss: 0.28565;\n",
      "Mean kld_loss loss: 17.892;\n",
      "Mean faces_reconstruction loss: 0.035968;\n",
      "Mean emotions_reconstruction loss: 0.24968;\n",
      "\n",
      "Face losses:\n",
      "Mean total loss: 0.37539;\n",
      "Mean reconstruction loss: 0.036097;\n",
      "Mean kld_loss loss: 3.3929;\n",
      "Mean faces_reconstruction loss: 0.036097;\n",
      "Mean emotions_reconstruction loss: 0.0;\n",
      "\n",
      "Emotion losses:\n",
      "Mean total loss: 0.9796;\n",
      "Mean reconstruction loss: 0.10719;\n",
      "Mean kld_loss loss: 8.7241;\n",
      "Mean faces_reconstruction loss: 0.0;\n",
      "Mean emotions_reconstruction loss: 0.10719;\n",
      "\n"
     ]
    },
    {
     "name": "stderr",
     "output_type": "stream",
     "text": [
      "\r",
      " 19%|████▎                  | 38/200 [1:03:19<4:29:41, 99.89s/it]"
     ]
    },
    {
     "name": "stdout",
     "output_type": "stream",
     "text": [
      "Multimodal losses:\n",
      "Mean total loss: 2.0647;\n",
      "Mean reconstruction loss: 0.27783;\n",
      "Mean kld_loss loss: 17.868;\n",
      "Mean faces_reconstruction loss: 0.035936;\n",
      "Mean emotions_reconstruction loss: 0.24189;\n",
      "\n",
      "Face losses:\n",
      "Mean total loss: 0.37638;\n",
      "Mean reconstruction loss: 0.03608;\n",
      "Mean kld_loss loss: 3.403;\n",
      "Mean faces_reconstruction loss: 0.03608;\n",
      "Mean emotions_reconstruction loss: 0.0;\n",
      "\n",
      "Emotion losses:\n",
      "Mean total loss: 0.98488;\n",
      "Mean reconstruction loss: 0.11075;\n",
      "Mean kld_loss loss: 8.7413;\n",
      "Mean faces_reconstruction loss: 0.0;\n",
      "Mean emotions_reconstruction loss: 0.11075;\n",
      "\n"
     ]
    },
    {
     "name": "stderr",
     "output_type": "stream",
     "text": [
      "\r",
      " 20%|████▍                  | 39/200 [1:04:58<4:27:41, 99.76s/it]"
     ]
    },
    {
     "name": "stdout",
     "output_type": "stream",
     "text": [
      "Multimodal losses:\n",
      "Mean total loss: 2.0642;\n",
      "Mean reconstruction loss: 0.27909;\n",
      "Mean kld_loss loss: 17.851;\n",
      "Mean faces_reconstruction loss: 0.035945;\n",
      "Mean emotions_reconstruction loss: 0.24314;\n",
      "\n",
      "Face losses:\n",
      "Mean total loss: 0.37468;\n",
      "Mean reconstruction loss: 0.036075;\n",
      "Mean kld_loss loss: 3.386;\n",
      "Mean faces_reconstruction loss: 0.036075;\n",
      "Mean emotions_reconstruction loss: 0.0;\n",
      "\n",
      "Emotion losses:\n",
      "Mean total loss: 0.982;\n",
      "Mean reconstruction loss: 0.10538;\n",
      "Mean kld_loss loss: 8.7662;\n",
      "Mean faces_reconstruction loss: 0.0;\n",
      "Mean emotions_reconstruction loss: 0.10538;\n",
      "\n"
     ]
    },
    {
     "name": "stderr",
     "output_type": "stream",
     "text": [
      "\r",
      " 20%|████▌                  | 40/200 [1:06:38<4:25:54, 99.72s/it]"
     ]
    },
    {
     "name": "stdout",
     "output_type": "stream",
     "text": [
      "Multimodal losses:\n",
      "Mean total loss: 2.0836;\n",
      "Mean reconstruction loss: 0.29313;\n",
      "Mean kld_loss loss: 17.905;\n",
      "Mean faces_reconstruction loss: 0.035929;\n",
      "Mean emotions_reconstruction loss: 0.2572;\n",
      "\n",
      "Face losses:\n",
      "Mean total loss: 0.37275;\n",
      "Mean reconstruction loss: 0.036069;\n",
      "Mean kld_loss loss: 3.3668;\n",
      "Mean faces_reconstruction loss: 0.036069;\n",
      "Mean emotions_reconstruction loss: 0.0;\n",
      "\n",
      "Emotion losses:\n",
      "Mean total loss: 0.98722;\n",
      "Mean reconstruction loss: 0.10723;\n",
      "Mean kld_loss loss: 8.7999;\n",
      "Mean faces_reconstruction loss: 0.0;\n",
      "Mean emotions_reconstruction loss: 0.10723;\n",
      "\n"
     ]
    },
    {
     "name": "stderr",
     "output_type": "stream",
     "text": [
      "\r",
      " 20%|████▋                  | 41/200 [1:08:18<4:24:24, 99.78s/it]"
     ]
    },
    {
     "name": "stdout",
     "output_type": "stream",
     "text": [
      "Multimodal losses:\n",
      "Mean total loss: 2.076;\n",
      "Mean reconstruction loss: 0.28471;\n",
      "Mean kld_loss loss: 17.913;\n",
      "Mean faces_reconstruction loss: 0.035929;\n",
      "Mean emotions_reconstruction loss: 0.24878;\n",
      "\n",
      "Face losses:\n",
      "Mean total loss: 0.37163;\n",
      "Mean reconstruction loss: 0.036076;\n",
      "Mean kld_loss loss: 3.3555;\n",
      "Mean faces_reconstruction loss: 0.036076;\n",
      "Mean emotions_reconstruction loss: 0.0;\n",
      "\n",
      "Emotion losses:\n",
      "Mean total loss: 0.98855;\n",
      "Mean reconstruction loss: 0.10723;\n",
      "Mean kld_loss loss: 8.8133;\n",
      "Mean faces_reconstruction loss: 0.0;\n",
      "Mean emotions_reconstruction loss: 0.10723;\n",
      "\n"
     ]
    },
    {
     "name": "stderr",
     "output_type": "stream",
     "text": [
      "\r",
      " 21%|████▊                  | 42/200 [1:09:57<4:22:37, 99.73s/it]"
     ]
    },
    {
     "name": "stdout",
     "output_type": "stream",
     "text": [
      "Multimodal losses:\n",
      "Mean total loss: 2.0557;\n",
      "Mean reconstruction loss: 0.27364;\n",
      "Mean kld_loss loss: 17.821;\n",
      "Mean faces_reconstruction loss: 0.035904;\n",
      "Mean emotions_reconstruction loss: 0.23773;\n",
      "\n",
      "Face losses:\n",
      "Mean total loss: 0.37205;\n",
      "Mean reconstruction loss: 0.036063;\n",
      "Mean kld_loss loss: 3.3599;\n",
      "Mean faces_reconstruction loss: 0.036063;\n",
      "Mean emotions_reconstruction loss: 0.0;\n",
      "\n",
      "Emotion losses:\n",
      "Mean total loss: 0.98251;\n",
      "Mean reconstruction loss: 0.10772;\n",
      "Mean kld_loss loss: 8.748;\n",
      "Mean faces_reconstruction loss: 0.0;\n",
      "Mean emotions_reconstruction loss: 0.10772;\n",
      "\n"
     ]
    },
    {
     "name": "stderr",
     "output_type": "stream",
     "text": [
      "\r",
      " 22%|████▉                  | 43/200 [1:11:37<4:21:03, 99.77s/it]"
     ]
    },
    {
     "name": "stdout",
     "output_type": "stream",
     "text": [
      "Multimodal losses:\n",
      "Mean total loss: 2.0683;\n",
      "Mean reconstruction loss: 0.28596;\n",
      "Mean kld_loss loss: 17.823;\n",
      "Mean faces_reconstruction loss: 0.035912;\n",
      "Mean emotions_reconstruction loss: 0.25005;\n",
      "\n",
      "Face losses:\n",
      "Mean total loss: 0.36846;\n",
      "Mean reconstruction loss: 0.036057;\n",
      "Mean kld_loss loss: 3.324;\n",
      "Mean faces_reconstruction loss: 0.036057;\n",
      "Mean emotions_reconstruction loss: 0.0;\n",
      "\n",
      "Emotion losses:\n",
      "Mean total loss: 0.98432;\n",
      "Mean reconstruction loss: 0.10328;\n",
      "Mean kld_loss loss: 8.8104;\n",
      "Mean faces_reconstruction loss: 0.0;\n",
      "Mean emotions_reconstruction loss: 0.10328;\n",
      "\n"
     ]
    },
    {
     "name": "stderr",
     "output_type": "stream",
     "text": [
      "\r",
      " 22%|█████                  | 44/200 [1:13:17<4:19:42, 99.88s/it]"
     ]
    },
    {
     "name": "stdout",
     "output_type": "stream",
     "text": [
      "Multimodal losses:\n",
      "Mean total loss: 2.0661;\n",
      "Mean reconstruction loss: 0.28602;\n",
      "Mean kld_loss loss: 17.801;\n",
      "Mean faces_reconstruction loss: 0.035881;\n",
      "Mean emotions_reconstruction loss: 0.25014;\n",
      "\n",
      "Face losses:\n",
      "Mean total loss: 0.3701;\n",
      "Mean reconstruction loss: 0.03604;\n",
      "Mean kld_loss loss: 3.3407;\n",
      "Mean faces_reconstruction loss: 0.03604;\n",
      "Mean emotions_reconstruction loss: 0.0;\n",
      "\n",
      "Emotion losses:\n",
      "Mean total loss: 0.98844;\n",
      "Mean reconstruction loss: 0.11162;\n",
      "Mean kld_loss loss: 8.7682;\n",
      "Mean faces_reconstruction loss: 0.0;\n",
      "Mean emotions_reconstruction loss: 0.11162;\n",
      "\n"
     ]
    },
    {
     "name": "stderr",
     "output_type": "stream",
     "text": [
      "\r",
      " 22%|█████▏                 | 45/200 [1:14:56<4:16:38, 99.34s/it]"
     ]
    },
    {
     "name": "stdout",
     "output_type": "stream",
     "text": [
      "Multimodal losses:\n",
      "Mean total loss: 2.0551;\n",
      "Mean reconstruction loss: 0.28031;\n",
      "Mean kld_loss loss: 17.748;\n",
      "Mean faces_reconstruction loss: 0.035877;\n",
      "Mean emotions_reconstruction loss: 0.24443;\n",
      "\n",
      "Face losses:\n",
      "Mean total loss: 0.36939;\n",
      "Mean reconstruction loss: 0.036042;\n",
      "Mean kld_loss loss: 3.3335;\n",
      "Mean faces_reconstruction loss: 0.036042;\n",
      "Mean emotions_reconstruction loss: 0.0;\n",
      "\n",
      "Emotion losses:\n",
      "Mean total loss: 0.98255;\n",
      "Mean reconstruction loss: 0.10523;\n",
      "Mean kld_loss loss: 8.7732;\n",
      "Mean faces_reconstruction loss: 0.0;\n",
      "Mean emotions_reconstruction loss: 0.10523;\n",
      "\n"
     ]
    },
    {
     "name": "stderr",
     "output_type": "stream",
     "text": [
      "\r",
      " 23%|█████▎                 | 46/200 [1:16:36<4:15:33, 99.57s/it]"
     ]
    },
    {
     "name": "stdout",
     "output_type": "stream",
     "text": [
      "Multimodal losses:\n",
      "Mean total loss: 2.0586;\n",
      "Mean reconstruction loss: 0.28484;\n",
      "Mean kld_loss loss: 17.738;\n",
      "Mean faces_reconstruction loss: 0.035856;\n",
      "Mean emotions_reconstruction loss: 0.24898;\n",
      "\n",
      "Face losses:\n",
      "Mean total loss: 0.36765;\n",
      "Mean reconstruction loss: 0.036035;\n",
      "Mean kld_loss loss: 3.3162;\n",
      "Mean faces_reconstruction loss: 0.036035;\n",
      "Mean emotions_reconstruction loss: 0.0;\n",
      "\n",
      "Emotion losses:\n",
      "Mean total loss: 0.97933;\n",
      "Mean reconstruction loss: 0.10543;\n",
      "Mean kld_loss loss: 8.739;\n",
      "Mean faces_reconstruction loss: 0.0;\n",
      "Mean emotions_reconstruction loss: 0.10543;\n",
      "\n"
     ]
    },
    {
     "name": "stderr",
     "output_type": "stream",
     "text": [
      "\r",
      " 24%|█████▍                 | 47/200 [1:18:16<4:14:10, 99.68s/it]"
     ]
    },
    {
     "name": "stdout",
     "output_type": "stream",
     "text": [
      "Multimodal losses:\n",
      "Mean total loss: 2.0387;\n",
      "Mean reconstruction loss: 0.27504;\n",
      "Mean kld_loss loss: 17.637;\n",
      "Mean faces_reconstruction loss: 0.035872;\n",
      "Mean emotions_reconstruction loss: 0.23917;\n",
      "\n",
      "Face losses:\n",
      "Mean total loss: 0.3676;\n",
      "Mean reconstruction loss: 0.036043;\n",
      "Mean kld_loss loss: 3.3156;\n",
      "Mean faces_reconstruction loss: 0.036043;\n",
      "Mean emotions_reconstruction loss: 0.0;\n",
      "\n",
      "Emotion losses:\n",
      "Mean total loss: 0.97323;\n",
      "Mean reconstruction loss: 0.106;\n",
      "Mean kld_loss loss: 8.6724;\n",
      "Mean faces_reconstruction loss: 0.0;\n",
      "Mean emotions_reconstruction loss: 0.106;\n",
      "\n"
     ]
    },
    {
     "name": "stderr",
     "output_type": "stream",
     "text": [
      "\r",
      " 24%|█████▌                 | 48/200 [1:19:56<4:13:05, 99.91s/it]"
     ]
    },
    {
     "name": "stdout",
     "output_type": "stream",
     "text": [
      "Multimodal losses:\n",
      "Mean total loss: 2.0451;\n",
      "Mean reconstruction loss: 0.27892;\n",
      "Mean kld_loss loss: 17.662;\n",
      "Mean faces_reconstruction loss: 0.035857;\n",
      "Mean emotions_reconstruction loss: 0.24307;\n",
      "\n",
      "Face losses:\n",
      "Mean total loss: 0.36592;\n",
      "Mean reconstruction loss: 0.03604;\n",
      "Mean kld_loss loss: 3.2988;\n",
      "Mean faces_reconstruction loss: 0.03604;\n",
      "Mean emotions_reconstruction loss: 0.0;\n",
      "\n",
      "Emotion losses:\n",
      "Mean total loss: 0.97713;\n",
      "Mean reconstruction loss: 0.10646;\n",
      "Mean kld_loss loss: 8.7068;\n",
      "Mean faces_reconstruction loss: 0.0;\n",
      "Mean emotions_reconstruction loss: 0.10646;\n",
      "\n"
     ]
    },
    {
     "name": "stderr",
     "output_type": "stream",
     "text": [
      "\r",
      " 24%|█████▋                 | 49/200 [1:21:36<4:11:25, 99.90s/it]"
     ]
    },
    {
     "name": "stdout",
     "output_type": "stream",
     "text": [
      "Multimodal losses:\n",
      "Mean total loss: 2.0538;\n",
      "Mean reconstruction loss: 0.2895;\n",
      "Mean kld_loss loss: 17.643;\n",
      "Mean faces_reconstruction loss: 0.035839;\n",
      "Mean emotions_reconstruction loss: 0.25366;\n",
      "\n",
      "Face losses:\n",
      "Mean total loss: 0.36531;\n",
      "Mean reconstruction loss: 0.036026;\n",
      "Mean kld_loss loss: 3.2929;\n",
      "Mean faces_reconstruction loss: 0.036026;\n",
      "Mean emotions_reconstruction loss: 0.0;\n",
      "\n",
      "Emotion losses:\n",
      "Mean total loss: 0.97148;\n",
      "Mean reconstruction loss: 0.1021;\n",
      "Mean kld_loss loss: 8.6938;\n",
      "Mean faces_reconstruction loss: 0.0;\n",
      "Mean emotions_reconstruction loss: 0.1021;\n",
      "\n"
     ]
    },
    {
     "name": "stderr",
     "output_type": "stream",
     "text": [
      "\r",
      " 25%|█████▊                 | 50/200 [1:23:15<4:09:14, 99.70s/it]"
     ]
    },
    {
     "name": "stdout",
     "output_type": "stream",
     "text": [
      "Multimodal losses:\n",
      "Mean total loss: 2.0437;\n",
      "Mean reconstruction loss: 0.28073;\n",
      "Mean kld_loss loss: 17.63;\n",
      "Mean faces_reconstruction loss: 0.035826;\n",
      "Mean emotions_reconstruction loss: 0.2449;\n",
      "\n",
      "Face losses:\n",
      "Mean total loss: 0.36384;\n",
      "Mean reconstruction loss: 0.036026;\n",
      "Mean kld_loss loss: 3.2782;\n",
      "Mean faces_reconstruction loss: 0.036026;\n",
      "Mean emotions_reconstruction loss: 0.0;\n",
      "\n",
      "Emotion losses:\n",
      "Mean total loss: 0.97701;\n",
      "Mean reconstruction loss: 0.11354;\n",
      "Mean kld_loss loss: 8.6348;\n",
      "Mean faces_reconstruction loss: 0.0;\n",
      "Mean emotions_reconstruction loss: 0.11354;\n",
      "\n"
     ]
    },
    {
     "name": "stderr",
     "output_type": "stream",
     "text": [
      "\r",
      " 26%|█████▊                 | 51/200 [1:24:54<4:07:21, 99.61s/it]"
     ]
    },
    {
     "name": "stdout",
     "output_type": "stream",
     "text": [
      "Multimodal losses:\n",
      "Mean total loss: 2.0408;\n",
      "Mean reconstruction loss: 0.27438;\n",
      "Mean kld_loss loss: 17.664;\n",
      "Mean faces_reconstruction loss: 0.035831;\n",
      "Mean emotions_reconstruction loss: 0.23855;\n",
      "\n",
      "Face losses:\n",
      "Mean total loss: 0.36463;\n",
      "Mean reconstruction loss: 0.036024;\n",
      "Mean kld_loss loss: 3.2861;\n",
      "Mean faces_reconstruction loss: 0.036024;\n",
      "Mean emotions_reconstruction loss: 0.0;\n",
      "\n",
      "Emotion losses:\n",
      "Mean total loss: 0.97984;\n",
      "Mean reconstruction loss: 0.10534;\n",
      "Mean kld_loss loss: 8.745;\n",
      "Mean faces_reconstruction loss: 0.0;\n",
      "Mean emotions_reconstruction loss: 0.10534;\n",
      "\n"
     ]
    },
    {
     "name": "stderr",
     "output_type": "stream",
     "text": [
      "\r",
      " 26%|█████▉                 | 52/200 [1:26:34<4:05:20, 99.47s/it]"
     ]
    },
    {
     "name": "stdout",
     "output_type": "stream",
     "text": [
      "Multimodal losses:\n",
      "Mean total loss: 2.0443;\n",
      "Mean reconstruction loss: 0.27804;\n",
      "Mean kld_loss loss: 17.662;\n",
      "Mean faces_reconstruction loss: 0.0358;\n",
      "Mean emotions_reconstruction loss: 0.24224;\n",
      "\n",
      "Face losses:\n",
      "Mean total loss: 0.36478;\n",
      "Mean reconstruction loss: 0.036;\n",
      "Mean kld_loss loss: 3.2878;\n",
      "Mean faces_reconstruction loss: 0.036;\n",
      "Mean emotions_reconstruction loss: 0.0;\n",
      "\n",
      "Emotion losses:\n",
      "Mean total loss: 0.98229;\n",
      "Mean reconstruction loss: 0.10854;\n",
      "Mean kld_loss loss: 8.7375;\n",
      "Mean faces_reconstruction loss: 0.0;\n",
      "Mean emotions_reconstruction loss: 0.10854;\n",
      "\n"
     ]
    },
    {
     "name": "stderr",
     "output_type": "stream",
     "text": [
      "\r",
      " 26%|██████                 | 53/200 [1:28:14<4:04:07, 99.65s/it]"
     ]
    },
    {
     "name": "stdout",
     "output_type": "stream",
     "text": [
      "Multimodal losses:\n",
      "Mean total loss: 2.0468;\n",
      "Mean reconstruction loss: 0.28484;\n",
      "Mean kld_loss loss: 17.62;\n",
      "Mean faces_reconstruction loss: 0.035809;\n",
      "Mean emotions_reconstruction loss: 0.24903;\n",
      "\n",
      "Face losses:\n",
      "Mean total loss: 0.36066;\n",
      "Mean reconstruction loss: 0.036018;\n",
      "Mean kld_loss loss: 3.2464;\n",
      "Mean faces_reconstruction loss: 0.036018;\n",
      "Mean emotions_reconstruction loss: 0.0;\n",
      "\n",
      "Emotion losses:\n",
      "Mean total loss: 0.97693;\n",
      "Mean reconstruction loss: 0.10834;\n",
      "Mean kld_loss loss: 8.6859;\n",
      "Mean faces_reconstruction loss: 0.0;\n",
      "Mean emotions_reconstruction loss: 0.10834;\n",
      "\n"
     ]
    },
    {
     "name": "stderr",
     "output_type": "stream",
     "text": [
      "\r",
      " 27%|██████▏                | 54/200 [1:29:54<4:02:44, 99.75s/it]"
     ]
    },
    {
     "name": "stdout",
     "output_type": "stream",
     "text": [
      "Multimodal losses:\n",
      "Mean total loss: 2.0275;\n",
      "Mean reconstruction loss: 0.27225;\n",
      "Mean kld_loss loss: 17.553;\n",
      "Mean faces_reconstruction loss: 0.035801;\n",
      "Mean emotions_reconstruction loss: 0.23645;\n",
      "\n",
      "Face losses:\n",
      "Mean total loss: 0.36291;\n",
      "Mean reconstruction loss: 0.036006;\n",
      "Mean kld_loss loss: 3.269;\n",
      "Mean faces_reconstruction loss: 0.036006;\n",
      "Mean emotions_reconstruction loss: 0.0;\n",
      "\n",
      "Emotion losses:\n",
      "Mean total loss: 0.98391;\n",
      "Mean reconstruction loss: 0.11037;\n",
      "Mean kld_loss loss: 8.7355;\n",
      "Mean faces_reconstruction loss: 0.0;\n",
      "Mean emotions_reconstruction loss: 0.11037;\n",
      "\n"
     ]
    },
    {
     "name": "stderr",
     "output_type": "stream",
     "text": [
      "\r",
      " 28%|██████▎                | 55/200 [1:31:34<4:01:10, 99.80s/it]"
     ]
    },
    {
     "name": "stdout",
     "output_type": "stream",
     "text": [
      "Multimodal losses:\n",
      "Mean total loss: 2.0462;\n",
      "Mean reconstruction loss: 0.28344;\n",
      "Mean kld_loss loss: 17.628;\n",
      "Mean faces_reconstruction loss: 0.035783;\n",
      "Mean emotions_reconstruction loss: 0.24766;\n",
      "\n",
      "Face losses:\n",
      "Mean total loss: 0.35954;\n",
      "Mean reconstruction loss: 0.035995;\n",
      "Mean kld_loss loss: 3.2354;\n",
      "Mean faces_reconstruction loss: 0.035995;\n",
      "Mean emotions_reconstruction loss: 0.0;\n",
      "\n",
      "Emotion losses:\n",
      "Mean total loss: 0.97645;\n",
      "Mean reconstruction loss: 0.10201;\n",
      "Mean kld_loss loss: 8.7444;\n",
      "Mean faces_reconstruction loss: 0.0;\n",
      "Mean emotions_reconstruction loss: 0.10201;\n",
      "\n"
     ]
    },
    {
     "name": "stderr",
     "output_type": "stream",
     "text": [
      "\r",
      " 28%|██████▍                | 56/200 [1:33:13<3:58:55, 99.56s/it]"
     ]
    },
    {
     "name": "stdout",
     "output_type": "stream",
     "text": [
      "Multimodal losses:\n",
      "Mean total loss: 2.03;\n",
      "Mean reconstruction loss: 0.2794;\n",
      "Mean kld_loss loss: 17.506;\n",
      "Mean faces_reconstruction loss: 0.035803;\n",
      "Mean emotions_reconstruction loss: 0.2436;\n",
      "\n",
      "Face losses:\n",
      "Mean total loss: 0.36039;\n",
      "Mean reconstruction loss: 0.035999;\n",
      "Mean kld_loss loss: 3.2439;\n",
      "Mean faces_reconstruction loss: 0.035999;\n",
      "Mean emotions_reconstruction loss: 0.0;\n",
      "\n",
      "Emotion losses:\n",
      "Mean total loss: 0.97896;\n",
      "Mean reconstruction loss: 0.1122;\n",
      "Mean kld_loss loss: 8.6677;\n",
      "Mean faces_reconstruction loss: 0.0;\n",
      "Mean emotions_reconstruction loss: 0.1122;\n",
      "\n"
     ]
    },
    {
     "name": "stderr",
     "output_type": "stream",
     "text": [
      "\r",
      " 28%|██████▌                | 57/200 [1:34:51<3:56:38, 99.29s/it]"
     ]
    },
    {
     "name": "stdout",
     "output_type": "stream",
     "text": [
      "Multimodal losses:\n",
      "Mean total loss: 2.0246;\n",
      "Mean reconstruction loss: 0.27027;\n",
      "Mean kld_loss loss: 17.544;\n",
      "Mean faces_reconstruction loss: 0.035773;\n",
      "Mean emotions_reconstruction loss: 0.2345;\n",
      "\n",
      "Face losses:\n",
      "Mean total loss: 0.36113;\n",
      "Mean reconstruction loss: 0.035999;\n",
      "Mean kld_loss loss: 3.2513;\n",
      "Mean faces_reconstruction loss: 0.035999;\n",
      "Mean emotions_reconstruction loss: 0.0;\n",
      "\n",
      "Emotion losses:\n",
      "Mean total loss: 0.98176;\n",
      "Mean reconstruction loss: 0.11223;\n",
      "Mean kld_loss loss: 8.6953;\n",
      "Mean faces_reconstruction loss: 0.0;\n",
      "Mean emotions_reconstruction loss: 0.11223;\n",
      "\n"
     ]
    },
    {
     "name": "stderr",
     "output_type": "stream",
     "text": [
      "\r",
      " 29%|██████▋                | 58/200 [1:36:33<3:56:35, 99.97s/it]"
     ]
    },
    {
     "name": "stdout",
     "output_type": "stream",
     "text": [
      "Multimodal losses:\n",
      "Mean total loss: 2.0303;\n",
      "Mean reconstruction loss: 0.27559;\n",
      "Mean kld_loss loss: 17.547;\n",
      "Mean faces_reconstruction loss: 0.035771;\n",
      "Mean emotions_reconstruction loss: 0.23982;\n",
      "\n",
      "Face losses:\n",
      "Mean total loss: 0.35993;\n",
      "Mean reconstruction loss: 0.035996;\n",
      "Mean kld_loss loss: 3.2393;\n",
      "Mean faces_reconstruction loss: 0.035996;\n",
      "Mean emotions_reconstruction loss: 0.0;\n",
      "\n",
      "Emotion losses:\n",
      "Mean total loss: 0.9861;\n",
      "Mean reconstruction loss: 0.11567;\n",
      "Mean kld_loss loss: 8.7043;\n",
      "Mean faces_reconstruction loss: 0.0;\n",
      "Mean emotions_reconstruction loss: 0.11567;\n",
      "\n"
     ]
    },
    {
     "name": "stderr",
     "output_type": "stream",
     "text": [
      "\r",
      " 30%|██████▍               | 59/200 [1:38:13<3:55:08, 100.06s/it]"
     ]
    },
    {
     "name": "stdout",
     "output_type": "stream",
     "text": [
      "Multimodal losses:\n",
      "Mean total loss: 2.0466;\n",
      "Mean reconstruction loss: 0.29097;\n",
      "Mean kld_loss loss: 17.557;\n",
      "Mean faces_reconstruction loss: 0.035775;\n",
      "Mean emotions_reconstruction loss: 0.25519;\n",
      "\n",
      "Face losses:\n",
      "Mean total loss: 0.35726;\n",
      "Mean reconstruction loss: 0.036002;\n",
      "Mean kld_loss loss: 3.2125;\n",
      "Mean faces_reconstruction loss: 0.036002;\n",
      "Mean emotions_reconstruction loss: 0.0;\n",
      "\n",
      "Emotion losses:\n",
      "Mean total loss: 0.97767;\n",
      "Mean reconstruction loss: 0.10456;\n",
      "Mean kld_loss loss: 8.731;\n",
      "Mean faces_reconstruction loss: 0.0;\n",
      "Mean emotions_reconstruction loss: 0.10456;\n",
      "\n"
     ]
    },
    {
     "name": "stderr",
     "output_type": "stream",
     "text": [
      "\r",
      " 30%|██████▉                | 60/200 [1:39:52<3:52:59, 99.85s/it]"
     ]
    },
    {
     "name": "stdout",
     "output_type": "stream",
     "text": [
      "Multimodal losses:\n",
      "Mean total loss: 2.0445;\n",
      "Mean reconstruction loss: 0.29329;\n",
      "Mean kld_loss loss: 17.513;\n",
      "Mean faces_reconstruction loss: 0.035782;\n",
      "Mean emotions_reconstruction loss: 0.25751;\n",
      "\n",
      "Face losses:\n",
      "Mean total loss: 0.35621;\n",
      "Mean reconstruction loss: 0.035985;\n",
      "Mean kld_loss loss: 3.2023;\n",
      "Mean faces_reconstruction loss: 0.035985;\n",
      "Mean emotions_reconstruction loss: 0.0;\n",
      "\n",
      "Emotion losses:\n",
      "Mean total loss: 0.97438;\n",
      "Mean reconstruction loss: 0.10362;\n",
      "Mean kld_loss loss: 8.7076;\n",
      "Mean faces_reconstruction loss: 0.0;\n",
      "Mean emotions_reconstruction loss: 0.10362;\n",
      "\n"
     ]
    },
    {
     "name": "stderr",
     "output_type": "stream",
     "text": [
      "\r",
      " 30%|███████                | 61/200 [1:41:33<3:51:35, 99.97s/it]"
     ]
    },
    {
     "name": "stdout",
     "output_type": "stream",
     "text": [
      "Multimodal losses:\n",
      "Mean total loss: 2.0353;\n",
      "Mean reconstruction loss: 0.28734;\n",
      "Mean kld_loss loss: 17.479;\n",
      "Mean faces_reconstruction loss: 0.035763;\n",
      "Mean emotions_reconstruction loss: 0.25158;\n",
      "\n",
      "Face losses:\n",
      "Mean total loss: 0.35592;\n",
      "Mean reconstruction loss: 0.035993;\n",
      "Mean kld_loss loss: 3.1993;\n",
      "Mean faces_reconstruction loss: 0.035993;\n",
      "Mean emotions_reconstruction loss: 0.0;\n",
      "\n",
      "Emotion losses:\n",
      "Mean total loss: 0.9728;\n",
      "Mean reconstruction loss: 0.10351;\n",
      "Mean kld_loss loss: 8.6929;\n",
      "Mean faces_reconstruction loss: 0.0;\n",
      "Mean emotions_reconstruction loss: 0.10351;\n",
      "\n"
     ]
    },
    {
     "name": "stderr",
     "output_type": "stream",
     "text": [
      "\r",
      " 31%|███████▏               | 62/200 [1:43:12<3:49:36, 99.83s/it]"
     ]
    },
    {
     "name": "stdout",
     "output_type": "stream",
     "text": [
      "Multimodal losses:\n",
      "Mean total loss: 2.0354;\n",
      "Mean reconstruction loss: 0.27986;\n",
      "Mean kld_loss loss: 17.555;\n",
      "Mean faces_reconstruction loss: 0.035767;\n",
      "Mean emotions_reconstruction loss: 0.24409;\n",
      "\n",
      "Face losses:\n",
      "Mean total loss: 0.35834;\n",
      "Mean reconstruction loss: 0.035997;\n",
      "Mean kld_loss loss: 3.2235;\n",
      "Mean faces_reconstruction loss: 0.035997;\n",
      "Mean emotions_reconstruction loss: 0.0;\n",
      "\n",
      "Emotion losses:\n",
      "Mean total loss: 0.98083;\n",
      "Mean reconstruction loss: 0.1103;\n",
      "Mean kld_loss loss: 8.7054;\n",
      "Mean faces_reconstruction loss: 0.0;\n",
      "Mean emotions_reconstruction loss: 0.1103;\n",
      "\n"
     ]
    },
    {
     "name": "stderr",
     "output_type": "stream",
     "text": [
      "\r",
      " 32%|███████▏               | 63/200 [1:44:52<3:47:53, 99.81s/it]"
     ]
    },
    {
     "name": "stdout",
     "output_type": "stream",
     "text": [
      "Multimodal losses:\n",
      "Mean total loss: 2.0326;\n",
      "Mean reconstruction loss: 0.28154;\n",
      "Mean kld_loss loss: 17.51;\n",
      "Mean faces_reconstruction loss: 0.035759;\n",
      "Mean emotions_reconstruction loss: 0.24578;\n",
      "\n",
      "Face losses:\n",
      "Mean total loss: 0.35589;\n",
      "Mean reconstruction loss: 0.035997;\n",
      "Mean kld_loss loss: 3.1989;\n",
      "Mean faces_reconstruction loss: 0.035997;\n",
      "Mean emotions_reconstruction loss: 0.0;\n",
      "\n",
      "Emotion losses:\n",
      "Mean total loss: 0.97772;\n",
      "Mean reconstruction loss: 0.10734;\n",
      "Mean kld_loss loss: 8.7038;\n",
      "Mean faces_reconstruction loss: 0.0;\n",
      "Mean emotions_reconstruction loss: 0.10734;\n",
      "\n"
     ]
    },
    {
     "name": "stderr",
     "output_type": "stream",
     "text": [
      "\r",
      " 32%|███████▎               | 64/200 [1:46:31<3:45:33, 99.51s/it]"
     ]
    },
    {
     "name": "stdout",
     "output_type": "stream",
     "text": [
      "Multimodal losses:\n",
      "Mean total loss: 2.0255;\n",
      "Mean reconstruction loss: 0.28829;\n",
      "Mean kld_loss loss: 17.372;\n",
      "Mean faces_reconstruction loss: 0.035747;\n",
      "Mean emotions_reconstruction loss: 0.25254;\n",
      "\n",
      "Face losses:\n",
      "Mean total loss: 0.35559;\n",
      "Mean reconstruction loss: 0.035977;\n",
      "Mean kld_loss loss: 3.1961;\n",
      "Mean faces_reconstruction loss: 0.035977;\n",
      "Mean emotions_reconstruction loss: 0.0;\n",
      "\n",
      "Emotion losses:\n",
      "Mean total loss: 0.96198;\n",
      "Mean reconstruction loss: 0.09836;\n",
      "Mean kld_loss loss: 8.6362;\n",
      "Mean faces_reconstruction loss: 0.0;\n",
      "Mean emotions_reconstruction loss: 0.09836;\n",
      "\n"
     ]
    },
    {
     "name": "stderr",
     "output_type": "stream",
     "text": [
      "\r",
      " 32%|███████▍               | 65/200 [1:48:10<3:43:44, 99.44s/it]"
     ]
    },
    {
     "name": "stdout",
     "output_type": "stream",
     "text": [
      "Multimodal losses:\n",
      "Mean total loss: 2.0193;\n",
      "Mean reconstruction loss: 0.276;\n",
      "Mean kld_loss loss: 17.433;\n",
      "Mean faces_reconstruction loss: 0.035762;\n",
      "Mean emotions_reconstruction loss: 0.24024;\n",
      "\n",
      "Face losses:\n",
      "Mean total loss: 0.3565;\n",
      "Mean reconstruction loss: 0.035986;\n",
      "Mean kld_loss loss: 3.2051;\n",
      "Mean faces_reconstruction loss: 0.035986;\n",
      "Mean emotions_reconstruction loss: 0.0;\n",
      "\n",
      "Emotion losses:\n",
      "Mean total loss: 0.96852;\n",
      "Mean reconstruction loss: 0.10631;\n",
      "Mean kld_loss loss: 8.6221;\n",
      "Mean faces_reconstruction loss: 0.0;\n",
      "Mean emotions_reconstruction loss: 0.10631;\n",
      "\n"
     ]
    },
    {
     "name": "stderr",
     "output_type": "stream",
     "text": [
      "\r",
      " 33%|███████▌               | 66/200 [1:49:50<3:42:20, 99.56s/it]"
     ]
    },
    {
     "name": "stdout",
     "output_type": "stream",
     "text": [
      "Multimodal losses:\n",
      "Mean total loss: 2.044;\n",
      "Mean reconstruction loss: 0.29343;\n",
      "Mean kld_loss loss: 17.505;\n",
      "Mean faces_reconstruction loss: 0.035742;\n",
      "Mean emotions_reconstruction loss: 0.25769;\n",
      "\n",
      "Face losses:\n",
      "Mean total loss: 0.35421;\n",
      "Mean reconstruction loss: 0.035981;\n",
      "Mean kld_loss loss: 3.1823;\n",
      "Mean faces_reconstruction loss: 0.035981;\n",
      "Mean emotions_reconstruction loss: 0.0;\n",
      "\n",
      "Emotion losses:\n",
      "Mean total loss: 0.97635;\n",
      "Mean reconstruction loss: 0.10617;\n",
      "Mean kld_loss loss: 8.7018;\n",
      "Mean faces_reconstruction loss: 0.0;\n",
      "Mean emotions_reconstruction loss: 0.10617;\n",
      "\n"
     ]
    },
    {
     "name": "stderr",
     "output_type": "stream",
     "text": [
      "\r",
      " 34%|███████▋               | 67/200 [1:51:29<3:40:32, 99.50s/it]"
     ]
    },
    {
     "name": "stdout",
     "output_type": "stream",
     "text": [
      "Multimodal losses:\n",
      "Mean total loss: 2.0269;\n",
      "Mean reconstruction loss: 0.28353;\n",
      "Mean kld_loss loss: 17.433;\n",
      "Mean faces_reconstruction loss: 0.035739;\n",
      "Mean emotions_reconstruction loss: 0.24779;\n",
      "\n",
      "Face losses:\n",
      "Mean total loss: 0.35314;\n",
      "Mean reconstruction loss: 0.03599;\n",
      "Mean kld_loss loss: 3.1715;\n",
      "Mean faces_reconstruction loss: 0.03599;\n",
      "Mean emotions_reconstruction loss: 0.0;\n",
      "\n",
      "Emotion losses:\n",
      "Mean total loss: 0.97608;\n",
      "Mean reconstruction loss: 0.1085;\n",
      "Mean kld_loss loss: 8.6758;\n",
      "Mean faces_reconstruction loss: 0.0;\n",
      "Mean emotions_reconstruction loss: 0.1085;\n",
      "\n"
     ]
    },
    {
     "name": "stderr",
     "output_type": "stream",
     "text": [
      "\r",
      " 34%|███████▊               | 68/200 [1:53:09<3:39:08, 99.61s/it]"
     ]
    },
    {
     "name": "stdout",
     "output_type": "stream",
     "text": [
      "Multimodal losses:\n",
      "Mean total loss: 2.0076;\n",
      "Mean reconstruction loss: 0.26751;\n",
      "Mean kld_loss loss: 17.4;\n",
      "Mean faces_reconstruction loss: 0.035738;\n",
      "Mean emotions_reconstruction loss: 0.23178;\n",
      "\n",
      "Face losses:\n",
      "Mean total loss: 0.35521;\n",
      "Mean reconstruction loss: 0.035972;\n",
      "Mean kld_loss loss: 3.1923;\n",
      "Mean faces_reconstruction loss: 0.035972;\n",
      "Mean emotions_reconstruction loss: 0.0;\n",
      "\n",
      "Emotion losses:\n",
      "Mean total loss: 0.97188;\n",
      "Mean reconstruction loss: 0.1068;\n",
      "Mean kld_loss loss: 8.6508;\n",
      "Mean faces_reconstruction loss: 0.0;\n",
      "Mean emotions_reconstruction loss: 0.1068;\n",
      "\n"
     ]
    },
    {
     "name": "stderr",
     "output_type": "stream",
     "text": [
      "\r",
      " 34%|███████▉               | 69/200 [1:54:48<3:37:03, 99.41s/it]"
     ]
    },
    {
     "name": "stdout",
     "output_type": "stream",
     "text": [
      "Multimodal losses:\n",
      "Mean total loss: 2.0334;\n",
      "Mean reconstruction loss: 0.28184;\n",
      "Mean kld_loss loss: 17.515;\n",
      "Mean faces_reconstruction loss: 0.035721;\n",
      "Mean emotions_reconstruction loss: 0.24612;\n",
      "\n",
      "Face losses:\n",
      "Mean total loss: 0.35397;\n",
      "Mean reconstruction loss: 0.035977;\n",
      "Mean kld_loss loss: 3.18;\n",
      "Mean faces_reconstruction loss: 0.035977;\n",
      "Mean emotions_reconstruction loss: 0.0;\n",
      "\n",
      "Emotion losses:\n",
      "Mean total loss: 0.98325;\n",
      "Mean reconstruction loss: 0.10709;\n",
      "Mean kld_loss loss: 8.7616;\n",
      "Mean faces_reconstruction loss: 0.0;\n",
      "Mean emotions_reconstruction loss: 0.10709;\n",
      "\n"
     ]
    },
    {
     "name": "stderr",
     "output_type": "stream",
     "text": [
      "\r",
      " 35%|████████               | 70/200 [1:56:28<3:35:55, 99.66s/it]"
     ]
    },
    {
     "name": "stdout",
     "output_type": "stream",
     "text": [
      "Multimodal losses:\n",
      "Mean total loss: 2.0398;\n",
      "Mean reconstruction loss: 0.29332;\n",
      "Mean kld_loss loss: 17.465;\n",
      "Mean faces_reconstruction loss: 0.035743;\n",
      "Mean emotions_reconstruction loss: 0.25757;\n",
      "\n",
      "Face losses:\n",
      "Mean total loss: 0.35236;\n",
      "Mean reconstruction loss: 0.035971;\n",
      "Mean kld_loss loss: 3.1639;\n",
      "Mean faces_reconstruction loss: 0.035971;\n",
      "Mean emotions_reconstruction loss: 0.0;\n",
      "\n",
      "Emotion losses:\n",
      "Mean total loss: 0.97883;\n",
      "Mean reconstruction loss: 0.10478;\n",
      "Mean kld_loss loss: 8.7404;\n",
      "Mean faces_reconstruction loss: 0.0;\n",
      "Mean emotions_reconstruction loss: 0.10478;\n",
      "\n"
     ]
    },
    {
     "name": "stderr",
     "output_type": "stream",
     "text": [
      "\r",
      " 36%|████████▏              | 71/200 [1:58:06<3:33:16, 99.20s/it]"
     ]
    },
    {
     "name": "stdout",
     "output_type": "stream",
     "text": [
      "Multimodal losses:\n",
      "Mean total loss: 2.0205;\n",
      "Mean reconstruction loss: 0.29027;\n",
      "Mean kld_loss loss: 17.302;\n",
      "Mean faces_reconstruction loss: 0.035729;\n",
      "Mean emotions_reconstruction loss: 0.25454;\n",
      "\n",
      "Face losses:\n",
      "Mean total loss: 0.35216;\n",
      "Mean reconstruction loss: 0.03598;\n",
      "Mean kld_loss loss: 3.1618;\n",
      "Mean faces_reconstruction loss: 0.03598;\n",
      "Mean emotions_reconstruction loss: 0.0;\n",
      "\n",
      "Emotion losses:\n",
      "Mean total loss: 0.96272;\n",
      "Mean reconstruction loss: 0.1001;\n",
      "Mean kld_loss loss: 8.6262;\n",
      "Mean faces_reconstruction loss: 0.0;\n",
      "Mean emotions_reconstruction loss: 0.1001;\n",
      "\n"
     ]
    },
    {
     "name": "stderr",
     "output_type": "stream",
     "text": [
      "\r",
      " 36%|████████▎              | 72/200 [1:59:46<3:32:09, 99.45s/it]"
     ]
    },
    {
     "name": "stdout",
     "output_type": "stream",
     "text": [
      "Multimodal losses:\n",
      "Mean total loss: 2.0227;\n",
      "Mean reconstruction loss: 0.27731;\n",
      "Mean kld_loss loss: 17.454;\n",
      "Mean faces_reconstruction loss: 0.035714;\n",
      "Mean emotions_reconstruction loss: 0.2416;\n",
      "\n",
      "Face losses:\n",
      "Mean total loss: 0.35221;\n",
      "Mean reconstruction loss: 0.035966;\n",
      "Mean kld_loss loss: 3.1624;\n",
      "Mean faces_reconstruction loss: 0.035966;\n",
      "Mean emotions_reconstruction loss: 0.0;\n",
      "\n",
      "Emotion losses:\n",
      "Mean total loss: 0.99337;\n",
      "Mean reconstruction loss: 0.11475;\n",
      "Mean kld_loss loss: 8.7862;\n",
      "Mean faces_reconstruction loss: 0.0;\n",
      "Mean emotions_reconstruction loss: 0.11475;\n",
      "\n"
     ]
    },
    {
     "name": "stderr",
     "output_type": "stream",
     "text": [
      "\r",
      " 36%|████████▍              | 73/200 [2:01:26<3:30:36, 99.50s/it]"
     ]
    },
    {
     "name": "stdout",
     "output_type": "stream",
     "text": [
      "Multimodal losses:\n",
      "Mean total loss: 2.0206;\n",
      "Mean reconstruction loss: 0.28618;\n",
      "Mean kld_loss loss: 17.344;\n",
      "Mean faces_reconstruction loss: 0.035737;\n",
      "Mean emotions_reconstruction loss: 0.25044;\n",
      "\n",
      "Face losses:\n",
      "Mean total loss: 0.35193;\n",
      "Mean reconstruction loss: 0.035974;\n",
      "Mean kld_loss loss: 3.1595;\n",
      "Mean faces_reconstruction loss: 0.035974;\n",
      "Mean emotions_reconstruction loss: 0.0;\n",
      "\n",
      "Emotion losses:\n",
      "Mean total loss: 0.96637;\n",
      "Mean reconstruction loss: 0.10073;\n",
      "Mean kld_loss loss: 8.6564;\n",
      "Mean faces_reconstruction loss: 0.0;\n",
      "Mean emotions_reconstruction loss: 0.10073;\n",
      "\n"
     ]
    },
    {
     "name": "stderr",
     "output_type": "stream",
     "text": [
      "\r",
      " 37%|████████▌              | 74/200 [2:03:06<3:29:30, 99.77s/it]"
     ]
    },
    {
     "name": "stdout",
     "output_type": "stream",
     "text": [
      "Multimodal losses:\n",
      "Mean total loss: 2.0028;\n",
      "Mean reconstruction loss: 0.27289;\n",
      "Mean kld_loss loss: 17.299;\n",
      "Mean faces_reconstruction loss: 0.035711;\n",
      "Mean emotions_reconstruction loss: 0.23718;\n",
      "\n",
      "Face losses:\n",
      "Mean total loss: 0.35262;\n",
      "Mean reconstruction loss: 0.03596;\n",
      "Mean kld_loss loss: 3.1666;\n",
      "Mean faces_reconstruction loss: 0.03596;\n",
      "Mean emotions_reconstruction loss: 0.0;\n",
      "\n",
      "Emotion losses:\n",
      "Mean total loss: 0.97257;\n",
      "Mean reconstruction loss: 0.10464;\n",
      "Mean kld_loss loss: 8.6794;\n",
      "Mean faces_reconstruction loss: 0.0;\n",
      "Mean emotions_reconstruction loss: 0.10464;\n",
      "\n"
     ]
    },
    {
     "name": "stderr",
     "output_type": "stream",
     "text": [
      "\r",
      " 38%|████████▋              | 75/200 [2:04:47<3:28:10, 99.92s/it]"
     ]
    },
    {
     "name": "stdout",
     "output_type": "stream",
     "text": [
      "Multimodal losses:\n",
      "Mean total loss: 2.0263;\n",
      "Mean reconstruction loss: 0.28742;\n",
      "Mean kld_loss loss: 17.388;\n",
      "Mean faces_reconstruction loss: 0.035713;\n",
      "Mean emotions_reconstruction loss: 0.25171;\n",
      "\n",
      "Face losses:\n",
      "Mean total loss: 0.35181;\n",
      "Mean reconstruction loss: 0.035966;\n",
      "Mean kld_loss loss: 3.1584;\n",
      "Mean faces_reconstruction loss: 0.035966;\n",
      "Mean emotions_reconstruction loss: 0.0;\n",
      "\n",
      "Emotion losses:\n",
      "Mean total loss: 0.9656;\n",
      "Mean reconstruction loss: 0.1024;\n",
      "Mean kld_loss loss: 8.632;\n",
      "Mean faces_reconstruction loss: 0.0;\n",
      "Mean emotions_reconstruction loss: 0.1024;\n",
      "\n"
     ]
    },
    {
     "name": "stderr",
     "output_type": "stream",
     "text": [
      "\r",
      " 38%|████████▋              | 76/200 [2:06:26<3:26:08, 99.75s/it]"
     ]
    },
    {
     "name": "stdout",
     "output_type": "stream",
     "text": [
      "Multimodal losses:\n",
      "Mean total loss: 2.0155;\n",
      "Mean reconstruction loss: 0.27811;\n",
      "Mean kld_loss loss: 17.374;\n",
      "Mean faces_reconstruction loss: 0.035735;\n",
      "Mean emotions_reconstruction loss: 0.24238;\n",
      "\n",
      "Face losses:\n",
      "Mean total loss: 0.35118;\n",
      "Mean reconstruction loss: 0.035977;\n",
      "Mean kld_loss loss: 3.1521;\n",
      "Mean faces_reconstruction loss: 0.035977;\n",
      "Mean emotions_reconstruction loss: 0.0;\n",
      "\n",
      "Emotion losses:\n",
      "Mean total loss: 0.97868;\n",
      "Mean reconstruction loss: 0.11085;\n",
      "Mean kld_loss loss: 8.6783;\n",
      "Mean faces_reconstruction loss: 0.0;\n",
      "Mean emotions_reconstruction loss: 0.11085;\n",
      "\n"
     ]
    },
    {
     "name": "stderr",
     "output_type": "stream",
     "text": [
      "\r",
      " 38%|████████▊              | 77/200 [2:08:06<3:24:35, 99.80s/it]"
     ]
    },
    {
     "name": "stdout",
     "output_type": "stream",
     "text": [
      "Multimodal losses:\n",
      "Mean total loss: 2.0141;\n",
      "Mean reconstruction loss: 0.28103;\n",
      "Mean kld_loss loss: 17.331;\n",
      "Mean faces_reconstruction loss: 0.035714;\n",
      "Mean emotions_reconstruction loss: 0.24532;\n",
      "\n",
      "Face losses:\n",
      "Mean total loss: 0.3502;\n",
      "Mean reconstruction loss: 0.035973;\n",
      "Mean kld_loss loss: 3.1423;\n",
      "Mean faces_reconstruction loss: 0.035973;\n",
      "Mean emotions_reconstruction loss: 0.0;\n",
      "\n",
      "Emotion losses:\n",
      "Mean total loss: 0.97851;\n",
      "Mean reconstruction loss: 0.11384;\n",
      "Mean kld_loss loss: 8.6467;\n",
      "Mean faces_reconstruction loss: 0.0;\n",
      "Mean emotions_reconstruction loss: 0.11384;\n",
      "\n"
     ]
    },
    {
     "name": "stderr",
     "output_type": "stream",
     "text": [
      "\r",
      " 39%|████████▉              | 78/200 [2:09:46<3:22:56, 99.81s/it]"
     ]
    },
    {
     "name": "stdout",
     "output_type": "stream",
     "text": [
      "Multimodal losses:\n",
      "Mean total loss: 2.0179;\n",
      "Mean reconstruction loss: 0.28689;\n",
      "Mean kld_loss loss: 17.31;\n",
      "Mean faces_reconstruction loss: 0.03571;\n",
      "Mean emotions_reconstruction loss: 0.25118;\n",
      "\n",
      "Face losses:\n",
      "Mean total loss: 0.35013;\n",
      "Mean reconstruction loss: 0.035965;\n",
      "Mean kld_loss loss: 3.1416;\n",
      "Mean faces_reconstruction loss: 0.035965;\n",
      "Mean emotions_reconstruction loss: 0.0;\n",
      "\n",
      "Emotion losses:\n",
      "Mean total loss: 0.9696;\n",
      "Mean reconstruction loss: 0.10694;\n",
      "Mean kld_loss loss: 8.6266;\n",
      "Mean faces_reconstruction loss: 0.0;\n",
      "Mean emotions_reconstruction loss: 0.10694;\n",
      "\n"
     ]
    },
    {
     "name": "stderr",
     "output_type": "stream",
     "text": [
      "\r",
      " 40%|█████████              | 79/200 [2:11:25<3:21:05, 99.71s/it]"
     ]
    },
    {
     "name": "stdout",
     "output_type": "stream",
     "text": [
      "Multimodal losses:\n",
      "Mean total loss: 2.0178;\n",
      "Mean reconstruction loss: 0.27898;\n",
      "Mean kld_loss loss: 17.388;\n",
      "Mean faces_reconstruction loss: 0.035691;\n",
      "Mean emotions_reconstruction loss: 0.24328;\n",
      "\n",
      "Face losses:\n",
      "Mean total loss: 0.34997;\n",
      "Mean reconstruction loss: 0.035961;\n",
      "Mean kld_loss loss: 3.1401;\n",
      "Mean faces_reconstruction loss: 0.035961;\n",
      "Mean emotions_reconstruction loss: 0.0;\n",
      "\n",
      "Emotion losses:\n",
      "Mean total loss: 0.96669;\n",
      "Mean reconstruction loss: 0.10019;\n",
      "Mean kld_loss loss: 8.6649;\n",
      "Mean faces_reconstruction loss: 0.0;\n",
      "Mean emotions_reconstruction loss: 0.10019;\n",
      "\n"
     ]
    },
    {
     "name": "stderr",
     "output_type": "stream",
     "text": [
      "\r",
      " 40%|█████████▏             | 80/200 [2:13:05<3:19:21, 99.68s/it]"
     ]
    },
    {
     "name": "stdout",
     "output_type": "stream",
     "text": [
      "Multimodal losses:\n",
      "Mean total loss: 2.0248;\n",
      "Mean reconstruction loss: 0.28777;\n",
      "Mean kld_loss loss: 17.371;\n",
      "Mean faces_reconstruction loss: 0.035687;\n",
      "Mean emotions_reconstruction loss: 0.25209;\n",
      "\n",
      "Face losses:\n",
      "Mean total loss: 0.34921;\n",
      "Mean reconstruction loss: 0.035962;\n",
      "Mean kld_loss loss: 3.1325;\n",
      "Mean faces_reconstruction loss: 0.035962;\n",
      "Mean emotions_reconstruction loss: 0.0;\n",
      "\n",
      "Emotion losses:\n",
      "Mean total loss: 0.97117;\n",
      "Mean reconstruction loss: 0.10344;\n",
      "Mean kld_loss loss: 8.6773;\n",
      "Mean faces_reconstruction loss: 0.0;\n",
      "Mean emotions_reconstruction loss: 0.10344;\n",
      "\n"
     ]
    },
    {
     "name": "stderr",
     "output_type": "stream",
     "text": [
      "\r",
      " 40%|█████████▎             | 81/200 [2:14:44<3:17:24, 99.53s/it]"
     ]
    },
    {
     "name": "stdout",
     "output_type": "stream",
     "text": [
      "Multimodal losses:\n",
      "Mean total loss: 1.9918;\n",
      "Mean reconstruction loss: 0.26505;\n",
      "Mean kld_loss loss: 17.267;\n",
      "Mean faces_reconstruction loss: 0.035688;\n",
      "Mean emotions_reconstruction loss: 0.22936;\n",
      "\n",
      "Face losses:\n",
      "Mean total loss: 0.35213;\n",
      "Mean reconstruction loss: 0.035956;\n",
      "Mean kld_loss loss: 3.1618;\n",
      "Mean faces_reconstruction loss: 0.035956;\n",
      "Mean emotions_reconstruction loss: 0.0;\n",
      "\n",
      "Emotion losses:\n",
      "Mean total loss: 0.97127;\n",
      "Mean reconstruction loss: 0.11112;\n",
      "Mean kld_loss loss: 8.6015;\n",
      "Mean faces_reconstruction loss: 0.0;\n",
      "Mean emotions_reconstruction loss: 0.11112;\n",
      "\n"
     ]
    },
    {
     "name": "stderr",
     "output_type": "stream",
     "text": [
      "\r",
      " 41%|█████████▍             | 82/200 [2:16:23<3:15:34, 99.44s/it]"
     ]
    },
    {
     "name": "stdout",
     "output_type": "stream",
     "text": [
      "Multimodal losses:\n",
      "Mean total loss: 2.0064;\n",
      "Mean reconstruction loss: 0.27772;\n",
      "Mean kld_loss loss: 17.287;\n",
      "Mean faces_reconstruction loss: 0.035686;\n",
      "Mean emotions_reconstruction loss: 0.24203;\n",
      "\n",
      "Face losses:\n",
      "Mean total loss: 0.34944;\n",
      "Mean reconstruction loss: 0.035948;\n",
      "Mean kld_loss loss: 3.1349;\n",
      "Mean faces_reconstruction loss: 0.035948;\n",
      "Mean emotions_reconstruction loss: 0.0;\n",
      "\n",
      "Emotion losses:\n",
      "Mean total loss: 0.96626;\n",
      "Mean reconstruction loss: 0.10287;\n",
      "Mean kld_loss loss: 8.634;\n",
      "Mean faces_reconstruction loss: 0.0;\n",
      "Mean emotions_reconstruction loss: 0.10287;\n",
      "\n"
     ]
    },
    {
     "name": "stderr",
     "output_type": "stream",
     "text": [
      "\r",
      " 42%|█████████▌             | 83/200 [2:18:02<3:13:41, 99.33s/it]"
     ]
    },
    {
     "name": "stdout",
     "output_type": "stream",
     "text": [
      "Multimodal losses:\n",
      "Mean total loss: 1.9983;\n",
      "Mean reconstruction loss: 0.26792;\n",
      "Mean kld_loss loss: 17.304;\n",
      "Mean faces_reconstruction loss: 0.035685;\n",
      "Mean emotions_reconstruction loss: 0.23224;\n",
      "\n",
      "Face losses:\n",
      "Mean total loss: 0.35027;\n",
      "Mean reconstruction loss: 0.035961;\n",
      "Mean kld_loss loss: 3.1431;\n",
      "Mean faces_reconstruction loss: 0.035961;\n",
      "Mean emotions_reconstruction loss: 0.0;\n",
      "\n",
      "Emotion losses:\n",
      "Mean total loss: 0.96896;\n",
      "Mean reconstruction loss: 0.10955;\n",
      "Mean kld_loss loss: 8.5941;\n",
      "Mean faces_reconstruction loss: 0.0;\n",
      "Mean emotions_reconstruction loss: 0.10955;\n",
      "\n"
     ]
    },
    {
     "name": "stderr",
     "output_type": "stream",
     "text": [
      "\r",
      " 42%|█████████▋             | 84/200 [2:19:41<3:11:51, 99.23s/it]"
     ]
    },
    {
     "name": "stdout",
     "output_type": "stream",
     "text": [
      "Multimodal losses:\n",
      "Mean total loss: 2.0146;\n",
      "Mean reconstruction loss: 0.28317;\n",
      "Mean kld_loss loss: 17.315;\n",
      "Mean faces_reconstruction loss: 0.035684;\n",
      "Mean emotions_reconstruction loss: 0.24749;\n",
      "\n",
      "Face losses:\n",
      "Mean total loss: 0.34735;\n",
      "Mean reconstruction loss: 0.035943;\n",
      "Mean kld_loss loss: 3.114;\n",
      "Mean faces_reconstruction loss: 0.035943;\n",
      "Mean emotions_reconstruction loss: 0.0;\n",
      "\n",
      "Emotion losses:\n",
      "Mean total loss: 0.9684;\n",
      "Mean reconstruction loss: 0.10238;\n",
      "Mean kld_loss loss: 8.6603;\n",
      "Mean faces_reconstruction loss: 0.0;\n",
      "Mean emotions_reconstruction loss: 0.10238;\n",
      "\n"
     ]
    },
    {
     "name": "stderr",
     "output_type": "stream",
     "text": [
      "\r",
      " 42%|█████████▊             | 85/200 [2:21:22<3:11:07, 99.71s/it]"
     ]
    },
    {
     "name": "stdout",
     "output_type": "stream",
     "text": [
      "Multimodal losses:\n",
      "Mean total loss: 2.0055;\n",
      "Mean reconstruction loss: 0.27408;\n",
      "Mean kld_loss loss: 17.314;\n",
      "Mean faces_reconstruction loss: 0.035692;\n",
      "Mean emotions_reconstruction loss: 0.23839;\n",
      "\n",
      "Face losses:\n",
      "Mean total loss: 0.34988;\n",
      "Mean reconstruction loss: 0.035955;\n",
      "Mean kld_loss loss: 3.1393;\n",
      "Mean faces_reconstruction loss: 0.035955;\n",
      "Mean emotions_reconstruction loss: 0.0;\n",
      "\n",
      "Emotion losses:\n",
      "Mean total loss: 0.97013;\n",
      "Mean reconstruction loss: 0.10708;\n",
      "Mean kld_loss loss: 8.6305;\n",
      "Mean faces_reconstruction loss: 0.0;\n",
      "Mean emotions_reconstruction loss: 0.10708;\n",
      "\n"
     ]
    },
    {
     "name": "stderr",
     "output_type": "stream",
     "text": [
      "\r",
      " 43%|█████████▉             | 86/200 [2:23:02<3:09:39, 99.82s/it]"
     ]
    },
    {
     "name": "stdout",
     "output_type": "stream",
     "text": [
      "Multimodal losses:\n",
      "Mean total loss: 2.022;\n",
      "Mean reconstruction loss: 0.29418;\n",
      "Mean kld_loss loss: 17.278;\n",
      "Mean faces_reconstruction loss: 0.035687;\n",
      "Mean emotions_reconstruction loss: 0.25849;\n",
      "\n",
      "Face losses:\n",
      "Mean total loss: 0.34678;\n",
      "Mean reconstruction loss: 0.035949;\n",
      "Mean kld_loss loss: 3.1083;\n",
      "Mean faces_reconstruction loss: 0.035949;\n",
      "Mean emotions_reconstruction loss: 0.0;\n",
      "\n",
      "Emotion losses:\n",
      "Mean total loss: 0.96499;\n",
      "Mean reconstruction loss: 0.1014;\n",
      "Mean kld_loss loss: 8.6359;\n",
      "Mean faces_reconstruction loss: 0.0;\n",
      "Mean emotions_reconstruction loss: 0.1014;\n",
      "\n"
     ]
    },
    {
     "name": "stderr",
     "output_type": "stream",
     "text": [
      "\r",
      " 44%|██████████             | 87/200 [2:24:42<3:07:50, 99.74s/it]"
     ]
    },
    {
     "name": "stdout",
     "output_type": "stream",
     "text": [
      "Multimodal losses:\n",
      "Mean total loss: 2.0239;\n",
      "Mean reconstruction loss: 0.29368;\n",
      "Mean kld_loss loss: 17.303;\n",
      "Mean faces_reconstruction loss: 0.035681;\n",
      "Mean emotions_reconstruction loss: 0.25799;\n",
      "\n",
      "Face losses:\n",
      "Mean total loss: 0.34658;\n",
      "Mean reconstruction loss: 0.035947;\n",
      "Mean kld_loss loss: 3.1064;\n",
      "Mean faces_reconstruction loss: 0.035947;\n",
      "Mean emotions_reconstruction loss: 0.0;\n",
      "\n",
      "Emotion losses:\n",
      "Mean total loss: 0.96455;\n",
      "Mean reconstruction loss: 0.099588;\n",
      "Mean kld_loss loss: 8.6496;\n",
      "Mean faces_reconstruction loss: 0.0;\n",
      "Mean emotions_reconstruction loss: 0.099588;\n",
      "\n"
     ]
    },
    {
     "name": "stderr",
     "output_type": "stream",
     "text": [
      "\r",
      " 44%|██████████             | 88/200 [2:26:22<3:06:27, 99.89s/it]"
     ]
    },
    {
     "name": "stdout",
     "output_type": "stream",
     "text": [
      "Multimodal losses:\n",
      "Mean total loss: 2.0146;\n",
      "Mean reconstruction loss: 0.28442;\n",
      "Mean kld_loss loss: 17.302;\n",
      "Mean faces_reconstruction loss: 0.035694;\n",
      "Mean emotions_reconstruction loss: 0.24872;\n",
      "\n",
      "Face losses:\n",
      "Mean total loss: 0.34752;\n",
      "Mean reconstruction loss: 0.035954;\n",
      "Mean kld_loss loss: 3.1156;\n",
      "Mean faces_reconstruction loss: 0.035954;\n",
      "Mean emotions_reconstruction loss: 0.0;\n",
      "\n",
      "Emotion losses:\n",
      "Mean total loss: 0.96491;\n",
      "Mean reconstruction loss: 0.099042;\n",
      "Mean kld_loss loss: 8.6587;\n",
      "Mean faces_reconstruction loss: 0.0;\n",
      "Mean emotions_reconstruction loss: 0.099042;\n",
      "\n"
     ]
    },
    {
     "name": "stderr",
     "output_type": "stream",
     "text": [
      "\r",
      " 44%|██████████▏            | 89/200 [2:28:02<3:04:35, 99.78s/it]"
     ]
    },
    {
     "name": "stdout",
     "output_type": "stream",
     "text": [
      "Multimodal losses:\n",
      "Mean total loss: 2.0099;\n",
      "Mean reconstruction loss: 0.28662;\n",
      "Mean kld_loss loss: 17.232;\n",
      "Mean faces_reconstruction loss: 0.03568;\n",
      "Mean emotions_reconstruction loss: 0.25094;\n",
      "\n",
      "Face losses:\n",
      "Mean total loss: 0.3466;\n",
      "Mean reconstruction loss: 0.035953;\n",
      "Mean kld_loss loss: 3.1064;\n",
      "Mean faces_reconstruction loss: 0.035953;\n",
      "Mean emotions_reconstruction loss: 0.0;\n",
      "\n",
      "Emotion losses:\n",
      "Mean total loss: 0.96378;\n",
      "Mean reconstruction loss: 0.10457;\n",
      "Mean kld_loss loss: 8.5922;\n",
      "Mean faces_reconstruction loss: 0.0;\n",
      "Mean emotions_reconstruction loss: 0.10457;\n",
      "\n"
     ]
    },
    {
     "name": "stderr",
     "output_type": "stream",
     "text": [
      "\r",
      " 45%|██████████▎            | 90/200 [2:29:40<3:02:19, 99.45s/it]"
     ]
    },
    {
     "name": "stdout",
     "output_type": "stream",
     "text": [
      "Multimodal losses:\n",
      "Mean total loss: 2.0037;\n",
      "Mean reconstruction loss: 0.276;\n",
      "Mean kld_loss loss: 17.277;\n",
      "Mean faces_reconstruction loss: 0.035676;\n",
      "Mean emotions_reconstruction loss: 0.24033;\n",
      "\n",
      "Face losses:\n",
      "Mean total loss: 0.34852;\n",
      "Mean reconstruction loss: 0.035945;\n",
      "Mean kld_loss loss: 3.1257;\n",
      "Mean faces_reconstruction loss: 0.035945;\n",
      "Mean emotions_reconstruction loss: 0.0;\n",
      "\n",
      "Emotion losses:\n",
      "Mean total loss: 0.96646;\n",
      "Mean reconstruction loss: 0.10066;\n",
      "Mean kld_loss loss: 8.6581;\n",
      "Mean faces_reconstruction loss: 0.0;\n",
      "Mean emotions_reconstruction loss: 0.10066;\n",
      "\n"
     ]
    },
    {
     "name": "stderr",
     "output_type": "stream",
     "text": [
      "\r",
      " 46%|██████████▍            | 91/200 [2:31:20<3:00:31, 99.37s/it]"
     ]
    },
    {
     "name": "stdout",
     "output_type": "stream",
     "text": [
      "Multimodal losses:\n",
      "Mean total loss: 2.0077;\n",
      "Mean reconstruction loss: 0.27824;\n",
      "Mean kld_loss loss: 17.295;\n",
      "Mean faces_reconstruction loss: 0.035691;\n",
      "Mean emotions_reconstruction loss: 0.24254;\n",
      "\n",
      "Face losses:\n",
      "Mean total loss: 0.34798;\n",
      "Mean reconstruction loss: 0.035958;\n",
      "Mean kld_loss loss: 3.1203;\n",
      "Mean faces_reconstruction loss: 0.035958;\n",
      "Mean emotions_reconstruction loss: 0.0;\n",
      "\n",
      "Emotion losses:\n",
      "Mean total loss: 0.97101;\n",
      "Mean reconstruction loss: 0.10614;\n",
      "Mean kld_loss loss: 8.6487;\n",
      "Mean faces_reconstruction loss: 0.0;\n",
      "Mean emotions_reconstruction loss: 0.10614;\n",
      "\n"
     ]
    },
    {
     "name": "stderr",
     "output_type": "stream",
     "text": [
      "\r",
      " 46%|██████████▌            | 92/200 [2:33:00<2:59:14, 99.58s/it]"
     ]
    },
    {
     "name": "stdout",
     "output_type": "stream",
     "text": [
      "Multimodal losses:\n",
      "Mean total loss: 2.0;\n",
      "Mean reconstruction loss: 0.27519;\n",
      "Mean kld_loss loss: 17.248;\n",
      "Mean faces_reconstruction loss: 0.035671;\n",
      "Mean emotions_reconstruction loss: 0.23952;\n",
      "\n",
      "Face losses:\n",
      "Mean total loss: 0.34651;\n",
      "Mean reconstruction loss: 0.035941;\n",
      "Mean kld_loss loss: 3.1057;\n",
      "Mean faces_reconstruction loss: 0.035941;\n",
      "Mean emotions_reconstruction loss: 0.0;\n",
      "\n",
      "Emotion losses:\n",
      "Mean total loss: 0.96841;\n",
      "Mean reconstruction loss: 0.10588;\n",
      "Mean kld_loss loss: 8.6253;\n",
      "Mean faces_reconstruction loss: 0.0;\n",
      "Mean emotions_reconstruction loss: 0.10588;\n",
      "\n"
     ]
    },
    {
     "name": "stderr",
     "output_type": "stream",
     "text": [
      "\r",
      " 46%|██████████▋            | 93/200 [2:34:39<2:57:43, 99.65s/it]"
     ]
    },
    {
     "name": "stdout",
     "output_type": "stream",
     "text": [
      "Multimodal losses:\n",
      "Mean total loss: 2.0001;\n",
      "Mean reconstruction loss: 0.28001;\n",
      "Mean kld_loss loss: 17.201;\n",
      "Mean faces_reconstruction loss: 0.035657;\n",
      "Mean emotions_reconstruction loss: 0.24435;\n",
      "\n",
      "Face losses:\n",
      "Mean total loss: 0.34703;\n",
      "Mean reconstruction loss: 0.035939;\n",
      "Mean kld_loss loss: 3.1109;\n",
      "Mean faces_reconstruction loss: 0.035939;\n",
      "Mean emotions_reconstruction loss: 0.0;\n",
      "\n",
      "Emotion losses:\n",
      "Mean total loss: 0.95261;\n",
      "Mean reconstruction loss: 0.094239;\n",
      "Mean kld_loss loss: 8.5837;\n",
      "Mean faces_reconstruction loss: 0.0;\n",
      "Mean emotions_reconstruction loss: 0.094239;\n",
      "\n"
     ]
    },
    {
     "name": "stderr",
     "output_type": "stream",
     "text": [
      "\r",
      " 47%|██████████▊            | 94/200 [2:36:20<2:56:21, 99.82s/it]"
     ]
    },
    {
     "name": "stdout",
     "output_type": "stream",
     "text": [
      "Multimodal losses:\n",
      "Mean total loss: 2.0217;\n",
      "Mean reconstruction loss: 0.29221;\n",
      "Mean kld_loss loss: 17.295;\n",
      "Mean faces_reconstruction loss: 0.035677;\n",
      "Mean emotions_reconstruction loss: 0.25654;\n",
      "\n",
      "Face losses:\n",
      "Mean total loss: 0.34574;\n",
      "Mean reconstruction loss: 0.035942;\n",
      "Mean kld_loss loss: 3.098;\n",
      "Mean faces_reconstruction loss: 0.035942;\n",
      "Mean emotions_reconstruction loss: 0.0;\n",
      "\n",
      "Emotion losses:\n",
      "Mean total loss: 0.96924;\n",
      "Mean reconstruction loss: 0.10313;\n",
      "Mean kld_loss loss: 8.6611;\n",
      "Mean faces_reconstruction loss: 0.0;\n",
      "Mean emotions_reconstruction loss: 0.10313;\n",
      "\n"
     ]
    },
    {
     "name": "stderr",
     "output_type": "stream",
     "text": [
      "\r",
      " 48%|██████████▉            | 95/200 [2:38:00<2:54:48, 99.89s/it]"
     ]
    },
    {
     "name": "stdout",
     "output_type": "stream",
     "text": [
      "Multimodal losses:\n",
      "Mean total loss: 2.0094;\n",
      "Mean reconstruction loss: 0.28743;\n",
      "Mean kld_loss loss: 17.219;\n",
      "Mean faces_reconstruction loss: 0.035671;\n",
      "Mean emotions_reconstruction loss: 0.25176;\n",
      "\n",
      "Face losses:\n",
      "Mean total loss: 0.34546;\n",
      "Mean reconstruction loss: 0.03594;\n",
      "Mean kld_loss loss: 3.0952;\n",
      "Mean faces_reconstruction loss: 0.03594;\n",
      "Mean emotions_reconstruction loss: 0.0;\n",
      "\n",
      "Emotion losses:\n",
      "Mean total loss: 0.96207;\n",
      "Mean reconstruction loss: 0.10138;\n",
      "Mean kld_loss loss: 8.6069;\n",
      "Mean faces_reconstruction loss: 0.0;\n",
      "Mean emotions_reconstruction loss: 0.10138;\n",
      "\n"
     ]
    },
    {
     "name": "stderr",
     "output_type": "stream",
     "text": [
      "\r",
      " 48%|██████████▌           | 96/200 [2:39:40<2:53:28, 100.08s/it]"
     ]
    },
    {
     "name": "stdout",
     "output_type": "stream",
     "text": [
      "Multimodal losses:\n",
      "Mean total loss: 2.0098;\n",
      "Mean reconstruction loss: 0.28929;\n",
      "Mean kld_loss loss: 17.205;\n",
      "Mean faces_reconstruction loss: 0.035676;\n",
      "Mean emotions_reconstruction loss: 0.25362;\n",
      "\n",
      "Face losses:\n",
      "Mean total loss: 0.3459;\n",
      "Mean reconstruction loss: 0.035947;\n",
      "Mean kld_loss loss: 3.0996;\n",
      "Mean faces_reconstruction loss: 0.035947;\n",
      "Mean emotions_reconstruction loss: 0.0;\n",
      "\n",
      "Emotion losses:\n",
      "Mean total loss: 0.95775;\n",
      "Mean reconstruction loss: 0.10135;\n",
      "Mean kld_loss loss: 8.564;\n",
      "Mean faces_reconstruction loss: 0.0;\n",
      "Mean emotions_reconstruction loss: 0.10135;\n",
      "\n"
     ]
    },
    {
     "name": "stderr",
     "output_type": "stream",
     "text": [
      "\r",
      " 48%|███████████▏           | 97/200 [2:41:19<2:51:12, 99.73s/it]"
     ]
    },
    {
     "name": "stdout",
     "output_type": "stream",
     "text": [
      "Multimodal losses:\n",
      "Mean total loss: 1.9987;\n",
      "Mean reconstruction loss: 0.28397;\n",
      "Mean kld_loss loss: 17.147;\n",
      "Mean faces_reconstruction loss: 0.035664;\n",
      "Mean emotions_reconstruction loss: 0.24831;\n",
      "\n",
      "Face losses:\n",
      "Mean total loss: 0.34648;\n",
      "Mean reconstruction loss: 0.035937;\n",
      "Mean kld_loss loss: 3.1055;\n",
      "Mean faces_reconstruction loss: 0.035937;\n",
      "Mean emotions_reconstruction loss: 0.0;\n",
      "\n",
      "Emotion losses:\n",
      "Mean total loss: 0.95297;\n",
      "Mean reconstruction loss: 0.096637;\n",
      "Mean kld_loss loss: 8.5634;\n",
      "Mean faces_reconstruction loss: 0.0;\n",
      "Mean emotions_reconstruction loss: 0.096637;\n",
      "\n"
     ]
    },
    {
     "name": "stderr",
     "output_type": "stream",
     "text": [
      "\r",
      " 49%|███████████▎           | 98/200 [2:42:59<2:49:33, 99.74s/it]"
     ]
    },
    {
     "name": "stdout",
     "output_type": "stream",
     "text": [
      "Multimodal losses:\n",
      "Mean total loss: 2.0184;\n",
      "Mean reconstruction loss: 0.28733;\n",
      "Mean kld_loss loss: 17.311;\n",
      "Mean faces_reconstruction loss: 0.035658;\n",
      "Mean emotions_reconstruction loss: 0.25167;\n",
      "\n",
      "Face losses:\n",
      "Mean total loss: 0.34451;\n",
      "Mean reconstruction loss: 0.035937;\n",
      "Mean kld_loss loss: 3.0857;\n",
      "Mean faces_reconstruction loss: 0.035937;\n",
      "Mean emotions_reconstruction loss: 0.0;\n",
      "\n",
      "Emotion losses:\n",
      "Mean total loss: 0.97141;\n",
      "Mean reconstruction loss: 0.10737;\n",
      "Mean kld_loss loss: 8.6404;\n",
      "Mean faces_reconstruction loss: 0.0;\n",
      "Mean emotions_reconstruction loss: 0.10737;\n",
      "\n"
     ]
    },
    {
     "name": "stderr",
     "output_type": "stream",
     "text": [
      "\r",
      " 50%|███████████▍           | 99/200 [2:44:39<2:47:52, 99.73s/it]"
     ]
    },
    {
     "name": "stdout",
     "output_type": "stream",
     "text": [
      "Multimodal losses:\n",
      "Mean total loss: 2.0056;\n",
      "Mean reconstruction loss: 0.28089;\n",
      "Mean kld_loss loss: 17.247;\n",
      "Mean faces_reconstruction loss: 0.035655;\n",
      "Mean emotions_reconstruction loss: 0.24524;\n",
      "\n",
      "Face losses:\n",
      "Mean total loss: 0.34576;\n",
      "Mean reconstruction loss: 0.035938;\n",
      "Mean kld_loss loss: 3.0983;\n",
      "Mean faces_reconstruction loss: 0.035938;\n",
      "Mean emotions_reconstruction loss: 0.0;\n",
      "\n",
      "Emotion losses:\n",
      "Mean total loss: 0.95791;\n",
      "Mean reconstruction loss: 0.098291;\n",
      "Mean kld_loss loss: 8.5962;\n",
      "Mean faces_reconstruction loss: 0.0;\n",
      "Mean emotions_reconstruction loss: 0.098291;\n",
      "\n"
     ]
    },
    {
     "name": "stderr",
     "output_type": "stream",
     "text": [
      "\r",
      " 50%|███████████           | 100/200 [2:46:18<2:46:15, 99.75s/it]"
     ]
    },
    {
     "name": "stdout",
     "output_type": "stream",
     "text": [
      "Multimodal losses:\n",
      "Mean total loss: 1.996;\n",
      "Mean reconstruction loss: 0.28402;\n",
      "Mean kld_loss loss: 17.12;\n",
      "Mean faces_reconstruction loss: 0.035667;\n",
      "Mean emotions_reconstruction loss: 0.24835;\n",
      "\n",
      "Face losses:\n",
      "Mean total loss: 0.34616;\n",
      "Mean reconstruction loss: 0.035942;\n",
      "Mean kld_loss loss: 3.1022;\n",
      "Mean faces_reconstruction loss: 0.035942;\n",
      "Mean emotions_reconstruction loss: 0.0;\n",
      "\n",
      "Emotion losses:\n",
      "Mean total loss: 0.9475;\n",
      "Mean reconstruction loss: 0.095339;\n",
      "Mean kld_loss loss: 8.5216;\n",
      "Mean faces_reconstruction loss: 0.0;\n",
      "Mean emotions_reconstruction loss: 0.095339;\n",
      "\n"
     ]
    },
    {
     "name": "stderr",
     "output_type": "stream",
     "text": [
      "\r",
      " 50%|███████████           | 101/200 [2:47:58<2:44:42, 99.83s/it]"
     ]
    },
    {
     "name": "stdout",
     "output_type": "stream",
     "text": [
      "Multimodal losses:\n",
      "Mean total loss: 2.0036;\n",
      "Mean reconstruction loss: 0.27815;\n",
      "Mean kld_loss loss: 17.254;\n",
      "Mean faces_reconstruction loss: 0.03567;\n",
      "Mean emotions_reconstruction loss: 0.24248;\n",
      "\n",
      "Face losses:\n",
      "Mean total loss: 0.34556;\n",
      "Mean reconstruction loss: 0.035944;\n",
      "Mean kld_loss loss: 3.0962;\n",
      "Mean faces_reconstruction loss: 0.035944;\n",
      "Mean emotions_reconstruction loss: 0.0;\n",
      "\n",
      "Emotion losses:\n",
      "Mean total loss: 0.96354;\n",
      "Mean reconstruction loss: 0.099154;\n",
      "Mean kld_loss loss: 8.6439;\n",
      "Mean faces_reconstruction loss: 0.0;\n",
      "Mean emotions_reconstruction loss: 0.099154;\n",
      "\n"
     ]
    },
    {
     "name": "stderr",
     "output_type": "stream",
     "text": [
      "\r",
      " 51%|███████████▏          | 102/200 [2:49:38<2:42:56, 99.76s/it]"
     ]
    },
    {
     "name": "stdout",
     "output_type": "stream",
     "text": [
      "Multimodal losses:\n",
      "Mean total loss: 1.9997;\n",
      "Mean reconstruction loss: 0.27993;\n",
      "Mean kld_loss loss: 17.198;\n",
      "Mean faces_reconstruction loss: 0.035665;\n",
      "Mean emotions_reconstruction loss: 0.24426;\n",
      "\n",
      "Face losses:\n",
      "Mean total loss: 0.34525;\n",
      "Mean reconstruction loss: 0.035934;\n",
      "Mean kld_loss loss: 3.0932;\n",
      "Mean faces_reconstruction loss: 0.035934;\n",
      "Mean emotions_reconstruction loss: 0.0;\n",
      "\n",
      "Emotion losses:\n",
      "Mean total loss: 0.95446;\n",
      "Mean reconstruction loss: 0.095877;\n",
      "Mean kld_loss loss: 8.5858;\n",
      "Mean faces_reconstruction loss: 0.0;\n",
      "Mean emotions_reconstruction loss: 0.095877;\n",
      "\n"
     ]
    },
    {
     "name": "stderr",
     "output_type": "stream",
     "text": [
      "\r",
      " 52%|███████████▎          | 103/200 [2:51:17<2:40:56, 99.55s/it]"
     ]
    },
    {
     "name": "stdout",
     "output_type": "stream",
     "text": [
      "Multimodal losses:\n",
      "Mean total loss: 1.9918;\n",
      "Mean reconstruction loss: 0.28272;\n",
      "Mean kld_loss loss: 17.091;\n",
      "Mean faces_reconstruction loss: 0.035655;\n",
      "Mean emotions_reconstruction loss: 0.24707;\n",
      "\n",
      "Face losses:\n",
      "Mean total loss: 0.34597;\n",
      "Mean reconstruction loss: 0.035929;\n",
      "Mean kld_loss loss: 3.1004;\n",
      "Mean faces_reconstruction loss: 0.035929;\n",
      "Mean emotions_reconstruction loss: 0.0;\n",
      "\n",
      "Emotion losses:\n",
      "Mean total loss: 0.95094;\n",
      "Mean reconstruction loss: 0.099595;\n",
      "Mean kld_loss loss: 8.5134;\n",
      "Mean faces_reconstruction loss: 0.0;\n",
      "Mean emotions_reconstruction loss: 0.099595;\n",
      "\n"
     ]
    },
    {
     "name": "stderr",
     "output_type": "stream",
     "text": [
      "\r",
      " 52%|███████████▍          | 104/200 [2:52:57<2:39:35, 99.75s/it]"
     ]
    },
    {
     "name": "stdout",
     "output_type": "stream",
     "text": [
      "Multimodal losses:\n",
      "Mean total loss: 2.007;\n",
      "Mean reconstruction loss: 0.28298;\n",
      "Mean kld_loss loss: 17.241;\n",
      "Mean faces_reconstruction loss: 0.035644;\n",
      "Mean emotions_reconstruction loss: 0.24733;\n",
      "\n",
      "Face losses:\n",
      "Mean total loss: 0.34583;\n",
      "Mean reconstruction loss: 0.035938;\n",
      "Mean kld_loss loss: 3.099;\n",
      "Mean faces_reconstruction loss: 0.035938;\n",
      "Mean emotions_reconstruction loss: 0.0;\n",
      "\n",
      "Emotion losses:\n",
      "Mean total loss: 0.95049;\n",
      "Mean reconstruction loss: 0.094033;\n",
      "Mean kld_loss loss: 8.5645;\n",
      "Mean faces_reconstruction loss: 0.0;\n",
      "Mean emotions_reconstruction loss: 0.094033;\n",
      "\n"
     ]
    },
    {
     "name": "stderr",
     "output_type": "stream",
     "text": [
      "\r",
      " 52%|███████████▌          | 105/200 [2:54:37<2:37:46, 99.65s/it]"
     ]
    },
    {
     "name": "stdout",
     "output_type": "stream",
     "text": [
      "Multimodal losses:\n",
      "Mean total loss: 2.0013;\n",
      "Mean reconstruction loss: 0.28725;\n",
      "Mean kld_loss loss: 17.141;\n",
      "Mean faces_reconstruction loss: 0.035636;\n",
      "Mean emotions_reconstruction loss: 0.25162;\n",
      "\n",
      "Face losses:\n",
      "Mean total loss: 0.34513;\n",
      "Mean reconstruction loss: 0.035932;\n",
      "Mean kld_loss loss: 3.092;\n",
      "Mean faces_reconstruction loss: 0.035932;\n",
      "Mean emotions_reconstruction loss: 0.0;\n",
      "\n",
      "Emotion losses:\n",
      "Mean total loss: 0.95075;\n",
      "Mean reconstruction loss: 0.096065;\n",
      "Mean kld_loss loss: 8.5469;\n",
      "Mean faces_reconstruction loss: 0.0;\n",
      "Mean emotions_reconstruction loss: 0.096065;\n",
      "\n"
     ]
    },
    {
     "name": "stderr",
     "output_type": "stream",
     "text": [
      "\r",
      " 53%|███████████▋          | 106/200 [2:56:16<2:36:06, 99.64s/it]"
     ]
    },
    {
     "name": "stdout",
     "output_type": "stream",
     "text": [
      "Multimodal losses:\n",
      "Mean total loss: 1.9861;\n",
      "Mean reconstruction loss: 0.26936;\n",
      "Mean kld_loss loss: 17.168;\n",
      "Mean faces_reconstruction loss: 0.03566;\n",
      "Mean emotions_reconstruction loss: 0.2337;\n",
      "\n",
      "Face losses:\n",
      "Mean total loss: 0.34661;\n",
      "Mean reconstruction loss: 0.035938;\n",
      "Mean kld_loss loss: 3.1067;\n",
      "Mean faces_reconstruction loss: 0.035938;\n",
      "Mean emotions_reconstruction loss: 0.0;\n",
      "\n",
      "Emotion losses:\n",
      "Mean total loss: 0.9584;\n",
      "Mean reconstruction loss: 0.10354;\n",
      "Mean kld_loss loss: 8.5486;\n",
      "Mean faces_reconstruction loss: 0.0;\n",
      "Mean emotions_reconstruction loss: 0.10354;\n",
      "\n"
     ]
    },
    {
     "name": "stderr",
     "output_type": "stream",
     "text": [
      "\r",
      " 54%|███████████▏         | 107/200 [2:57:57<2:35:00, 100.01s/it]"
     ]
    },
    {
     "name": "stdout",
     "output_type": "stream",
     "text": [
      "Multimodal losses:\n",
      "Mean total loss: 2.0035;\n",
      "Mean reconstruction loss: 0.28177;\n",
      "Mean kld_loss loss: 17.217;\n",
      "Mean faces_reconstruction loss: 0.035654;\n",
      "Mean emotions_reconstruction loss: 0.24611;\n",
      "\n",
      "Face losses:\n",
      "Mean total loss: 0.34536;\n",
      "Mean reconstruction loss: 0.035932;\n",
      "Mean kld_loss loss: 3.0943;\n",
      "Mean faces_reconstruction loss: 0.035932;\n",
      "Mean emotions_reconstruction loss: 0.0;\n",
      "\n",
      "Emotion losses:\n",
      "Mean total loss: 0.95394;\n",
      "Mean reconstruction loss: 0.091473;\n",
      "Mean kld_loss loss: 8.6247;\n",
      "Mean faces_reconstruction loss: 0.0;\n",
      "Mean emotions_reconstruction loss: 0.091473;\n",
      "\n"
     ]
    },
    {
     "name": "stderr",
     "output_type": "stream",
     "text": [
      "\r",
      " 54%|███████████▎         | 108/200 [2:59:37<2:33:22, 100.02s/it]"
     ]
    },
    {
     "name": "stdout",
     "output_type": "stream",
     "text": [
      "Multimodal losses:\n",
      "Mean total loss: 2.0049;\n",
      "Mean reconstruction loss: 0.28445;\n",
      "Mean kld_loss loss: 17.205;\n",
      "Mean faces_reconstruction loss: 0.035639;\n",
      "Mean emotions_reconstruction loss: 0.24881;\n",
      "\n",
      "Face losses:\n",
      "Mean total loss: 0.34545;\n",
      "Mean reconstruction loss: 0.035931;\n",
      "Mean kld_loss loss: 3.0952;\n",
      "Mean faces_reconstruction loss: 0.035931;\n",
      "Mean emotions_reconstruction loss: 0.0;\n",
      "\n",
      "Emotion losses:\n",
      "Mean total loss: 0.95025;\n",
      "Mean reconstruction loss: 0.090649;\n",
      "Mean kld_loss loss: 8.596;\n",
      "Mean faces_reconstruction loss: 0.0;\n",
      "Mean emotions_reconstruction loss: 0.090649;\n",
      "\n"
     ]
    },
    {
     "name": "stderr",
     "output_type": "stream",
     "text": [
      "\r",
      " 55%|███████████▉          | 109/200 [3:01:17<2:31:22, 99.81s/it]"
     ]
    },
    {
     "name": "stdout",
     "output_type": "stream",
     "text": [
      "Multimodal losses:\n",
      "Mean total loss: 1.9861;\n",
      "Mean reconstruction loss: 0.27182;\n",
      "Mean kld_loss loss: 17.143;\n",
      "Mean faces_reconstruction loss: 0.035651;\n",
      "Mean emotions_reconstruction loss: 0.23617;\n",
      "\n",
      "Face losses:\n",
      "Mean total loss: 0.34611;\n",
      "Mean reconstruction loss: 0.035937;\n",
      "Mean kld_loss loss: 3.1017;\n",
      "Mean faces_reconstruction loss: 0.035937;\n",
      "Mean emotions_reconstruction loss: 0.0;\n",
      "\n",
      "Emotion losses:\n",
      "Mean total loss: 0.96031;\n",
      "Mean reconstruction loss: 0.10565;\n",
      "Mean kld_loss loss: 8.5465;\n",
      "Mean faces_reconstruction loss: 0.0;\n",
      "Mean emotions_reconstruction loss: 0.10565;\n",
      "\n"
     ]
    },
    {
     "name": "stderr",
     "output_type": "stream",
     "text": [
      "\r",
      " 55%|████████████          | 110/200 [3:02:56<2:29:41, 99.79s/it]"
     ]
    },
    {
     "name": "stdout",
     "output_type": "stream",
     "text": [
      "Multimodal losses:\n",
      "Mean total loss: 1.9815;\n",
      "Mean reconstruction loss: 0.2658;\n",
      "Mean kld_loss loss: 17.157;\n",
      "Mean faces_reconstruction loss: 0.035662;\n",
      "Mean emotions_reconstruction loss: 0.23014;\n",
      "\n",
      "Face losses:\n",
      "Mean total loss: 0.34676;\n",
      "Mean reconstruction loss: 0.035937;\n",
      "Mean kld_loss loss: 3.1082;\n",
      "Mean faces_reconstruction loss: 0.035937;\n",
      "Mean emotions_reconstruction loss: 0.0;\n",
      "\n",
      "Emotion losses:\n",
      "Mean total loss: 0.9557;\n",
      "Mean reconstruction loss: 0.10063;\n",
      "Mean kld_loss loss: 8.5506;\n",
      "Mean faces_reconstruction loss: 0.0;\n",
      "Mean emotions_reconstruction loss: 0.10063;\n",
      "\n"
     ]
    },
    {
     "name": "stderr",
     "output_type": "stream",
     "text": [
      "\r",
      " 56%|████████████▏         | 111/200 [3:04:36<2:27:54, 99.72s/it]"
     ]
    },
    {
     "name": "stdout",
     "output_type": "stream",
     "text": [
      "Multimodal losses:\n",
      "Mean total loss: 1.983;\n",
      "Mean reconstruction loss: 0.27099;\n",
      "Mean kld_loss loss: 17.12;\n",
      "Mean faces_reconstruction loss: 0.035652;\n",
      "Mean emotions_reconstruction loss: 0.23533;\n",
      "\n",
      "Face losses:\n",
      "Mean total loss: 0.3464;\n",
      "Mean reconstruction loss: 0.035931;\n",
      "Mean kld_loss loss: 3.1047;\n",
      "Mean faces_reconstruction loss: 0.035931;\n",
      "Mean emotions_reconstruction loss: 0.0;\n",
      "\n",
      "Emotion losses:\n",
      "Mean total loss: 0.95062;\n",
      "Mean reconstruction loss: 0.10007;\n",
      "Mean kld_loss loss: 8.5055;\n",
      "Mean faces_reconstruction loss: 0.0;\n",
      "Mean emotions_reconstruction loss: 0.10007;\n",
      "\n"
     ]
    },
    {
     "name": "stderr",
     "output_type": "stream",
     "text": [
      "\r",
      " 56%|████████████▎         | 112/200 [3:06:16<2:26:22, 99.81s/it]"
     ]
    },
    {
     "name": "stdout",
     "output_type": "stream",
     "text": [
      "Multimodal losses:\n",
      "Mean total loss: 1.9917;\n",
      "Mean reconstruction loss: 0.27839;\n",
      "Mean kld_loss loss: 17.133;\n",
      "Mean faces_reconstruction loss: 0.035642;\n",
      "Mean emotions_reconstruction loss: 0.24275;\n",
      "\n",
      "Face losses:\n",
      "Mean total loss: 0.3468;\n",
      "Mean reconstruction loss: 0.03593;\n",
      "Mean kld_loss loss: 3.1087;\n",
      "Mean faces_reconstruction loss: 0.03593;\n",
      "Mean emotions_reconstruction loss: 0.0;\n",
      "\n",
      "Emotion losses:\n",
      "Mean total loss: 0.94728;\n",
      "Mean reconstruction loss: 0.095071;\n",
      "Mean kld_loss loss: 8.5221;\n",
      "Mean faces_reconstruction loss: 0.0;\n",
      "Mean emotions_reconstruction loss: 0.095071;\n",
      "\n"
     ]
    },
    {
     "name": "stderr",
     "output_type": "stream",
     "text": [
      "\r",
      " 56%|████████████▍         | 113/200 [3:07:56<2:24:41, 99.79s/it]"
     ]
    },
    {
     "name": "stdout",
     "output_type": "stream",
     "text": [
      "Multimodal losses:\n",
      "Mean total loss: 1.9902;\n",
      "Mean reconstruction loss: 0.27458;\n",
      "Mean kld_loss loss: 17.156;\n",
      "Mean faces_reconstruction loss: 0.035654;\n",
      "Mean emotions_reconstruction loss: 0.23892;\n",
      "\n",
      "Face losses:\n",
      "Mean total loss: 0.34653;\n",
      "Mean reconstruction loss: 0.035927;\n",
      "Mean kld_loss loss: 3.106;\n",
      "Mean faces_reconstruction loss: 0.035927;\n",
      "Mean emotions_reconstruction loss: 0.0;\n",
      "\n",
      "Emotion losses:\n",
      "Mean total loss: 0.95267;\n",
      "Mean reconstruction loss: 0.097528;\n",
      "Mean kld_loss loss: 8.5514;\n",
      "Mean faces_reconstruction loss: 0.0;\n",
      "Mean emotions_reconstruction loss: 0.097528;\n",
      "\n"
     ]
    },
    {
     "name": "stderr",
     "output_type": "stream",
     "text": [
      "\r",
      " 57%|████████████▌         | 114/200 [3:09:35<2:22:47, 99.63s/it]"
     ]
    },
    {
     "name": "stdout",
     "output_type": "stream",
     "text": [
      "Multimodal losses:\n",
      "Mean total loss: 1.971;\n",
      "Mean reconstruction loss: 0.263;\n",
      "Mean kld_loss loss: 17.08;\n",
      "Mean faces_reconstruction loss: 0.035641;\n",
      "Mean emotions_reconstruction loss: 0.22735;\n",
      "\n",
      "Face losses:\n",
      "Mean total loss: 0.34806;\n",
      "Mean reconstruction loss: 0.035934;\n",
      "Mean kld_loss loss: 3.1212;\n",
      "Mean faces_reconstruction loss: 0.035934;\n",
      "Mean emotions_reconstruction loss: 0.0;\n",
      "\n",
      "Emotion losses:\n",
      "Mean total loss: 0.95052;\n",
      "Mean reconstruction loss: 0.10181;\n",
      "Mean kld_loss loss: 8.4872;\n",
      "Mean faces_reconstruction loss: 0.0;\n",
      "Mean emotions_reconstruction loss: 0.10181;\n",
      "\n"
     ]
    },
    {
     "name": "stderr",
     "output_type": "stream",
     "text": [
      "\r",
      " 57%|████████████▋         | 115/200 [3:11:15<2:21:24, 99.82s/it]"
     ]
    },
    {
     "name": "stdout",
     "output_type": "stream",
     "text": [
      "Multimodal losses:\n",
      "Mean total loss: 1.9736;\n",
      "Mean reconstruction loss: 0.27341;\n",
      "Mean kld_loss loss: 17.002;\n",
      "Mean faces_reconstruction loss: 0.035652;\n",
      "Mean emotions_reconstruction loss: 0.23776;\n",
      "\n",
      "Face losses:\n",
      "Mean total loss: 0.34739;\n",
      "Mean reconstruction loss: 0.035933;\n",
      "Mean kld_loss loss: 3.1146;\n",
      "Mean faces_reconstruction loss: 0.035933;\n",
      "Mean emotions_reconstruction loss: 0.0;\n",
      "\n",
      "Emotion losses:\n",
      "Mean total loss: 0.93717;\n",
      "Mean reconstruction loss: 0.093911;\n",
      "Mean kld_loss loss: 8.4326;\n",
      "Mean faces_reconstruction loss: 0.0;\n",
      "Mean emotions_reconstruction loss: 0.093911;\n",
      "\n"
     ]
    },
    {
     "name": "stderr",
     "output_type": "stream",
     "text": [
      "\r",
      " 58%|████████████▊         | 116/200 [3:12:55<2:19:51, 99.90s/it]"
     ]
    },
    {
     "name": "stdout",
     "output_type": "stream",
     "text": [
      "Multimodal losses:\n",
      "Mean total loss: 1.9872;\n",
      "Mean reconstruction loss: 0.27304;\n",
      "Mean kld_loss loss: 17.141;\n",
      "Mean faces_reconstruction loss: 0.035651;\n",
      "Mean emotions_reconstruction loss: 0.23739;\n",
      "\n",
      "Face losses:\n",
      "Mean total loss: 0.34669;\n",
      "Mean reconstruction loss: 0.035928;\n",
      "Mean kld_loss loss: 3.1076;\n",
      "Mean faces_reconstruction loss: 0.035928;\n",
      "Mean emotions_reconstruction loss: 0.0;\n",
      "\n",
      "Emotion losses:\n",
      "Mean total loss: 0.94545;\n",
      "Mean reconstruction loss: 0.094248;\n",
      "Mean kld_loss loss: 8.512;\n",
      "Mean faces_reconstruction loss: 0.0;\n",
      "Mean emotions_reconstruction loss: 0.094248;\n",
      "\n"
     ]
    },
    {
     "name": "stderr",
     "output_type": "stream",
     "text": [
      "\r",
      " 58%|████████████▊         | 117/200 [3:14:34<2:17:45, 99.59s/it]"
     ]
    },
    {
     "name": "stdout",
     "output_type": "stream",
     "text": [
      "Multimodal losses:\n",
      "Mean total loss: 1.9633;\n",
      "Mean reconstruction loss: 0.26034;\n",
      "Mean kld_loss loss: 17.03;\n",
      "Mean faces_reconstruction loss: 0.035637;\n",
      "Mean emotions_reconstruction loss: 0.22471;\n",
      "\n",
      "Face losses:\n",
      "Mean total loss: 0.3477;\n",
      "Mean reconstruction loss: 0.035929;\n",
      "Mean kld_loss loss: 3.1177;\n",
      "Mean faces_reconstruction loss: 0.035929;\n",
      "Mean emotions_reconstruction loss: 0.0;\n",
      "\n",
      "Emotion losses:\n",
      "Mean total loss: 0.93736;\n",
      "Mean reconstruction loss: 0.09841;\n",
      "Mean kld_loss loss: 8.3895;\n",
      "Mean faces_reconstruction loss: 0.0;\n",
      "Mean emotions_reconstruction loss: 0.09841;\n",
      "\n"
     ]
    },
    {
     "name": "stderr",
     "output_type": "stream",
     "text": [
      "\r",
      " 59%|████████████▉         | 118/200 [3:16:14<2:16:26, 99.83s/it]"
     ]
    },
    {
     "name": "stdout",
     "output_type": "stream",
     "text": [
      "Multimodal losses:\n",
      "Mean total loss: 1.9639;\n",
      "Mean reconstruction loss: 0.26163;\n",
      "Mean kld_loss loss: 17.022;\n",
      "Mean faces_reconstruction loss: 0.035644;\n",
      "Mean emotions_reconstruction loss: 0.22598;\n",
      "\n",
      "Face losses:\n",
      "Mean total loss: 0.34797;\n",
      "Mean reconstruction loss: 0.035929;\n",
      "Mean kld_loss loss: 3.1204;\n",
      "Mean faces_reconstruction loss: 0.035929;\n",
      "Mean emotions_reconstruction loss: 0.0;\n",
      "\n",
      "Emotion losses:\n",
      "Mean total loss: 0.93983;\n",
      "Mean reconstruction loss: 0.10008;\n",
      "Mean kld_loss loss: 8.3975;\n",
      "Mean faces_reconstruction loss: 0.0;\n",
      "Mean emotions_reconstruction loss: 0.10008;\n",
      "\n"
     ]
    },
    {
     "name": "stderr",
     "output_type": "stream",
     "text": [
      "\r",
      " 60%|█████████████         | 119/200 [3:17:53<2:14:15, 99.46s/it]"
     ]
    },
    {
     "name": "stdout",
     "output_type": "stream",
     "text": [
      "Multimodal losses:\n",
      "Mean total loss: 1.9701;\n",
      "Mean reconstruction loss: 0.26605;\n",
      "Mean kld_loss loss: 17.041;\n",
      "Mean faces_reconstruction loss: 0.035641;\n",
      "Mean emotions_reconstruction loss: 0.23041;\n",
      "\n",
      "Face losses:\n",
      "Mean total loss: 0.34782;\n",
      "Mean reconstruction loss: 0.035918;\n",
      "Mean kld_loss loss: 3.1191;\n",
      "Mean faces_reconstruction loss: 0.035918;\n",
      "Mean emotions_reconstruction loss: 0.0;\n",
      "\n",
      "Emotion losses:\n",
      "Mean total loss: 0.93325;\n",
      "Mean reconstruction loss: 0.092075;\n",
      "Mean kld_loss loss: 8.4118;\n",
      "Mean faces_reconstruction loss: 0.0;\n",
      "Mean emotions_reconstruction loss: 0.092075;\n",
      "\n"
     ]
    },
    {
     "name": "stderr",
     "output_type": "stream",
     "text": [
      "\r",
      " 60%|█████████████▏        | 120/200 [3:19:32<2:12:28, 99.36s/it]"
     ]
    },
    {
     "name": "stdout",
     "output_type": "stream",
     "text": [
      "Multimodal losses:\n",
      "Mean total loss: 1.9774;\n",
      "Mean reconstruction loss: 0.27301;\n",
      "Mean kld_loss loss: 17.044;\n",
      "Mean faces_reconstruction loss: 0.035649;\n",
      "Mean emotions_reconstruction loss: 0.23736;\n",
      "\n",
      "Face losses:\n",
      "Mean total loss: 0.34802;\n",
      "Mean reconstruction loss: 0.035921;\n",
      "Mean kld_loss loss: 3.121;\n",
      "Mean faces_reconstruction loss: 0.035921;\n",
      "Mean emotions_reconstruction loss: 0.0;\n",
      "\n",
      "Emotion losses:\n",
      "Mean total loss: 0.94042;\n",
      "Mean reconstruction loss: 0.094217;\n",
      "Mean kld_loss loss: 8.4621;\n",
      "Mean faces_reconstruction loss: 0.0;\n",
      "Mean emotions_reconstruction loss: 0.094217;\n",
      "\n"
     ]
    },
    {
     "name": "stderr",
     "output_type": "stream",
     "text": [
      "\r",
      " 60%|█████████████▎        | 121/200 [3:21:13<2:11:15, 99.69s/it]"
     ]
    },
    {
     "name": "stdout",
     "output_type": "stream",
     "text": [
      "Multimodal losses:\n",
      "Mean total loss: 1.9726;\n",
      "Mean reconstruction loss: 0.26867;\n",
      "Mean kld_loss loss: 17.039;\n",
      "Mean faces_reconstruction loss: 0.035641;\n",
      "Mean emotions_reconstruction loss: 0.23303;\n",
      "\n",
      "Face losses:\n",
      "Mean total loss: 0.34748;\n",
      "Mean reconstruction loss: 0.035935;\n",
      "Mean kld_loss loss: 3.1154;\n",
      "Mean faces_reconstruction loss: 0.035935;\n",
      "Mean emotions_reconstruction loss: 0.0;\n",
      "\n",
      "Emotion losses:\n",
      "Mean total loss: 0.93505;\n",
      "Mean reconstruction loss: 0.093;\n",
      "Mean kld_loss loss: 8.4205;\n",
      "Mean faces_reconstruction loss: 0.0;\n",
      "Mean emotions_reconstruction loss: 0.093;\n",
      "\n"
     ]
    },
    {
     "name": "stderr",
     "output_type": "stream",
     "text": [
      "\r",
      " 61%|█████████████▍        | 122/200 [3:22:52<2:09:39, 99.74s/it]"
     ]
    },
    {
     "name": "stdout",
     "output_type": "stream",
     "text": [
      "Multimodal losses:\n",
      "Mean total loss: 1.9679;\n",
      "Mean reconstruction loss: 0.26198;\n",
      "Mean kld_loss loss: 17.059;\n",
      "Mean faces_reconstruction loss: 0.035615;\n",
      "Mean emotions_reconstruction loss: 0.22637;\n",
      "\n",
      "Face losses:\n",
      "Mean total loss: 0.34849;\n",
      "Mean reconstruction loss: 0.035916;\n",
      "Mean kld_loss loss: 3.1257;\n",
      "Mean faces_reconstruction loss: 0.035916;\n",
      "Mean emotions_reconstruction loss: 0.0;\n",
      "\n",
      "Emotion losses:\n",
      "Mean total loss: 0.94087;\n",
      "Mean reconstruction loss: 0.093341;\n",
      "Mean kld_loss loss: 8.4753;\n",
      "Mean faces_reconstruction loss: 0.0;\n",
      "Mean emotions_reconstruction loss: 0.093341;\n",
      "\n"
     ]
    },
    {
     "name": "stderr",
     "output_type": "stream",
     "text": [
      "\r",
      " 62%|█████████████▌        | 123/200 [3:24:32<2:07:53, 99.66s/it]"
     ]
    },
    {
     "name": "stdout",
     "output_type": "stream",
     "text": [
      "Multimodal losses:\n",
      "Mean total loss: 1.9715;\n",
      "Mean reconstruction loss: 0.27278;\n",
      "Mean kld_loss loss: 16.987;\n",
      "Mean faces_reconstruction loss: 0.035652;\n",
      "Mean emotions_reconstruction loss: 0.23713;\n",
      "\n",
      "Face losses:\n",
      "Mean total loss: 0.34853;\n",
      "Mean reconstruction loss: 0.035924;\n",
      "Mean kld_loss loss: 3.126;\n",
      "Mean faces_reconstruction loss: 0.035924;\n",
      "Mean emotions_reconstruction loss: 0.0;\n",
      "\n",
      "Emotion losses:\n",
      "Mean total loss: 0.92536;\n",
      "Mean reconstruction loss: 0.087716;\n",
      "Mean kld_loss loss: 8.3765;\n",
      "Mean faces_reconstruction loss: 0.0;\n",
      "Mean emotions_reconstruction loss: 0.087716;\n",
      "\n"
     ]
    },
    {
     "name": "stderr",
     "output_type": "stream",
     "text": [
      "\r",
      " 62%|█████████████▋        | 124/200 [3:26:12<2:06:22, 99.77s/it]"
     ]
    },
    {
     "name": "stdout",
     "output_type": "stream",
     "text": [
      "Multimodal losses:\n",
      "Mean total loss: 1.9571;\n",
      "Mean reconstruction loss: 0.25904;\n",
      "Mean kld_loss loss: 16.981;\n",
      "Mean faces_reconstruction loss: 0.035639;\n",
      "Mean emotions_reconstruction loss: 0.2234;\n",
      "\n",
      "Face losses:\n",
      "Mean total loss: 0.34946;\n",
      "Mean reconstruction loss: 0.035922;\n",
      "Mean kld_loss loss: 3.1354;\n",
      "Mean faces_reconstruction loss: 0.035922;\n",
      "Mean emotions_reconstruction loss: 0.0;\n",
      "\n",
      "Emotion losses:\n",
      "Mean total loss: 0.92109;\n",
      "Mean reconstruction loss: 0.08476;\n",
      "Mean kld_loss loss: 8.3633;\n",
      "Mean faces_reconstruction loss: 0.0;\n",
      "Mean emotions_reconstruction loss: 0.08476;\n",
      "\n"
     ]
    },
    {
     "name": "stderr",
     "output_type": "stream",
     "text": [
      "\r",
      " 62%|█████████████▊        | 125/200 [3:27:51<2:04:36, 99.68s/it]"
     ]
    },
    {
     "name": "stdout",
     "output_type": "stream",
     "text": [
      "Multimodal losses:\n",
      "Mean total loss: 1.9585;\n",
      "Mean reconstruction loss: 0.2582;\n",
      "Mean kld_loss loss: 17.003;\n",
      "Mean faces_reconstruction loss: 0.035632;\n",
      "Mean emotions_reconstruction loss: 0.22257;\n",
      "\n",
      "Face losses:\n",
      "Mean total loss: 0.35135;\n",
      "Mean reconstruction loss: 0.035918;\n",
      "Mean kld_loss loss: 3.1543;\n",
      "Mean faces_reconstruction loss: 0.035918;\n",
      "Mean emotions_reconstruction loss: 0.0;\n",
      "\n",
      "Emotion losses:\n",
      "Mean total loss: 0.9266;\n",
      "Mean reconstruction loss: 0.091148;\n",
      "Mean kld_loss loss: 8.3545;\n",
      "Mean faces_reconstruction loss: 0.0;\n",
      "Mean emotions_reconstruction loss: 0.091148;\n",
      "\n"
     ]
    },
    {
     "name": "stderr",
     "output_type": "stream",
     "text": [
      "\r",
      " 63%|█████████████▊        | 126/200 [3:29:31<2:02:56, 99.69s/it]"
     ]
    },
    {
     "name": "stdout",
     "output_type": "stream",
     "text": [
      "Multimodal losses:\n",
      "Mean total loss: 1.965;\n",
      "Mean reconstruction loss: 0.26822;\n",
      "Mean kld_loss loss: 16.967;\n",
      "Mean faces_reconstruction loss: 0.035626;\n",
      "Mean emotions_reconstruction loss: 0.23259;\n",
      "\n",
      "Face losses:\n",
      "Mean total loss: 0.34963;\n",
      "Mean reconstruction loss: 0.035925;\n",
      "Mean kld_loss loss: 3.137;\n",
      "Mean faces_reconstruction loss: 0.035925;\n",
      "Mean emotions_reconstruction loss: 0.0;\n",
      "\n",
      "Emotion losses:\n",
      "Mean total loss: 0.92173;\n",
      "Mean reconstruction loss: 0.089867;\n",
      "Mean kld_loss loss: 8.3186;\n",
      "Mean faces_reconstruction loss: 0.0;\n",
      "Mean emotions_reconstruction loss: 0.089867;\n",
      "\n"
     ]
    },
    {
     "name": "stderr",
     "output_type": "stream",
     "text": [
      "\r",
      " 64%|█████████████▉        | 127/200 [3:31:11<2:01:22, 99.76s/it]"
     ]
    },
    {
     "name": "stdout",
     "output_type": "stream",
     "text": [
      "Multimodal losses:\n",
      "Mean total loss: 1.9511;\n",
      "Mean reconstruction loss: 0.25806;\n",
      "Mean kld_loss loss: 16.93;\n",
      "Mean faces_reconstruction loss: 0.03564;\n",
      "Mean emotions_reconstruction loss: 0.22242;\n",
      "\n",
      "Face losses:\n",
      "Mean total loss: 0.35021;\n",
      "Mean reconstruction loss: 0.035924;\n",
      "Mean kld_loss loss: 3.1428;\n",
      "Mean faces_reconstruction loss: 0.035924;\n",
      "Mean emotions_reconstruction loss: 0.0;\n",
      "\n",
      "Emotion losses:\n",
      "Mean total loss: 0.91249;\n",
      "Mean reconstruction loss: 0.082024;\n",
      "Mean kld_loss loss: 8.3046;\n",
      "Mean faces_reconstruction loss: 0.0;\n",
      "Mean emotions_reconstruction loss: 0.082024;\n",
      "\n"
     ]
    },
    {
     "name": "stderr",
     "output_type": "stream",
     "text": [
      "\r",
      " 64%|██████████████        | 128/200 [3:32:51<1:59:46, 99.81s/it]"
     ]
    },
    {
     "name": "stdout",
     "output_type": "stream",
     "text": [
      "Multimodal losses:\n",
      "Mean total loss: 1.9668;\n",
      "Mean reconstruction loss: 0.27053;\n",
      "Mean kld_loss loss: 16.963;\n",
      "Mean faces_reconstruction loss: 0.035644;\n",
      "Mean emotions_reconstruction loss: 0.23488;\n",
      "\n",
      "Face losses:\n",
      "Mean total loss: 0.35008;\n",
      "Mean reconstruction loss: 0.035922;\n",
      "Mean kld_loss loss: 3.1416;\n",
      "Mean faces_reconstruction loss: 0.035922;\n",
      "Mean emotions_reconstruction loss: 0.0;\n",
      "\n",
      "Emotion losses:\n",
      "Mean total loss: 0.91046;\n",
      "Mean reconstruction loss: 0.083105;\n",
      "Mean kld_loss loss: 8.2735;\n",
      "Mean faces_reconstruction loss: 0.0;\n",
      "Mean emotions_reconstruction loss: 0.083105;\n",
      "\n"
     ]
    },
    {
     "name": "stderr",
     "output_type": "stream",
     "text": [
      "\r",
      " 64%|██████████████▏       | 129/200 [3:34:30<1:57:50, 99.58s/it]"
     ]
    },
    {
     "name": "stdout",
     "output_type": "stream",
     "text": [
      "Multimodal losses:\n",
      "Mean total loss: 1.9614;\n",
      "Mean reconstruction loss: 0.27111;\n",
      "Mean kld_loss loss: 16.903;\n",
      "Mean faces_reconstruction loss: 0.035635;\n",
      "Mean emotions_reconstruction loss: 0.23548;\n",
      "\n",
      "Face losses:\n",
      "Mean total loss: 0.35123;\n",
      "Mean reconstruction loss: 0.035924;\n",
      "Mean kld_loss loss: 3.1531;\n",
      "Mean faces_reconstruction loss: 0.035924;\n",
      "Mean emotions_reconstruction loss: 0.0;\n",
      "\n",
      "Emotion losses:\n",
      "Mean total loss: 0.91059;\n",
      "Mean reconstruction loss: 0.088361;\n",
      "Mean kld_loss loss: 8.2223;\n",
      "Mean faces_reconstruction loss: 0.0;\n",
      "Mean emotions_reconstruction loss: 0.088361;\n",
      "\n"
     ]
    },
    {
     "name": "stderr",
     "output_type": "stream",
     "text": [
      "\r",
      " 65%|██████████████▎       | 130/200 [3:36:11<1:56:31, 99.88s/it]"
     ]
    },
    {
     "name": "stdout",
     "output_type": "stream",
     "text": [
      "Multimodal losses:\n",
      "Mean total loss: 1.9519;\n",
      "Mean reconstruction loss: 0.26179;\n",
      "Mean kld_loss loss: 16.901;\n",
      "Mean faces_reconstruction loss: 0.035631;\n",
      "Mean emotions_reconstruction loss: 0.22615;\n",
      "\n",
      "Face losses:\n",
      "Mean total loss: 0.35329;\n",
      "Mean reconstruction loss: 0.035917;\n",
      "Mean kld_loss loss: 3.1737;\n",
      "Mean faces_reconstruction loss: 0.035917;\n",
      "Mean emotions_reconstruction loss: 0.0;\n",
      "\n",
      "Emotion losses:\n",
      "Mean total loss: 0.91195;\n",
      "Mean reconstruction loss: 0.087821;\n",
      "Mean kld_loss loss: 8.2413;\n",
      "Mean faces_reconstruction loss: 0.0;\n",
      "Mean emotions_reconstruction loss: 0.087821;\n",
      "\n"
     ]
    },
    {
     "name": "stderr",
     "output_type": "stream",
     "text": [
      "\r",
      " 66%|██████████████▍       | 131/200 [3:37:50<1:54:44, 99.78s/it]"
     ]
    },
    {
     "name": "stdout",
     "output_type": "stream",
     "text": [
      "Multimodal losses:\n",
      "Mean total loss: 1.9566;\n",
      "Mean reconstruction loss: 0.26539;\n",
      "Mean kld_loss loss: 16.912;\n",
      "Mean faces_reconstruction loss: 0.035629;\n",
      "Mean emotions_reconstruction loss: 0.22976;\n",
      "\n",
      "Face losses:\n",
      "Mean total loss: 0.35102;\n",
      "Mean reconstruction loss: 0.03591;\n",
      "Mean kld_loss loss: 3.1511;\n",
      "Mean faces_reconstruction loss: 0.03591;\n",
      "Mean emotions_reconstruction loss: 0.0;\n",
      "\n",
      "Emotion losses:\n",
      "Mean total loss: 0.90293;\n",
      "Mean reconstruction loss: 0.081007;\n",
      "Mean kld_loss loss: 8.2193;\n",
      "Mean faces_reconstruction loss: 0.0;\n",
      "Mean emotions_reconstruction loss: 0.081007;\n",
      "\n"
     ]
    },
    {
     "name": "stderr",
     "output_type": "stream",
     "text": [
      "\r",
      " 66%|██████████████▌       | 132/200 [3:39:30<1:53:01, 99.73s/it]"
     ]
    },
    {
     "name": "stdout",
     "output_type": "stream",
     "text": [
      "Multimodal losses:\n",
      "Mean total loss: 1.9709;\n",
      "Mean reconstruction loss: 0.27393;\n",
      "Mean kld_loss loss: 16.969;\n",
      "Mean faces_reconstruction loss: 0.035639;\n",
      "Mean emotions_reconstruction loss: 0.2383;\n",
      "\n",
      "Face losses:\n",
      "Mean total loss: 0.35103;\n",
      "Mean reconstruction loss: 0.035914;\n",
      "Mean kld_loss loss: 3.1511;\n",
      "Mean faces_reconstruction loss: 0.035914;\n",
      "Mean emotions_reconstruction loss: 0.0;\n",
      "\n",
      "Emotion losses:\n",
      "Mean total loss: 0.90839;\n",
      "Mean reconstruction loss: 0.081329;\n",
      "Mean kld_loss loss: 8.2706;\n",
      "Mean faces_reconstruction loss: 0.0;\n",
      "Mean emotions_reconstruction loss: 0.081329;\n",
      "\n"
     ]
    },
    {
     "name": "stderr",
     "output_type": "stream",
     "text": [
      "\r",
      " 66%|██████████████▋       | 133/200 [3:41:09<1:51:08, 99.53s/it]"
     ]
    },
    {
     "name": "stdout",
     "output_type": "stream",
     "text": [
      "Multimodal losses:\n",
      "Mean total loss: 1.9449;\n",
      "Mean reconstruction loss: 0.2589;\n",
      "Mean kld_loss loss: 16.86;\n",
      "Mean faces_reconstruction loss: 0.035643;\n",
      "Mean emotions_reconstruction loss: 0.22326;\n",
      "\n",
      "Face losses:\n",
      "Mean total loss: 0.35391;\n",
      "Mean reconstruction loss: 0.035916;\n",
      "Mean kld_loss loss: 3.18;\n",
      "Mean faces_reconstruction loss: 0.035916;\n",
      "Mean emotions_reconstruction loss: 0.0;\n",
      "\n",
      "Emotion losses:\n",
      "Mean total loss: 0.9052;\n",
      "Mean reconstruction loss: 0.081236;\n",
      "Mean kld_loss loss: 8.2396;\n",
      "Mean faces_reconstruction loss: 0.0;\n",
      "Mean emotions_reconstruction loss: 0.081236;\n",
      "\n"
     ]
    },
    {
     "name": "stderr",
     "output_type": "stream",
     "text": [
      "\r",
      " 67%|██████████████▋       | 134/200 [3:42:49<1:49:39, 99.69s/it]"
     ]
    },
    {
     "name": "stdout",
     "output_type": "stream",
     "text": [
      "Multimodal losses:\n",
      "Mean total loss: 1.9426;\n",
      "Mean reconstruction loss: 0.26004;\n",
      "Mean kld_loss loss: 16.826;\n",
      "Mean faces_reconstruction loss: 0.03563;\n",
      "Mean emotions_reconstruction loss: 0.22441;\n",
      "\n",
      "Face losses:\n",
      "Mean total loss: 0.35467;\n",
      "Mean reconstruction loss: 0.035915;\n",
      "Mean kld_loss loss: 3.1876;\n",
      "Mean faces_reconstruction loss: 0.035915;\n",
      "Mean emotions_reconstruction loss: 0.0;\n",
      "\n",
      "Emotion losses:\n",
      "Mean total loss: 0.8903;\n",
      "Mean reconstruction loss: 0.074197;\n",
      "Mean kld_loss loss: 8.161;\n",
      "Mean faces_reconstruction loss: 0.0;\n",
      "Mean emotions_reconstruction loss: 0.074197;\n",
      "\n"
     ]
    },
    {
     "name": "stderr",
     "output_type": "stream",
     "text": [
      "\r",
      " 68%|██████████████▊       | 135/200 [3:44:27<1:47:37, 99.34s/it]"
     ]
    },
    {
     "name": "stdout",
     "output_type": "stream",
     "text": [
      "Multimodal losses:\n",
      "Mean total loss: 1.9338;\n",
      "Mean reconstruction loss: 0.24527;\n",
      "Mean kld_loss loss: 16.885;\n",
      "Mean faces_reconstruction loss: 0.035624;\n",
      "Mean emotions_reconstruction loss: 0.20965;\n",
      "\n",
      "Face losses:\n",
      "Mean total loss: 0.35492;\n",
      "Mean reconstruction loss: 0.035914;\n",
      "Mean kld_loss loss: 3.1901;\n",
      "Mean faces_reconstruction loss: 0.035914;\n",
      "Mean emotions_reconstruction loss: 0.0;\n",
      "\n",
      "Emotion losses:\n",
      "Mean total loss: 0.90559;\n",
      "Mean reconstruction loss: 0.085313;\n",
      "Mean kld_loss loss: 8.2028;\n",
      "Mean faces_reconstruction loss: 0.0;\n",
      "Mean emotions_reconstruction loss: 0.085313;\n",
      "\n"
     ]
    },
    {
     "name": "stderr",
     "output_type": "stream",
     "text": [
      "\r",
      " 68%|██████████████▉       | 136/200 [3:46:07<1:46:08, 99.50s/it]"
     ]
    },
    {
     "name": "stdout",
     "output_type": "stream",
     "text": [
      "Multimodal losses:\n",
      "Mean total loss: 1.9344;\n",
      "Mean reconstruction loss: 0.25157;\n",
      "Mean kld_loss loss: 16.828;\n",
      "Mean faces_reconstruction loss: 0.035633;\n",
      "Mean emotions_reconstruction loss: 0.21594;\n",
      "\n",
      "Face losses:\n",
      "Mean total loss: 0.35447;\n",
      "Mean reconstruction loss: 0.035924;\n",
      "Mean kld_loss loss: 3.1854;\n",
      "Mean faces_reconstruction loss: 0.035924;\n",
      "Mean emotions_reconstruction loss: 0.0;\n",
      "\n",
      "Emotion losses:\n",
      "Mean total loss: 0.89859;\n",
      "Mean reconstruction loss: 0.086128;\n",
      "Mean kld_loss loss: 8.1246;\n",
      "Mean faces_reconstruction loss: 0.0;\n",
      "Mean emotions_reconstruction loss: 0.086128;\n",
      "\n"
     ]
    },
    {
     "name": "stderr",
     "output_type": "stream",
     "text": [
      "\r",
      " 68%|███████████████       | 137/200 [3:47:47<1:44:28, 99.50s/it]"
     ]
    },
    {
     "name": "stdout",
     "output_type": "stream",
     "text": [
      "Multimodal losses:\n",
      "Mean total loss: 1.9344;\n",
      "Mean reconstruction loss: 0.25319;\n",
      "Mean kld_loss loss: 16.812;\n",
      "Mean faces_reconstruction loss: 0.035634;\n",
      "Mean emotions_reconstruction loss: 0.21756;\n",
      "\n",
      "Face losses:\n",
      "Mean total loss: 0.35574;\n",
      "Mean reconstruction loss: 0.035916;\n",
      "Mean kld_loss loss: 3.1982;\n",
      "Mean faces_reconstruction loss: 0.035916;\n",
      "Mean emotions_reconstruction loss: 0.0;\n",
      "\n",
      "Emotion losses:\n",
      "Mean total loss: 0.89608;\n",
      "Mean reconstruction loss: 0.082868;\n",
      "Mean kld_loss loss: 8.1321;\n",
      "Mean faces_reconstruction loss: 0.0;\n",
      "Mean emotions_reconstruction loss: 0.082868;\n",
      "\n"
     ]
    },
    {
     "name": "stderr",
     "output_type": "stream",
     "text": [
      "\r",
      " 69%|███████████████▏      | 138/200 [3:49:26<1:42:51, 99.54s/it]"
     ]
    },
    {
     "name": "stdout",
     "output_type": "stream",
     "text": [
      "Multimodal losses:\n",
      "Mean total loss: 1.9241;\n",
      "Mean reconstruction loss: 0.24802;\n",
      "Mean kld_loss loss: 16.76;\n",
      "Mean faces_reconstruction loss: 0.03563;\n",
      "Mean emotions_reconstruction loss: 0.21239;\n",
      "\n",
      "Face losses:\n",
      "Mean total loss: 0.35666;\n",
      "Mean reconstruction loss: 0.03592;\n",
      "Mean kld_loss loss: 3.2074;\n",
      "Mean faces_reconstruction loss: 0.03592;\n",
      "Mean emotions_reconstruction loss: 0.0;\n",
      "\n",
      "Emotion losses:\n",
      "Mean total loss: 0.88654;\n",
      "Mean reconstruction loss: 0.076561;\n",
      "Mean kld_loss loss: 8.0998;\n",
      "Mean faces_reconstruction loss: 0.0;\n",
      "Mean emotions_reconstruction loss: 0.076561;\n",
      "\n"
     ]
    },
    {
     "name": "stderr",
     "output_type": "stream",
     "text": [
      "\r",
      " 70%|███████████████▎      | 139/200 [3:51:06<1:41:15, 99.59s/it]"
     ]
    },
    {
     "name": "stdout",
     "output_type": "stream",
     "text": [
      "Multimodal losses:\n",
      "Mean total loss: 1.9262;\n",
      "Mean reconstruction loss: 0.24758;\n",
      "Mean kld_loss loss: 16.786;\n",
      "Mean faces_reconstruction loss: 0.035618;\n",
      "Mean emotions_reconstruction loss: 0.21196;\n",
      "\n",
      "Face losses:\n",
      "Mean total loss: 0.35707;\n",
      "Mean reconstruction loss: 0.035911;\n",
      "Mean kld_loss loss: 3.2115;\n",
      "Mean faces_reconstruction loss: 0.035911;\n",
      "Mean emotions_reconstruction loss: 0.0;\n",
      "\n",
      "Emotion losses:\n",
      "Mean total loss: 0.88494;\n",
      "Mean reconstruction loss: 0.075008;\n",
      "Mean kld_loss loss: 8.0993;\n",
      "Mean faces_reconstruction loss: 0.0;\n",
      "Mean emotions_reconstruction loss: 0.075008;\n",
      "\n"
     ]
    },
    {
     "name": "stderr",
     "output_type": "stream",
     "text": [
      "\r",
      " 70%|███████████████▍      | 140/200 [3:52:46<1:39:38, 99.65s/it]"
     ]
    },
    {
     "name": "stdout",
     "output_type": "stream",
     "text": [
      "Multimodal losses:\n",
      "Mean total loss: 1.9221;\n",
      "Mean reconstruction loss: 0.24356;\n",
      "Mean kld_loss loss: 16.786;\n",
      "Mean faces_reconstruction loss: 0.035644;\n",
      "Mean emotions_reconstruction loss: 0.20792;\n",
      "\n",
      "Face losses:\n",
      "Mean total loss: 0.35707;\n",
      "Mean reconstruction loss: 0.035924;\n",
      "Mean kld_loss loss: 3.2114;\n",
      "Mean faces_reconstruction loss: 0.035924;\n",
      "Mean emotions_reconstruction loss: 0.0;\n",
      "\n",
      "Emotion losses:\n",
      "Mean total loss: 0.88893;\n",
      "Mean reconstruction loss: 0.081702;\n",
      "Mean kld_loss loss: 8.0722;\n",
      "Mean faces_reconstruction loss: 0.0;\n",
      "Mean emotions_reconstruction loss: 0.081702;\n",
      "\n"
     ]
    },
    {
     "name": "stderr",
     "output_type": "stream",
     "text": [
      "\r",
      " 70%|███████████████▌      | 141/200 [3:54:25<1:37:49, 99.48s/it]"
     ]
    },
    {
     "name": "stdout",
     "output_type": "stream",
     "text": [
      "Multimodal losses:\n",
      "Mean total loss: 1.921;\n",
      "Mean reconstruction loss: 0.24554;\n",
      "Mean kld_loss loss: 16.754;\n",
      "Mean faces_reconstruction loss: 0.035624;\n",
      "Mean emotions_reconstruction loss: 0.20991;\n",
      "\n",
      "Face losses:\n",
      "Mean total loss: 0.36014;\n",
      "Mean reconstruction loss: 0.03591;\n",
      "Mean kld_loss loss: 3.2423;\n",
      "Mean faces_reconstruction loss: 0.03591;\n",
      "Mean emotions_reconstruction loss: 0.0;\n",
      "\n",
      "Emotion losses:\n",
      "Mean total loss: 0.86943;\n",
      "Mean reconstruction loss: 0.072082;\n",
      "Mean kld_loss loss: 7.9734;\n",
      "Mean faces_reconstruction loss: 0.0;\n",
      "Mean emotions_reconstruction loss: 0.072082;\n",
      "\n"
     ]
    },
    {
     "name": "stderr",
     "output_type": "stream",
     "text": [
      "\r",
      " 71%|███████████████▌      | 142/200 [3:56:04<1:35:54, 99.22s/it]"
     ]
    },
    {
     "name": "stdout",
     "output_type": "stream",
     "text": [
      "Multimodal losses:\n",
      "Mean total loss: 1.9226;\n",
      "Mean reconstruction loss: 0.25239;\n",
      "Mean kld_loss loss: 16.702;\n",
      "Mean faces_reconstruction loss: 0.035649;\n",
      "Mean emotions_reconstruction loss: 0.21674;\n",
      "\n",
      "Face losses:\n",
      "Mean total loss: 0.35883;\n",
      "Mean reconstruction loss: 0.035932;\n",
      "Mean kld_loss loss: 3.229;\n",
      "Mean faces_reconstruction loss: 0.035932;\n",
      "Mean emotions_reconstruction loss: 0.0;\n",
      "\n",
      "Emotion losses:\n",
      "Mean total loss: 0.86857;\n",
      "Mean reconstruction loss: 0.076271;\n",
      "Mean kld_loss loss: 7.923;\n",
      "Mean faces_reconstruction loss: 0.0;\n",
      "Mean emotions_reconstruction loss: 0.076271;\n",
      "\n"
     ]
    },
    {
     "name": "stderr",
     "output_type": "stream",
     "text": [
      "\r",
      " 72%|███████████████▋      | 143/200 [3:57:43<1:34:14, 99.21s/it]"
     ]
    },
    {
     "name": "stdout",
     "output_type": "stream",
     "text": [
      "Multimodal losses:\n",
      "Mean total loss: 1.9117;\n",
      "Mean reconstruction loss: 0.24091;\n",
      "Mean kld_loss loss: 16.708;\n",
      "Mean faces_reconstruction loss: 0.035648;\n",
      "Mean emotions_reconstruction loss: 0.20527;\n",
      "\n",
      "Face losses:\n",
      "Mean total loss: 0.36109;\n",
      "Mean reconstruction loss: 0.035926;\n",
      "Mean kld_loss loss: 3.2517;\n",
      "Mean faces_reconstruction loss: 0.035926;\n",
      "Mean emotions_reconstruction loss: 0.0;\n",
      "\n",
      "Emotion losses:\n",
      "Mean total loss: 0.87212;\n",
      "Mean reconstruction loss: 0.077607;\n",
      "Mean kld_loss loss: 7.9451;\n",
      "Mean faces_reconstruction loss: 0.0;\n",
      "Mean emotions_reconstruction loss: 0.077607;\n",
      "\n"
     ]
    },
    {
     "name": "stderr",
     "output_type": "stream",
     "text": [
      "\r",
      " 72%|███████████████▊      | 144/200 [3:59:22<1:32:38, 99.26s/it]"
     ]
    },
    {
     "name": "stdout",
     "output_type": "stream",
     "text": [
      "Multimodal losses:\n",
      "Mean total loss: 1.9156;\n",
      "Mean reconstruction loss: 0.24567;\n",
      "Mean kld_loss loss: 16.699;\n",
      "Mean faces_reconstruction loss: 0.035636;\n",
      "Mean emotions_reconstruction loss: 0.21004;\n",
      "\n",
      "Face losses:\n",
      "Mean total loss: 0.3625;\n",
      "Mean reconstruction loss: 0.035924;\n",
      "Mean kld_loss loss: 3.2658;\n",
      "Mean faces_reconstruction loss: 0.035924;\n",
      "Mean emotions_reconstruction loss: 0.0;\n",
      "\n",
      "Emotion losses:\n",
      "Mean total loss: 0.87142;\n",
      "Mean reconstruction loss: 0.077807;\n",
      "Mean kld_loss loss: 7.9362;\n",
      "Mean faces_reconstruction loss: 0.0;\n",
      "Mean emotions_reconstruction loss: 0.077807;\n",
      "\n"
     ]
    },
    {
     "name": "stderr",
     "output_type": "stream",
     "text": [
      "\r",
      " 72%|███████████████▉      | 145/200 [4:01:02<1:31:01, 99.30s/it]"
     ]
    },
    {
     "name": "stdout",
     "output_type": "stream",
     "text": [
      "Multimodal losses:\n",
      "Mean total loss: 1.901;\n",
      "Mean reconstruction loss: 0.2301;\n",
      "Mean kld_loss loss: 16.709;\n",
      "Mean faces_reconstruction loss: 0.035624;\n",
      "Mean emotions_reconstruction loss: 0.19447;\n",
      "\n",
      "Face losses:\n",
      "Mean total loss: 0.36204;\n",
      "Mean reconstruction loss: 0.03591;\n",
      "Mean kld_loss loss: 3.2613;\n",
      "Mean faces_reconstruction loss: 0.03591;\n",
      "Mean emotions_reconstruction loss: 0.0;\n",
      "\n",
      "Emotion losses:\n",
      "Mean total loss: 0.87707;\n",
      "Mean reconstruction loss: 0.083171;\n",
      "Mean kld_loss loss: 7.939;\n",
      "Mean faces_reconstruction loss: 0.0;\n",
      "Mean emotions_reconstruction loss: 0.083171;\n",
      "\n"
     ]
    },
    {
     "name": "stderr",
     "output_type": "stream",
     "text": [
      "\r",
      " 73%|████████████████      | 146/200 [4:02:41<1:29:19, 99.26s/it]"
     ]
    },
    {
     "name": "stdout",
     "output_type": "stream",
     "text": [
      "Multimodal losses:\n",
      "Mean total loss: 1.9117;\n",
      "Mean reconstruction loss: 0.23886;\n",
      "Mean kld_loss loss: 16.729;\n",
      "Mean faces_reconstruction loss: 0.035618;\n",
      "Mean emotions_reconstruction loss: 0.20324;\n",
      "\n",
      "Face losses:\n",
      "Mean total loss: 0.36313;\n",
      "Mean reconstruction loss: 0.03591;\n",
      "Mean kld_loss loss: 3.2722;\n",
      "Mean faces_reconstruction loss: 0.03591;\n",
      "Mean emotions_reconstruction loss: 0.0;\n",
      "\n",
      "Emotion losses:\n",
      "Mean total loss: 0.86888;\n",
      "Mean reconstruction loss: 0.073605;\n",
      "Mean kld_loss loss: 7.9528;\n",
      "Mean faces_reconstruction loss: 0.0;\n",
      "Mean emotions_reconstruction loss: 0.073605;\n",
      "\n"
     ]
    },
    {
     "name": "stderr",
     "output_type": "stream",
     "text": [
      "\r",
      " 74%|████████████████▏     | 147/200 [4:04:21<1:27:48, 99.41s/it]"
     ]
    },
    {
     "name": "stdout",
     "output_type": "stream",
     "text": [
      "Multimodal losses:\n",
      "Mean total loss: 1.89;\n",
      "Mean reconstruction loss: 0.23173;\n",
      "Mean kld_loss loss: 16.583;\n",
      "Mean faces_reconstruction loss: 0.035629;\n",
      "Mean emotions_reconstruction loss: 0.1961;\n",
      "\n",
      "Face losses:\n",
      "Mean total loss: 0.36469;\n",
      "Mean reconstruction loss: 0.035924;\n",
      "Mean kld_loss loss: 3.2876;\n",
      "Mean faces_reconstruction loss: 0.035924;\n",
      "Mean emotions_reconstruction loss: 0.0;\n",
      "\n",
      "Emotion losses:\n",
      "Mean total loss: 0.84693;\n",
      "Mean reconstruction loss: 0.068537;\n",
      "Mean kld_loss loss: 7.784;\n",
      "Mean faces_reconstruction loss: 0.0;\n",
      "Mean emotions_reconstruction loss: 0.068537;\n",
      "\n"
     ]
    },
    {
     "name": "stderr",
     "output_type": "stream",
     "text": [
      "\r",
      " 74%|████████████████▎     | 148/200 [4:06:01<1:26:28, 99.78s/it]"
     ]
    },
    {
     "name": "stdout",
     "output_type": "stream",
     "text": [
      "Multimodal losses:\n",
      "Mean total loss: 1.9032;\n",
      "Mean reconstruction loss: 0.23671;\n",
      "Mean kld_loss loss: 16.665;\n",
      "Mean faces_reconstruction loss: 0.035612;\n",
      "Mean emotions_reconstruction loss: 0.2011;\n",
      "\n",
      "Face losses:\n",
      "Mean total loss: 0.36505;\n",
      "Mean reconstruction loss: 0.035907;\n",
      "Mean kld_loss loss: 3.2914;\n",
      "Mean faces_reconstruction loss: 0.035907;\n",
      "Mean emotions_reconstruction loss: 0.0;\n",
      "\n",
      "Emotion losses:\n",
      "Mean total loss: 0.85293;\n",
      "Mean reconstruction loss: 0.07032;\n",
      "Mean kld_loss loss: 7.8261;\n",
      "Mean faces_reconstruction loss: 0.0;\n",
      "Mean emotions_reconstruction loss: 0.07032;\n",
      "\n"
     ]
    },
    {
     "name": "stderr",
     "output_type": "stream",
     "text": [
      "\r",
      " 74%|████████████████▍     | 149/200 [4:07:41<1:24:50, 99.82s/it]"
     ]
    },
    {
     "name": "stdout",
     "output_type": "stream",
     "text": [
      "Multimodal losses:\n",
      "Mean total loss: 1.9021;\n",
      "Mean reconstruction loss: 0.23486;\n",
      "Mean kld_loss loss: 16.672;\n",
      "Mean faces_reconstruction loss: 0.035652;\n",
      "Mean emotions_reconstruction loss: 0.19921;\n",
      "\n",
      "Face losses:\n",
      "Mean total loss: 0.36618;\n",
      "Mean reconstruction loss: 0.035925;\n",
      "Mean kld_loss loss: 3.3026;\n",
      "Mean faces_reconstruction loss: 0.035925;\n",
      "Mean emotions_reconstruction loss: 0.0;\n",
      "\n",
      "Emotion losses:\n",
      "Mean total loss: 0.84488;\n",
      "Mean reconstruction loss: 0.061395;\n",
      "Mean kld_loss loss: 7.8348;\n",
      "Mean faces_reconstruction loss: 0.0;\n",
      "Mean emotions_reconstruction loss: 0.061395;\n",
      "\n"
     ]
    },
    {
     "name": "stderr",
     "output_type": "stream",
     "text": [
      "\r",
      " 75%|████████████████▌     | 150/200 [4:09:21<1:23:04, 99.69s/it]"
     ]
    },
    {
     "name": "stdout",
     "output_type": "stream",
     "text": [
      "Multimodal losses:\n",
      "Mean total loss: 1.8911;\n",
      "Mean reconstruction loss: 0.22809;\n",
      "Mean kld_loss loss: 16.63;\n",
      "Mean faces_reconstruction loss: 0.03562;\n",
      "Mean emotions_reconstruction loss: 0.19247;\n",
      "\n",
      "Face losses:\n",
      "Mean total loss: 0.36604;\n",
      "Mean reconstruction loss: 0.035918;\n",
      "Mean kld_loss loss: 3.3012;\n",
      "Mean faces_reconstruction loss: 0.035918;\n",
      "Mean emotions_reconstruction loss: 0.0;\n",
      "\n",
      "Emotion losses:\n",
      "Mean total loss: 0.84696;\n",
      "Mean reconstruction loss: 0.067005;\n",
      "Mean kld_loss loss: 7.7995;\n",
      "Mean faces_reconstruction loss: 0.0;\n",
      "Mean emotions_reconstruction loss: 0.067005;\n",
      "\n"
     ]
    },
    {
     "name": "stderr",
     "output_type": "stream",
     "text": [
      "\r",
      " 76%|████████████████▌     | 151/200 [4:10:59<1:21:13, 99.46s/it]"
     ]
    },
    {
     "name": "stdout",
     "output_type": "stream",
     "text": [
      "Multimodal losses:\n",
      "Mean total loss: 1.8779;\n",
      "Mean reconstruction loss: 0.22294;\n",
      "Mean kld_loss loss: 16.55;\n",
      "Mean faces_reconstruction loss: 0.035632;\n",
      "Mean emotions_reconstruction loss: 0.18731;\n",
      "\n",
      "Face losses:\n",
      "Mean total loss: 0.36759;\n",
      "Mean reconstruction loss: 0.035916;\n",
      "Mean kld_loss loss: 3.3168;\n",
      "Mean faces_reconstruction loss: 0.035916;\n",
      "Mean emotions_reconstruction loss: 0.0;\n",
      "\n",
      "Emotion losses:\n",
      "Mean total loss: 0.83225;\n",
      "Mean reconstruction loss: 0.061624;\n",
      "Mean kld_loss loss: 7.7063;\n",
      "Mean faces_reconstruction loss: 0.0;\n",
      "Mean emotions_reconstruction loss: 0.061624;\n",
      "\n"
     ]
    },
    {
     "name": "stderr",
     "output_type": "stream",
     "text": [
      "\r",
      " 76%|████████████████▋     | 152/200 [4:12:40<1:19:52, 99.85s/it]"
     ]
    },
    {
     "name": "stdout",
     "output_type": "stream",
     "text": [
      "Multimodal losses:\n",
      "Mean total loss: 1.882;\n",
      "Mean reconstruction loss: 0.23066;\n",
      "Mean kld_loss loss: 16.513;\n",
      "Mean faces_reconstruction loss: 0.035609;\n",
      "Mean emotions_reconstruction loss: 0.19505;\n",
      "\n",
      "Face losses:\n",
      "Mean total loss: 0.37022;\n",
      "Mean reconstruction loss: 0.035906;\n",
      "Mean kld_loss loss: 3.3431;\n",
      "Mean faces_reconstruction loss: 0.035906;\n",
      "Mean emotions_reconstruction loss: 0.0;\n",
      "\n",
      "Emotion losses:\n",
      "Mean total loss: 0.8298;\n",
      "Mean reconstruction loss: 0.059365;\n",
      "Mean kld_loss loss: 7.7043;\n",
      "Mean faces_reconstruction loss: 0.0;\n",
      "Mean emotions_reconstruction loss: 0.059365;\n",
      "\n"
     ]
    },
    {
     "name": "stderr",
     "output_type": "stream",
     "text": [
      "\r",
      " 76%|████████████████▊     | 153/200 [4:14:19<1:17:58, 99.55s/it]"
     ]
    },
    {
     "name": "stdout",
     "output_type": "stream",
     "text": [
      "Multimodal losses:\n",
      "Mean total loss: 1.862;\n",
      "Mean reconstruction loss: 0.20785;\n",
      "Mean kld_loss loss: 16.542;\n",
      "Mean faces_reconstruction loss: 0.035632;\n",
      "Mean emotions_reconstruction loss: 0.17222;\n",
      "\n",
      "Face losses:\n",
      "Mean total loss: 0.37109;\n",
      "Mean reconstruction loss: 0.03591;\n",
      "Mean kld_loss loss: 3.3518;\n",
      "Mean faces_reconstruction loss: 0.03591;\n",
      "Mean emotions_reconstruction loss: 0.0;\n",
      "\n",
      "Emotion losses:\n",
      "Mean total loss: 0.82919;\n",
      "Mean reconstruction loss: 0.063954;\n",
      "Mean kld_loss loss: 7.6524;\n",
      "Mean faces_reconstruction loss: 0.0;\n",
      "Mean emotions_reconstruction loss: 0.063954;\n",
      "\n"
     ]
    },
    {
     "name": "stderr",
     "output_type": "stream",
     "text": [
      "\r",
      " 77%|████████████████▉     | 154/200 [4:15:59<1:16:21, 99.59s/it]"
     ]
    },
    {
     "name": "stdout",
     "output_type": "stream",
     "text": [
      "Multimodal losses:\n",
      "Mean total loss: 1.8573;\n",
      "Mean reconstruction loss: 0.21246;\n",
      "Mean kld_loss loss: 16.449;\n",
      "Mean faces_reconstruction loss: 0.035629;\n",
      "Mean emotions_reconstruction loss: 0.17683;\n",
      "\n",
      "Face losses:\n",
      "Mean total loss: 0.37175;\n",
      "Mean reconstruction loss: 0.035915;\n",
      "Mean kld_loss loss: 3.3583;\n",
      "Mean faces_reconstruction loss: 0.035915;\n",
      "Mean emotions_reconstruction loss: 0.0;\n",
      "\n",
      "Emotion losses:\n",
      "Mean total loss: 0.80898;\n",
      "Mean reconstruction loss: 0.054565;\n",
      "Mean kld_loss loss: 7.5442;\n",
      "Mean faces_reconstruction loss: 0.0;\n",
      "Mean emotions_reconstruction loss: 0.054565;\n",
      "\n"
     ]
    },
    {
     "name": "stderr",
     "output_type": "stream",
     "text": [
      "\r",
      " 78%|█████████████████     | 155/200 [4:17:39<1:14:50, 99.79s/it]"
     ]
    },
    {
     "name": "stdout",
     "output_type": "stream",
     "text": [
      "Multimodal losses:\n",
      "Mean total loss: 1.861;\n",
      "Mean reconstruction loss: 0.20944;\n",
      "Mean kld_loss loss: 16.515;\n",
      "Mean faces_reconstruction loss: 0.035617;\n",
      "Mean emotions_reconstruction loss: 0.17383;\n",
      "\n",
      "Face losses:\n",
      "Mean total loss: 0.37473;\n",
      "Mean reconstruction loss: 0.035906;\n",
      "Mean kld_loss loss: 3.3883;\n",
      "Mean faces_reconstruction loss: 0.035906;\n",
      "Mean emotions_reconstruction loss: 0.0;\n",
      "\n",
      "Emotion losses:\n",
      "Mean total loss: 0.81398;\n",
      "Mean reconstruction loss: 0.057012;\n",
      "Mean kld_loss loss: 7.5697;\n",
      "Mean faces_reconstruction loss: 0.0;\n",
      "Mean emotions_reconstruction loss: 0.057012;\n",
      "\n"
     ]
    },
    {
     "name": "stderr",
     "output_type": "stream",
     "text": [
      "\r",
      " 78%|█████████████████▏    | 156/200 [4:19:19<1:13:07, 99.73s/it]"
     ]
    },
    {
     "name": "stdout",
     "output_type": "stream",
     "text": [
      "Multimodal losses:\n",
      "Mean total loss: 1.85;\n",
      "Mean reconstruction loss: 0.20542;\n",
      "Mean kld_loss loss: 16.446;\n",
      "Mean faces_reconstruction loss: 0.035633;\n",
      "Mean emotions_reconstruction loss: 0.16978;\n",
      "\n",
      "Face losses:\n",
      "Mean total loss: 0.37615;\n",
      "Mean reconstruction loss: 0.03592;\n",
      "Mean kld_loss loss: 3.4023;\n",
      "Mean faces_reconstruction loss: 0.03592;\n",
      "Mean emotions_reconstruction loss: 0.0;\n",
      "\n",
      "Emotion losses:\n",
      "Mean total loss: 0.79921;\n",
      "Mean reconstruction loss: 0.052596;\n",
      "Mean kld_loss loss: 7.4661;\n",
      "Mean faces_reconstruction loss: 0.0;\n",
      "Mean emotions_reconstruction loss: 0.052596;\n",
      "\n"
     ]
    },
    {
     "name": "stderr",
     "output_type": "stream",
     "text": [
      "\r",
      " 78%|█████████████████▎    | 157/200 [4:20:58<1:11:30, 99.79s/it]"
     ]
    },
    {
     "name": "stdout",
     "output_type": "stream",
     "text": [
      "Multimodal losses:\n",
      "Mean total loss: 1.8471;\n",
      "Mean reconstruction loss: 0.20607;\n",
      "Mean kld_loss loss: 16.411;\n",
      "Mean faces_reconstruction loss: 0.035621;\n",
      "Mean emotions_reconstruction loss: 0.17045;\n",
      "\n",
      "Face losses:\n",
      "Mean total loss: 0.37735;\n",
      "Mean reconstruction loss: 0.03591;\n",
      "Mean kld_loss loss: 3.4144;\n",
      "Mean faces_reconstruction loss: 0.03591;\n",
      "Mean emotions_reconstruction loss: 0.0;\n",
      "\n",
      "Emotion losses:\n",
      "Mean total loss: 0.7975;\n",
      "Mean reconstruction loss: 0.051728;\n",
      "Mean kld_loss loss: 7.4577;\n",
      "Mean faces_reconstruction loss: 0.0;\n",
      "Mean emotions_reconstruction loss: 0.051728;\n",
      "\n"
     ]
    },
    {
     "name": "stderr",
     "output_type": "stream",
     "text": [
      "\r",
      " 79%|████████████████▌    | 158/200 [4:22:39<1:10:01, 100.04s/it]"
     ]
    },
    {
     "name": "stdout",
     "output_type": "stream",
     "text": [
      "Multimodal losses:\n",
      "Mean total loss: 1.8356;\n",
      "Mean reconstruction loss: 0.19686;\n",
      "Mean kld_loss loss: 16.388;\n",
      "Mean faces_reconstruction loss: 0.035615;\n",
      "Mean emotions_reconstruction loss: 0.16125;\n",
      "\n",
      "Face losses:\n",
      "Mean total loss: 0.37926;\n",
      "Mean reconstruction loss: 0.035914;\n",
      "Mean kld_loss loss: 3.4335;\n",
      "Mean faces_reconstruction loss: 0.035914;\n",
      "Mean emotions_reconstruction loss: 0.0;\n",
      "\n",
      "Emotion losses:\n",
      "Mean total loss: 0.78888;\n",
      "Mean reconstruction loss: 0.050959;\n",
      "Mean kld_loss loss: 7.3793;\n",
      "Mean faces_reconstruction loss: 0.0;\n",
      "Mean emotions_reconstruction loss: 0.050959;\n",
      "\n"
     ]
    },
    {
     "name": "stderr",
     "output_type": "stream",
     "text": [
      "\r",
      " 80%|█████████████████▍    | 159/200 [4:24:18<1:08:11, 99.80s/it]"
     ]
    },
    {
     "name": "stdout",
     "output_type": "stream",
     "text": [
      "Multimodal losses:\n",
      "Mean total loss: 1.8235;\n",
      "Mean reconstruction loss: 0.19157;\n",
      "Mean kld_loss loss: 16.319;\n",
      "Mean faces_reconstruction loss: 0.035628;\n",
      "Mean emotions_reconstruction loss: 0.15594;\n",
      "\n",
      "Face losses:\n",
      "Mean total loss: 0.38195;\n",
      "Mean reconstruction loss: 0.035908;\n",
      "Mean kld_loss loss: 3.4604;\n",
      "Mean faces_reconstruction loss: 0.035908;\n",
      "Mean emotions_reconstruction loss: 0.0;\n",
      "\n",
      "Emotion losses:\n",
      "Mean total loss: 0.7749;\n",
      "Mean reconstruction loss: 0.047462;\n",
      "Mean kld_loss loss: 7.2744;\n",
      "Mean faces_reconstruction loss: 0.0;\n",
      "Mean emotions_reconstruction loss: 0.047462;\n",
      "\n"
     ]
    },
    {
     "name": "stderr",
     "output_type": "stream",
     "text": [
      "\r",
      " 80%|█████████████████▌    | 160/200 [4:25:59<1:06:38, 99.95s/it]"
     ]
    },
    {
     "name": "stdout",
     "output_type": "stream",
     "text": [
      "Multimodal losses:\n",
      "Mean total loss: 1.8262;\n",
      "Mean reconstruction loss: 0.19529;\n",
      "Mean kld_loss loss: 16.309;\n",
      "Mean faces_reconstruction loss: 0.035634;\n",
      "Mean emotions_reconstruction loss: 0.15965;\n",
      "\n",
      "Face losses:\n",
      "Mean total loss: 0.38031;\n",
      "Mean reconstruction loss: 0.035909;\n",
      "Mean kld_loss loss: 3.444;\n",
      "Mean faces_reconstruction loss: 0.035909;\n",
      "Mean emotions_reconstruction loss: 0.0;\n",
      "\n",
      "Emotion losses:\n",
      "Mean total loss: 0.77292;\n",
      "Mean reconstruction loss: 0.044388;\n",
      "Mean kld_loss loss: 7.2853;\n",
      "Mean faces_reconstruction loss: 0.0;\n",
      "Mean emotions_reconstruction loss: 0.044388;\n",
      "\n"
     ]
    },
    {
     "name": "stderr",
     "output_type": "stream",
     "text": [
      "\r",
      " 80%|█████████████████▋    | 161/200 [4:27:38<1:04:51, 99.78s/it]"
     ]
    },
    {
     "name": "stdout",
     "output_type": "stream",
     "text": [
      "Multimodal losses:\n",
      "Mean total loss: 1.824;\n",
      "Mean reconstruction loss: 0.19245;\n",
      "Mean kld_loss loss: 16.316;\n",
      "Mean faces_reconstruction loss: 0.035609;\n",
      "Mean emotions_reconstruction loss: 0.15684;\n",
      "\n",
      "Face losses:\n",
      "Mean total loss: 0.38509;\n",
      "Mean reconstruction loss: 0.035907;\n",
      "Mean kld_loss loss: 3.4918;\n",
      "Mean faces_reconstruction loss: 0.035907;\n",
      "Mean emotions_reconstruction loss: 0.0;\n",
      "\n",
      "Emotion losses:\n",
      "Mean total loss: 0.7697;\n",
      "Mean reconstruction loss: 0.046458;\n",
      "Mean kld_loss loss: 7.2324;\n",
      "Mean faces_reconstruction loss: 0.0;\n",
      "Mean emotions_reconstruction loss: 0.046458;\n",
      "\n"
     ]
    },
    {
     "name": "stderr",
     "output_type": "stream",
     "text": [
      "\r",
      " 81%|█████████████████▊    | 162/200 [4:29:17<1:03:06, 99.63s/it]"
     ]
    },
    {
     "name": "stdout",
     "output_type": "stream",
     "text": [
      "Multimodal losses:\n",
      "Mean total loss: 1.8119;\n",
      "Mean reconstruction loss: 0.1854;\n",
      "Mean kld_loss loss: 16.265;\n",
      "Mean faces_reconstruction loss: 0.035613;\n",
      "Mean emotions_reconstruction loss: 0.14978;\n",
      "\n",
      "Face losses:\n",
      "Mean total loss: 0.3849;\n",
      "Mean reconstruction loss: 0.035906;\n",
      "Mean kld_loss loss: 3.4899;\n",
      "Mean faces_reconstruction loss: 0.035906;\n",
      "Mean emotions_reconstruction loss: 0.0;\n",
      "\n",
      "Emotion losses:\n",
      "Mean total loss: 0.76173;\n",
      "Mean reconstruction loss: 0.043849;\n",
      "Mean kld_loss loss: 7.1788;\n",
      "Mean faces_reconstruction loss: 0.0;\n",
      "Mean emotions_reconstruction loss: 0.043849;\n",
      "\n"
     ]
    },
    {
     "name": "stderr",
     "output_type": "stream",
     "text": [
      "\r",
      " 82%|█████████████████▉    | 163/200 [4:30:57<1:01:27, 99.66s/it]"
     ]
    },
    {
     "name": "stdout",
     "output_type": "stream",
     "text": [
      "Multimodal losses:\n",
      "Mean total loss: 1.8066;\n",
      "Mean reconstruction loss: 0.18118;\n",
      "Mean kld_loss loss: 16.254;\n",
      "Mean faces_reconstruction loss: 0.035623;\n",
      "Mean emotions_reconstruction loss: 0.14556;\n",
      "\n",
      "Face losses:\n",
      "Mean total loss: 0.38652;\n",
      "Mean reconstruction loss: 0.035913;\n",
      "Mean kld_loss loss: 3.5061;\n",
      "Mean faces_reconstruction loss: 0.035913;\n",
      "Mean emotions_reconstruction loss: 0.0;\n",
      "\n",
      "Emotion losses:\n",
      "Mean total loss: 0.75817;\n",
      "Mean reconstruction loss: 0.04375;\n",
      "Mean kld_loss loss: 7.1442;\n",
      "Mean faces_reconstruction loss: 0.0;\n",
      "Mean emotions_reconstruction loss: 0.04375;\n",
      "\n"
     ]
    },
    {
     "name": "stderr",
     "output_type": "stream",
     "text": [
      "\r",
      " 82%|███████████████████▋    | 164/200 [4:32:37<59:46, 99.63s/it]"
     ]
    },
    {
     "name": "stdout",
     "output_type": "stream",
     "text": [
      "Multimodal losses:\n",
      "Mean total loss: 1.8077;\n",
      "Mean reconstruction loss: 0.18233;\n",
      "Mean kld_loss loss: 16.254;\n",
      "Mean faces_reconstruction loss: 0.035585;\n",
      "Mean emotions_reconstruction loss: 0.14674;\n",
      "\n",
      "Face losses:\n",
      "Mean total loss: 0.38896;\n",
      "Mean reconstruction loss: 0.035901;\n",
      "Mean kld_loss loss: 3.5306;\n",
      "Mean faces_reconstruction loss: 0.035901;\n",
      "Mean emotions_reconstruction loss: 0.0;\n",
      "\n",
      "Emotion losses:\n",
      "Mean total loss: 0.74831;\n",
      "Mean reconstruction loss: 0.038674;\n",
      "Mean kld_loss loss: 7.0964;\n",
      "Mean faces_reconstruction loss: 0.0;\n",
      "Mean emotions_reconstruction loss: 0.038674;\n",
      "\n"
     ]
    },
    {
     "name": "stderr",
     "output_type": "stream",
     "text": [
      "\r",
      " 82%|███████████████████▊    | 165/200 [4:34:17<58:16, 99.89s/it]"
     ]
    },
    {
     "name": "stdout",
     "output_type": "stream",
     "text": [
      "Multimodal losses:\n",
      "Mean total loss: 1.7914;\n",
      "Mean reconstruction loss: 0.17173;\n",
      "Mean kld_loss loss: 16.197;\n",
      "Mean faces_reconstruction loss: 0.035612;\n",
      "Mean emotions_reconstruction loss: 0.13612;\n",
      "\n",
      "Face losses:\n",
      "Mean total loss: 0.38937;\n",
      "Mean reconstruction loss: 0.035907;\n",
      "Mean kld_loss loss: 3.5347;\n",
      "Mean faces_reconstruction loss: 0.035907;\n",
      "Mean emotions_reconstruction loss: 0.0;\n",
      "\n",
      "Emotion losses:\n",
      "Mean total loss: 0.74516;\n",
      "Mean reconstruction loss: 0.03925;\n",
      "Mean kld_loss loss: 7.0591;\n",
      "Mean faces_reconstruction loss: 0.0;\n",
      "Mean emotions_reconstruction loss: 0.03925;\n",
      "\n"
     ]
    },
    {
     "name": "stderr",
     "output_type": "stream",
     "text": [
      "\r",
      " 83%|███████████████████▉    | 166/200 [4:35:57<56:39, 99.97s/it]"
     ]
    },
    {
     "name": "stdout",
     "output_type": "stream",
     "text": [
      "Multimodal losses:\n",
      "Mean total loss: 1.782;\n",
      "Mean reconstruction loss: 0.16477;\n",
      "Mean kld_loss loss: 16.172;\n",
      "Mean faces_reconstruction loss: 0.035615;\n",
      "Mean emotions_reconstruction loss: 0.12916;\n",
      "\n",
      "Face losses:\n",
      "Mean total loss: 0.3902;\n",
      "Mean reconstruction loss: 0.035917;\n",
      "Mean kld_loss loss: 3.5429;\n",
      "Mean faces_reconstruction loss: 0.035917;\n",
      "Mean emotions_reconstruction loss: 0.0;\n",
      "\n",
      "Emotion losses:\n",
      "Mean total loss: 0.74368;\n",
      "Mean reconstruction loss: 0.038638;\n",
      "Mean kld_loss loss: 7.0504;\n",
      "Mean faces_reconstruction loss: 0.0;\n",
      "Mean emotions_reconstruction loss: 0.038638;\n",
      "\n"
     ]
    },
    {
     "name": "stderr",
     "output_type": "stream",
     "text": [
      "\r",
      " 84%|████████████████████    | 167/200 [4:37:37<54:58, 99.94s/it]"
     ]
    },
    {
     "name": "stdout",
     "output_type": "stream",
     "text": [
      "Multimodal losses:\n",
      "Mean total loss: 1.7882;\n",
      "Mean reconstruction loss: 0.16719;\n",
      "Mean kld_loss loss: 16.21;\n",
      "Mean faces_reconstruction loss: 0.035594;\n",
      "Mean emotions_reconstruction loss: 0.1316;\n",
      "\n",
      "Face losses:\n",
      "Mean total loss: 0.39197;\n",
      "Mean reconstruction loss: 0.035904;\n",
      "Mean kld_loss loss: 3.5606;\n",
      "Mean faces_reconstruction loss: 0.035904;\n",
      "Mean emotions_reconstruction loss: 0.0;\n",
      "\n",
      "Emotion losses:\n",
      "Mean total loss: 0.73264;\n",
      "Mean reconstruction loss: 0.034631;\n",
      "Mean kld_loss loss: 6.98;\n",
      "Mean faces_reconstruction loss: 0.0;\n",
      "Mean emotions_reconstruction loss: 0.034631;\n",
      "\n"
     ]
    },
    {
     "name": "stderr",
     "output_type": "stream",
     "text": [
      "\r",
      " 84%|████████████████████▏   | 168/200 [4:39:17<53:14, 99.82s/it]"
     ]
    },
    {
     "name": "stdout",
     "output_type": "stream",
     "text": [
      "Multimodal losses:\n",
      "Mean total loss: 1.7776;\n",
      "Mean reconstruction loss: 0.16329;\n",
      "Mean kld_loss loss: 16.143;\n",
      "Mean faces_reconstruction loss: 0.035597;\n",
      "Mean emotions_reconstruction loss: 0.12769;\n",
      "\n",
      "Face losses:\n",
      "Mean total loss: 0.39285;\n",
      "Mean reconstruction loss: 0.035908;\n",
      "Mean kld_loss loss: 3.5695;\n",
      "Mean faces_reconstruction loss: 0.035908;\n",
      "Mean emotions_reconstruction loss: 0.0;\n",
      "\n",
      "Emotion losses:\n",
      "Mean total loss: 0.73307;\n",
      "Mean reconstruction loss: 0.035305;\n",
      "Mean kld_loss loss: 6.9776;\n",
      "Mean faces_reconstruction loss: 0.0;\n",
      "Mean emotions_reconstruction loss: 0.035305;\n",
      "\n"
     ]
    },
    {
     "name": "stderr",
     "output_type": "stream",
     "text": [
      "\r",
      " 84%|████████████████████▎   | 169/200 [4:40:57<51:36, 99.89s/it]"
     ]
    },
    {
     "name": "stdout",
     "output_type": "stream",
     "text": [
      "Multimodal losses:\n",
      "Mean total loss: 1.7791;\n",
      "Mean reconstruction loss: 0.16236;\n",
      "Mean kld_loss loss: 16.168;\n",
      "Mean faces_reconstruction loss: 0.035608;\n",
      "Mean emotions_reconstruction loss: 0.12675;\n",
      "\n",
      "Face losses:\n",
      "Mean total loss: 0.39383;\n",
      "Mean reconstruction loss: 0.035915;\n",
      "Mean kld_loss loss: 3.5792;\n",
      "Mean faces_reconstruction loss: 0.035915;\n",
      "Mean emotions_reconstruction loss: 0.0;\n",
      "\n",
      "Emotion losses:\n",
      "Mean total loss: 0.73087;\n",
      "Mean reconstruction loss: 0.035713;\n",
      "Mean kld_loss loss: 6.9516;\n",
      "Mean faces_reconstruction loss: 0.0;\n",
      "Mean emotions_reconstruction loss: 0.035713;\n",
      "\n"
     ]
    },
    {
     "name": "stderr",
     "output_type": "stream",
     "text": [
      "\r",
      " 85%|████████████████████▍   | 170/200 [4:42:36<49:55, 99.84s/it]"
     ]
    },
    {
     "name": "stdout",
     "output_type": "stream",
     "text": [
      "Multimodal losses:\n",
      "Mean total loss: 1.7657;\n",
      "Mean reconstruction loss: 0.15208;\n",
      "Mean kld_loss loss: 16.136;\n",
      "Mean faces_reconstruction loss: 0.035596;\n",
      "Mean emotions_reconstruction loss: 0.11648;\n",
      "\n",
      "Face losses:\n",
      "Mean total loss: 0.39398;\n",
      "Mean reconstruction loss: 0.03591;\n",
      "Mean kld_loss loss: 3.5807;\n",
      "Mean faces_reconstruction loss: 0.03591;\n",
      "Mean emotions_reconstruction loss: 0.0;\n",
      "\n",
      "Emotion losses:\n",
      "Mean total loss: 0.7218;\n",
      "Mean reconstruction loss: 0.030566;\n",
      "Mean kld_loss loss: 6.9124;\n",
      "Mean faces_reconstruction loss: 0.0;\n",
      "Mean emotions_reconstruction loss: 0.030566;\n",
      "\n"
     ]
    },
    {
     "name": "stderr",
     "output_type": "stream",
     "text": [
      "\r",
      " 86%|████████████████████▌   | 171/200 [4:44:17<48:18, 99.93s/it]"
     ]
    },
    {
     "name": "stdout",
     "output_type": "stream",
     "text": [
      "Multimodal losses:\n",
      "Mean total loss: 1.7709;\n",
      "Mean reconstruction loss: 0.1568;\n",
      "Mean kld_loss loss: 16.141;\n",
      "Mean faces_reconstruction loss: 0.035614;\n",
      "Mean emotions_reconstruction loss: 0.12119;\n",
      "\n",
      "Face losses:\n",
      "Mean total loss: 0.39618;\n",
      "Mean reconstruction loss: 0.035908;\n",
      "Mean kld_loss loss: 3.6027;\n",
      "Mean faces_reconstruction loss: 0.035908;\n",
      "Mean emotions_reconstruction loss: 0.0;\n",
      "\n",
      "Emotion losses:\n",
      "Mean total loss: 0.72105;\n",
      "Mean reconstruction loss: 0.031214;\n",
      "Mean kld_loss loss: 6.8984;\n",
      "Mean faces_reconstruction loss: 0.0;\n",
      "Mean emotions_reconstruction loss: 0.031214;\n",
      "\n"
     ]
    },
    {
     "name": "stderr",
     "output_type": "stream",
     "text": [
      "\r",
      " 86%|████████████████████▋   | 172/200 [4:45:56<46:32, 99.73s/it]"
     ]
    },
    {
     "name": "stdout",
     "output_type": "stream",
     "text": [
      "Multimodal losses:\n",
      "Mean total loss: 1.7635;\n",
      "Mean reconstruction loss: 0.15072;\n",
      "Mean kld_loss loss: 16.128;\n",
      "Mean faces_reconstruction loss: 0.0356;\n",
      "Mean emotions_reconstruction loss: 0.11512;\n",
      "\n",
      "Face losses:\n",
      "Mean total loss: 0.39607;\n",
      "Mean reconstruction loss: 0.035911;\n",
      "Mean kld_loss loss: 3.6016;\n",
      "Mean faces_reconstruction loss: 0.035911;\n",
      "Mean emotions_reconstruction loss: 0.0;\n",
      "\n",
      "Emotion losses:\n",
      "Mean total loss: 0.71397;\n",
      "Mean reconstruction loss: 0.030849;\n",
      "Mean kld_loss loss: 6.8312;\n",
      "Mean faces_reconstruction loss: 0.0;\n",
      "Mean emotions_reconstruction loss: 0.030849;\n",
      "\n"
     ]
    },
    {
     "name": "stderr",
     "output_type": "stream",
     "text": [
      "\r",
      " 86%|████████████████████▊   | 173/200 [4:47:36<44:54, 99.80s/it]"
     ]
    },
    {
     "name": "stdout",
     "output_type": "stream",
     "text": [
      "Multimodal losses:\n",
      "Mean total loss: 1.7642;\n",
      "Mean reconstruction loss: 0.15083;\n",
      "Mean kld_loss loss: 16.134;\n",
      "Mean faces_reconstruction loss: 0.035586;\n",
      "Mean emotions_reconstruction loss: 0.11524;\n",
      "\n",
      "Face losses:\n",
      "Mean total loss: 0.39806;\n",
      "Mean reconstruction loss: 0.035906;\n",
      "Mean kld_loss loss: 3.6215;\n",
      "Mean faces_reconstruction loss: 0.035906;\n",
      "Mean emotions_reconstruction loss: 0.0;\n",
      "\n",
      "Emotion losses:\n",
      "Mean total loss: 0.71229;\n",
      "Mean reconstruction loss: 0.028148;\n",
      "Mean kld_loss loss: 6.8414;\n",
      "Mean faces_reconstruction loss: 0.0;\n",
      "Mean emotions_reconstruction loss: 0.028148;\n",
      "\n"
     ]
    },
    {
     "name": "stderr",
     "output_type": "stream",
     "text": [
      "\r",
      " 87%|████████████████████▉   | 174/200 [4:49:15<43:13, 99.75s/it]"
     ]
    },
    {
     "name": "stdout",
     "output_type": "stream",
     "text": [
      "Multimodal losses:\n",
      "Mean total loss: 1.7574;\n",
      "Mean reconstruction loss: 0.1479;\n",
      "Mean kld_loss loss: 16.094;\n",
      "Mean faces_reconstruction loss: 0.035602;\n",
      "Mean emotions_reconstruction loss: 0.1123;\n",
      "\n",
      "Face losses:\n",
      "Mean total loss: 0.3954;\n",
      "Mean reconstruction loss: 0.035916;\n",
      "Mean kld_loss loss: 3.5948;\n",
      "Mean faces_reconstruction loss: 0.035916;\n",
      "Mean emotions_reconstruction loss: 0.0;\n",
      "\n",
      "Emotion losses:\n",
      "Mean total loss: 0.71354;\n",
      "Mean reconstruction loss: 0.029089;\n",
      "Mean kld_loss loss: 6.8445;\n",
      "Mean faces_reconstruction loss: 0.0;\n",
      "Mean emotions_reconstruction loss: 0.029089;\n",
      "\n"
     ]
    },
    {
     "name": "stderr",
     "output_type": "stream",
     "text": [
      "\r",
      " 88%|█████████████████████   | 175/200 [4:50:55<41:34, 99.80s/it]"
     ]
    },
    {
     "name": "stdout",
     "output_type": "stream",
     "text": [
      "Multimodal losses:\n",
      "Mean total loss: 1.7545;\n",
      "Mean reconstruction loss: 0.14458;\n",
      "Mean kld_loss loss: 16.1;\n",
      "Mean faces_reconstruction loss: 0.035594;\n",
      "Mean emotions_reconstruction loss: 0.10898;\n",
      "\n",
      "Face losses:\n",
      "Mean total loss: 0.39775;\n",
      "Mean reconstruction loss: 0.035905;\n",
      "Mean kld_loss loss: 3.6184;\n",
      "Mean faces_reconstruction loss: 0.035905;\n",
      "Mean emotions_reconstruction loss: 0.0;\n",
      "\n",
      "Emotion losses:\n",
      "Mean total loss: 0.71245;\n",
      "Mean reconstruction loss: 0.027299;\n",
      "Mean kld_loss loss: 6.8515;\n",
      "Mean faces_reconstruction loss: 0.0;\n",
      "Mean emotions_reconstruction loss: 0.027299;\n",
      "\n"
     ]
    },
    {
     "name": "stderr",
     "output_type": "stream",
     "text": [
      "\r",
      " 88%|█████████████████████   | 176/200 [4:52:36<39:57, 99.91s/it]"
     ]
    },
    {
     "name": "stdout",
     "output_type": "stream",
     "text": [
      "Multimodal losses:\n",
      "Mean total loss: 1.7561;\n",
      "Mean reconstruction loss: 0.14521;\n",
      "Mean kld_loss loss: 16.109;\n",
      "Mean faces_reconstruction loss: 0.035602;\n",
      "Mean emotions_reconstruction loss: 0.10961;\n",
      "\n",
      "Face losses:\n",
      "Mean total loss: 0.40118;\n",
      "Mean reconstruction loss: 0.035909;\n",
      "Mean kld_loss loss: 3.6527;\n",
      "Mean faces_reconstruction loss: 0.035909;\n",
      "Mean emotions_reconstruction loss: 0.0;\n",
      "\n",
      "Emotion losses:\n",
      "Mean total loss: 0.70292;\n",
      "Mean reconstruction loss: 0.026102;\n",
      "Mean kld_loss loss: 6.7682;\n",
      "Mean faces_reconstruction loss: 0.0;\n",
      "Mean emotions_reconstruction loss: 0.026102;\n",
      "\n"
     ]
    },
    {
     "name": "stderr",
     "output_type": "stream",
     "text": [
      "\r",
      " 88%|█████████████████████▏  | 177/200 [4:54:14<38:08, 99.48s/it]"
     ]
    },
    {
     "name": "stdout",
     "output_type": "stream",
     "text": [
      "Multimodal losses:\n",
      "Mean total loss: 1.7447;\n",
      "Mean reconstruction loss: 0.1394;\n",
      "Mean kld_loss loss: 16.053;\n",
      "Mean faces_reconstruction loss: 0.035592;\n",
      "Mean emotions_reconstruction loss: 0.10381;\n",
      "\n",
      "Face losses:\n",
      "Mean total loss: 0.39796;\n",
      "Mean reconstruction loss: 0.035906;\n",
      "Mean kld_loss loss: 3.6206;\n",
      "Mean faces_reconstruction loss: 0.035906;\n",
      "Mean emotions_reconstruction loss: 0.0;\n",
      "\n",
      "Emotion losses:\n",
      "Mean total loss: 0.70738;\n",
      "Mean reconstruction loss: 0.02898;\n",
      "Mean kld_loss loss: 6.784;\n",
      "Mean faces_reconstruction loss: 0.0;\n",
      "Mean emotions_reconstruction loss: 0.02898;\n",
      "\n"
     ]
    },
    {
     "name": "stderr",
     "output_type": "stream",
     "text": [
      "\r",
      " 89%|█████████████████████▎  | 178/200 [4:55:53<36:24, 99.31s/it]"
     ]
    },
    {
     "name": "stdout",
     "output_type": "stream",
     "text": [
      "Multimodal losses:\n",
      "Mean total loss: 1.745;\n",
      "Mean reconstruction loss: 0.13928;\n",
      "Mean kld_loss loss: 16.058;\n",
      "Mean faces_reconstruction loss: 0.035596;\n",
      "Mean emotions_reconstruction loss: 0.10368;\n",
      "\n",
      "Face losses:\n",
      "Mean total loss: 0.39942;\n",
      "Mean reconstruction loss: 0.035903;\n",
      "Mean kld_loss loss: 3.6352;\n",
      "Mean faces_reconstruction loss: 0.035903;\n",
      "Mean emotions_reconstruction loss: 0.0;\n",
      "\n",
      "Emotion losses:\n",
      "Mean total loss: 0.70097;\n",
      "Mean reconstruction loss: 0.02559;\n",
      "Mean kld_loss loss: 6.7538;\n",
      "Mean faces_reconstruction loss: 0.0;\n",
      "Mean emotions_reconstruction loss: 0.02559;\n",
      "\n"
     ]
    },
    {
     "name": "stderr",
     "output_type": "stream",
     "text": [
      "\r",
      " 90%|█████████████████████▍  | 179/200 [4:57:32<34:45, 99.33s/it]"
     ]
    },
    {
     "name": "stdout",
     "output_type": "stream",
     "text": [
      "Multimodal losses:\n",
      "Mean total loss: 1.7464;\n",
      "Mean reconstruction loss: 0.13965;\n",
      "Mean kld_loss loss: 16.067;\n",
      "Mean faces_reconstruction loss: 0.035581;\n",
      "Mean emotions_reconstruction loss: 0.10406;\n",
      "\n",
      "Face losses:\n",
      "Mean total loss: 0.39949;\n",
      "Mean reconstruction loss: 0.035892;\n",
      "Mean kld_loss loss: 3.636;\n",
      "Mean faces_reconstruction loss: 0.035892;\n",
      "Mean emotions_reconstruction loss: 0.0;\n",
      "\n",
      "Emotion losses:\n",
      "Mean total loss: 0.70461;\n",
      "Mean reconstruction loss: 0.02696;\n",
      "Mean kld_loss loss: 6.7765;\n",
      "Mean faces_reconstruction loss: 0.0;\n",
      "Mean emotions_reconstruction loss: 0.02696;\n",
      "\n"
     ]
    },
    {
     "name": "stderr",
     "output_type": "stream",
     "text": [
      "\r",
      " 90%|█████████████████████▌  | 180/200 [4:59:13<33:14, 99.71s/it]"
     ]
    },
    {
     "name": "stdout",
     "output_type": "stream",
     "text": [
      "Multimodal losses:\n",
      "Mean total loss: 1.7536;\n",
      "Mean reconstruction loss: 0.14076;\n",
      "Mean kld_loss loss: 16.129;\n",
      "Mean faces_reconstruction loss: 0.035589;\n",
      "Mean emotions_reconstruction loss: 0.10517;\n",
      "\n",
      "Face losses:\n",
      "Mean total loss: 0.40208;\n",
      "Mean reconstruction loss: 0.035906;\n",
      "Mean kld_loss loss: 3.6617;\n",
      "Mean faces_reconstruction loss: 0.035906;\n",
      "Mean emotions_reconstruction loss: 0.0;\n",
      "\n",
      "Emotion losses:\n",
      "Mean total loss: 0.69693;\n",
      "Mean reconstruction loss: 0.022281;\n",
      "Mean kld_loss loss: 6.7464;\n",
      "Mean faces_reconstruction loss: 0.0;\n",
      "Mean emotions_reconstruction loss: 0.022281;\n",
      "\n"
     ]
    },
    {
     "name": "stderr",
     "output_type": "stream",
     "text": [
      "\r",
      " 90%|█████████████████████▋  | 181/200 [5:00:52<31:31, 99.57s/it]"
     ]
    },
    {
     "name": "stdout",
     "output_type": "stream",
     "text": [
      "Multimodal losses:\n",
      "Mean total loss: 1.7389;\n",
      "Mean reconstruction loss: 0.13468;\n",
      "Mean kld_loss loss: 16.042;\n",
      "Mean faces_reconstruction loss: 0.035579;\n",
      "Mean emotions_reconstruction loss: 0.099102;\n",
      "\n",
      "Face losses:\n",
      "Mean total loss: 0.40098;\n",
      "Mean reconstruction loss: 0.035901;\n",
      "Mean kld_loss loss: 3.6508;\n",
      "Mean faces_reconstruction loss: 0.035901;\n",
      "Mean emotions_reconstruction loss: 0.0;\n",
      "\n",
      "Emotion losses:\n",
      "Mean total loss: 0.69586;\n",
      "Mean reconstruction loss: 0.023246;\n",
      "Mean kld_loss loss: 6.7262;\n",
      "Mean faces_reconstruction loss: 0.0;\n",
      "Mean emotions_reconstruction loss: 0.023246;\n",
      "\n"
     ]
    },
    {
     "name": "stderr",
     "output_type": "stream",
     "text": [
      "\r",
      " 91%|█████████████████████▊  | 182/200 [5:02:32<29:54, 99.69s/it]"
     ]
    },
    {
     "name": "stdout",
     "output_type": "stream",
     "text": [
      "Multimodal losses:\n",
      "Mean total loss: 1.742;\n",
      "Mean reconstruction loss: 0.13613;\n",
      "Mean kld_loss loss: 16.059;\n",
      "Mean faces_reconstruction loss: 0.035568;\n",
      "Mean emotions_reconstruction loss: 0.10056;\n",
      "\n",
      "Face losses:\n",
      "Mean total loss: 0.40381;\n",
      "Mean reconstruction loss: 0.035884;\n",
      "Mean kld_loss loss: 3.6792;\n",
      "Mean faces_reconstruction loss: 0.035884;\n",
      "Mean emotions_reconstruction loss: 0.0;\n",
      "\n",
      "Emotion losses:\n",
      "Mean total loss: 0.6974;\n",
      "Mean reconstruction loss: 0.024722;\n",
      "Mean kld_loss loss: 6.7268;\n",
      "Mean faces_reconstruction loss: 0.0;\n",
      "Mean emotions_reconstruction loss: 0.024722;\n",
      "\n"
     ]
    },
    {
     "name": "stderr",
     "output_type": "stream",
     "text": [
      "\r",
      " 92%|█████████████████████▉  | 183/200 [5:04:12<28:15, 99.75s/it]"
     ]
    },
    {
     "name": "stdout",
     "output_type": "stream",
     "text": [
      "Multimodal losses:\n",
      "Mean total loss: 1.7415;\n",
      "Mean reconstruction loss: 0.13139;\n",
      "Mean kld_loss loss: 16.101;\n",
      "Mean faces_reconstruction loss: 0.03558;\n",
      "Mean emotions_reconstruction loss: 0.095812;\n",
      "\n",
      "Face losses:\n",
      "Mean total loss: 0.40243;\n",
      "Mean reconstruction loss: 0.035911;\n",
      "Mean kld_loss loss: 3.6652;\n",
      "Mean faces_reconstruction loss: 0.035911;\n",
      "Mean emotions_reconstruction loss: 0.0;\n",
      "\n",
      "Emotion losses:\n",
      "Mean total loss: 0.69631;\n",
      "Mean reconstruction loss: 0.023395;\n",
      "Mean kld_loss loss: 6.7291;\n",
      "Mean faces_reconstruction loss: 0.0;\n",
      "Mean emotions_reconstruction loss: 0.023395;\n",
      "\n"
     ]
    },
    {
     "name": "stderr",
     "output_type": "stream",
     "text": [
      "\r",
      " 92%|█████████████████████▏ | 184/200 [5:05:53<26:40, 100.01s/it]"
     ]
    },
    {
     "name": "stdout",
     "output_type": "stream",
     "text": [
      "Multimodal losses:\n",
      "Mean total loss: 1.7424;\n",
      "Mean reconstruction loss: 0.13809;\n",
      "Mean kld_loss loss: 16.043;\n",
      "Mean faces_reconstruction loss: 0.035582;\n",
      "Mean emotions_reconstruction loss: 0.10251;\n",
      "\n",
      "Face losses:\n",
      "Mean total loss: 0.40436;\n",
      "Mean reconstruction loss: 0.035898;\n",
      "Mean kld_loss loss: 3.6846;\n",
      "Mean faces_reconstruction loss: 0.035898;\n",
      "Mean emotions_reconstruction loss: 0.0;\n",
      "\n",
      "Emotion losses:\n",
      "Mean total loss: 0.69064;\n",
      "Mean reconstruction loss: 0.022389;\n",
      "Mean kld_loss loss: 6.6825;\n",
      "Mean faces_reconstruction loss: 0.0;\n",
      "Mean emotions_reconstruction loss: 0.022389;\n",
      "\n"
     ]
    },
    {
     "name": "stderr",
     "output_type": "stream",
     "text": [
      "\r",
      " 92%|██████████████████████▏ | 185/200 [5:07:32<24:57, 99.83s/it]"
     ]
    },
    {
     "name": "stdout",
     "output_type": "stream",
     "text": [
      "Multimodal losses:\n",
      "Mean total loss: 1.7305;\n",
      "Mean reconstruction loss: 0.13183;\n",
      "Mean kld_loss loss: 15.986;\n",
      "Mean faces_reconstruction loss: 0.035589;\n",
      "Mean emotions_reconstruction loss: 0.096244;\n",
      "\n",
      "Face losses:\n",
      "Mean total loss: 0.40173;\n",
      "Mean reconstruction loss: 0.035908;\n",
      "Mean kld_loss loss: 3.6582;\n",
      "Mean faces_reconstruction loss: 0.035908;\n",
      "Mean emotions_reconstruction loss: 0.0;\n",
      "\n",
      "Emotion losses:\n",
      "Mean total loss: 0.6881;\n",
      "Mean reconstruction loss: 0.023454;\n",
      "Mean kld_loss loss: 6.6465;\n",
      "Mean faces_reconstruction loss: 0.0;\n",
      "Mean emotions_reconstruction loss: 0.023454;\n",
      "\n"
     ]
    },
    {
     "name": "stderr",
     "output_type": "stream",
     "text": [
      "\r",
      " 93%|██████████████████████▎ | 186/200 [5:09:12<23:18, 99.89s/it]"
     ]
    },
    {
     "name": "stdout",
     "output_type": "stream",
     "text": [
      "Multimodal losses:\n",
      "Mean total loss: 1.7358;\n",
      "Mean reconstruction loss: 0.13152;\n",
      "Mean kld_loss loss: 16.042;\n",
      "Mean faces_reconstruction loss: 0.035577;\n",
      "Mean emotions_reconstruction loss: 0.095945;\n",
      "\n",
      "Face losses:\n",
      "Mean total loss: 0.40419;\n",
      "Mean reconstruction loss: 0.035901;\n",
      "Mean kld_loss loss: 3.6829;\n",
      "Mean faces_reconstruction loss: 0.035901;\n",
      "Mean emotions_reconstruction loss: 0.0;\n",
      "\n",
      "Emotion losses:\n",
      "Mean total loss: 0.68438;\n",
      "Mean reconstruction loss: 0.019742;\n",
      "Mean kld_loss loss: 6.6464;\n",
      "Mean faces_reconstruction loss: 0.0;\n",
      "Mean emotions_reconstruction loss: 0.019742;\n",
      "\n"
     ]
    },
    {
     "name": "stderr",
     "output_type": "stream",
     "text": [
      "\r",
      " 94%|██████████████████████▍ | 187/200 [5:10:52<21:37, 99.83s/it]"
     ]
    },
    {
     "name": "stdout",
     "output_type": "stream",
     "text": [
      "Multimodal losses:\n",
      "Mean total loss: 1.732;\n",
      "Mean reconstruction loss: 0.12881;\n",
      "Mean kld_loss loss: 16.032;\n",
      "Mean faces_reconstruction loss: 0.035588;\n",
      "Mean emotions_reconstruction loss: 0.093218;\n",
      "\n",
      "Face losses:\n",
      "Mean total loss: 0.40451;\n",
      "Mean reconstruction loss: 0.03591;\n",
      "Mean kld_loss loss: 3.686;\n",
      "Mean faces_reconstruction loss: 0.03591;\n",
      "Mean emotions_reconstruction loss: 0.0;\n",
      "\n",
      "Emotion losses:\n",
      "Mean total loss: 0.68419;\n",
      "Mean reconstruction loss: 0.019848;\n",
      "Mean kld_loss loss: 6.6434;\n",
      "Mean faces_reconstruction loss: 0.0;\n",
      "Mean emotions_reconstruction loss: 0.019848;\n",
      "\n"
     ]
    },
    {
     "name": "stderr",
     "output_type": "stream",
     "text": [
      "\r",
      " 94%|██████████████████████▌ | 188/200 [5:12:32<19:58, 99.84s/it]"
     ]
    },
    {
     "name": "stdout",
     "output_type": "stream",
     "text": [
      "Multimodal losses:\n",
      "Mean total loss: 1.7352;\n",
      "Mean reconstruction loss: 0.13044;\n",
      "Mean kld_loss loss: 16.048;\n",
      "Mean faces_reconstruction loss: 0.035593;\n",
      "Mean emotions_reconstruction loss: 0.094849;\n",
      "\n",
      "Face losses:\n",
      "Mean total loss: 0.40546;\n",
      "Mean reconstruction loss: 0.035906;\n",
      "Mean kld_loss loss: 3.6956;\n",
      "Mean faces_reconstruction loss: 0.035906;\n",
      "Mean emotions_reconstruction loss: 0.0;\n",
      "\n",
      "Emotion losses:\n",
      "Mean total loss: 0.68554;\n",
      "Mean reconstruction loss: 0.019727;\n",
      "Mean kld_loss loss: 6.6582;\n",
      "Mean faces_reconstruction loss: 0.0;\n",
      "Mean emotions_reconstruction loss: 0.019727;\n",
      "\n"
     ]
    },
    {
     "name": "stderr",
     "output_type": "stream",
     "text": [
      "\r",
      " 94%|██████████████████████▋ | 189/200 [5:14:12<18:18, 99.86s/it]"
     ]
    },
    {
     "name": "stdout",
     "output_type": "stream",
     "text": [
      "Multimodal losses:\n",
      "Mean total loss: 1.7341;\n",
      "Mean reconstruction loss: 0.12872;\n",
      "Mean kld_loss loss: 16.054;\n",
      "Mean faces_reconstruction loss: 0.035568;\n",
      "Mean emotions_reconstruction loss: 0.093153;\n",
      "\n",
      "Face losses:\n",
      "Mean total loss: 0.40807;\n",
      "Mean reconstruction loss: 0.035894;\n",
      "Mean kld_loss loss: 3.7218;\n",
      "Mean faces_reconstruction loss: 0.035894;\n",
      "Mean emotions_reconstruction loss: 0.0;\n",
      "\n",
      "Emotion losses:\n",
      "Mean total loss: 0.67913;\n",
      "Mean reconstruction loss: 0.016601;\n",
      "Mean kld_loss loss: 6.6253;\n",
      "Mean faces_reconstruction loss: 0.0;\n",
      "Mean emotions_reconstruction loss: 0.016601;\n",
      "\n"
     ]
    },
    {
     "name": "stderr",
     "output_type": "stream",
     "text": [
      "\r",
      " 95%|██████████████████████▊ | 190/200 [5:15:51<16:37, 99.74s/it]"
     ]
    },
    {
     "name": "stdout",
     "output_type": "stream",
     "text": [
      "Multimodal losses:\n",
      "Mean total loss: 1.7289;\n",
      "Mean reconstruction loss: 0.12398;\n",
      "Mean kld_loss loss: 16.05;\n",
      "Mean faces_reconstruction loss: 0.035585;\n",
      "Mean emotions_reconstruction loss: 0.088392;\n",
      "\n",
      "Face losses:\n",
      "Mean total loss: 0.40784;\n",
      "Mean reconstruction loss: 0.035904;\n",
      "Mean kld_loss loss: 3.7193;\n",
      "Mean faces_reconstruction loss: 0.035904;\n",
      "Mean emotions_reconstruction loss: 0.0;\n",
      "\n",
      "Emotion losses:\n",
      "Mean total loss: 0.6839;\n",
      "Mean reconstruction loss: 0.021236;\n",
      "Mean kld_loss loss: 6.6267;\n",
      "Mean faces_reconstruction loss: 0.0;\n",
      "Mean emotions_reconstruction loss: 0.021236;\n",
      "\n"
     ]
    },
    {
     "name": "stderr",
     "output_type": "stream",
     "text": [
      "\r",
      " 96%|██████████████████████▉ | 191/200 [5:17:30<14:56, 99.66s/it]"
     ]
    },
    {
     "name": "stdout",
     "output_type": "stream",
     "text": [
      "Multimodal losses:\n",
      "Mean total loss: 1.7282;\n",
      "Mean reconstruction loss: 0.12483;\n",
      "Mean kld_loss loss: 16.034;\n",
      "Mean faces_reconstruction loss: 0.035578;\n",
      "Mean emotions_reconstruction loss: 0.089255;\n",
      "\n",
      "Face losses:\n",
      "Mean total loss: 0.40859;\n",
      "Mean reconstruction loss: 0.035905;\n",
      "Mean kld_loss loss: 3.7268;\n",
      "Mean faces_reconstruction loss: 0.035905;\n",
      "Mean emotions_reconstruction loss: 0.0;\n",
      "\n",
      "Emotion losses:\n",
      "Mean total loss: 0.68289;\n",
      "Mean reconstruction loss: 0.020204;\n",
      "Mean kld_loss loss: 6.6269;\n",
      "Mean faces_reconstruction loss: 0.0;\n",
      "Mean emotions_reconstruction loss: 0.020204;\n",
      "\n"
     ]
    },
    {
     "name": "stderr",
     "output_type": "stream",
     "text": [
      "\r",
      " 96%|██████████████████████ | 192/200 [5:19:11<13:20, 100.01s/it]"
     ]
    },
    {
     "name": "stdout",
     "output_type": "stream",
     "text": [
      "Multimodal losses:\n",
      "Mean total loss: 1.7343;\n",
      "Mean reconstruction loss: 0.12542;\n",
      "Mean kld_loss loss: 16.088;\n",
      "Mean faces_reconstruction loss: 0.035565;\n",
      "Mean emotions_reconstruction loss: 0.089856;\n",
      "\n",
      "Face losses:\n",
      "Mean total loss: 0.40892;\n",
      "Mean reconstruction loss: 0.035901;\n",
      "Mean kld_loss loss: 3.7302;\n",
      "Mean faces_reconstruction loss: 0.035901;\n",
      "Mean emotions_reconstruction loss: 0.0;\n",
      "\n",
      "Emotion losses:\n",
      "Mean total loss: 0.6783;\n",
      "Mean reconstruction loss: 0.017195;\n",
      "Mean kld_loss loss: 6.6111;\n",
      "Mean faces_reconstruction loss: 0.0;\n",
      "Mean emotions_reconstruction loss: 0.017195;\n",
      "\n"
     ]
    },
    {
     "name": "stderr",
     "output_type": "stream",
     "text": [
      "\r",
      " 96%|███████████████████████▏| 193/200 [5:20:50<11:38, 99.75s/it]"
     ]
    },
    {
     "name": "stdout",
     "output_type": "stream",
     "text": [
      "Multimodal losses:\n",
      "Mean total loss: 1.7308;\n",
      "Mean reconstruction loss: 0.12576;\n",
      "Mean kld_loss loss: 16.05;\n",
      "Mean faces_reconstruction loss: 0.035552;\n",
      "Mean emotions_reconstruction loss: 0.090211;\n",
      "\n",
      "Face losses:\n",
      "Mean total loss: 0.40595;\n",
      "Mean reconstruction loss: 0.035892;\n",
      "Mean kld_loss loss: 3.7006;\n",
      "Mean faces_reconstruction loss: 0.035892;\n",
      "Mean emotions_reconstruction loss: 0.0;\n",
      "\n",
      "Emotion losses:\n",
      "Mean total loss: 0.67936;\n",
      "Mean reconstruction loss: 0.0173;\n",
      "Mean kld_loss loss: 6.6206;\n",
      "Mean faces_reconstruction loss: 0.0;\n",
      "Mean emotions_reconstruction loss: 0.0173;\n",
      "\n"
     ]
    },
    {
     "name": "stderr",
     "output_type": "stream",
     "text": [
      "\r",
      " 97%|███████████████████████▎| 194/200 [5:22:30<09:58, 99.73s/it]"
     ]
    },
    {
     "name": "stdout",
     "output_type": "stream",
     "text": [
      "Multimodal losses:\n",
      "Mean total loss: 1.7187;\n",
      "Mean reconstruction loss: 0.12007;\n",
      "Mean kld_loss loss: 15.986;\n",
      "Mean faces_reconstruction loss: 0.035574;\n",
      "Mean emotions_reconstruction loss: 0.084495;\n",
      "\n",
      "Face losses:\n",
      "Mean total loss: 0.40529;\n",
      "Mean reconstruction loss: 0.035898;\n",
      "Mean kld_loss loss: 3.6939;\n",
      "Mean faces_reconstruction loss: 0.035898;\n",
      "Mean emotions_reconstruction loss: 0.0;\n",
      "\n",
      "Emotion losses:\n",
      "Mean total loss: 0.67694;\n",
      "Mean reconstruction loss: 0.016233;\n",
      "Mean kld_loss loss: 6.607;\n",
      "Mean faces_reconstruction loss: 0.0;\n",
      "Mean emotions_reconstruction loss: 0.016233;\n",
      "\n"
     ]
    },
    {
     "name": "stderr",
     "output_type": "stream",
     "text": [
      "\r",
      " 98%|███████████████████████▍| 195/200 [5:24:09<08:17, 99.54s/it]"
     ]
    },
    {
     "name": "stdout",
     "output_type": "stream",
     "text": [
      "Multimodal losses:\n",
      "Mean total loss: 1.7232;\n",
      "Mean reconstruction loss: 0.12101;\n",
      "Mean kld_loss loss: 16.021;\n",
      "Mean faces_reconstruction loss: 0.035558;\n",
      "Mean emotions_reconstruction loss: 0.085455;\n",
      "\n",
      "Face losses:\n",
      "Mean total loss: 0.40647;\n",
      "Mean reconstruction loss: 0.035899;\n",
      "Mean kld_loss loss: 3.7057;\n",
      "Mean faces_reconstruction loss: 0.035899;\n",
      "Mean emotions_reconstruction loss: 0.0;\n",
      "\n",
      "Emotion losses:\n",
      "Mean total loss: 0.68223;\n",
      "Mean reconstruction loss: 0.020167;\n",
      "Mean kld_loss loss: 6.6206;\n",
      "Mean faces_reconstruction loss: 0.0;\n",
      "Mean emotions_reconstruction loss: 0.020167;\n",
      "\n"
     ]
    },
    {
     "name": "stderr",
     "output_type": "stream",
     "text": [
      "\r",
      " 98%|███████████████████████▌| 196/200 [5:25:49<06:38, 99.57s/it]"
     ]
    },
    {
     "name": "stdout",
     "output_type": "stream",
     "text": [
      "Multimodal losses:\n",
      "Mean total loss: 1.7286;\n",
      "Mean reconstruction loss: 0.12235;\n",
      "Mean kld_loss loss: 16.062;\n",
      "Mean faces_reconstruction loss: 0.035575;\n",
      "Mean emotions_reconstruction loss: 0.086773;\n",
      "\n",
      "Face losses:\n",
      "Mean total loss: 0.40854;\n",
      "Mean reconstruction loss: 0.035904;\n",
      "Mean kld_loss loss: 3.7264;\n",
      "Mean faces_reconstruction loss: 0.035904;\n",
      "Mean emotions_reconstruction loss: 0.0;\n",
      "\n",
      "Emotion losses:\n",
      "Mean total loss: 0.67543;\n",
      "Mean reconstruction loss: 0.016862;\n",
      "Mean kld_loss loss: 6.5857;\n",
      "Mean faces_reconstruction loss: 0.0;\n",
      "Mean emotions_reconstruction loss: 0.016862;\n",
      "\n"
     ]
    },
    {
     "name": "stderr",
     "output_type": "stream",
     "text": [
      "\r",
      " 98%|███████████████████████▋| 197/200 [5:27:29<04:59, 99.71s/it]"
     ]
    },
    {
     "name": "stdout",
     "output_type": "stream",
     "text": [
      "Multimodal losses:\n",
      "Mean total loss: 1.7189;\n",
      "Mean reconstruction loss: 0.1162;\n",
      "Mean kld_loss loss: 16.027;\n",
      "Mean faces_reconstruction loss: 0.035563;\n",
      "Mean emotions_reconstruction loss: 0.080636;\n",
      "\n",
      "Face losses:\n",
      "Mean total loss: 0.40533;\n",
      "Mean reconstruction loss: 0.035901;\n",
      "Mean kld_loss loss: 3.6942;\n",
      "Mean faces_reconstruction loss: 0.035901;\n",
      "Mean emotions_reconstruction loss: 0.0;\n",
      "\n",
      "Emotion losses:\n",
      "Mean total loss: 0.67952;\n",
      "Mean reconstruction loss: 0.018847;\n",
      "Mean kld_loss loss: 6.6067;\n",
      "Mean faces_reconstruction loss: 0.0;\n",
      "Mean emotions_reconstruction loss: 0.018847;\n",
      "\n"
     ]
    },
    {
     "name": "stderr",
     "output_type": "stream",
     "text": [
      "\r",
      " 99%|███████████████████████▊| 198/200 [5:29:08<03:19, 99.67s/it]"
     ]
    },
    {
     "name": "stdout",
     "output_type": "stream",
     "text": [
      "Multimodal losses:\n",
      "Mean total loss: 1.7204;\n",
      "Mean reconstruction loss: 0.12221;\n",
      "Mean kld_loss loss: 15.982;\n",
      "Mean faces_reconstruction loss: 0.035551;\n",
      "Mean emotions_reconstruction loss: 0.08666;\n",
      "\n",
      "Face losses:\n",
      "Mean total loss: 0.40514;\n",
      "Mean reconstruction loss: 0.035896;\n",
      "Mean kld_loss loss: 3.6924;\n",
      "Mean faces_reconstruction loss: 0.035896;\n",
      "Mean emotions_reconstruction loss: 0.0;\n",
      "\n",
      "Emotion losses:\n",
      "Mean total loss: 0.6803;\n",
      "Mean reconstruction loss: 0.020898;\n",
      "Mean kld_loss loss: 6.594;\n",
      "Mean faces_reconstruction loss: 0.0;\n",
      "Mean emotions_reconstruction loss: 0.020898;\n",
      "\n"
     ]
    },
    {
     "name": "stderr",
     "output_type": "stream",
     "text": [
      "\r",
      "100%|███████████████████████▉| 199/200 [5:30:48<01:39, 99.54s/it]"
     ]
    },
    {
     "name": "stdout",
     "output_type": "stream",
     "text": [
      "Multimodal losses:\n",
      "Mean total loss: 1.7214;\n",
      "Mean reconstruction loss: 0.12083;\n",
      "Mean kld_loss loss: 16.006;\n",
      "Mean faces_reconstruction loss: 0.035554;\n",
      "Mean emotions_reconstruction loss: 0.085279;\n",
      "\n",
      "Face losses:\n",
      "Mean total loss: 0.40746;\n",
      "Mean reconstruction loss: 0.035894;\n",
      "Mean kld_loss loss: 3.7157;\n",
      "Mean faces_reconstruction loss: 0.035894;\n",
      "Mean emotions_reconstruction loss: 0.0;\n",
      "\n",
      "Emotion losses:\n",
      "Mean total loss: 0.6767;\n",
      "Mean reconstruction loss: 0.016865;\n",
      "Mean kld_loss loss: 6.5983;\n",
      "Mean faces_reconstruction loss: 0.0;\n",
      "Mean emotions_reconstruction loss: 0.016865;\n",
      "\n"
     ]
    },
    {
     "name": "stderr",
     "output_type": "stream",
     "text": [
      "100%|████████████████████████| 200/200 [5:32:28<00:00, 99.74s/it]"
     ]
    },
    {
     "name": "stdout",
     "output_type": "stream",
     "text": [
      "Multimodal losses:\n",
      "Mean total loss: 1.7283;\n",
      "Mean reconstruction loss: 0.12184;\n",
      "Mean kld_loss loss: 16.065;\n",
      "Mean faces_reconstruction loss: 0.03556;\n",
      "Mean emotions_reconstruction loss: 0.086283;\n",
      "\n",
      "Face losses:\n",
      "Mean total loss: 0.40795;\n",
      "Mean reconstruction loss: 0.0359;\n",
      "Mean kld_loss loss: 3.7205;\n",
      "Mean faces_reconstruction loss: 0.0359;\n",
      "Mean emotions_reconstruction loss: 0.0;\n",
      "\n",
      "Emotion losses:\n",
      "Mean total loss: 0.68089;\n",
      "Mean reconstruction loss: 0.01764;\n",
      "Mean kld_loss loss: 6.6325;\n",
      "Mean faces_reconstruction loss: 0.0;\n",
      "Mean emotions_reconstruction loss: 0.01764;\n",
      "\n"
     ]
    },
    {
     "name": "stderr",
     "output_type": "stream",
     "text": [
      "\n"
     ]
    }
   ],
   "source": [
    "training_losses = train(\n",
    "    mvae_model=model,\n",
    "    dataset_loader=dataset_loader,\n",
    "    learning_rate=cfg_train.learning_rate,\n",
    "    optim_betas=cfg_train.optim_betas,\n",
    "    num_epochs=cfg_train.num_epochs,\n",
    "    batch_size=cfg_train.batch_size,\n",
    "    checkpoint_every=cfg_train.checkpoint_every,\n",
    "    checkpoint_path=cfg_train.checkpoint_path,\n",
    "    save_model=cfg_train.save_model,\n",
    "    seed=cfg_train.seed,\n",
    "    use_cuda=cfg_train.use_cuda,\n",
    "    cfg=cfg_train\n",
    ")"
   ]
  },
  {
   "cell_type": "code",
   "execution_count": 7,
   "id": "215534f6",
   "metadata": {},
   "outputs": [],
   "source": [
    "skip_epoch_plot=1"
   ]
  },
  {
   "cell_type": "code",
   "execution_count": 8,
   "id": "d1664ae8",
   "metadata": {},
   "outputs": [
    {
     "data": {
      "text/plain": [
       "<matplotlib.legend.Legend at 0x7fdc9bca6af0>"
      ]
     },
     "execution_count": 8,
     "metadata": {},
     "output_type": "execute_result"
    },
    {
     "data": {
      "image/png": "[encoded data removed]",
      "text/plain": [
       "<Figure size 432x288 with 1 Axes>"
      ]
     },
     "metadata": {
      "needs_background": "light"
     },
     "output_type": "display_data"
    }
   ],
   "source": [
    "plt.title(\"Total loss\")\n",
    "plt.ylabel(\"Loss \")\n",
    "plt.xlabel(\"Epochs \")\n",
    "plt.plot(training_losses['multimodal_loss'].total_loss[skip_epoch_plot:], color='red', label='multimodal')\n",
    "plt.plot(training_losses['emotion_loss'].total_loss[skip_epoch_plot:], color='green', label='emotion')\n",
    "plt.plot(training_losses['face_loss'].total_loss[skip_epoch_plot:], color='blue', label='face')\n",
    "plt.legend(loc=\"upper right\")"
   ]
  },
  {
   "cell_type": "code",
   "execution_count": 9,
   "id": "5ef8c92e",
   "metadata": {},
   "outputs": [
    {
     "data": {
      "text/plain": [
       "<matplotlib.legend.Legend at 0x7fdc90531df0>"
      ]
     },
     "execution_count": 9,
     "metadata": {},
     "output_type": "execute_result"
    },
    {
     "data": {
      "image/png": "[encoded data removed]",
      "text/plain": [
       "<Figure size 432x288 with 1 Axes>"
      ]
     },
     "metadata": {
      "needs_background": "light"
     },
     "output_type": "display_data"
    }
   ],
   "source": [
    "plt.title(\"Reconstruction loss\")\n",
    "plt.ylabel(\"Loss \")\n",
    "plt.xlabel(\"Epochs \")\n",
    "\n",
    "plt.plot(training_losses['multimodal_loss'].reconstruction_loss[skip_epoch_plot:], color='red', label='multimodal')\n",
    "plt.plot(training_losses['emotion_loss'].reconstruction_loss[skip_epoch_plot:], color='green', label='emotion')\n",
    "plt.plot(training_losses['face_loss'].reconstruction_loss[skip_epoch_plot:], color='blue', label='face')\n",
    "plt.legend(loc=\"upper right\")"
   ]
  },
  {
   "cell_type": "code",
   "execution_count": 10,
   "id": "137f69be",
   "metadata": {},
   "outputs": [
    {
     "data": {
      "text/plain": [
       "<matplotlib.legend.Legend at 0x7fdc904b64c0>"
      ]
     },
     "execution_count": 10,
     "metadata": {},
     "output_type": "execute_result"
    },
    {
     "data": {
      "image/png": "[encoded data removed]",
      "text/plain": [
       "<Figure size 432x288 with 1 Axes>"
      ]
     },
     "metadata": {
      "needs_background": "light"
     },
     "output_type": "display_data"
    }
   ],
   "source": [
    "plt.title(\"KLD loss\")\n",
    "plt.ylabel(\"Loss \")\n",
    "plt.xlabel(\"Epochs \")\n",
    "\n",
    "plt.plot(training_losses['multimodal_loss'].kld_loss[skip_epoch_plot:], color='red', label='multimodal')\n",
    "plt.plot(training_losses['emotion_loss'].kld_loss[skip_epoch_plot:], color='green', label='emotion')\n",
    "plt.plot(training_losses['face_loss'].kld_loss[skip_epoch_plot:], color='blue', label='face')\n",
    "plt.legend(loc=\"upper right\")"
   ]
  },
  {
   "cell_type": "code",
   "execution_count": 11,
   "id": "6eacd0d2",
   "metadata": {},
   "outputs": [
    {
     "data": {
      "text/plain": [
       "<matplotlib.legend.Legend at 0x7fdc90488130>"
      ]
     },
     "execution_count": 11,
     "metadata": {},
     "output_type": "execute_result"
    },
    {
     "data": {
      "image/png": "[encoded data removed]",
      "text/plain": [
       "<Figure size 432x288 with 1 Axes>"
      ]
     },
     "metadata": {
      "needs_background": "light"
     },
     "output_type": "display_data"
    }
   ],
   "source": [
    "plt.title(\"Face reconstruction loss\")\n",
    "plt.ylabel(\"Loss\")\n",
    "plt.xlabel(\"Epochs\")\n",
    "\n",
    "plt.plot(training_losses['multimodal_loss'].faces_reconstruction_loss[skip_epoch_plot:], color='red', label='multimodal')\n",
    "#plt.plot(training_losses['emotion_loss'].faces_reconstruction_loss[skip_epoch_plot:], color='green', label='emotion')\n",
    "plt.plot(training_losses['face_loss'].faces_reconstruction_loss[skip_epoch_plot:], color='blue', label='face')\n",
    "plt.legend(loc=\"upper right\")"
   ]
  },
  {
   "cell_type": "code",
   "execution_count": 12,
   "id": "1d33f2eb",
   "metadata": {},
   "outputs": [
    {
     "data": {
      "text/plain": [
       "<matplotlib.legend.Legend at 0x7fdc9040df40>"
      ]
     },
     "execution_count": 12,
     "metadata": {},
     "output_type": "execute_result"
    },
    {
     "data": {
      "image/png": "[encoded data removed]",
      "text/plain": [
       "<Figure size 432x288 with 1 Axes>"
      ]
     },
     "metadata": {
      "needs_background": "light"
     },
     "output_type": "display_data"
    }
   ],
   "source": [
    "plt.title(\"Emotion reconstruction loss\")\n",
    "plt.ylabel(\"Loss \")\n",
    "plt.xlabel(\"Epochs \")\n",
    "\n",
    "plt.plot(training_losses['multimodal_loss'].emotions_reconstruction_loss[skip_epoch_plot:], color='red', label='multimodal')\n",
    "plt.plot(training_losses['emotion_loss'].emotions_reconstruction_loss[skip_epoch_plot:], color='green', label='emotion')\n",
    "#plt.plot(training_losses['face_loss'].emotions_reconstruction_loss[skip_epoch_plot:], color='blue', label='face')\n",
    "plt.legend(loc=\"upper right\")"
   ]
  },
  {
   "cell_type": "code",
   "execution_count": 13,
   "id": "4fbcfda3",
   "metadata": {},
   "outputs": [],
   "source": [
    "def testBatch(model, dataset_loader, img_size=64, use_cuda=True):\n",
    "    sample = next(iter(dataset_loader))\n",
    "    images = sample['image']\n",
    "    labels = sample['cat']\n",
    "    \n",
    "    if use_cuda:\n",
    "        images = images.cuda()\n",
    "        labels = labels.cuda()\n",
    "        \n",
    "    input_array = np.zeros(shape=(img_size, 1, 3), dtype=\"uint8\")\n",
    "    reconstructed_array = np.zeros(shape=(img_size, 1, 3), dtype=\"uint8\")\n",
    "    reconstructed_emotions = []\n",
    "    \n",
    "    plt.figure(figsize = (40,10))\n",
    "    \n",
    "    batch_size = images.shape[0]\n",
    "    \n",
    "    reconstructed_images, reconstructed_emotions, _, _ = model(faces=images, emotions=labels)\n",
    "\n",
    "    for idx in range(4):\n",
    "        input_image = images[idx]\n",
    "        \n",
    "        # storing the input image\n",
    "        input_image_display = np.array(input_image.cpu()*255., dtype='uint8').transpose((1, 2, 0))\n",
    "        input_array = np.concatenate((input_array, input_image_display), axis=1)\n",
    "        \n",
    "        # generating the reconstructed image and adding to array\n",
    "        input_image = input_image.view(1, 3, img_size, img_size)\n",
    "        \n",
    "        reconstructed_img = reconstructed_images[idx].cpu().view(3, img_size, img_size).detach().numpy()\n",
    "        reconstructed_img = np.array(reconstructed_img*255., dtype='uint8').transpose((1, 2, 0))\n",
    "        reconstructed_array = np.concatenate((reconstructed_array, reconstructed_img), axis=1)\n",
    "        \n",
    "    # remove first, blank column, and concatenate\n",
    "    input_array = input_array[:,1:,:]\n",
    "    reconstructed_array = reconstructed_array[:,1:,:]\n",
    "    display_array = np.concatenate((input_array, reconstructed_array), axis=0)\n",
    "    plt.imshow(display_array)\n",
    "    \n",
    "    print([Rd.emocat[label.item()] for label in labels[:4]])\n",
    "    print([Rd.emocat[emo.item()] for emo in torch.argmax(reconstructed_emotions, 1)[:4]])"
   ]
  },
  {
   "cell_type": "code",
   "execution_count": 14,
   "id": "5d1c22ae",
   "metadata": {
    "scrolled": false
   },
   "outputs": [
    {
     "name": "stdout",
     "output_type": "stream",
     "text": [
      "['happy', 'sad', 'happy', 'angry']\n",
      "['happy', 'sad', 'happy', 'angry']\n"
     ]
    },
    {
     "data": {
      "image/png": "[encoded data removed]",
      "text/plain": [
       "<Figure size 2880x720 with 1 Axes>"
      ]
     },
     "metadata": {
      "needs_background": "light"
     },
     "output_type": "display_data"
    }
   ],
   "source": [
    "testBatch(model, testset_loader)"
   ]
  },
  {
   "cell_type": "code",
   "execution_count": 15,
   "id": "3ff09b68",
   "metadata": {},
   "outputs": [],
   "source": [
    "from tqdm import tqdm\n",
    "def emotion_accuracy(model, dataset_loader):\n",
    "    \n",
    "    match = 0\n",
    "    total = 0\n",
    "    \n",
    "    for sample in tqdm(iter(dataset_loader)):\n",
    "        labels = sample['cat'].cuda()\n",
    "                            \n",
    "        _, reconstructed_emotions, _, _ = model(faces=None, emotions=labels)  \n",
    "        emotion_cat = torch.argmax(reconstructed_emotions, 1)  \n",
    "        \n",
    "        for idx in range(len(labels)):\n",
    "            total += 1\n",
    "            if labels[idx] == emotion_cat[idx]:\n",
    "                match += 1\n",
    "    \n",
    "    acc = match / total\n",
    "    return acc"
   ]
  },
  {
   "cell_type": "code",
   "execution_count": 16,
   "id": "bb4cb963",
   "metadata": {},
   "outputs": [
    {
     "name": "stderr",
     "output_type": "stream",
     "text": [
      "100%|████████████████████████████| 12/12 [00:05<00:00,  2.01it/s]"
     ]
    },
    {
     "name": "stdout",
     "output_type": "stream",
     "text": [
      "0.9916666666666667\n"
     ]
    },
    {
     "name": "stderr",
     "output_type": "stream",
     "text": [
      "\n"
     ]
    }
   ],
   "source": [
    "print(emotion_accuracy(model, testset_loader))"
   ]
  },
  {
   "cell_type": "code",
   "execution_count": 17,
   "id": "c406f2d6",
   "metadata": {},
   "outputs": [],
   "source": [
    "save_model = False\n",
    "\n",
    "if save_model:\n",
    "    # Do a global and a local save of the model (local to Hydra outputs)\n",
    "    torch.save(mvae_model.state_dict(), cfg.model_save_path)\n",
    "    torch.save(mvae_model.state_dict(), \"ravdess_mvae_pretrained.pt\")\n",
    "    logger.info(f\"Saved model to '{cfg.train.plain.model_save_path}', and also locally.\")\n",
    "\n",
    "    # Do a global and local save of the training stats (local to Hydra outputs)\n",
    "    torch.save(training_losses, cfg.stats_save_path)\n",
    "    torch.save(training_losses, \"ravdess_mvae_pretrained_stats.pt\")\n",
    "    logger.info(f\"Saved model to '{cfg.train.plain.stats_save_path}', and also locally.\")"
   ]
  }
 ],
 "metadata": {
  "kernelspec": {
   "display_name": "Python 3 (ipykernel)",
   "language": "python",
   "name": "python3"
  },
  "language_info": {
   "codemirror_mode": {
    "name": "ipython",
    "version": 3
   },
   "file_extension": ".py",
   "mimetype": "text/x-python",
   "name": "python",
   "nbconvert_exporter": "python",
   "pygments_lexer": "ipython3",
   "version": "3.9.7"
  }
 },
 "nbformat": 4,
 "nbformat_minor": 5
}
