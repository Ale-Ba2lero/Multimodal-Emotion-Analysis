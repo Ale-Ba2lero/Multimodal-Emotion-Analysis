{
 "cells": [
  {
   "cell_type": "code",
   "execution_count": 1,
   "id": "9a8f36e1",
   "metadata": {},
   "outputs": [],
   "source": [
    "import os, sys; sys.path.append(os.path.dirname(os.getcwd()))"
   ]
  },
  {
   "cell_type": "code",
   "execution_count": 2,
   "id": "17f22e92",
   "metadata": {},
   "outputs": [],
   "source": [
    "import torch\n",
    "from torchvision import transforms\n",
    "from torch.utils.data import DataLoader\n",
    "\n",
    "import numpy as np\n",
    "import matplotlib.pyplot as plt\n",
    "\n",
    "import util.RAVDESS_dataset_util as Rd\n",
    "import multimodal_vae\n",
    "from train_mvae import build_model, train\n",
    "\n",
    "from config_args import ConfigModelArgs, ConfigTrainArgs"
   ]
  },
  {
   "cell_type": "code",
   "execution_count": 3,
   "id": "38e7928d",
   "metadata": {},
   "outputs": [],
   "source": [
    "cfg_model = ConfigModelArgs()\n",
    "cfg_train = ConfigTrainArgs()"
   ]
  },
  {
   "cell_type": "code",
   "execution_count": 4,
   "id": "b6282284",
   "metadata": {},
   "outputs": [
    {
     "name": "stdout",
     "output_type": "stream",
     "text": [
      "training set size:  6840 \n",
      "test set size:  360\n"
     ]
    }
   ],
   "source": [
    "face_dataset = Rd.FaceEmotionDataset(\n",
    "    root_dir=cfg_model.dataset_path,\n",
    "    transform=transforms.Compose\n",
    "    ([\n",
    "        Rd.Rescale(cfg_model.img_size), \n",
    "        Rd.CenterCrop(cfg_model.img_size), \n",
    "        Rd.ToTensor()\n",
    "    ]))\n",
    "\n",
    "trainingset_len = len(face_dataset) // 100 * 95\n",
    "testset_len = len(face_dataset) - trainingset_len\n",
    "training_dataset, testing_dataset = torch.utils.data.random_split(\n",
    "    face_dataset, \n",
    "    [trainingset_len, testset_len],\n",
    "    #generator=torch.Generator().manual_seed(42)\n",
    ")\n",
    "\n",
    "dataset_loader = DataLoader(training_dataset, batch_size=cfg_train.batch_size,\n",
    "                        shuffle=True, num_workers=cfg_train.num_workers)\n",
    "\n",
    "testset_loader = DataLoader(testing_dataset, batch_size=cfg_train.batch_size,\n",
    "                        shuffle=True, num_workers=cfg_train.num_workers)\n",
    "\n",
    "print('training set size: ',trainingset_len,'\\ntest set size: ',testset_len)"
   ]
  },
  {
   "cell_type": "code",
   "execution_count": 5,
   "id": "d5b31254",
   "metadata": {},
   "outputs": [],
   "source": [
    "model: torch.nn.Module = build_model(\n",
    "    cat_dim=cfg_model.cat_dim,\n",
    "    latent_space_dim=cfg_model.z_dim,\n",
    "    hidden_dim=cfg_model.hidden_dim,\n",
    "    num_channels=cfg_model.channel_dim,\n",
    "    loss_weights=cfg_model.loss_weights,\n",
    "    expert_type=cfg_model.expert_type,\n",
    "    use_cuda=True\n",
    ").double()"
   ]
  },
  {
   "cell_type": "code",
   "execution_count": 6,
   "id": "133b91a5",
   "metadata": {
    "scrolled": true
   },
   "outputs": [
    {
     "name": "stderr",
     "output_type": "stream",
     "text": [
      "  1%|▏                         | 1/150 [01:06<2:45:42, 66.73s/it]"
     ]
    },
    {
     "name": "stdout",
     "output_type": "stream",
     "text": [
      "Multimodal losses:\n",
      "Mean total loss: 4.388;\n",
      "Mean reconstruction loss: 0.63145;\n",
      "Mean kld_loss loss: 37.566;\n",
      "Mean faces_reconstruction loss: 0.053916;\n",
      "Mean emotions_reconstruction loss: 0.57753;\n",
      "\n",
      "Face losses:\n",
      "Mean total loss: 5.2777;\n",
      "Mean reconstruction loss: 0.050567;\n",
      "Mean kld_loss loss: 52.271;\n",
      "Mean faces_reconstruction loss: 0.050567;\n",
      "Mean emotions_reconstruction loss: 0.0;\n",
      "\n",
      "Emotion losses:\n",
      "Mean total loss: 1.8838;\n",
      "Mean reconstruction loss: 0.40402;\n",
      "Mean kld_loss loss: 14.798;\n",
      "Mean faces_reconstruction loss: 0.0;\n",
      "Mean emotions_reconstruction loss: 0.40402;\n",
      "\n"
     ]
    },
    {
     "name": "stderr",
     "output_type": "stream",
     "text": [
      "\r",
      "  1%|▎                         | 2/150 [02:18<2:51:42, 69.61s/it]"
     ]
    },
    {
     "name": "stdout",
     "output_type": "stream",
     "text": [
      "Multimodal losses:\n",
      "Mean total loss: 2.8855;\n",
      "Mean reconstruction loss: 0.29423;\n",
      "Mean kld_loss loss: 25.913;\n",
      "Mean faces_reconstruction loss: 0.037832;\n",
      "Mean emotions_reconstruction loss: 0.2564;\n",
      "\n",
      "Face losses:\n",
      "Mean total loss: 1.6296;\n",
      "Mean reconstruction loss: 0.037688;\n",
      "Mean kld_loss loss: 15.92;\n",
      "Mean faces_reconstruction loss: 0.037688;\n",
      "Mean emotions_reconstruction loss: 0.0;\n",
      "\n",
      "Emotion losses:\n",
      "Mean total loss: 1.1952;\n",
      "Mean reconstruction loss: 0.15161;\n",
      "Mean kld_loss loss: 10.436;\n",
      "Mean faces_reconstruction loss: 0.0;\n",
      "Mean emotions_reconstruction loss: 0.15161;\n",
      "\n"
     ]
    },
    {
     "name": "stderr",
     "output_type": "stream",
     "text": [
      "\r",
      "  2%|▌                         | 3/150 [03:24<2:46:36, 68.00s/it]"
     ]
    },
    {
     "name": "stdout",
     "output_type": "stream",
     "text": [
      "Multimodal losses:\n",
      "Mean total loss: 2.6142;\n",
      "Mean reconstruction loss: 0.27659;\n",
      "Mean kld_loss loss: 23.376;\n",
      "Mean faces_reconstruction loss: 0.037178;\n",
      "Mean emotions_reconstruction loss: 0.23941;\n",
      "\n",
      "Face losses:\n",
      "Mean total loss: 1.2241;\n",
      "Mean reconstruction loss: 0.037062;\n",
      "Mean kld_loss loss: 11.871;\n",
      "Mean faces_reconstruction loss: 0.037062;\n",
      "Mean emotions_reconstruction loss: 0.0;\n",
      "\n",
      "Emotion losses:\n",
      "Mean total loss: 1.12;\n",
      "Mean reconstruction loss: 0.137;\n",
      "Mean kld_loss loss: 9.8299;\n",
      "Mean faces_reconstruction loss: 0.0;\n",
      "Mean emotions_reconstruction loss: 0.137;\n",
      "\n"
     ]
    },
    {
     "name": "stderr",
     "output_type": "stream",
     "text": [
      "\r",
      "  3%|▋                         | 4/150 [04:30<2:43:12, 67.07s/it]"
     ]
    },
    {
     "name": "stdout",
     "output_type": "stream",
     "text": [
      "Multimodal losses:\n",
      "Mean total loss: 2.6234;\n",
      "Mean reconstruction loss: 0.28909;\n",
      "Mean kld_loss loss: 23.343;\n",
      "Mean faces_reconstruction loss: 0.037005;\n",
      "Mean emotions_reconstruction loss: 0.25208;\n",
      "\n",
      "Face losses:\n",
      "Mean total loss: 1.1123;\n",
      "Mean reconstruction loss: 0.036913;\n",
      "Mean kld_loss loss: 10.754;\n",
      "Mean faces_reconstruction loss: 0.036913;\n",
      "Mean emotions_reconstruction loss: 0.0;\n",
      "\n",
      "Emotion losses:\n",
      "Mean total loss: 1.1087;\n",
      "Mean reconstruction loss: 0.12055;\n",
      "Mean kld_loss loss: 9.8812;\n",
      "Mean faces_reconstruction loss: 0.0;\n",
      "Mean emotions_reconstruction loss: 0.12055;\n",
      "\n"
     ]
    },
    {
     "name": "stderr",
     "output_type": "stream",
     "text": [
      "\r",
      "  3%|▊                         | 5/150 [05:39<2:43:52, 67.81s/it]"
     ]
    },
    {
     "name": "stdout",
     "output_type": "stream",
     "text": [
      "Multimodal losses:\n",
      "Mean total loss: 2.5374;\n",
      "Mean reconstruction loss: 0.28092;\n",
      "Mean kld_loss loss: 22.565;\n",
      "Mean faces_reconstruction loss: 0.036726;\n",
      "Mean emotions_reconstruction loss: 0.2442;\n",
      "\n",
      "Face losses:\n",
      "Mean total loss: 1.0173;\n",
      "Mean reconstruction loss: 0.036666;\n",
      "Mean kld_loss loss: 9.8061;\n",
      "Mean faces_reconstruction loss: 0.036666;\n",
      "Mean emotions_reconstruction loss: 0.0;\n",
      "\n",
      "Emotion losses:\n",
      "Mean total loss: 1.1085;\n",
      "Mean reconstruction loss: 0.13057;\n",
      "Mean kld_loss loss: 9.7788;\n",
      "Mean faces_reconstruction loss: 0.0;\n",
      "Mean emotions_reconstruction loss: 0.13057;\n",
      "\n"
     ]
    },
    {
     "name": "stderr",
     "output_type": "stream",
     "text": [
      "\r",
      "  4%|█                         | 6/150 [06:48<2:43:42, 68.21s/it]"
     ]
    },
    {
     "name": "stdout",
     "output_type": "stream",
     "text": [
      "Multimodal losses:\n",
      "Mean total loss: 2.4846;\n",
      "Mean reconstruction loss: 0.28956;\n",
      "Mean kld_loss loss: 21.951;\n",
      "Mean faces_reconstruction loss: 0.036598;\n",
      "Mean emotions_reconstruction loss: 0.25296;\n",
      "\n",
      "Face losses:\n",
      "Mean total loss: 0.93786;\n",
      "Mean reconstruction loss: 0.036555;\n",
      "Mean kld_loss loss: 9.013;\n",
      "Mean faces_reconstruction loss: 0.036555;\n",
      "Mean emotions_reconstruction loss: 0.0;\n",
      "\n",
      "Emotion losses:\n",
      "Mean total loss: 1.0938;\n",
      "Mean reconstruction loss: 0.12938;\n",
      "Mean kld_loss loss: 9.6444;\n",
      "Mean faces_reconstruction loss: 0.0;\n",
      "Mean emotions_reconstruction loss: 0.12938;\n",
      "\n"
     ]
    },
    {
     "name": "stderr",
     "output_type": "stream",
     "text": [
      "\r",
      "  5%|█▏                        | 7/150 [08:01<2:46:36, 69.90s/it]"
     ]
    },
    {
     "name": "stdout",
     "output_type": "stream",
     "text": [
      "Multimodal losses:\n",
      "Mean total loss: 2.4767;\n",
      "Mean reconstruction loss: 0.28156;\n",
      "Mean kld_loss loss: 21.952;\n",
      "Mean faces_reconstruction loss: 0.036543;\n",
      "Mean emotions_reconstruction loss: 0.24502;\n",
      "\n",
      "Face losses:\n",
      "Mean total loss: 0.89896;\n",
      "Mean reconstruction loss: 0.036517;\n",
      "Mean kld_loss loss: 8.6244;\n",
      "Mean faces_reconstruction loss: 0.036517;\n",
      "Mean emotions_reconstruction loss: 0.0;\n",
      "\n",
      "Emotion losses:\n",
      "Mean total loss: 1.0857;\n",
      "Mean reconstruction loss: 0.12256;\n",
      "Mean kld_loss loss: 9.6315;\n",
      "Mean faces_reconstruction loss: 0.0;\n",
      "Mean emotions_reconstruction loss: 0.12256;\n",
      "\n"
     ]
    },
    {
     "name": "stderr",
     "output_type": "stream",
     "text": [
      "\r",
      "  5%|█▍                        | 8/150 [09:10<2:44:32, 69.53s/it]"
     ]
    },
    {
     "name": "stdout",
     "output_type": "stream",
     "text": [
      "Multimodal losses:\n",
      "Mean total loss: 2.4212;\n",
      "Mean reconstruction loss: 0.28708;\n",
      "Mean kld_loss loss: 21.341;\n",
      "Mean faces_reconstruction loss: 0.036528;\n",
      "Mean emotions_reconstruction loss: 0.25055;\n",
      "\n",
      "Face losses:\n",
      "Mean total loss: 0.84672;\n",
      "Mean reconstruction loss: 0.036514;\n",
      "Mean kld_loss loss: 8.102;\n",
      "Mean faces_reconstruction loss: 0.036514;\n",
      "Mean emotions_reconstruction loss: 0.0;\n",
      "\n",
      "Emotion losses:\n",
      "Mean total loss: 1.0833;\n",
      "Mean reconstruction loss: 0.1216;\n",
      "Mean kld_loss loss: 9.6171;\n",
      "Mean faces_reconstruction loss: 0.0;\n",
      "Mean emotions_reconstruction loss: 0.1216;\n",
      "\n"
     ]
    },
    {
     "name": "stderr",
     "output_type": "stream",
     "text": [
      "\r",
      "  6%|█▌                        | 9/150 [10:18<2:42:35, 69.19s/it]"
     ]
    },
    {
     "name": "stdout",
     "output_type": "stream",
     "text": [
      "Multimodal losses:\n",
      "Mean total loss: 2.3832;\n",
      "Mean reconstruction loss: 0.28561;\n",
      "Mean kld_loss loss: 20.976;\n",
      "Mean faces_reconstruction loss: 0.036466;\n",
      "Mean emotions_reconstruction loss: 0.24915;\n",
      "\n",
      "Face losses:\n",
      "Mean total loss: 0.77637;\n",
      "Mean reconstruction loss: 0.036465;\n",
      "Mean kld_loss loss: 7.399;\n",
      "Mean faces_reconstruction loss: 0.036465;\n",
      "Mean emotions_reconstruction loss: 0.0;\n",
      "\n",
      "Emotion losses:\n",
      "Mean total loss: 1.0687;\n",
      "Mean reconstruction loss: 0.12653;\n",
      "Mean kld_loss loss: 9.4215;\n",
      "Mean faces_reconstruction loss: 0.0;\n",
      "Mean emotions_reconstruction loss: 0.12653;\n",
      "\n"
     ]
    },
    {
     "name": "stderr",
     "output_type": "stream",
     "text": [
      "\r",
      "  7%|█▋                       | 10/150 [11:27<2:41:16, 69.12s/it]"
     ]
    },
    {
     "name": "stdout",
     "output_type": "stream",
     "text": [
      "Multimodal losses:\n",
      "Mean total loss: 2.3759;\n",
      "Mean reconstruction loss: 0.28851;\n",
      "Mean kld_loss loss: 20.874;\n",
      "Mean faces_reconstruction loss: 0.036403;\n",
      "Mean emotions_reconstruction loss: 0.2521;\n",
      "\n",
      "Face losses:\n",
      "Mean total loss: 0.72478;\n",
      "Mean reconstruction loss: 0.036414;\n",
      "Mean kld_loss loss: 6.8836;\n",
      "Mean faces_reconstruction loss: 0.036414;\n",
      "Mean emotions_reconstruction loss: 0.0;\n",
      "\n",
      "Emotion losses:\n",
      "Mean total loss: 1.0657;\n",
      "Mean reconstruction loss: 0.11771;\n",
      "Mean kld_loss loss: 9.4802;\n",
      "Mean faces_reconstruction loss: 0.0;\n",
      "Mean emotions_reconstruction loss: 0.11771;\n",
      "\n"
     ]
    },
    {
     "name": "stderr",
     "output_type": "stream",
     "text": [
      "\r",
      "  7%|█▊                       | 11/150 [12:37<2:40:14, 69.17s/it]"
     ]
    },
    {
     "name": "stdout",
     "output_type": "stream",
     "text": [
      "Multimodal losses:\n",
      "Mean total loss: 2.3459;\n",
      "Mean reconstruction loss: 0.28816;\n",
      "Mean kld_loss loss: 20.578;\n",
      "Mean faces_reconstruction loss: 0.036288;\n",
      "Mean emotions_reconstruction loss: 0.25187;\n",
      "\n",
      "Face losses:\n",
      "Mean total loss: 0.68719;\n",
      "Mean reconstruction loss: 0.036318;\n",
      "Mean kld_loss loss: 6.5087;\n",
      "Mean faces_reconstruction loss: 0.036318;\n",
      "Mean emotions_reconstruction loss: 0.0;\n",
      "\n",
      "Emotion losses:\n",
      "Mean total loss: 1.0558;\n",
      "Mean reconstruction loss: 0.11921;\n",
      "Mean kld_loss loss: 9.3657;\n",
      "Mean faces_reconstruction loss: 0.0;\n",
      "Mean emotions_reconstruction loss: 0.11921;\n",
      "\n"
     ]
    },
    {
     "name": "stderr",
     "output_type": "stream",
     "text": [
      "\r",
      "  8%|██                       | 12/150 [13:48<2:40:46, 69.90s/it]"
     ]
    },
    {
     "name": "stdout",
     "output_type": "stream",
     "text": [
      "Multimodal losses:\n",
      "Mean total loss: 2.3143;\n",
      "Mean reconstruction loss: 0.28355;\n",
      "Mean kld_loss loss: 20.307;\n",
      "Mean faces_reconstruction loss: 0.03633;\n",
      "Mean emotions_reconstruction loss: 0.24722;\n",
      "\n",
      "Face losses:\n",
      "Mean total loss: 0.64436;\n",
      "Mean reconstruction loss: 0.036368;\n",
      "Mean kld_loss loss: 6.08;\n",
      "Mean faces_reconstruction loss: 0.036368;\n",
      "Mean emotions_reconstruction loss: 0.0;\n",
      "\n",
      "Emotion losses:\n",
      "Mean total loss: 1.0574;\n",
      "Mean reconstruction loss: 0.12671;\n",
      "Mean kld_loss loss: 9.3071;\n",
      "Mean faces_reconstruction loss: 0.0;\n",
      "Mean emotions_reconstruction loss: 0.12671;\n",
      "\n"
     ]
    },
    {
     "name": "stderr",
     "output_type": "stream",
     "text": [
      "\r",
      "  9%|██▏                      | 13/150 [14:54<2:36:36, 68.59s/it]"
     ]
    },
    {
     "name": "stdout",
     "output_type": "stream",
     "text": [
      "Multimodal losses:\n",
      "Mean total loss: 2.2773;\n",
      "Mean reconstruction loss: 0.27525;\n",
      "Mean kld_loss loss: 20.021;\n",
      "Mean faces_reconstruction loss: 0.036206;\n",
      "Mean emotions_reconstruction loss: 0.23904;\n",
      "\n",
      "Face losses:\n",
      "Mean total loss: 0.60538;\n",
      "Mean reconstruction loss: 0.036277;\n",
      "Mean kld_loss loss: 5.691;\n",
      "Mean faces_reconstruction loss: 0.036277;\n",
      "Mean emotions_reconstruction loss: 0.0;\n",
      "\n",
      "Emotion losses:\n",
      "Mean total loss: 1.0324;\n",
      "Mean reconstruction loss: 0.11406;\n",
      "Mean kld_loss loss: 9.1832;\n",
      "Mean faces_reconstruction loss: 0.0;\n",
      "Mean emotions_reconstruction loss: 0.11406;\n",
      "\n"
     ]
    },
    {
     "name": "stderr",
     "output_type": "stream",
     "text": [
      "\r",
      "  9%|██▎                      | 14/150 [16:01<2:34:50, 68.31s/it]"
     ]
    },
    {
     "name": "stdout",
     "output_type": "stream",
     "text": [
      "Multimodal losses:\n",
      "Mean total loss: 2.2728;\n",
      "Mean reconstruction loss: 0.28488;\n",
      "Mean kld_loss loss: 19.879;\n",
      "Mean faces_reconstruction loss: 0.036232;\n",
      "Mean emotions_reconstruction loss: 0.24864;\n",
      "\n",
      "Face losses:\n",
      "Mean total loss: 0.59265;\n",
      "Mean reconstruction loss: 0.036302;\n",
      "Mean kld_loss loss: 5.5635;\n",
      "Mean faces_reconstruction loss: 0.036302;\n",
      "Mean emotions_reconstruction loss: 0.0;\n",
      "\n",
      "Emotion losses:\n",
      "Mean total loss: 1.0461;\n",
      "Mean reconstruction loss: 0.12166;\n",
      "Mean kld_loss loss: 9.2444;\n",
      "Mean faces_reconstruction loss: 0.0;\n",
      "Mean emotions_reconstruction loss: 0.12166;\n",
      "\n"
     ]
    },
    {
     "name": "stderr",
     "output_type": "stream",
     "text": [
      "\r",
      " 10%|██▌                      | 15/150 [17:06<2:31:29, 67.33s/it]"
     ]
    },
    {
     "name": "stdout",
     "output_type": "stream",
     "text": [
      "Multimodal losses:\n",
      "Mean total loss: 2.2368;\n",
      "Mean reconstruction loss: 0.28481;\n",
      "Mean kld_loss loss: 19.52;\n",
      "Mean faces_reconstruction loss: 0.036223;\n",
      "Mean emotions_reconstruction loss: 0.24858;\n",
      "\n",
      "Face losses:\n",
      "Mean total loss: 0.55196;\n",
      "Mean reconstruction loss: 0.036298;\n",
      "Mean kld_loss loss: 5.1566;\n",
      "Mean faces_reconstruction loss: 0.036298;\n",
      "Mean emotions_reconstruction loss: 0.0;\n",
      "\n",
      "Emotion losses:\n",
      "Mean total loss: 1.031;\n",
      "Mean reconstruction loss: 0.11971;\n",
      "Mean kld_loss loss: 9.1127;\n",
      "Mean faces_reconstruction loss: 0.0;\n",
      "Mean emotions_reconstruction loss: 0.11971;\n",
      "\n"
     ]
    },
    {
     "name": "stderr",
     "output_type": "stream",
     "text": [
      "\r",
      " 11%|██▋                      | 16/150 [18:17<2:32:38, 68.35s/it]"
     ]
    },
    {
     "name": "stdout",
     "output_type": "stream",
     "text": [
      "Multimodal losses:\n",
      "Mean total loss: 2.222;\n",
      "Mean reconstruction loss: 0.27744;\n",
      "Mean kld_loss loss: 19.446;\n",
      "Mean faces_reconstruction loss: 0.036182;\n",
      "Mean emotions_reconstruction loss: 0.24126;\n",
      "\n",
      "Face losses:\n",
      "Mean total loss: 0.52619;\n",
      "Mean reconstruction loss: 0.036262;\n",
      "Mean kld_loss loss: 4.8993;\n",
      "Mean faces_reconstruction loss: 0.036262;\n",
      "Mean emotions_reconstruction loss: 0.0;\n",
      "\n",
      "Emotion losses:\n",
      "Mean total loss: 1.0425;\n",
      "Mean reconstruction loss: 0.11854;\n",
      "Mean kld_loss loss: 9.2397;\n",
      "Mean faces_reconstruction loss: 0.0;\n",
      "Mean emotions_reconstruction loss: 0.11854;\n",
      "\n"
     ]
    },
    {
     "name": "stderr",
     "output_type": "stream",
     "text": [
      "\r",
      " 11%|██▊                      | 17/150 [19:28<2:33:01, 69.04s/it]"
     ]
    },
    {
     "name": "stdout",
     "output_type": "stream",
     "text": [
      "Multimodal losses:\n",
      "Mean total loss: 2.223;\n",
      "Mean reconstruction loss: 0.29395;\n",
      "Mean kld_loss loss: 19.29;\n",
      "Mean faces_reconstruction loss: 0.036173;\n",
      "Mean emotions_reconstruction loss: 0.25778;\n",
      "\n",
      "Face losses:\n",
      "Mean total loss: 0.50146;\n",
      "Mean reconstruction loss: 0.036245;\n",
      "Mean kld_loss loss: 4.6522;\n",
      "Mean faces_reconstruction loss: 0.036245;\n",
      "Mean emotions_reconstruction loss: 0.0;\n",
      "\n",
      "Emotion losses:\n",
      "Mean total loss: 1.0329;\n",
      "Mean reconstruction loss: 0.11387;\n",
      "Mean kld_loss loss: 9.1905;\n",
      "Mean faces_reconstruction loss: 0.0;\n",
      "Mean emotions_reconstruction loss: 0.11387;\n",
      "\n"
     ]
    },
    {
     "name": "stderr",
     "output_type": "stream",
     "text": [
      "\r",
      " 12%|███                      | 18/150 [20:36<2:31:12, 68.73s/it]"
     ]
    },
    {
     "name": "stdout",
     "output_type": "stream",
     "text": [
      "Multimodal losses:\n",
      "Mean total loss: 2.214;\n",
      "Mean reconstruction loss: 0.28909;\n",
      "Mean kld_loss loss: 19.249;\n",
      "Mean faces_reconstruction loss: 0.036113;\n",
      "Mean emotions_reconstruction loss: 0.25298;\n",
      "\n",
      "Face losses:\n",
      "Mean total loss: 0.47978;\n",
      "Mean reconstruction loss: 0.036215;\n",
      "Mean kld_loss loss: 4.4356;\n",
      "Mean faces_reconstruction loss: 0.036215;\n",
      "Mean emotions_reconstruction loss: 0.0;\n",
      "\n",
      "Emotion losses:\n",
      "Mean total loss: 1.0334;\n",
      "Mean reconstruction loss: 0.11653;\n",
      "Mean kld_loss loss: 9.1686;\n",
      "Mean faces_reconstruction loss: 0.0;\n",
      "Mean emotions_reconstruction loss: 0.11653;\n",
      "\n"
     ]
    },
    {
     "name": "stderr",
     "output_type": "stream",
     "text": [
      "\r",
      " 13%|███▏                     | 19/150 [21:44<2:29:28, 68.46s/it]"
     ]
    },
    {
     "name": "stdout",
     "output_type": "stream",
     "text": [
      "Multimodal losses:\n",
      "Mean total loss: 2.2462;\n",
      "Mean reconstruction loss: 0.29311;\n",
      "Mean kld_loss loss: 19.531;\n",
      "Mean faces_reconstruction loss: 0.036098;\n",
      "Mean emotions_reconstruction loss: 0.25701;\n",
      "\n",
      "Face losses:\n",
      "Mean total loss: 0.5993;\n",
      "Mean reconstruction loss: 0.036202;\n",
      "Mean kld_loss loss: 5.631;\n",
      "Mean faces_reconstruction loss: 0.036202;\n",
      "Mean emotions_reconstruction loss: 0.0;\n",
      "\n",
      "Emotion losses:\n",
      "Mean total loss: 1.0401;\n",
      "Mean reconstruction loss: 0.1155;\n",
      "Mean kld_loss loss: 9.2461;\n",
      "Mean faces_reconstruction loss: 0.0;\n",
      "Mean emotions_reconstruction loss: 0.1155;\n",
      "\n"
     ]
    },
    {
     "name": "stderr",
     "output_type": "stream",
     "text": [
      "\r",
      " 13%|███▎                     | 20/150 [22:51<2:27:42, 68.17s/it]"
     ]
    },
    {
     "name": "stdout",
     "output_type": "stream",
     "text": [
      "Multimodal losses:\n",
      "Mean total loss: 2.2078;\n",
      "Mean reconstruction loss: 0.29408;\n",
      "Mean kld_loss loss: 19.138;\n",
      "Mean faces_reconstruction loss: 0.036093;\n",
      "Mean emotions_reconstruction loss: 0.25799;\n",
      "\n",
      "Face losses:\n",
      "Mean total loss: 0.43846;\n",
      "Mean reconstruction loss: 0.036186;\n",
      "Mean kld_loss loss: 4.0227;\n",
      "Mean faces_reconstruction loss: 0.036186;\n",
      "Mean emotions_reconstruction loss: 0.0;\n",
      "\n",
      "Emotion losses:\n",
      "Mean total loss: 1.0302;\n",
      "Mean reconstruction loss: 0.11818;\n",
      "Mean kld_loss loss: 9.1199;\n",
      "Mean faces_reconstruction loss: 0.0;\n",
      "Mean emotions_reconstruction loss: 0.11818;\n",
      "\n"
     ]
    },
    {
     "name": "stderr",
     "output_type": "stream",
     "text": [
      "\r",
      " 14%|███▌                     | 21/150 [24:00<2:27:02, 68.39s/it]"
     ]
    },
    {
     "name": "stdout",
     "output_type": "stream",
     "text": [
      "Multimodal losses:\n",
      "Mean total loss: 2.1652;\n",
      "Mean reconstruction loss: 0.28924;\n",
      "Mean kld_loss loss: 18.759;\n",
      "Mean faces_reconstruction loss: 0.036058;\n",
      "Mean emotions_reconstruction loss: 0.25318;\n",
      "\n",
      "Face losses:\n",
      "Mean total loss: 0.41828;\n",
      "Mean reconstruction loss: 0.036174;\n",
      "Mean kld_loss loss: 3.8211;\n",
      "Mean faces_reconstruction loss: 0.036174;\n",
      "Mean emotions_reconstruction loss: 0.0;\n",
      "\n",
      "Emotion losses:\n",
      "Mean total loss: 1.0074;\n",
      "Mean reconstruction loss: 0.10564;\n",
      "Mean kld_loss loss: 9.0178;\n",
      "Mean faces_reconstruction loss: 0.0;\n",
      "Mean emotions_reconstruction loss: 0.10564;\n",
      "\n"
     ]
    },
    {
     "name": "stderr",
     "output_type": "stream",
     "text": [
      "\r",
      " 15%|███▋                     | 22/150 [25:09<2:26:31, 68.69s/it]"
     ]
    },
    {
     "name": "stdout",
     "output_type": "stream",
     "text": [
      "Multimodal losses:\n",
      "Mean total loss: 2.1453;\n",
      "Mean reconstruction loss: 0.27995;\n",
      "Mean kld_loss loss: 18.653;\n",
      "Mean faces_reconstruction loss: 0.03602;\n",
      "Mean emotions_reconstruction loss: 0.24393;\n",
      "\n",
      "Face losses:\n",
      "Mean total loss: 0.40827;\n",
      "Mean reconstruction loss: 0.036127;\n",
      "Mean kld_loss loss: 3.7214;\n",
      "Mean faces_reconstruction loss: 0.036127;\n",
      "Mean emotions_reconstruction loss: 0.0;\n",
      "\n",
      "Emotion losses:\n",
      "Mean total loss: 1.0254;\n",
      "Mean reconstruction loss: 0.12052;\n",
      "Mean kld_loss loss: 9.0489;\n",
      "Mean faces_reconstruction loss: 0.0;\n",
      "Mean emotions_reconstruction loss: 0.12052;\n",
      "\n"
     ]
    },
    {
     "name": "stderr",
     "output_type": "stream",
     "text": [
      "\r",
      " 15%|███▊                     | 23/150 [26:17<2:24:31, 68.28s/it]"
     ]
    },
    {
     "name": "stdout",
     "output_type": "stream",
     "text": [
      "Multimodal losses:\n",
      "Mean total loss: 2.1508;\n",
      "Mean reconstruction loss: 0.28667;\n",
      "Mean kld_loss loss: 18.641;\n",
      "Mean faces_reconstruction loss: 0.036015;\n",
      "Mean emotions_reconstruction loss: 0.25066;\n",
      "\n",
      "Face losses:\n",
      "Mean total loss: 0.39173;\n",
      "Mean reconstruction loss: 0.036132;\n",
      "Mean kld_loss loss: 3.556;\n",
      "Mean faces_reconstruction loss: 0.036132;\n",
      "Mean emotions_reconstruction loss: 0.0;\n",
      "\n",
      "Emotion losses:\n",
      "Mean total loss: 1.022;\n",
      "Mean reconstruction loss: 0.11444;\n",
      "Mean kld_loss loss: 9.0751;\n",
      "Mean faces_reconstruction loss: 0.0;\n",
      "Mean emotions_reconstruction loss: 0.11444;\n",
      "\n"
     ]
    },
    {
     "name": "stderr",
     "output_type": "stream",
     "text": [
      "\r",
      " 16%|████                     | 24/150 [27:26<2:23:53, 68.52s/it]"
     ]
    },
    {
     "name": "stdout",
     "output_type": "stream",
     "text": [
      "Multimodal losses:\n",
      "Mean total loss: 2.1365;\n",
      "Mean reconstruction loss: 0.28609;\n",
      "Mean kld_loss loss: 18.504;\n",
      "Mean faces_reconstruction loss: 0.036034;\n",
      "Mean emotions_reconstruction loss: 0.25006;\n",
      "\n",
      "Face losses:\n",
      "Mean total loss: 0.37489;\n",
      "Mean reconstruction loss: 0.036154;\n",
      "Mean kld_loss loss: 3.3873;\n",
      "Mean faces_reconstruction loss: 0.036154;\n",
      "Mean emotions_reconstruction loss: 0.0;\n",
      "\n",
      "Emotion losses:\n",
      "Mean total loss: 1.0158;\n",
      "Mean reconstruction loss: 0.11249;\n",
      "Mean kld_loss loss: 9.0332;\n",
      "Mean faces_reconstruction loss: 0.0;\n",
      "Mean emotions_reconstruction loss: 0.11249;\n",
      "\n"
     ]
    },
    {
     "name": "stderr",
     "output_type": "stream",
     "text": [
      "\r",
      " 17%|████▏                    | 25/150 [28:36<2:23:36, 68.94s/it]"
     ]
    },
    {
     "name": "stdout",
     "output_type": "stream",
     "text": [
      "Multimodal losses:\n",
      "Mean total loss: 2.1376;\n",
      "Mean reconstruction loss: 0.29874;\n",
      "Mean kld_loss loss: 18.389;\n",
      "Mean faces_reconstruction loss: 0.035994;\n",
      "Mean emotions_reconstruction loss: 0.26275;\n",
      "\n",
      "Face losses:\n",
      "Mean total loss: 0.36245;\n",
      "Mean reconstruction loss: 0.036129;\n",
      "Mean kld_loss loss: 3.2632;\n",
      "Mean faces_reconstruction loss: 0.036129;\n",
      "Mean emotions_reconstruction loss: 0.0;\n",
      "\n",
      "Emotion losses:\n",
      "Mean total loss: 1.0002;\n",
      "Mean reconstruction loss: 0.0978;\n",
      "Mean kld_loss loss: 9.024;\n",
      "Mean faces_reconstruction loss: 0.0;\n",
      "Mean emotions_reconstruction loss: 0.0978;\n",
      "\n"
     ]
    },
    {
     "name": "stderr",
     "output_type": "stream",
     "text": [
      "\r",
      " 17%|████▎                    | 26/150 [29:46<2:23:15, 69.32s/it]"
     ]
    },
    {
     "name": "stdout",
     "output_type": "stream",
     "text": [
      "Multimodal losses:\n",
      "Mean total loss: 2.1266;\n",
      "Mean reconstruction loss: 0.27588;\n",
      "Mean kld_loss loss: 18.507;\n",
      "Mean faces_reconstruction loss: 0.036016;\n",
      "Mean emotions_reconstruction loss: 0.23987;\n",
      "\n",
      "Face losses:\n",
      "Mean total loss: 0.37117;\n",
      "Mean reconstruction loss: 0.036131;\n",
      "Mean kld_loss loss: 3.3504;\n",
      "Mean faces_reconstruction loss: 0.036131;\n",
      "Mean emotions_reconstruction loss: 0.0;\n",
      "\n",
      "Emotion losses:\n",
      "Mean total loss: 1.0215;\n",
      "Mean reconstruction loss: 0.12168;\n",
      "Mean kld_loss loss: 8.9981;\n",
      "Mean faces_reconstruction loss: 0.0;\n",
      "Mean emotions_reconstruction loss: 0.12168;\n",
      "\n"
     ]
    },
    {
     "name": "stderr",
     "output_type": "stream",
     "text": [
      "\r",
      " 18%|████▌                    | 27/150 [30:53<2:20:34, 68.58s/it]"
     ]
    },
    {
     "name": "stdout",
     "output_type": "stream",
     "text": [
      "Multimodal losses:\n",
      "Mean total loss: 2.1086;\n",
      "Mean reconstruction loss: 0.29732;\n",
      "Mean kld_loss loss: 18.113;\n",
      "Mean faces_reconstruction loss: 0.035997;\n",
      "Mean emotions_reconstruction loss: 0.26133;\n",
      "\n",
      "Face losses:\n",
      "Mean total loss: 0.34652;\n",
      "Mean reconstruction loss: 0.036123;\n",
      "Mean kld_loss loss: 3.104;\n",
      "Mean faces_reconstruction loss: 0.036123;\n",
      "Mean emotions_reconstruction loss: 0.0;\n",
      "\n",
      "Emotion losses:\n",
      "Mean total loss: 1.0035;\n",
      "Mean reconstruction loss: 0.10461;\n",
      "Mean kld_loss loss: 8.9889;\n",
      "Mean faces_reconstruction loss: 0.0;\n",
      "Mean emotions_reconstruction loss: 0.10461;\n",
      "\n"
     ]
    },
    {
     "name": "stderr",
     "output_type": "stream",
     "text": [
      "\r",
      " 19%|████▋                    | 28/150 [31:59<2:17:47, 67.76s/it]"
     ]
    },
    {
     "name": "stdout",
     "output_type": "stream",
     "text": [
      "Multimodal losses:\n",
      "Mean total loss: 2.1;\n",
      "Mean reconstruction loss: 0.29141;\n",
      "Mean kld_loss loss: 18.086;\n",
      "Mean faces_reconstruction loss: 0.035992;\n",
      "Mean emotions_reconstruction loss: 0.25541;\n",
      "\n",
      "Face losses:\n",
      "Mean total loss: 0.33988;\n",
      "Mean reconstruction loss: 0.03612;\n",
      "Mean kld_loss loss: 3.0376;\n",
      "Mean faces_reconstruction loss: 0.03612;\n",
      "Mean emotions_reconstruction loss: 0.0;\n",
      "\n",
      "Emotion losses:\n",
      "Mean total loss: 1.0091;\n",
      "Mean reconstruction loss: 0.11115;\n",
      "Mean kld_loss loss: 8.9797;\n",
      "Mean faces_reconstruction loss: 0.0;\n",
      "Mean emotions_reconstruction loss: 0.11115;\n",
      "\n"
     ]
    },
    {
     "name": "stderr",
     "output_type": "stream",
     "text": [
      "\r",
      " 19%|████▊                    | 29/150 [33:05<2:15:39, 67.27s/it]"
     ]
    },
    {
     "name": "stdout",
     "output_type": "stream",
     "text": [
      "Multimodal losses:\n",
      "Mean total loss: 2.0881;\n",
      "Mean reconstruction loss: 0.29201;\n",
      "Mean kld_loss loss: 17.961;\n",
      "Mean faces_reconstruction loss: 0.035991;\n",
      "Mean emotions_reconstruction loss: 0.25602;\n",
      "\n",
      "Face losses:\n",
      "Mean total loss: 0.34707;\n",
      "Mean reconstruction loss: 0.03612;\n",
      "Mean kld_loss loss: 3.1095;\n",
      "Mean faces_reconstruction loss: 0.03612;\n",
      "Mean emotions_reconstruction loss: 0.0;\n",
      "\n",
      "Emotion losses:\n",
      "Mean total loss: 1.0076;\n",
      "Mean reconstruction loss: 0.11533;\n",
      "Mean kld_loss loss: 8.923;\n",
      "Mean faces_reconstruction loss: 0.0;\n",
      "Mean emotions_reconstruction loss: 0.11533;\n",
      "\n"
     ]
    },
    {
     "name": "stderr",
     "output_type": "stream",
     "text": [
      "\r",
      " 20%|█████                    | 30/150 [34:14<2:15:43, 67.86s/it]"
     ]
    },
    {
     "name": "stdout",
     "output_type": "stream",
     "text": [
      "Multimodal losses:\n",
      "Mean total loss: 2.0873;\n",
      "Mean reconstruction loss: 0.29681;\n",
      "Mean kld_loss loss: 17.905;\n",
      "Mean faces_reconstruction loss: 0.036033;\n",
      "Mean emotions_reconstruction loss: 0.26078;\n",
      "\n",
      "Face losses:\n",
      "Mean total loss: 0.3305;\n",
      "Mean reconstruction loss: 0.036153;\n",
      "Mean kld_loss loss: 2.9435;\n",
      "Mean faces_reconstruction loss: 0.036153;\n",
      "Mean emotions_reconstruction loss: 0.0;\n",
      "\n",
      "Emotion losses:\n",
      "Mean total loss: 1.0019;\n",
      "Mean reconstruction loss: 0.10972;\n",
      "Mean kld_loss loss: 8.9214;\n",
      "Mean faces_reconstruction loss: 0.0;\n",
      "Mean emotions_reconstruction loss: 0.10972;\n",
      "\n"
     ]
    },
    {
     "name": "stderr",
     "output_type": "stream",
     "text": [
      "\r",
      " 21%|█████▏                   | 31/150 [35:20<2:13:41, 67.41s/it]"
     ]
    },
    {
     "name": "stdout",
     "output_type": "stream",
     "text": [
      "Multimodal losses:\n",
      "Mean total loss: 2.0881;\n",
      "Mean reconstruction loss: 0.30062;\n",
      "Mean kld_loss loss: 17.875;\n",
      "Mean faces_reconstruction loss: 0.035962;\n",
      "Mean emotions_reconstruction loss: 0.26466;\n",
      "\n",
      "Face losses:\n",
      "Mean total loss: 0.32265;\n",
      "Mean reconstruction loss: 0.036105;\n",
      "Mean kld_loss loss: 2.8655;\n",
      "Mean faces_reconstruction loss: 0.036105;\n",
      "Mean emotions_reconstruction loss: 0.0;\n",
      "\n",
      "Emotion losses:\n",
      "Mean total loss: 0.99833;\n",
      "Mean reconstruction loss: 0.10868;\n",
      "Mean kld_loss loss: 8.8965;\n",
      "Mean faces_reconstruction loss: 0.0;\n",
      "Mean emotions_reconstruction loss: 0.10868;\n",
      "\n"
     ]
    },
    {
     "name": "stderr",
     "output_type": "stream",
     "text": [
      "\r",
      " 21%|█████▎                   | 32/150 [36:27<2:12:21, 67.30s/it]"
     ]
    },
    {
     "name": "stdout",
     "output_type": "stream",
     "text": [
      "Multimodal losses:\n",
      "Mean total loss: 2.0868;\n",
      "Mean reconstruction loss: 0.29228;\n",
      "Mean kld_loss loss: 17.945;\n",
      "Mean faces_reconstruction loss: 0.035979;\n",
      "Mean emotions_reconstruction loss: 0.2563;\n",
      "\n",
      "Face losses:\n",
      "Mean total loss: 0.32468;\n",
      "Mean reconstruction loss: 0.036124;\n",
      "Mean kld_loss loss: 2.8856;\n",
      "Mean faces_reconstruction loss: 0.036124;\n",
      "Mean emotions_reconstruction loss: 0.0;\n",
      "\n",
      "Emotion losses:\n",
      "Mean total loss: 0.99751;\n",
      "Mean reconstruction loss: 0.10394;\n",
      "Mean kld_loss loss: 8.9357;\n",
      "Mean faces_reconstruction loss: 0.0;\n",
      "Mean emotions_reconstruction loss: 0.10394;\n",
      "\n"
     ]
    },
    {
     "name": "stderr",
     "output_type": "stream",
     "text": [
      "\r",
      " 22%|█████▌                   | 33/150 [37:37<2:12:50, 68.12s/it]"
     ]
    },
    {
     "name": "stdout",
     "output_type": "stream",
     "text": [
      "Multimodal losses:\n",
      "Mean total loss: 2.0584;\n",
      "Mean reconstruction loss: 0.2847;\n",
      "Mean kld_loss loss: 17.737;\n",
      "Mean faces_reconstruction loss: 0.036001;\n",
      "Mean emotions_reconstruction loss: 0.2487;\n",
      "\n",
      "Face losses:\n",
      "Mean total loss: 0.31552;\n",
      "Mean reconstruction loss: 0.036137;\n",
      "Mean kld_loss loss: 2.7938;\n",
      "Mean faces_reconstruction loss: 0.036137;\n",
      "Mean emotions_reconstruction loss: 0.0;\n",
      "\n",
      "Emotion losses:\n",
      "Mean total loss: 0.99446;\n",
      "Mean reconstruction loss: 0.10621;\n",
      "Mean kld_loss loss: 8.8825;\n",
      "Mean faces_reconstruction loss: 0.0;\n",
      "Mean emotions_reconstruction loss: 0.10621;\n",
      "\n"
     ]
    },
    {
     "name": "stderr",
     "output_type": "stream",
     "text": [
      "\r",
      " 23%|█████▋                   | 34/150 [38:45<2:11:38, 68.09s/it]"
     ]
    },
    {
     "name": "stdout",
     "output_type": "stream",
     "text": [
      "Multimodal losses:\n",
      "Mean total loss: 2.0529;\n",
      "Mean reconstruction loss: 0.29046;\n",
      "Mean kld_loss loss: 17.625;\n",
      "Mean faces_reconstruction loss: 0.035966;\n",
      "Mean emotions_reconstruction loss: 0.25449;\n",
      "\n",
      "Face losses:\n",
      "Mean total loss: 0.3119;\n",
      "Mean reconstruction loss: 0.03611;\n",
      "Mean kld_loss loss: 2.7579;\n",
      "Mean faces_reconstruction loss: 0.03611;\n",
      "Mean emotions_reconstruction loss: 0.0;\n",
      "\n",
      "Emotion losses:\n",
      "Mean total loss: 0.98278;\n",
      "Mean reconstruction loss: 0.10014;\n",
      "Mean kld_loss loss: 8.8264;\n",
      "Mean faces_reconstruction loss: 0.0;\n",
      "Mean emotions_reconstruction loss: 0.10014;\n",
      "\n"
     ]
    },
    {
     "name": "stderr",
     "output_type": "stream",
     "text": [
      "\r",
      " 23%|█████▊                   | 35/150 [39:54<2:10:51, 68.27s/it]"
     ]
    },
    {
     "name": "stdout",
     "output_type": "stream",
     "text": [
      "Multimodal losses:\n",
      "Mean total loss: 2.0471;\n",
      "Mean reconstruction loss: 0.29508;\n",
      "Mean kld_loss loss: 17.52;\n",
      "Mean faces_reconstruction loss: 0.03592;\n",
      "Mean emotions_reconstruction loss: 0.25916;\n",
      "\n",
      "Face losses:\n",
      "Mean total loss: 0.31271;\n",
      "Mean reconstruction loss: 0.036084;\n",
      "Mean kld_loss loss: 2.7663;\n",
      "Mean faces_reconstruction loss: 0.036084;\n",
      "Mean emotions_reconstruction loss: 0.0;\n",
      "\n",
      "Emotion losses:\n",
      "Mean total loss: 0.99473;\n",
      "Mean reconstruction loss: 0.11651;\n",
      "Mean kld_loss loss: 8.7822;\n",
      "Mean faces_reconstruction loss: 0.0;\n",
      "Mean emotions_reconstruction loss: 0.11651;\n",
      "\n"
     ]
    },
    {
     "name": "stderr",
     "output_type": "stream",
     "text": [
      "\r",
      " 24%|██████                   | 36/150 [41:03<2:09:50, 68.34s/it]"
     ]
    },
    {
     "name": "stdout",
     "output_type": "stream",
     "text": [
      "Multimodal losses:\n",
      "Mean total loss: 2.024;\n",
      "Mean reconstruction loss: 0.27527;\n",
      "Mean kld_loss loss: 17.487;\n",
      "Mean faces_reconstruction loss: 0.03594;\n",
      "Mean emotions_reconstruction loss: 0.23933;\n",
      "\n",
      "Face losses:\n",
      "Mean total loss: 0.3111;\n",
      "Mean reconstruction loss: 0.036094;\n",
      "Mean kld_loss loss: 2.7501;\n",
      "Mean faces_reconstruction loss: 0.036094;\n",
      "Mean emotions_reconstruction loss: 0.0;\n",
      "\n",
      "Emotion losses:\n",
      "Mean total loss: 1.0018;\n",
      "Mean reconstruction loss: 0.12062;\n",
      "Mean kld_loss loss: 8.8116;\n",
      "Mean faces_reconstruction loss: 0.0;\n",
      "Mean emotions_reconstruction loss: 0.12062;\n",
      "\n"
     ]
    },
    {
     "name": "stderr",
     "output_type": "stream",
     "text": [
      "\r",
      " 25%|██████▏                  | 37/150 [42:17<2:12:07, 70.16s/it]"
     ]
    },
    {
     "name": "stdout",
     "output_type": "stream",
     "text": [
      "Multimodal losses:\n",
      "Mean total loss: 2.0388;\n",
      "Mean reconstruction loss: 0.28333;\n",
      "Mean kld_loss loss: 17.555;\n",
      "Mean faces_reconstruction loss: 0.03591;\n",
      "Mean emotions_reconstruction loss: 0.24741;\n",
      "\n",
      "Face losses:\n",
      "Mean total loss: 0.30768;\n",
      "Mean reconstruction loss: 0.036071;\n",
      "Mean kld_loss loss: 2.7161;\n",
      "Mean faces_reconstruction loss: 0.036071;\n",
      "Mean emotions_reconstruction loss: 0.0;\n",
      "\n",
      "Emotion losses:\n",
      "Mean total loss: 1.0049;\n",
      "Mean reconstruction loss: 0.1134;\n",
      "Mean kld_loss loss: 8.9152;\n",
      "Mean faces_reconstruction loss: 0.0;\n",
      "Mean emotions_reconstruction loss: 0.1134;\n",
      "\n"
     ]
    },
    {
     "name": "stderr",
     "output_type": "stream",
     "text": [
      "\r",
      " 25%|██████▎                  | 38/150 [43:26<2:10:31, 69.92s/it]"
     ]
    },
    {
     "name": "stdout",
     "output_type": "stream",
     "text": [
      "Multimodal losses:\n",
      "Mean total loss: 2.0606;\n",
      "Mean reconstruction loss: 0.29754;\n",
      "Mean kld_loss loss: 17.631;\n",
      "Mean faces_reconstruction loss: 0.035915;\n",
      "Mean emotions_reconstruction loss: 0.26163;\n",
      "\n",
      "Face losses:\n",
      "Mean total loss: 0.30491;\n",
      "Mean reconstruction loss: 0.036094;\n",
      "Mean kld_loss loss: 2.6881;\n",
      "Mean faces_reconstruction loss: 0.036094;\n",
      "Mean emotions_reconstruction loss: 0.0;\n",
      "\n",
      "Emotion losses:\n",
      "Mean total loss: 1.0098;\n",
      "Mean reconstruction loss: 0.12073;\n",
      "Mean kld_loss loss: 8.8909;\n",
      "Mean faces_reconstruction loss: 0.0;\n",
      "Mean emotions_reconstruction loss: 0.12073;\n",
      "\n"
     ]
    },
    {
     "name": "stderr",
     "output_type": "stream",
     "text": [
      "\r",
      " 26%|██████▌                  | 39/150 [44:33<2:07:44, 69.05s/it]"
     ]
    },
    {
     "name": "stdout",
     "output_type": "stream",
     "text": [
      "Multimodal losses:\n",
      "Mean total loss: 2.0467;\n",
      "Mean reconstruction loss: 0.29662;\n",
      "Mean kld_loss loss: 17.501;\n",
      "Mean faces_reconstruction loss: 0.035928;\n",
      "Mean emotions_reconstruction loss: 0.26069;\n",
      "\n",
      "Face losses:\n",
      "Mean total loss: 0.30039;\n",
      "Mean reconstruction loss: 0.036085;\n",
      "Mean kld_loss loss: 2.6431;\n",
      "Mean faces_reconstruction loss: 0.036085;\n",
      "Mean emotions_reconstruction loss: 0.0;\n",
      "\n",
      "Emotion losses:\n",
      "Mean total loss: 1.0011;\n",
      "Mean reconstruction loss: 0.11575;\n",
      "Mean kld_loss loss: 8.8531;\n",
      "Mean faces_reconstruction loss: 0.0;\n",
      "Mean emotions_reconstruction loss: 0.11575;\n",
      "\n"
     ]
    },
    {
     "name": "stderr",
     "output_type": "stream",
     "text": [
      "\r",
      " 27%|██████▋                  | 40/150 [45:40<2:05:21, 68.38s/it]"
     ]
    },
    {
     "name": "stdout",
     "output_type": "stream",
     "text": [
      "Multimodal losses:\n",
      "Mean total loss: 2.0571;\n",
      "Mean reconstruction loss: 0.30713;\n",
      "Mean kld_loss loss: 17.5;\n",
      "Mean faces_reconstruction loss: 0.03592;\n",
      "Mean emotions_reconstruction loss: 0.27121;\n",
      "\n",
      "Face losses:\n",
      "Mean total loss: 0.3151;\n",
      "Mean reconstruction loss: 0.036086;\n",
      "Mean kld_loss loss: 2.7901;\n",
      "Mean faces_reconstruction loss: 0.036086;\n",
      "Mean emotions_reconstruction loss: 0.0;\n",
      "\n",
      "Emotion losses:\n",
      "Mean total loss: 0.9967;\n",
      "Mean reconstruction loss: 0.11352;\n",
      "Mean kld_loss loss: 8.8317;\n",
      "Mean faces_reconstruction loss: 0.0;\n",
      "Mean emotions_reconstruction loss: 0.11352;\n",
      "\n"
     ]
    },
    {
     "name": "stderr",
     "output_type": "stream",
     "text": [
      "\r",
      " 27%|██████▊                  | 41/150 [46:47<2:03:11, 67.81s/it]"
     ]
    },
    {
     "name": "stdout",
     "output_type": "stream",
     "text": [
      "Multimodal losses:\n",
      "Mean total loss: 2.0261;\n",
      "Mean reconstruction loss: 0.28218;\n",
      "Mean kld_loss loss: 17.439;\n",
      "Mean faces_reconstruction loss: 0.035898;\n",
      "Mean emotions_reconstruction loss: 0.24628;\n",
      "\n",
      "Face losses:\n",
      "Mean total loss: 0.30095;\n",
      "Mean reconstruction loss: 0.036063;\n",
      "Mean kld_loss loss: 2.6488;\n",
      "Mean faces_reconstruction loss: 0.036063;\n",
      "Mean emotions_reconstruction loss: 0.0;\n",
      "\n",
      "Emotion losses:\n",
      "Mean total loss: 0.99037;\n",
      "Mean reconstruction loss: 0.1102;\n",
      "Mean kld_loss loss: 8.8017;\n",
      "Mean faces_reconstruction loss: 0.0;\n",
      "Mean emotions_reconstruction loss: 0.1102;\n",
      "\n"
     ]
    },
    {
     "name": "stderr",
     "output_type": "stream",
     "text": [
      "\r",
      " 28%|███████                  | 42/150 [47:59<2:04:25, 69.13s/it]"
     ]
    },
    {
     "name": "stdout",
     "output_type": "stream",
     "text": [
      "Multimodal losses:\n",
      "Mean total loss: 2.0312;\n",
      "Mean reconstruction loss: 0.29083;\n",
      "Mean kld_loss loss: 17.404;\n",
      "Mean faces_reconstruction loss: 0.035891;\n",
      "Mean emotions_reconstruction loss: 0.25494;\n",
      "\n",
      "Face losses:\n",
      "Mean total loss: 0.29786;\n",
      "Mean reconstruction loss: 0.036066;\n",
      "Mean kld_loss loss: 2.618;\n",
      "Mean faces_reconstruction loss: 0.036066;\n",
      "Mean emotions_reconstruction loss: 0.0;\n",
      "\n",
      "Emotion losses:\n",
      "Mean total loss: 0.98977;\n",
      "Mean reconstruction loss: 0.10695;\n",
      "Mean kld_loss loss: 8.8282;\n",
      "Mean faces_reconstruction loss: 0.0;\n",
      "Mean emotions_reconstruction loss: 0.10695;\n",
      "\n"
     ]
    },
    {
     "name": "stderr",
     "output_type": "stream",
     "text": [
      "\r",
      " 29%|███████▏                 | 43/150 [49:08<2:03:12, 69.09s/it]"
     ]
    },
    {
     "name": "stdout",
     "output_type": "stream",
     "text": [
      "Multimodal losses:\n",
      "Mean total loss: 2.0193;\n",
      "Mean reconstruction loss: 0.28822;\n",
      "Mean kld_loss loss: 17.311;\n",
      "Mean faces_reconstruction loss: 0.035897;\n",
      "Mean emotions_reconstruction loss: 0.25232;\n",
      "\n",
      "Face losses:\n",
      "Mean total loss: 0.30122;\n",
      "Mean reconstruction loss: 0.036071;\n",
      "Mean kld_loss loss: 2.6515;\n",
      "Mean faces_reconstruction loss: 0.036071;\n",
      "Mean emotions_reconstruction loss: 0.0;\n",
      "\n",
      "Emotion losses:\n",
      "Mean total loss: 0.99457;\n",
      "Mean reconstruction loss: 0.11458;\n",
      "Mean kld_loss loss: 8.7999;\n",
      "Mean faces_reconstruction loss: 0.0;\n",
      "Mean emotions_reconstruction loss: 0.11458;\n",
      "\n"
     ]
    },
    {
     "name": "stderr",
     "output_type": "stream",
     "text": [
      "\r",
      " 29%|███████▎                 | 44/150 [50:18<2:02:48, 69.51s/it]"
     ]
    },
    {
     "name": "stdout",
     "output_type": "stream",
     "text": [
      "Multimodal losses:\n",
      "Mean total loss: 2.0017;\n",
      "Mean reconstruction loss: 0.27834;\n",
      "Mean kld_loss loss: 17.233;\n",
      "Mean faces_reconstruction loss: 0.035894;\n",
      "Mean emotions_reconstruction loss: 0.24244;\n",
      "\n",
      "Face losses:\n",
      "Mean total loss: 0.30502;\n",
      "Mean reconstruction loss: 0.036066;\n",
      "Mean kld_loss loss: 2.6895;\n",
      "Mean faces_reconstruction loss: 0.036066;\n",
      "Mean emotions_reconstruction loss: 0.0;\n",
      "\n",
      "Emotion losses:\n",
      "Mean total loss: 1.0002;\n",
      "Mean reconstruction loss: 0.11983;\n",
      "Mean kld_loss loss: 8.8041;\n",
      "Mean faces_reconstruction loss: 0.0;\n",
      "Mean emotions_reconstruction loss: 0.11983;\n",
      "\n"
     ]
    },
    {
     "name": "stderr",
     "output_type": "stream",
     "text": [
      "\r",
      " 30%|███████▌                 | 45/150 [51:26<2:00:40, 68.96s/it]"
     ]
    },
    {
     "name": "stdout",
     "output_type": "stream",
     "text": [
      "Multimodal losses:\n",
      "Mean total loss: 2.0345;\n",
      "Mean reconstruction loss: 0.2952;\n",
      "Mean kld_loss loss: 17.393;\n",
      "Mean faces_reconstruction loss: 0.035878;\n",
      "Mean emotions_reconstruction loss: 0.25932;\n",
      "\n",
      "Face losses:\n",
      "Mean total loss: 0.31028;\n",
      "Mean reconstruction loss: 0.036047;\n",
      "Mean kld_loss loss: 2.7424;\n",
      "Mean faces_reconstruction loss: 0.036047;\n",
      "Mean emotions_reconstruction loss: 0.0;\n",
      "\n",
      "Emotion losses:\n",
      "Mean total loss: 1.012;\n",
      "Mean reconstruction loss: 0.12522;\n",
      "Mean kld_loss loss: 8.8675;\n",
      "Mean faces_reconstruction loss: 0.0;\n",
      "Mean emotions_reconstruction loss: 0.12522;\n",
      "\n"
     ]
    },
    {
     "name": "stderr",
     "output_type": "stream",
     "text": [
      "\r",
      " 31%|███████▋                 | 46/150 [52:34<1:59:08, 68.73s/it]"
     ]
    },
    {
     "name": "stdout",
     "output_type": "stream",
     "text": [
      "Multimodal losses:\n",
      "Mean total loss: 2.0283;\n",
      "Mean reconstruction loss: 0.29866;\n",
      "Mean kld_loss loss: 17.296;\n",
      "Mean faces_reconstruction loss: 0.035906;\n",
      "Mean emotions_reconstruction loss: 0.26275;\n",
      "\n",
      "Face losses:\n",
      "Mean total loss: 0.29622;\n",
      "Mean reconstruction loss: 0.036079;\n",
      "Mean kld_loss loss: 2.6014;\n",
      "Mean faces_reconstruction loss: 0.036079;\n",
      "Mean emotions_reconstruction loss: 0.0;\n",
      "\n",
      "Emotion losses:\n",
      "Mean total loss: 0.98464;\n",
      "Mean reconstruction loss: 0.10533;\n",
      "Mean kld_loss loss: 8.7931;\n",
      "Mean faces_reconstruction loss: 0.0;\n",
      "Mean emotions_reconstruction loss: 0.10533;\n",
      "\n"
     ]
    },
    {
     "name": "stderr",
     "output_type": "stream",
     "text": [
      "\r",
      " 31%|███████▊                 | 47/150 [53:47<1:59:58, 69.88s/it]"
     ]
    },
    {
     "name": "stdout",
     "output_type": "stream",
     "text": [
      "Multimodal losses:\n",
      "Mean total loss: 2.0075;\n",
      "Mean reconstruction loss: 0.29192;\n",
      "Mean kld_loss loss: 17.156;\n",
      "Mean faces_reconstruction loss: 0.035886;\n",
      "Mean emotions_reconstruction loss: 0.25603;\n",
      "\n",
      "Face losses:\n",
      "Mean total loss: 0.30273;\n",
      "Mean reconstruction loss: 0.036059;\n",
      "Mean kld_loss loss: 2.6667;\n",
      "Mean faces_reconstruction loss: 0.036059;\n",
      "Mean emotions_reconstruction loss: 0.0;\n",
      "\n",
      "Emotion losses:\n",
      "Mean total loss: 0.98649;\n",
      "Mean reconstruction loss: 0.1085;\n",
      "Mean kld_loss loss: 8.7799;\n",
      "Mean faces_reconstruction loss: 0.0;\n",
      "Mean emotions_reconstruction loss: 0.1085;\n",
      "\n"
     ]
    },
    {
     "name": "stderr",
     "output_type": "stream",
     "text": [
      "\r",
      " 32%|████████                 | 48/150 [54:56<1:58:21, 69.62s/it]"
     ]
    },
    {
     "name": "stdout",
     "output_type": "stream",
     "text": [
      "Multimodal losses:\n",
      "Mean total loss: 2.0287;\n",
      "Mean reconstruction loss: 0.30616;\n",
      "Mean kld_loss loss: 17.226;\n",
      "Mean faces_reconstruction loss: 0.035857;\n",
      "Mean emotions_reconstruction loss: 0.2703;\n",
      "\n",
      "Face losses:\n",
      "Mean total loss: 0.29764;\n",
      "Mean reconstruction loss: 0.036045;\n",
      "Mean kld_loss loss: 2.6159;\n",
      "Mean faces_reconstruction loss: 0.036045;\n",
      "Mean emotions_reconstruction loss: 0.0;\n",
      "\n",
      "Emotion losses:\n",
      "Mean total loss: 0.98681;\n",
      "Mean reconstruction loss: 0.11117;\n",
      "Mean kld_loss loss: 8.7564;\n",
      "Mean faces_reconstruction loss: 0.0;\n",
      "Mean emotions_reconstruction loss: 0.11117;\n",
      "\n"
     ]
    },
    {
     "name": "stderr",
     "output_type": "stream",
     "text": [
      "\r",
      " 33%|████████▏                | 49/150 [56:07<1:58:10, 70.21s/it]"
     ]
    },
    {
     "name": "stdout",
     "output_type": "stream",
     "text": [
      "Multimodal losses:\n",
      "Mean total loss: 1.9922;\n",
      "Mean reconstruction loss: 0.276;\n",
      "Mean kld_loss loss: 17.162;\n",
      "Mean faces_reconstruction loss: 0.035876;\n",
      "Mean emotions_reconstruction loss: 0.24012;\n",
      "\n",
      "Face losses:\n",
      "Mean total loss: 0.30252;\n",
      "Mean reconstruction loss: 0.036063;\n",
      "Mean kld_loss loss: 2.6646;\n",
      "Mean faces_reconstruction loss: 0.036063;\n",
      "Mean emotions_reconstruction loss: 0.0;\n",
      "\n",
      "Emotion losses:\n",
      "Mean total loss: 0.99015;\n",
      "Mean reconstruction loss: 0.11687;\n",
      "Mean kld_loss loss: 8.7328;\n",
      "Mean faces_reconstruction loss: 0.0;\n",
      "Mean emotions_reconstruction loss: 0.11687;\n",
      "\n"
     ]
    },
    {
     "name": "stderr",
     "output_type": "stream",
     "text": [
      "\r",
      " 33%|████████▎                | 50/150 [57:14<1:55:26, 69.26s/it]"
     ]
    },
    {
     "name": "stdout",
     "output_type": "stream",
     "text": [
      "Multimodal losses:\n",
      "Mean total loss: 2.0127;\n",
      "Mean reconstruction loss: 0.28026;\n",
      "Mean kld_loss loss: 17.324;\n",
      "Mean faces_reconstruction loss: 0.035857;\n",
      "Mean emotions_reconstruction loss: 0.2444;\n",
      "\n",
      "Face losses:\n",
      "Mean total loss: 0.2981;\n",
      "Mean reconstruction loss: 0.036049;\n",
      "Mean kld_loss loss: 2.6205;\n",
      "Mean faces_reconstruction loss: 0.036049;\n",
      "Mean emotions_reconstruction loss: 0.0;\n",
      "\n",
      "Emotion losses:\n",
      "Mean total loss: 0.99296;\n",
      "Mean reconstruction loss: 0.11287;\n",
      "Mean kld_loss loss: 8.8009;\n",
      "Mean faces_reconstruction loss: 0.0;\n",
      "Mean emotions_reconstruction loss: 0.11287;\n",
      "\n"
     ]
    },
    {
     "name": "stderr",
     "output_type": "stream",
     "text": [
      "\r",
      " 34%|████████▌                | 51/150 [58:25<1:54:49, 69.59s/it]"
     ]
    },
    {
     "name": "stdout",
     "output_type": "stream",
     "text": [
      "Multimodal losses:\n",
      "Mean total loss: 2.0166;\n",
      "Mean reconstruction loss: 0.29321;\n",
      "Mean kld_loss loss: 17.233;\n",
      "Mean faces_reconstruction loss: 0.035837;\n",
      "Mean emotions_reconstruction loss: 0.25737;\n",
      "\n",
      "Face losses:\n",
      "Mean total loss: 0.30445;\n",
      "Mean reconstruction loss: 0.036031;\n",
      "Mean kld_loss loss: 2.6842;\n",
      "Mean faces_reconstruction loss: 0.036031;\n",
      "Mean emotions_reconstruction loss: 0.0;\n",
      "\n",
      "Emotion losses:\n",
      "Mean total loss: 0.97918;\n",
      "Mean reconstruction loss: 0.097329;\n",
      "Mean kld_loss loss: 8.8185;\n",
      "Mean faces_reconstruction loss: 0.0;\n",
      "Mean emotions_reconstruction loss: 0.097329;\n",
      "\n"
     ]
    },
    {
     "name": "stderr",
     "output_type": "stream",
     "text": [
      "\r",
      " 35%|████████▋                | 52/150 [59:31<1:51:48, 68.46s/it]"
     ]
    },
    {
     "name": "stdout",
     "output_type": "stream",
     "text": [
      "Multimodal losses:\n",
      "Mean total loss: 2.0244;\n",
      "Mean reconstruction loss: 0.29493;\n",
      "Mean kld_loss loss: 17.295;\n",
      "Mean faces_reconstruction loss: 0.035873;\n",
      "Mean emotions_reconstruction loss: 0.25906;\n",
      "\n",
      "Face losses:\n",
      "Mean total loss: 0.29126;\n",
      "Mean reconstruction loss: 0.036073;\n",
      "Mean kld_loss loss: 2.5519;\n",
      "Mean faces_reconstruction loss: 0.036073;\n",
      "Mean emotions_reconstruction loss: 0.0;\n",
      "\n",
      "Emotion losses:\n",
      "Mean total loss: 0.99507;\n",
      "Mean reconstruction loss: 0.10756;\n",
      "Mean kld_loss loss: 8.8751;\n",
      "Mean faces_reconstruction loss: 0.0;\n",
      "Mean emotions_reconstruction loss: 0.10756;\n",
      "\n"
     ]
    },
    {
     "name": "stderr",
     "output_type": "stream",
     "text": [
      "\r",
      " 35%|████████▏              | 53/150 [1:00:41<1:51:44, 69.12s/it]"
     ]
    },
    {
     "name": "stdout",
     "output_type": "stream",
     "text": [
      "Multimodal losses:\n",
      "Mean total loss: 2.0045;\n",
      "Mean reconstruction loss: 0.28904;\n",
      "Mean kld_loss loss: 17.155;\n",
      "Mean faces_reconstruction loss: 0.035855;\n",
      "Mean emotions_reconstruction loss: 0.25318;\n",
      "\n",
      "Face losses:\n",
      "Mean total loss: 0.29838;\n",
      "Mean reconstruction loss: 0.036071;\n",
      "Mean kld_loss loss: 2.6231;\n",
      "Mean faces_reconstruction loss: 0.036071;\n",
      "Mean emotions_reconstruction loss: 0.0;\n",
      "\n",
      "Emotion losses:\n",
      "Mean total loss: 0.99087;\n",
      "Mean reconstruction loss: 0.11185;\n",
      "Mean kld_loss loss: 8.7903;\n",
      "Mean faces_reconstruction loss: 0.0;\n",
      "Mean emotions_reconstruction loss: 0.11185;\n",
      "\n"
     ]
    },
    {
     "name": "stderr",
     "output_type": "stream",
     "text": [
      "\r",
      " 36%|████████▎              | 54/150 [1:01:54<1:52:13, 70.14s/it]"
     ]
    },
    {
     "name": "stdout",
     "output_type": "stream",
     "text": [
      "Multimodal losses:\n",
      "Mean total loss: 2.006;\n",
      "Mean reconstruction loss: 0.28961;\n",
      "Mean kld_loss loss: 17.164;\n",
      "Mean faces_reconstruction loss: 0.035861;\n",
      "Mean emotions_reconstruction loss: 0.25375;\n",
      "\n",
      "Face losses:\n",
      "Mean total loss: 0.30343;\n",
      "Mean reconstruction loss: 0.036051;\n",
      "Mean kld_loss loss: 2.6738;\n",
      "Mean faces_reconstruction loss: 0.036051;\n",
      "Mean emotions_reconstruction loss: 0.0;\n",
      "\n",
      "Emotion losses:\n",
      "Mean total loss: 0.98392;\n",
      "Mean reconstruction loss: 0.1048;\n",
      "Mean kld_loss loss: 8.7912;\n",
      "Mean faces_reconstruction loss: 0.0;\n",
      "Mean emotions_reconstruction loss: 0.1048;\n",
      "\n"
     ]
    },
    {
     "name": "stderr",
     "output_type": "stream",
     "text": [
      "\r",
      " 37%|████████▍              | 55/150 [1:03:04<1:51:09, 70.21s/it]"
     ]
    },
    {
     "name": "stdout",
     "output_type": "stream",
     "text": [
      "Multimodal losses:\n",
      "Mean total loss: 2.0101;\n",
      "Mean reconstruction loss: 0.28867;\n",
      "Mean kld_loss loss: 17.214;\n",
      "Mean faces_reconstruction loss: 0.035823;\n",
      "Mean emotions_reconstruction loss: 0.25284;\n",
      "\n",
      "Face losses:\n",
      "Mean total loss: 0.29915;\n",
      "Mean reconstruction loss: 0.036025;\n",
      "Mean kld_loss loss: 2.6313;\n",
      "Mean faces_reconstruction loss: 0.036025;\n",
      "Mean emotions_reconstruction loss: 0.0;\n",
      "\n",
      "Emotion losses:\n",
      "Mean total loss: 1.0039;\n",
      "Mean reconstruction loss: 0.1218;\n",
      "Mean kld_loss loss: 8.8212;\n",
      "Mean faces_reconstruction loss: 0.0;\n",
      "Mean emotions_reconstruction loss: 0.1218;\n",
      "\n"
     ]
    },
    {
     "name": "stderr",
     "output_type": "stream",
     "text": [
      "\r",
      " 37%|████████▌              | 56/150 [1:04:14<1:49:50, 70.11s/it]"
     ]
    },
    {
     "name": "stdout",
     "output_type": "stream",
     "text": [
      "Multimodal losses:\n",
      "Mean total loss: 2.0073;\n",
      "Mean reconstruction loss: 0.28832;\n",
      "Mean kld_loss loss: 17.189;\n",
      "Mean faces_reconstruction loss: 0.035883;\n",
      "Mean emotions_reconstruction loss: 0.25244;\n",
      "\n",
      "Face losses:\n",
      "Mean total loss: 0.29153;\n",
      "Mean reconstruction loss: 0.036094;\n",
      "Mean kld_loss loss: 2.5543;\n",
      "Mean faces_reconstruction loss: 0.036094;\n",
      "Mean emotions_reconstruction loss: 0.0;\n",
      "\n",
      "Emotion losses:\n",
      "Mean total loss: 0.99054;\n",
      "Mean reconstruction loss: 0.10854;\n",
      "Mean kld_loss loss: 8.82;\n",
      "Mean faces_reconstruction loss: 0.0;\n",
      "Mean emotions_reconstruction loss: 0.10854;\n",
      "\n"
     ]
    },
    {
     "name": "stderr",
     "output_type": "stream",
     "text": [
      "\r",
      " 38%|████████▋              | 57/150 [1:05:22<1:47:53, 69.61s/it]"
     ]
    },
    {
     "name": "stdout",
     "output_type": "stream",
     "text": [
      "Multimodal losses:\n",
      "Mean total loss: 1.9902;\n",
      "Mean reconstruction loss: 0.28356;\n",
      "Mean kld_loss loss: 17.066;\n",
      "Mean faces_reconstruction loss: 0.035837;\n",
      "Mean emotions_reconstruction loss: 0.24773;\n",
      "\n",
      "Face losses:\n",
      "Mean total loss: 0.30587;\n",
      "Mean reconstruction loss: 0.03604;\n",
      "Mean kld_loss loss: 2.6984;\n",
      "Mean faces_reconstruction loss: 0.03604;\n",
      "Mean emotions_reconstruction loss: 0.0;\n",
      "\n",
      "Emotion losses:\n",
      "Mean total loss: 1.0089;\n",
      "Mean reconstruction loss: 0.12677;\n",
      "Mean kld_loss loss: 8.8212;\n",
      "Mean faces_reconstruction loss: 0.0;\n",
      "Mean emotions_reconstruction loss: 0.12677;\n",
      "\n"
     ]
    },
    {
     "name": "stderr",
     "output_type": "stream",
     "text": [
      "\r",
      " 39%|████████▉              | 58/150 [1:06:32<1:46:32, 69.48s/it]"
     ]
    },
    {
     "name": "stdout",
     "output_type": "stream",
     "text": [
      "Multimodal losses:\n",
      "Mean total loss: 1.9969;\n",
      "Mean reconstruction loss: 0.28686;\n",
      "Mean kld_loss loss: 17.101;\n",
      "Mean faces_reconstruction loss: 0.03583;\n",
      "Mean emotions_reconstruction loss: 0.25103;\n",
      "\n",
      "Face losses:\n",
      "Mean total loss: 0.28953;\n",
      "Mean reconstruction loss: 0.03604;\n",
      "Mean kld_loss loss: 2.5349;\n",
      "Mean faces_reconstruction loss: 0.03604;\n",
      "Mean emotions_reconstruction loss: 0.0;\n",
      "\n",
      "Emotion losses:\n",
      "Mean total loss: 0.97928;\n",
      "Mean reconstruction loss: 0.10734;\n",
      "Mean kld_loss loss: 8.7194;\n",
      "Mean faces_reconstruction loss: 0.0;\n",
      "Mean emotions_reconstruction loss: 0.10734;\n",
      "\n"
     ]
    },
    {
     "name": "stderr",
     "output_type": "stream",
     "text": [
      "\r",
      " 39%|█████████              | 59/150 [1:07:38<1:44:09, 68.68s/it]"
     ]
    },
    {
     "name": "stdout",
     "output_type": "stream",
     "text": [
      "Multimodal losses:\n",
      "Mean total loss: 1.9969;\n",
      "Mean reconstruction loss: 0.29804;\n",
      "Mean kld_loss loss: 16.989;\n",
      "Mean faces_reconstruction loss: 0.03585;\n",
      "Mean emotions_reconstruction loss: 0.26219;\n",
      "\n",
      "Face losses:\n",
      "Mean total loss: 0.30479;\n",
      "Mean reconstruction loss: 0.03606;\n",
      "Mean kld_loss loss: 2.6873;\n",
      "Mean faces_reconstruction loss: 0.03606;\n",
      "Mean emotions_reconstruction loss: 0.0;\n",
      "\n",
      "Emotion losses:\n",
      "Mean total loss: 0.97851;\n",
      "Mean reconstruction loss: 0.10199;\n",
      "Mean kld_loss loss: 8.7651;\n",
      "Mean faces_reconstruction loss: 0.0;\n",
      "Mean emotions_reconstruction loss: 0.10199;\n",
      "\n"
     ]
    },
    {
     "name": "stderr",
     "output_type": "stream",
     "text": [
      "\r",
      " 40%|█████████▏             | 60/150 [1:08:46<1:42:37, 68.42s/it]"
     ]
    },
    {
     "name": "stdout",
     "output_type": "stream",
     "text": [
      "Multimodal losses:\n",
      "Mean total loss: 1.9803;\n",
      "Mean reconstruction loss: 0.29037;\n",
      "Mean kld_loss loss: 16.9;\n",
      "Mean faces_reconstruction loss: 0.03585;\n",
      "Mean emotions_reconstruction loss: 0.25452;\n",
      "\n",
      "Face losses:\n",
      "Mean total loss: 0.31291;\n",
      "Mean reconstruction loss: 0.036053;\n",
      "Mean kld_loss loss: 2.7685;\n",
      "Mean faces_reconstruction loss: 0.036053;\n",
      "Mean emotions_reconstruction loss: 0.0;\n",
      "\n",
      "Emotion losses:\n",
      "Mean total loss: 0.97264;\n",
      "Mean reconstruction loss: 0.10012;\n",
      "Mean kld_loss loss: 8.7252;\n",
      "Mean faces_reconstruction loss: 0.0;\n",
      "Mean emotions_reconstruction loss: 0.10012;\n",
      "\n"
     ]
    },
    {
     "name": "stderr",
     "output_type": "stream",
     "text": [
      "\r",
      " 41%|█████████▎             | 61/150 [1:09:53<1:40:54, 68.03s/it]"
     ]
    },
    {
     "name": "stdout",
     "output_type": "stream",
     "text": [
      "Multimodal losses:\n",
      "Mean total loss: 1.9881;\n",
      "Mean reconstruction loss: 0.29598;\n",
      "Mean kld_loss loss: 16.921;\n",
      "Mean faces_reconstruction loss: 0.03582;\n",
      "Mean emotions_reconstruction loss: 0.26016;\n",
      "\n",
      "Face losses:\n",
      "Mean total loss: 0.31398;\n",
      "Mean reconstruction loss: 0.036036;\n",
      "Mean kld_loss loss: 2.7794;\n",
      "Mean faces_reconstruction loss: 0.036036;\n",
      "Mean emotions_reconstruction loss: 0.0;\n",
      "\n",
      "Emotion losses:\n",
      "Mean total loss: 0.98146;\n",
      "Mean reconstruction loss: 0.10459;\n",
      "Mean kld_loss loss: 8.7688;\n",
      "Mean faces_reconstruction loss: 0.0;\n",
      "Mean emotions_reconstruction loss: 0.10459;\n",
      "\n"
     ]
    },
    {
     "name": "stderr",
     "output_type": "stream",
     "text": [
      "\r",
      " 41%|█████████▌             | 62/150 [1:11:02<1:39:58, 68.16s/it]"
     ]
    },
    {
     "name": "stdout",
     "output_type": "stream",
     "text": [
      "Multimodal losses:\n",
      "Mean total loss: 1.9952;\n",
      "Mean reconstruction loss: 0.29781;\n",
      "Mean kld_loss loss: 16.974;\n",
      "Mean faces_reconstruction loss: 0.035804;\n",
      "Mean emotions_reconstruction loss: 0.262;\n",
      "\n",
      "Face losses:\n",
      "Mean total loss: 0.31364;\n",
      "Mean reconstruction loss: 0.036018;\n",
      "Mean kld_loss loss: 2.7762;\n",
      "Mean faces_reconstruction loss: 0.036018;\n",
      "Mean emotions_reconstruction loss: 0.0;\n",
      "\n",
      "Emotion losses:\n",
      "Mean total loss: 0.99359;\n",
      "Mean reconstruction loss: 0.11435;\n",
      "Mean kld_loss loss: 8.7924;\n",
      "Mean faces_reconstruction loss: 0.0;\n",
      "Mean emotions_reconstruction loss: 0.11435;\n",
      "\n"
     ]
    },
    {
     "name": "stderr",
     "output_type": "stream",
     "text": [
      "\r",
      " 42%|█████████▋             | 63/150 [1:12:10<1:38:41, 68.06s/it]"
     ]
    },
    {
     "name": "stdout",
     "output_type": "stream",
     "text": [
      "Multimodal losses:\n",
      "Mean total loss: 1.9853;\n",
      "Mean reconstruction loss: 0.29242;\n",
      "Mean kld_loss loss: 16.929;\n",
      "Mean faces_reconstruction loss: 0.035825;\n",
      "Mean emotions_reconstruction loss: 0.2566;\n",
      "\n",
      "Face losses:\n",
      "Mean total loss: 0.31483;\n",
      "Mean reconstruction loss: 0.03605;\n",
      "Mean kld_loss loss: 2.7878;\n",
      "Mean faces_reconstruction loss: 0.03605;\n",
      "Mean emotions_reconstruction loss: 0.0;\n",
      "\n",
      "Emotion losses:\n",
      "Mean total loss: 0.99588;\n",
      "Mean reconstruction loss: 0.11818;\n",
      "Mean kld_loss loss: 8.777;\n",
      "Mean faces_reconstruction loss: 0.0;\n",
      "Mean emotions_reconstruction loss: 0.11818;\n",
      "\n"
     ]
    },
    {
     "name": "stderr",
     "output_type": "stream",
     "text": [
      "\r",
      " 43%|█████████▊             | 64/150 [1:13:16<1:36:47, 67.53s/it]"
     ]
    },
    {
     "name": "stdout",
     "output_type": "stream",
     "text": [
      "Multimodal losses:\n",
      "Mean total loss: 1.9703;\n",
      "Mean reconstruction loss: 0.28499;\n",
      "Mean kld_loss loss: 16.853;\n",
      "Mean faces_reconstruction loss: 0.035805;\n",
      "Mean emotions_reconstruction loss: 0.24919;\n",
      "\n",
      "Face losses:\n",
      "Mean total loss: 0.31541;\n",
      "Mean reconstruction loss: 0.036019;\n",
      "Mean kld_loss loss: 2.7939;\n",
      "Mean faces_reconstruction loss: 0.036019;\n",
      "Mean emotions_reconstruction loss: 0.0;\n",
      "\n",
      "Emotion losses:\n",
      "Mean total loss: 0.98425;\n",
      "Mean reconstruction loss: 0.11842;\n",
      "Mean kld_loss loss: 8.6583;\n",
      "Mean faces_reconstruction loss: 0.0;\n",
      "Mean emotions_reconstruction loss: 0.11842;\n",
      "\n"
     ]
    },
    {
     "name": "stderr",
     "output_type": "stream",
     "text": [
      "\r",
      " 43%|█████████▉             | 65/150 [1:14:30<1:38:17, 69.38s/it]"
     ]
    },
    {
     "name": "stdout",
     "output_type": "stream",
     "text": [
      "Multimodal losses:\n",
      "Mean total loss: 1.9833;\n",
      "Mean reconstruction loss: 0.29376;\n",
      "Mean kld_loss loss: 16.896;\n",
      "Mean faces_reconstruction loss: 0.035797;\n",
      "Mean emotions_reconstruction loss: 0.25796;\n",
      "\n",
      "Face losses:\n",
      "Mean total loss: 0.3149;\n",
      "Mean reconstruction loss: 0.036013;\n",
      "Mean kld_loss loss: 2.7889;\n",
      "Mean faces_reconstruction loss: 0.036013;\n",
      "Mean emotions_reconstruction loss: 0.0;\n",
      "\n",
      "Emotion losses:\n",
      "Mean total loss: 0.98269;\n",
      "Mean reconstruction loss: 0.10909;\n",
      "Mean kld_loss loss: 8.736;\n",
      "Mean faces_reconstruction loss: 0.0;\n",
      "Mean emotions_reconstruction loss: 0.10909;\n",
      "\n"
     ]
    },
    {
     "name": "stderr",
     "output_type": "stream",
     "text": [
      "\r",
      " 44%|██████████             | 66/150 [1:15:39<1:36:59, 69.28s/it]"
     ]
    },
    {
     "name": "stdout",
     "output_type": "stream",
     "text": [
      "Multimodal losses:\n",
      "Mean total loss: 1.9706;\n",
      "Mean reconstruction loss: 0.28554;\n",
      "Mean kld_loss loss: 16.85;\n",
      "Mean faces_reconstruction loss: 0.035826;\n",
      "Mean emotions_reconstruction loss: 0.24971;\n",
      "\n",
      "Face losses:\n",
      "Mean total loss: 0.31505;\n",
      "Mean reconstruction loss: 0.036033;\n",
      "Mean kld_loss loss: 2.7902;\n",
      "Mean faces_reconstruction loss: 0.036033;\n",
      "Mean emotions_reconstruction loss: 0.0;\n",
      "\n",
      "Emotion losses:\n",
      "Mean total loss: 0.9742;\n",
      "Mean reconstruction loss: 0.10588;\n",
      "Mean kld_loss loss: 8.6832;\n",
      "Mean faces_reconstruction loss: 0.0;\n",
      "Mean emotions_reconstruction loss: 0.10588;\n",
      "\n"
     ]
    },
    {
     "name": "stderr",
     "output_type": "stream",
     "text": [
      "\r",
      " 45%|██████████▎            | 67/150 [1:16:45<1:34:32, 68.35s/it]"
     ]
    },
    {
     "name": "stdout",
     "output_type": "stream",
     "text": [
      "Multimodal losses:\n",
      "Mean total loss: 1.9663;\n",
      "Mean reconstruction loss: 0.27362;\n",
      "Mean kld_loss loss: 16.927;\n",
      "Mean faces_reconstruction loss: 0.035793;\n",
      "Mean emotions_reconstruction loss: 0.23783;\n",
      "\n",
      "Face losses:\n",
      "Mean total loss: 0.3161;\n",
      "Mean reconstruction loss: 0.036006;\n",
      "Mean kld_loss loss: 2.801;\n",
      "Mean faces_reconstruction loss: 0.036006;\n",
      "Mean emotions_reconstruction loss: 0.0;\n",
      "\n",
      "Emotion losses:\n",
      "Mean total loss: 0.99665;\n",
      "Mean reconstruction loss: 0.11825;\n",
      "Mean kld_loss loss: 8.7839;\n",
      "Mean faces_reconstruction loss: 0.0;\n",
      "Mean emotions_reconstruction loss: 0.11825;\n",
      "\n"
     ]
    },
    {
     "name": "stderr",
     "output_type": "stream",
     "text": [
      "\r",
      " 45%|██████████▍            | 68/150 [1:17:51<1:32:37, 67.77s/it]"
     ]
    },
    {
     "name": "stdout",
     "output_type": "stream",
     "text": [
      "Multimodal losses:\n",
      "Mean total loss: 1.9702;\n",
      "Mean reconstruction loss: 0.28467;\n",
      "Mean kld_loss loss: 16.855;\n",
      "Mean faces_reconstruction loss: 0.035812;\n",
      "Mean emotions_reconstruction loss: 0.24886;\n",
      "\n",
      "Face losses:\n",
      "Mean total loss: 0.31623;\n",
      "Mean reconstruction loss: 0.036015;\n",
      "Mean kld_loss loss: 2.8021;\n",
      "Mean faces_reconstruction loss: 0.036015;\n",
      "Mean emotions_reconstruction loss: 0.0;\n",
      "\n",
      "Emotion losses:\n",
      "Mean total loss: 0.9771;\n",
      "Mean reconstruction loss: 0.10933;\n",
      "Mean kld_loss loss: 8.6778;\n",
      "Mean faces_reconstruction loss: 0.0;\n",
      "Mean emotions_reconstruction loss: 0.10933;\n",
      "\n"
     ]
    },
    {
     "name": "stderr",
     "output_type": "stream",
     "text": [
      "\r",
      " 46%|██████████▌            | 69/150 [1:18:59<1:31:22, 67.69s/it]"
     ]
    },
    {
     "name": "stdout",
     "output_type": "stream",
     "text": [
      "Multimodal losses:\n",
      "Mean total loss: 1.9636;\n",
      "Mean reconstruction loss: 0.27673;\n",
      "Mean kld_loss loss: 16.868;\n",
      "Mean faces_reconstruction loss: 0.035773;\n",
      "Mean emotions_reconstruction loss: 0.24096;\n",
      "\n",
      "Face losses:\n",
      "Mean total loss: 0.31551;\n",
      "Mean reconstruction loss: 0.035997;\n",
      "Mean kld_loss loss: 2.7951;\n",
      "Mean faces_reconstruction loss: 0.035997;\n",
      "Mean emotions_reconstruction loss: 0.0;\n",
      "\n",
      "Emotion losses:\n",
      "Mean total loss: 0.98062;\n",
      "Mean reconstruction loss: 0.10921;\n",
      "Mean kld_loss loss: 8.7141;\n",
      "Mean faces_reconstruction loss: 0.0;\n",
      "Mean emotions_reconstruction loss: 0.10921;\n",
      "\n"
     ]
    },
    {
     "name": "stderr",
     "output_type": "stream",
     "text": [
      "\r",
      " 47%|██████████▋            | 70/150 [1:20:09<1:31:16, 68.46s/it]"
     ]
    },
    {
     "name": "stdout",
     "output_type": "stream",
     "text": [
      "Multimodal losses:\n",
      "Mean total loss: 1.9684;\n",
      "Mean reconstruction loss: 0.283;\n",
      "Mean kld_loss loss: 16.854;\n",
      "Mean faces_reconstruction loss: 0.035809;\n",
      "Mean emotions_reconstruction loss: 0.24719;\n",
      "\n",
      "Face losses:\n",
      "Mean total loss: 0.31563;\n",
      "Mean reconstruction loss: 0.036014;\n",
      "Mean kld_loss loss: 2.7962;\n",
      "Mean faces_reconstruction loss: 0.036014;\n",
      "Mean emotions_reconstruction loss: 0.0;\n",
      "\n",
      "Emotion losses:\n",
      "Mean total loss: 0.97402;\n",
      "Mean reconstruction loss: 0.10533;\n",
      "Mean kld_loss loss: 8.6869;\n",
      "Mean faces_reconstruction loss: 0.0;\n",
      "Mean emotions_reconstruction loss: 0.10533;\n",
      "\n"
     ]
    },
    {
     "name": "stderr",
     "output_type": "stream",
     "text": [
      "\r",
      " 47%|██████████▉            | 71/150 [1:21:16<1:29:21, 67.86s/it]"
     ]
    },
    {
     "name": "stdout",
     "output_type": "stream",
     "text": [
      "Multimodal losses:\n",
      "Mean total loss: 1.9757;\n",
      "Mean reconstruction loss: 0.29089;\n",
      "Mean kld_loss loss: 16.848;\n",
      "Mean faces_reconstruction loss: 0.035824;\n",
      "Mean emotions_reconstruction loss: 0.25506;\n",
      "\n",
      "Face losses:\n",
      "Mean total loss: 0.31477;\n",
      "Mean reconstruction loss: 0.036052;\n",
      "Mean kld_loss loss: 2.7871;\n",
      "Mean faces_reconstruction loss: 0.036052;\n",
      "Mean emotions_reconstruction loss: 0.0;\n",
      "\n",
      "Emotion losses:\n",
      "Mean total loss: 0.96758;\n",
      "Mean reconstruction loss: 0.097599;\n",
      "Mean kld_loss loss: 8.6998;\n",
      "Mean faces_reconstruction loss: 0.0;\n",
      "Mean emotions_reconstruction loss: 0.097599;\n",
      "\n"
     ]
    },
    {
     "name": "stderr",
     "output_type": "stream",
     "text": [
      "\r",
      " 48%|███████████            | 72/150 [1:22:21<1:27:14, 67.11s/it]"
     ]
    },
    {
     "name": "stdout",
     "output_type": "stream",
     "text": [
      "Multimodal losses:\n",
      "Mean total loss: 1.9587;\n",
      "Mean reconstruction loss: 0.27984;\n",
      "Mean kld_loss loss: 16.789;\n",
      "Mean faces_reconstruction loss: 0.035811;\n",
      "Mean emotions_reconstruction loss: 0.24402;\n",
      "\n",
      "Face losses:\n",
      "Mean total loss: 0.31581;\n",
      "Mean reconstruction loss: 0.036024;\n",
      "Mean kld_loss loss: 2.7979;\n",
      "Mean faces_reconstruction loss: 0.036024;\n",
      "Mean emotions_reconstruction loss: 0.0;\n",
      "\n",
      "Emotion losses:\n",
      "Mean total loss: 0.9635;\n",
      "Mean reconstruction loss: 0.10564;\n",
      "Mean kld_loss loss: 8.5786;\n",
      "Mean faces_reconstruction loss: 0.0;\n",
      "Mean emotions_reconstruction loss: 0.10564;\n",
      "\n"
     ]
    },
    {
     "name": "stderr",
     "output_type": "stream",
     "text": [
      "\r",
      " 49%|███████████▏           | 73/150 [1:23:25<1:25:08, 66.34s/it]"
     ]
    },
    {
     "name": "stdout",
     "output_type": "stream",
     "text": [
      "Multimodal losses:\n",
      "Mean total loss: 1.9604;\n",
      "Mean reconstruction loss: 0.27541;\n",
      "Mean kld_loss loss: 16.85;\n",
      "Mean faces_reconstruction loss: 0.035777;\n",
      "Mean emotions_reconstruction loss: 0.23963;\n",
      "\n",
      "Face losses:\n",
      "Mean total loss: 0.31644;\n",
      "Mean reconstruction loss: 0.036007;\n",
      "Mean kld_loss loss: 2.8044;\n",
      "Mean faces_reconstruction loss: 0.036007;\n",
      "Mean emotions_reconstruction loss: 0.0;\n",
      "\n",
      "Emotion losses:\n",
      "Mean total loss: 0.97157;\n",
      "Mean reconstruction loss: 0.10344;\n",
      "Mean kld_loss loss: 8.6813;\n",
      "Mean faces_reconstruction loss: 0.0;\n",
      "Mean emotions_reconstruction loss: 0.10344;\n",
      "\n"
     ]
    },
    {
     "name": "stderr",
     "output_type": "stream",
     "text": [
      "\r",
      " 49%|███████████▎           | 74/150 [1:24:33<1:24:35, 66.78s/it]"
     ]
    },
    {
     "name": "stdout",
     "output_type": "stream",
     "text": [
      "Multimodal losses:\n",
      "Mean total loss: 1.9671;\n",
      "Mean reconstruction loss: 0.28705;\n",
      "Mean kld_loss loss: 16.8;\n",
      "Mean faces_reconstruction loss: 0.035804;\n",
      "Mean emotions_reconstruction loss: 0.25124;\n",
      "\n",
      "Face losses:\n",
      "Mean total loss: 0.31622;\n",
      "Mean reconstruction loss: 0.03605;\n",
      "Mean kld_loss loss: 2.8017;\n",
      "Mean faces_reconstruction loss: 0.03605;\n",
      "Mean emotions_reconstruction loss: 0.0;\n",
      "\n",
      "Emotion losses:\n",
      "Mean total loss: 0.96153;\n",
      "Mean reconstruction loss: 0.098234;\n",
      "Mean kld_loss loss: 8.6329;\n",
      "Mean faces_reconstruction loss: 0.0;\n",
      "Mean emotions_reconstruction loss: 0.098234;\n",
      "\n"
     ]
    },
    {
     "name": "stderr",
     "output_type": "stream",
     "text": [
      "\r",
      " 50%|███████████▌           | 75/150 [1:25:39<1:23:01, 66.41s/it]"
     ]
    },
    {
     "name": "stdout",
     "output_type": "stream",
     "text": [
      "Multimodal losses:\n",
      "Mean total loss: 1.9508;\n",
      "Mean reconstruction loss: 0.27563;\n",
      "Mean kld_loss loss: 16.752;\n",
      "Mean faces_reconstruction loss: 0.035776;\n",
      "Mean emotions_reconstruction loss: 0.23986;\n",
      "\n",
      "Face losses:\n",
      "Mean total loss: 0.31796;\n",
      "Mean reconstruction loss: 0.03602;\n",
      "Mean kld_loss loss: 2.8194;\n",
      "Mean faces_reconstruction loss: 0.03602;\n",
      "Mean emotions_reconstruction loss: 0.0;\n",
      "\n",
      "Emotion losses:\n",
      "Mean total loss: 0.95762;\n",
      "Mean reconstruction loss: 0.097982;\n",
      "Mean kld_loss loss: 8.5964;\n",
      "Mean faces_reconstruction loss: 0.0;\n",
      "Mean emotions_reconstruction loss: 0.097982;\n",
      "\n"
     ]
    },
    {
     "name": "stderr",
     "output_type": "stream",
     "text": [
      "\r",
      " 51%|███████████▋           | 76/150 [1:26:45<1:21:56, 66.44s/it]"
     ]
    },
    {
     "name": "stdout",
     "output_type": "stream",
     "text": [
      "Multimodal losses:\n",
      "Mean total loss: 1.9608;\n",
      "Mean reconstruction loss: 0.28935;\n",
      "Mean kld_loss loss: 16.714;\n",
      "Mean faces_reconstruction loss: 0.035789;\n",
      "Mean emotions_reconstruction loss: 0.25356;\n",
      "\n",
      "Face losses:\n",
      "Mean total loss: 0.31796;\n",
      "Mean reconstruction loss: 0.036009;\n",
      "Mean kld_loss loss: 2.8195;\n",
      "Mean faces_reconstruction loss: 0.036009;\n",
      "Mean emotions_reconstruction loss: 0.0;\n",
      "\n",
      "Emotion losses:\n",
      "Mean total loss: 0.94432;\n",
      "Mean reconstruction loss: 0.089449;\n",
      "Mean kld_loss loss: 8.5488;\n",
      "Mean faces_reconstruction loss: 0.0;\n",
      "Mean emotions_reconstruction loss: 0.089449;\n",
      "\n"
     ]
    },
    {
     "name": "stderr",
     "output_type": "stream",
     "text": [
      "\r",
      " 51%|███████████▊           | 77/150 [1:27:49<1:19:38, 65.47s/it]"
     ]
    },
    {
     "name": "stdout",
     "output_type": "stream",
     "text": [
      "Multimodal losses:\n",
      "Mean total loss: 1.9428;\n",
      "Mean reconstruction loss: 0.27386;\n",
      "Mean kld_loss loss: 16.69;\n",
      "Mean faces_reconstruction loss: 0.03578;\n",
      "Mean emotions_reconstruction loss: 0.23808;\n",
      "\n",
      "Face losses:\n",
      "Mean total loss: 0.31817;\n",
      "Mean reconstruction loss: 0.036002;\n",
      "Mean kld_loss loss: 2.8216;\n",
      "Mean faces_reconstruction loss: 0.036002;\n",
      "Mean emotions_reconstruction loss: 0.0;\n",
      "\n",
      "Emotion losses:\n",
      "Mean total loss: 0.93861;\n",
      "Mean reconstruction loss: 0.088874;\n",
      "Mean kld_loss loss: 8.4973;\n",
      "Mean faces_reconstruction loss: 0.0;\n",
      "Mean emotions_reconstruction loss: 0.088874;\n",
      "\n"
     ]
    },
    {
     "name": "stderr",
     "output_type": "stream",
     "text": [
      "\r",
      " 52%|███████████▉           | 78/150 [1:28:53<1:18:20, 65.29s/it]"
     ]
    },
    {
     "name": "stdout",
     "output_type": "stream",
     "text": [
      "Multimodal losses:\n",
      "Mean total loss: 1.9498;\n",
      "Mean reconstruction loss: 0.29052;\n",
      "Mean kld_loss loss: 16.593;\n",
      "Mean faces_reconstruction loss: 0.03584;\n",
      "Mean emotions_reconstruction loss: 0.25467;\n",
      "\n",
      "Face losses:\n",
      "Mean total loss: 0.31946;\n",
      "Mean reconstruction loss: 0.036038;\n",
      "Mean kld_loss loss: 2.8342;\n",
      "Mean faces_reconstruction loss: 0.036038;\n",
      "Mean emotions_reconstruction loss: 0.0;\n",
      "\n",
      "Emotion losses:\n",
      "Mean total loss: 0.91998;\n",
      "Mean reconstruction loss: 0.08287;\n",
      "Mean kld_loss loss: 8.3711;\n",
      "Mean faces_reconstruction loss: 0.0;\n",
      "Mean emotions_reconstruction loss: 0.08287;\n",
      "\n"
     ]
    },
    {
     "name": "stderr",
     "output_type": "stream",
     "text": [
      "\r",
      " 53%|████████████           | 79/150 [1:29:59<1:17:16, 65.30s/it]"
     ]
    },
    {
     "name": "stdout",
     "output_type": "stream",
     "text": [
      "Multimodal losses:\n",
      "Mean total loss: 1.9236;\n",
      "Mean reconstruction loss: 0.268;\n",
      "Mean kld_loss loss: 16.556;\n",
      "Mean faces_reconstruction loss: 0.035789;\n",
      "Mean emotions_reconstruction loss: 0.23221;\n",
      "\n",
      "Face losses:\n",
      "Mean total loss: 0.32101;\n",
      "Mean reconstruction loss: 0.036011;\n",
      "Mean kld_loss loss: 2.85;\n",
      "Mean faces_reconstruction loss: 0.036011;\n",
      "Mean emotions_reconstruction loss: 0.0;\n",
      "\n",
      "Emotion losses:\n",
      "Mean total loss: 0.91681;\n",
      "Mean reconstruction loss: 0.083236;\n",
      "Mean kld_loss loss: 8.3358;\n",
      "Mean faces_reconstruction loss: 0.0;\n",
      "Mean emotions_reconstruction loss: 0.083236;\n",
      "\n"
     ]
    },
    {
     "name": "stderr",
     "output_type": "stream",
     "text": [
      "\r",
      " 53%|████████████▎          | 80/150 [1:31:03<1:15:52, 65.03s/it]"
     ]
    },
    {
     "name": "stdout",
     "output_type": "stream",
     "text": [
      "Multimodal losses:\n",
      "Mean total loss: 1.9218;\n",
      "Mean reconstruction loss: 0.26246;\n",
      "Mean kld_loss loss: 16.593;\n",
      "Mean faces_reconstruction loss: 0.035784;\n",
      "Mean emotions_reconstruction loss: 0.22667;\n",
      "\n",
      "Face losses:\n",
      "Mean total loss: 0.32258;\n",
      "Mean reconstruction loss: 0.036002;\n",
      "Mean kld_loss loss: 2.8658;\n",
      "Mean faces_reconstruction loss: 0.036002;\n",
      "Mean emotions_reconstruction loss: 0.0;\n",
      "\n",
      "Emotion losses:\n",
      "Mean total loss: 0.92904;\n",
      "Mean reconstruction loss: 0.09225;\n",
      "Mean kld_loss loss: 8.3679;\n",
      "Mean faces_reconstruction loss: 0.0;\n",
      "Mean emotions_reconstruction loss: 0.09225;\n",
      "\n"
     ]
    },
    {
     "name": "stderr",
     "output_type": "stream",
     "text": [
      "\r",
      " 54%|████████████▍          | 81/150 [1:32:11<1:15:47, 65.90s/it]"
     ]
    },
    {
     "name": "stdout",
     "output_type": "stream",
     "text": [
      "Multimodal losses:\n",
      "Mean total loss: 1.9066;\n",
      "Mean reconstruction loss: 0.25566;\n",
      "Mean kld_loss loss: 16.51;\n",
      "Mean faces_reconstruction loss: 0.03574;\n",
      "Mean emotions_reconstruction loss: 0.21992;\n",
      "\n",
      "Face losses:\n",
      "Mean total loss: 0.32473;\n",
      "Mean reconstruction loss: 0.035972;\n",
      "Mean kld_loss loss: 2.8876;\n",
      "Mean faces_reconstruction loss: 0.035972;\n",
      "Mean emotions_reconstruction loss: 0.0;\n",
      "\n",
      "Emotion losses:\n",
      "Mean total loss: 0.91445;\n",
      "Mean reconstruction loss: 0.084497;\n",
      "Mean kld_loss loss: 8.2995;\n",
      "Mean faces_reconstruction loss: 0.0;\n",
      "Mean emotions_reconstruction loss: 0.084497;\n",
      "\n"
     ]
    },
    {
     "name": "stderr",
     "output_type": "stream",
     "text": [
      "\r",
      " 55%|████████████▌          | 82/150 [1:33:16<1:14:14, 65.50s/it]"
     ]
    },
    {
     "name": "stdout",
     "output_type": "stream",
     "text": [
      "Multimodal losses:\n",
      "Mean total loss: 1.8983;\n",
      "Mean reconstruction loss: 0.25836;\n",
      "Mean kld_loss loss: 16.4;\n",
      "Mean faces_reconstruction loss: 0.035785;\n",
      "Mean emotions_reconstruction loss: 0.22258;\n",
      "\n",
      "Face losses:\n",
      "Mean total loss: 0.32671;\n",
      "Mean reconstruction loss: 0.036015;\n",
      "Mean kld_loss loss: 2.907;\n",
      "Mean faces_reconstruction loss: 0.036015;\n",
      "Mean emotions_reconstruction loss: 0.0;\n",
      "\n",
      "Emotion losses:\n",
      "Mean total loss: 0.89437;\n",
      "Mean reconstruction loss: 0.082276;\n",
      "Mean kld_loss loss: 8.1209;\n",
      "Mean faces_reconstruction loss: 0.0;\n",
      "Mean emotions_reconstruction loss: 0.082276;\n",
      "\n"
     ]
    },
    {
     "name": "stderr",
     "output_type": "stream",
     "text": [
      "\r",
      " 55%|████████████▋          | 83/150 [1:34:19<1:12:22, 64.81s/it]"
     ]
    },
    {
     "name": "stdout",
     "output_type": "stream",
     "text": [
      "Multimodal losses:\n",
      "Mean total loss: 1.8974;\n",
      "Mean reconstruction loss: 0.25862;\n",
      "Mean kld_loss loss: 16.388;\n",
      "Mean faces_reconstruction loss: 0.035767;\n",
      "Mean emotions_reconstruction loss: 0.22285;\n",
      "\n",
      "Face losses:\n",
      "Mean total loss: 0.32865;\n",
      "Mean reconstruction loss: 0.035983;\n",
      "Mean kld_loss loss: 2.9266;\n",
      "Mean faces_reconstruction loss: 0.035983;\n",
      "Mean emotions_reconstruction loss: 0.0;\n",
      "\n",
      "Emotion losses:\n",
      "Mean total loss: 0.89206;\n",
      "Mean reconstruction loss: 0.077439;\n",
      "Mean kld_loss loss: 8.1462;\n",
      "Mean faces_reconstruction loss: 0.0;\n",
      "Mean emotions_reconstruction loss: 0.077439;\n",
      "\n"
     ]
    },
    {
     "name": "stderr",
     "output_type": "stream",
     "text": [
      "\r",
      " 56%|████████████▉          | 84/150 [1:35:23<1:11:02, 64.59s/it]"
     ]
    },
    {
     "name": "stdout",
     "output_type": "stream",
     "text": [
      "Multimodal losses:\n",
      "Mean total loss: 1.8876;\n",
      "Mean reconstruction loss: 0.25378;\n",
      "Mean kld_loss loss: 16.339;\n",
      "Mean faces_reconstruction loss: 0.03579;\n",
      "Mean emotions_reconstruction loss: 0.21799;\n",
      "\n",
      "Face losses:\n",
      "Mean total loss: 0.33087;\n",
      "Mean reconstruction loss: 0.036007;\n",
      "Mean kld_loss loss: 2.9487;\n",
      "Mean faces_reconstruction loss: 0.036007;\n",
      "Mean emotions_reconstruction loss: 0.0;\n",
      "\n",
      "Emotion losses:\n",
      "Mean total loss: 0.87864;\n",
      "Mean reconstruction loss: 0.076377;\n",
      "Mean kld_loss loss: 8.0226;\n",
      "Mean faces_reconstruction loss: 0.0;\n",
      "Mean emotions_reconstruction loss: 0.076377;\n",
      "\n"
     ]
    },
    {
     "name": "stderr",
     "output_type": "stream",
     "text": [
      "\r",
      " 57%|█████████████          | 85/150 [1:36:28<1:09:58, 64.60s/it]"
     ]
    },
    {
     "name": "stdout",
     "output_type": "stream",
     "text": [
      "Multimodal losses:\n",
      "Mean total loss: 1.8732;\n",
      "Mean reconstruction loss: 0.24137;\n",
      "Mean kld_loss loss: 16.318;\n",
      "Mean faces_reconstruction loss: 0.035788;\n",
      "Mean emotions_reconstruction loss: 0.20559;\n",
      "\n",
      "Face losses:\n",
      "Mean total loss: 0.33225;\n",
      "Mean reconstruction loss: 0.03599;\n",
      "Mean kld_loss loss: 2.9626;\n",
      "Mean faces_reconstruction loss: 0.03599;\n",
      "Mean emotions_reconstruction loss: 0.0;\n",
      "\n",
      "Emotion losses:\n",
      "Mean total loss: 0.87362;\n",
      "Mean reconstruction loss: 0.072278;\n",
      "Mean kld_loss loss: 8.0135;\n",
      "Mean faces_reconstruction loss: 0.0;\n",
      "Mean emotions_reconstruction loss: 0.072278;\n",
      "\n"
     ]
    },
    {
     "name": "stderr",
     "output_type": "stream",
     "text": [
      "\r",
      " 57%|█████████████▏         | 86/150 [1:37:32<1:08:50, 64.53s/it]"
     ]
    },
    {
     "name": "stdout",
     "output_type": "stream",
     "text": [
      "Multimodal losses:\n",
      "Mean total loss: 1.8694;\n",
      "Mean reconstruction loss: 0.23765;\n",
      "Mean kld_loss loss: 16.317;\n",
      "Mean faces_reconstruction loss: 0.035765;\n",
      "Mean emotions_reconstruction loss: 0.20189;\n",
      "\n",
      "Face losses:\n",
      "Mean total loss: 0.33366;\n",
      "Mean reconstruction loss: 0.035983;\n",
      "Mean kld_loss loss: 2.9768;\n",
      "Mean faces_reconstruction loss: 0.035983;\n",
      "Mean emotions_reconstruction loss: 0.0;\n",
      "\n",
      "Emotion losses:\n",
      "Mean total loss: 0.86841;\n",
      "Mean reconstruction loss: 0.071353;\n",
      "Mean kld_loss loss: 7.9706;\n",
      "Mean faces_reconstruction loss: 0.0;\n",
      "Mean emotions_reconstruction loss: 0.071353;\n",
      "\n"
     ]
    },
    {
     "name": "stderr",
     "output_type": "stream",
     "text": [
      "\r",
      " 58%|█████████████▎         | 87/150 [1:38:36<1:07:31, 64.30s/it]"
     ]
    },
    {
     "name": "stdout",
     "output_type": "stream",
     "text": [
      "Multimodal losses:\n",
      "Mean total loss: 1.8716;\n",
      "Mean reconstruction loss: 0.24188;\n",
      "Mean kld_loss loss: 16.297;\n",
      "Mean faces_reconstruction loss: 0.035775;\n",
      "Mean emotions_reconstruction loss: 0.2061;\n",
      "\n",
      "Face losses:\n",
      "Mean total loss: 0.33466;\n",
      "Mean reconstruction loss: 0.035997;\n",
      "Mean kld_loss loss: 2.9867;\n",
      "Mean faces_reconstruction loss: 0.035997;\n",
      "Mean emotions_reconstruction loss: 0.0;\n",
      "\n",
      "Emotion losses:\n",
      "Mean total loss: 0.86334;\n",
      "Mean reconstruction loss: 0.07136;\n",
      "Mean kld_loss loss: 7.9198;\n",
      "Mean faces_reconstruction loss: 0.0;\n",
      "Mean emotions_reconstruction loss: 0.07136;\n",
      "\n"
     ]
    },
    {
     "name": "stderr",
     "output_type": "stream",
     "text": [
      "\r",
      " 59%|█████████████▍         | 88/150 [1:39:40<1:06:18, 64.17s/it]"
     ]
    },
    {
     "name": "stdout",
     "output_type": "stream",
     "text": [
      "Multimodal losses:\n",
      "Mean total loss: 1.8665;\n",
      "Mean reconstruction loss: 0.23683;\n",
      "Mean kld_loss loss: 16.297;\n",
      "Mean faces_reconstruction loss: 0.035799;\n",
      "Mean emotions_reconstruction loss: 0.20103;\n",
      "\n",
      "Face losses:\n",
      "Mean total loss: 0.33666;\n",
      "Mean reconstruction loss: 0.036017;\n",
      "Mean kld_loss loss: 3.0064;\n",
      "Mean faces_reconstruction loss: 0.036017;\n",
      "Mean emotions_reconstruction loss: 0.0;\n",
      "\n",
      "Emotion losses:\n",
      "Mean total loss: 0.8617;\n",
      "Mean reconstruction loss: 0.070567;\n",
      "Mean kld_loss loss: 7.9113;\n",
      "Mean faces_reconstruction loss: 0.0;\n",
      "Mean emotions_reconstruction loss: 0.070567;\n",
      "\n"
     ]
    },
    {
     "name": "stderr",
     "output_type": "stream",
     "text": [
      "\r",
      " 59%|█████████████▋         | 89/150 [1:40:43<1:04:57, 63.89s/it]"
     ]
    },
    {
     "name": "stdout",
     "output_type": "stream",
     "text": [
      "Multimodal losses:\n",
      "Mean total loss: 1.8643;\n",
      "Mean reconstruction loss: 0.23596;\n",
      "Mean kld_loss loss: 16.283;\n",
      "Mean faces_reconstruction loss: 0.035776;\n",
      "Mean emotions_reconstruction loss: 0.20018;\n",
      "\n",
      "Face losses:\n",
      "Mean total loss: 0.33842;\n",
      "Mean reconstruction loss: 0.036007;\n",
      "Mean kld_loss loss: 3.0241;\n",
      "Mean faces_reconstruction loss: 0.036007;\n",
      "Mean emotions_reconstruction loss: 0.0;\n",
      "\n",
      "Emotion losses:\n",
      "Mean total loss: 0.8575;\n",
      "Mean reconstruction loss: 0.067868;\n",
      "Mean kld_loss loss: 7.8963;\n",
      "Mean faces_reconstruction loss: 0.0;\n",
      "Mean emotions_reconstruction loss: 0.067868;\n",
      "\n"
     ]
    },
    {
     "name": "stderr",
     "output_type": "stream",
     "text": [
      "\r",
      " 60%|█████████████▊         | 90/150 [1:41:43<1:02:53, 62.90s/it]"
     ]
    },
    {
     "name": "stdout",
     "output_type": "stream",
     "text": [
      "Multimodal losses:\n",
      "Mean total loss: 1.8546;\n",
      "Mean reconstruction loss: 0.2344;\n",
      "Mean kld_loss loss: 16.202;\n",
      "Mean faces_reconstruction loss: 0.035769;\n",
      "Mean emotions_reconstruction loss: 0.19863;\n",
      "\n",
      "Face losses:\n",
      "Mean total loss: 0.33891;\n",
      "Mean reconstruction loss: 0.035994;\n",
      "Mean kld_loss loss: 3.0291;\n",
      "Mean faces_reconstruction loss: 0.035994;\n",
      "Mean emotions_reconstruction loss: 0.0;\n",
      "\n",
      "Emotion losses:\n",
      "Mean total loss: 0.8414;\n",
      "Mean reconstruction loss: 0.067049;\n",
      "Mean kld_loss loss: 7.7435;\n",
      "Mean faces_reconstruction loss: 0.0;\n",
      "Mean emotions_reconstruction loss: 0.067049;\n",
      "\n"
     ]
    },
    {
     "name": "stderr",
     "output_type": "stream",
     "text": [
      "\r",
      " 61%|█████████████▉         | 91/150 [1:42:48<1:02:18, 63.37s/it]"
     ]
    },
    {
     "name": "stdout",
     "output_type": "stream",
     "text": [
      "Multimodal losses:\n",
      "Mean total loss: 1.8498;\n",
      "Mean reconstruction loss: 0.2323;\n",
      "Mean kld_loss loss: 16.175;\n",
      "Mean faces_reconstruction loss: 0.035791;\n",
      "Mean emotions_reconstruction loss: 0.19651;\n",
      "\n",
      "Face losses:\n",
      "Mean total loss: 0.34101;\n",
      "Mean reconstruction loss: 0.036003;\n",
      "Mean kld_loss loss: 3.0501;\n",
      "Mean faces_reconstruction loss: 0.036003;\n",
      "Mean emotions_reconstruction loss: 0.0;\n",
      "\n",
      "Emotion losses:\n",
      "Mean total loss: 0.83759;\n",
      "Mean reconstruction loss: 0.065578;\n",
      "Mean kld_loss loss: 7.7202;\n",
      "Mean faces_reconstruction loss: 0.0;\n",
      "Mean emotions_reconstruction loss: 0.065578;\n",
      "\n"
     ]
    },
    {
     "name": "stderr",
     "output_type": "stream",
     "text": [
      "\r",
      " 61%|██████████████         | 92/150 [1:43:49<1:00:31, 62.60s/it]"
     ]
    },
    {
     "name": "stdout",
     "output_type": "stream",
     "text": [
      "Multimodal losses:\n",
      "Mean total loss: 1.8449;\n",
      "Mean reconstruction loss: 0.22476;\n",
      "Mean kld_loss loss: 16.202;\n",
      "Mean faces_reconstruction loss: 0.03578;\n",
      "Mean emotions_reconstruction loss: 0.18898;\n",
      "\n",
      "Face losses:\n",
      "Mean total loss: 0.34347;\n",
      "Mean reconstruction loss: 0.03601;\n",
      "Mean kld_loss loss: 3.0746;\n",
      "Mean faces_reconstruction loss: 0.03601;\n",
      "Mean emotions_reconstruction loss: 0.0;\n",
      "\n",
      "Emotion losses:\n",
      "Mean total loss: 0.83724;\n",
      "Mean reconstruction loss: 0.06424;\n",
      "Mean kld_loss loss: 7.73;\n",
      "Mean faces_reconstruction loss: 0.0;\n",
      "Mean emotions_reconstruction loss: 0.06424;\n",
      "\n"
     ]
    },
    {
     "name": "stderr",
     "output_type": "stream",
     "text": [
      "\r",
      " 62%|███████████████▌         | 93/150 [1:44:50<59:04, 62.19s/it]"
     ]
    },
    {
     "name": "stdout",
     "output_type": "stream",
     "text": [
      "Multimodal losses:\n",
      "Mean total loss: 1.8444;\n",
      "Mean reconstruction loss: 0.229;\n",
      "Mean kld_loss loss: 16.154;\n",
      "Mean faces_reconstruction loss: 0.035769;\n",
      "Mean emotions_reconstruction loss: 0.19323;\n",
      "\n",
      "Face losses:\n",
      "Mean total loss: 0.34444;\n",
      "Mean reconstruction loss: 0.035984;\n",
      "Mean kld_loss loss: 3.0845;\n",
      "Mean faces_reconstruction loss: 0.035984;\n",
      "Mean emotions_reconstruction loss: 0.0;\n",
      "\n",
      "Emotion losses:\n",
      "Mean total loss: 0.82328;\n",
      "Mean reconstruction loss: 0.059688;\n",
      "Mean kld_loss loss: 7.6359;\n",
      "Mean faces_reconstruction loss: 0.0;\n",
      "Mean emotions_reconstruction loss: 0.059688;\n",
      "\n"
     ]
    },
    {
     "name": "stderr",
     "output_type": "stream",
     "text": [
      "\r",
      " 63%|███████████████▋         | 94/150 [1:45:51<57:42, 61.83s/it]"
     ]
    },
    {
     "name": "stdout",
     "output_type": "stream",
     "text": [
      "Multimodal losses:\n",
      "Mean total loss: 1.8299;\n",
      "Mean reconstruction loss: 0.21371;\n",
      "Mean kld_loss loss: 16.161;\n",
      "Mean faces_reconstruction loss: 0.035744;\n",
      "Mean emotions_reconstruction loss: 0.17797;\n",
      "\n",
      "Face losses:\n",
      "Mean total loss: 0.34596;\n",
      "Mean reconstruction loss: 0.035976;\n",
      "Mean kld_loss loss: 3.0999;\n",
      "Mean faces_reconstruction loss: 0.035976;\n",
      "Mean emotions_reconstruction loss: 0.0;\n",
      "\n",
      "Emotion losses:\n",
      "Mean total loss: 0.82769;\n",
      "Mean reconstruction loss: 0.065918;\n",
      "Mean kld_loss loss: 7.6177;\n",
      "Mean faces_reconstruction loss: 0.0;\n",
      "Mean emotions_reconstruction loss: 0.065918;\n",
      "\n"
     ]
    },
    {
     "name": "stderr",
     "output_type": "stream",
     "text": [
      "\r",
      " 63%|███████████████▊         | 95/150 [1:46:52<56:32, 61.69s/it]"
     ]
    },
    {
     "name": "stdout",
     "output_type": "stream",
     "text": [
      "Multimodal losses:\n",
      "Mean total loss: 1.8297;\n",
      "Mean reconstruction loss: 0.21096;\n",
      "Mean kld_loss loss: 16.187;\n",
      "Mean faces_reconstruction loss: 0.035766;\n",
      "Mean emotions_reconstruction loss: 0.17519;\n",
      "\n",
      "Face losses:\n",
      "Mean total loss: 0.3474;\n",
      "Mean reconstruction loss: 0.035996;\n",
      "Mean kld_loss loss: 3.114;\n",
      "Mean faces_reconstruction loss: 0.035996;\n",
      "Mean emotions_reconstruction loss: 0.0;\n",
      "\n",
      "Emotion losses:\n",
      "Mean total loss: 0.82692;\n",
      "Mean reconstruction loss: 0.063964;\n",
      "Mean kld_loss loss: 7.6296;\n",
      "Mean faces_reconstruction loss: 0.0;\n",
      "Mean emotions_reconstruction loss: 0.063964;\n",
      "\n"
     ]
    },
    {
     "name": "stderr",
     "output_type": "stream",
     "text": [
      "\r",
      " 64%|████████████████         | 96/150 [1:47:53<55:10, 61.30s/it]"
     ]
    },
    {
     "name": "stdout",
     "output_type": "stream",
     "text": [
      "Multimodal losses:\n",
      "Mean total loss: 1.819;\n",
      "Mean reconstruction loss: 0.2066;\n",
      "Mean kld_loss loss: 16.124;\n",
      "Mean faces_reconstruction loss: 0.035745;\n",
      "Mean emotions_reconstruction loss: 0.17086;\n",
      "\n",
      "Face losses:\n",
      "Mean total loss: 0.34931;\n",
      "Mean reconstruction loss: 0.03598;\n",
      "Mean kld_loss loss: 3.1333;\n",
      "Mean faces_reconstruction loss: 0.03598;\n",
      "Mean emotions_reconstruction loss: 0.0;\n",
      "\n",
      "Emotion losses:\n",
      "Mean total loss: 0.81633;\n",
      "Mean reconstruction loss: 0.063949;\n",
      "Mean kld_loss loss: 7.5238;\n",
      "Mean faces_reconstruction loss: 0.0;\n",
      "Mean emotions_reconstruction loss: 0.063949;\n",
      "\n"
     ]
    },
    {
     "name": "stderr",
     "output_type": "stream",
     "text": [
      "\r",
      " 65%|████████████████▏        | 97/150 [1:48:54<54:02, 61.18s/it]"
     ]
    },
    {
     "name": "stdout",
     "output_type": "stream",
     "text": [
      "Multimodal losses:\n",
      "Mean total loss: 1.8274;\n",
      "Mean reconstruction loss: 0.21242;\n",
      "Mean kld_loss loss: 16.15;\n",
      "Mean faces_reconstruction loss: 0.035732;\n",
      "Mean emotions_reconstruction loss: 0.17668;\n",
      "\n",
      "Face losses:\n",
      "Mean total loss: 0.34942;\n",
      "Mean reconstruction loss: 0.03596;\n",
      "Mean kld_loss loss: 3.1346;\n",
      "Mean faces_reconstruction loss: 0.03596;\n",
      "Mean emotions_reconstruction loss: 0.0;\n",
      "\n",
      "Emotion losses:\n",
      "Mean total loss: 0.82132;\n",
      "Mean reconstruction loss: 0.067699;\n",
      "Mean kld_loss loss: 7.5362;\n",
      "Mean faces_reconstruction loss: 0.0;\n",
      "Mean emotions_reconstruction loss: 0.067699;\n",
      "\n"
     ]
    },
    {
     "name": "stderr",
     "output_type": "stream",
     "text": [
      "\r",
      " 65%|████████████████▎        | 98/150 [1:49:55<52:59, 61.15s/it]"
     ]
    },
    {
     "name": "stdout",
     "output_type": "stream",
     "text": [
      "Multimodal losses:\n",
      "Mean total loss: 1.8202;\n",
      "Mean reconstruction loss: 0.20817;\n",
      "Mean kld_loss loss: 16.12;\n",
      "Mean faces_reconstruction loss: 0.035743;\n",
      "Mean emotions_reconstruction loss: 0.17243;\n",
      "\n",
      "Face losses:\n",
      "Mean total loss: 0.35034;\n",
      "Mean reconstruction loss: 0.035969;\n",
      "Mean kld_loss loss: 3.1437;\n",
      "Mean faces_reconstruction loss: 0.035969;\n",
      "Mean emotions_reconstruction loss: 0.0;\n",
      "\n",
      "Emotion losses:\n",
      "Mean total loss: 0.81218;\n",
      "Mean reconstruction loss: 0.063006;\n",
      "Mean kld_loss loss: 7.4917;\n",
      "Mean faces_reconstruction loss: 0.0;\n",
      "Mean emotions_reconstruction loss: 0.063006;\n",
      "\n"
     ]
    },
    {
     "name": "stderr",
     "output_type": "stream",
     "text": [
      "\r",
      " 66%|████████████████▌        | 99/150 [1:50:55<51:53, 61.05s/it]"
     ]
    },
    {
     "name": "stdout",
     "output_type": "stream",
     "text": [
      "Multimodal losses:\n",
      "Mean total loss: 1.8172;\n",
      "Mean reconstruction loss: 0.204;\n",
      "Mean kld_loss loss: 16.132;\n",
      "Mean faces_reconstruction loss: 0.035721;\n",
      "Mean emotions_reconstruction loss: 0.16828;\n",
      "\n",
      "Face losses:\n",
      "Mean total loss: 0.35166;\n",
      "Mean reconstruction loss: 0.035963;\n",
      "Mean kld_loss loss: 3.157;\n",
      "Mean faces_reconstruction loss: 0.035963;\n",
      "Mean emotions_reconstruction loss: 0.0;\n",
      "\n",
      "Emotion losses:\n",
      "Mean total loss: 0.81624;\n",
      "Mean reconstruction loss: 0.068338;\n",
      "Mean kld_loss loss: 7.4791;\n",
      "Mean faces_reconstruction loss: 0.0;\n",
      "Mean emotions_reconstruction loss: 0.068338;\n",
      "\n"
     ]
    },
    {
     "name": "stderr",
     "output_type": "stream",
     "text": [
      "\r",
      " 67%|████████████████        | 100/150 [1:51:58<51:10, 61.41s/it]"
     ]
    },
    {
     "name": "stdout",
     "output_type": "stream",
     "text": [
      "Multimodal losses:\n",
      "Mean total loss: 1.8204;\n",
      "Mean reconstruction loss: 0.20568;\n",
      "Mean kld_loss loss: 16.148;\n",
      "Mean faces_reconstruction loss: 0.035746;\n",
      "Mean emotions_reconstruction loss: 0.16994;\n",
      "\n",
      "Face losses:\n",
      "Mean total loss: 0.35198;\n",
      "Mean reconstruction loss: 0.035972;\n",
      "Mean kld_loss loss: 3.1601;\n",
      "Mean faces_reconstruction loss: 0.035972;\n",
      "Mean emotions_reconstruction loss: 0.0;\n",
      "\n",
      "Emotion losses:\n",
      "Mean total loss: 0.81273;\n",
      "Mean reconstruction loss: 0.06212;\n",
      "Mean kld_loss loss: 7.5061;\n",
      "Mean faces_reconstruction loss: 0.0;\n",
      "Mean emotions_reconstruction loss: 0.06212;\n",
      "\n"
     ]
    },
    {
     "name": "stderr",
     "output_type": "stream",
     "text": [
      "\r",
      " 67%|████████████████▏       | 101/150 [1:53:00<50:20, 61.65s/it]"
     ]
    },
    {
     "name": "stdout",
     "output_type": "stream",
     "text": [
      "Multimodal losses:\n",
      "Mean total loss: 1.8181;\n",
      "Mean reconstruction loss: 0.20604;\n",
      "Mean kld_loss loss: 16.121;\n",
      "Mean faces_reconstruction loss: 0.035766;\n",
      "Mean emotions_reconstruction loss: 0.17027;\n",
      "\n",
      "Face losses:\n",
      "Mean total loss: 0.3531;\n",
      "Mean reconstruction loss: 0.035993;\n",
      "Mean kld_loss loss: 3.1711;\n",
      "Mean faces_reconstruction loss: 0.035993;\n",
      "Mean emotions_reconstruction loss: 0.0;\n",
      "\n",
      "Emotion losses:\n",
      "Mean total loss: 0.79972;\n",
      "Mean reconstruction loss: 0.057358;\n",
      "Mean kld_loss loss: 7.4236;\n",
      "Mean faces_reconstruction loss: 0.0;\n",
      "Mean emotions_reconstruction loss: 0.057358;\n",
      "\n"
     ]
    },
    {
     "name": "stderr",
     "output_type": "stream",
     "text": [
      "\r",
      " 68%|████████████████▎       | 102/150 [1:54:02<49:29, 61.87s/it]"
     ]
    },
    {
     "name": "stdout",
     "output_type": "stream",
     "text": [
      "Multimodal losses:\n",
      "Mean total loss: 1.8145;\n",
      "Mean reconstruction loss: 0.20363;\n",
      "Mean kld_loss loss: 16.108;\n",
      "Mean faces_reconstruction loss: 0.03574;\n",
      "Mean emotions_reconstruction loss: 0.16789;\n",
      "\n",
      "Face losses:\n",
      "Mean total loss: 0.35402;\n",
      "Mean reconstruction loss: 0.03597;\n",
      "Mean kld_loss loss: 3.1805;\n",
      "Mean faces_reconstruction loss: 0.03597;\n",
      "Mean emotions_reconstruction loss: 0.0;\n",
      "\n",
      "Emotion losses:\n",
      "Mean total loss: 0.80349;\n",
      "Mean reconstruction loss: 0.062626;\n",
      "Mean kld_loss loss: 7.4086;\n",
      "Mean faces_reconstruction loss: 0.0;\n",
      "Mean emotions_reconstruction loss: 0.062626;\n",
      "\n"
     ]
    },
    {
     "name": "stderr",
     "output_type": "stream",
     "text": [
      "\r",
      " 69%|████████████████▍       | 103/150 [1:55:04<48:28, 61.89s/it]"
     ]
    },
    {
     "name": "stdout",
     "output_type": "stream",
     "text": [
      "Multimodal losses:\n",
      "Mean total loss: 1.8046;\n",
      "Mean reconstruction loss: 0.19481;\n",
      "Mean kld_loss loss: 16.098;\n",
      "Mean faces_reconstruction loss: 0.035749;\n",
      "Mean emotions_reconstruction loss: 0.15907;\n",
      "\n",
      "Face losses:\n",
      "Mean total loss: 0.3556;\n",
      "Mean reconstruction loss: 0.035982;\n",
      "Mean kld_loss loss: 3.1962;\n",
      "Mean faces_reconstruction loss: 0.035982;\n",
      "Mean emotions_reconstruction loss: 0.0;\n",
      "\n",
      "Emotion losses:\n",
      "Mean total loss: 0.80864;\n",
      "Mean reconstruction loss: 0.07036;\n",
      "Mean kld_loss loss: 7.3828;\n",
      "Mean faces_reconstruction loss: 0.0;\n",
      "Mean emotions_reconstruction loss: 0.07036;\n",
      "\n"
     ]
    },
    {
     "name": "stderr",
     "output_type": "stream",
     "text": [
      "\r",
      " 69%|████████████████▋       | 104/150 [1:56:06<47:28, 61.93s/it]"
     ]
    },
    {
     "name": "stdout",
     "output_type": "stream",
     "text": [
      "Multimodal losses:\n",
      "Mean total loss: 1.8158;\n",
      "Mean reconstruction loss: 0.2008;\n",
      "Mean kld_loss loss: 16.15;\n",
      "Mean faces_reconstruction loss: 0.035709;\n",
      "Mean emotions_reconstruction loss: 0.16509;\n",
      "\n",
      "Face losses:\n",
      "Mean total loss: 0.35646;\n",
      "Mean reconstruction loss: 0.035948;\n",
      "Mean kld_loss loss: 3.2051;\n",
      "Mean faces_reconstruction loss: 0.035948;\n",
      "Mean emotions_reconstruction loss: 0.0;\n",
      "\n",
      "Emotion losses:\n",
      "Mean total loss: 0.81116;\n",
      "Mean reconstruction loss: 0.068022;\n",
      "Mean kld_loss loss: 7.4314;\n",
      "Mean faces_reconstruction loss: 0.0;\n",
      "Mean emotions_reconstruction loss: 0.068022;\n",
      "\n"
     ]
    },
    {
     "name": "stderr",
     "output_type": "stream",
     "text": [
      "\r",
      " 70%|████████████████▊       | 105/150 [1:57:08<46:28, 61.97s/it]"
     ]
    },
    {
     "name": "stdout",
     "output_type": "stream",
     "text": [
      "Multimodal losses:\n",
      "Mean total loss: 1.8151;\n",
      "Mean reconstruction loss: 0.20093;\n",
      "Mean kld_loss loss: 16.141;\n",
      "Mean faces_reconstruction loss: 0.035746;\n",
      "Mean emotions_reconstruction loss: 0.16519;\n",
      "\n",
      "Face losses:\n",
      "Mean total loss: 0.35692;\n",
      "Mean reconstruction loss: 0.035989;\n",
      "Mean kld_loss loss: 3.2093;\n",
      "Mean faces_reconstruction loss: 0.035989;\n",
      "Mean emotions_reconstruction loss: 0.0;\n",
      "\n",
      "Emotion losses:\n",
      "Mean total loss: 0.82101;\n",
      "Mean reconstruction loss: 0.075689;\n",
      "Mean kld_loss loss: 7.4533;\n",
      "Mean faces_reconstruction loss: 0.0;\n",
      "Mean emotions_reconstruction loss: 0.075689;\n",
      "\n"
     ]
    },
    {
     "name": "stderr",
     "output_type": "stream",
     "text": [
      "\r",
      " 71%|████████████████▉       | 106/150 [1:58:11<45:37, 62.22s/it]"
     ]
    },
    {
     "name": "stdout",
     "output_type": "stream",
     "text": [
      "Multimodal losses:\n",
      "Mean total loss: 1.8129;\n",
      "Mean reconstruction loss: 0.202;\n",
      "Mean kld_loss loss: 16.109;\n",
      "Mean faces_reconstruction loss: 0.035723;\n",
      "Mean emotions_reconstruction loss: 0.16627;\n",
      "\n",
      "Face losses:\n",
      "Mean total loss: 0.35711;\n",
      "Mean reconstruction loss: 0.03596;\n",
      "Mean kld_loss loss: 3.2115;\n",
      "Mean faces_reconstruction loss: 0.03596;\n",
      "Mean emotions_reconstruction loss: 0.0;\n",
      "\n",
      "Emotion losses:\n",
      "Mean total loss: 0.80051;\n",
      "Mean reconstruction loss: 0.065272;\n",
      "Mean kld_loss loss: 7.3524;\n",
      "Mean faces_reconstruction loss: 0.0;\n",
      "Mean emotions_reconstruction loss: 0.065272;\n",
      "\n"
     ]
    },
    {
     "name": "stderr",
     "output_type": "stream",
     "text": [
      "\r",
      " 71%|█████████████████       | 107/150 [1:59:13<44:28, 62.06s/it]"
     ]
    },
    {
     "name": "stdout",
     "output_type": "stream",
     "text": [
      "Multimodal losses:\n",
      "Mean total loss: 1.806;\n",
      "Mean reconstruction loss: 0.19725;\n",
      "Mean kld_loss loss: 16.087;\n",
      "Mean faces_reconstruction loss: 0.03573;\n",
      "Mean emotions_reconstruction loss: 0.16152;\n",
      "\n",
      "Face losses:\n",
      "Mean total loss: 0.35841;\n",
      "Mean reconstruction loss: 0.035961;\n",
      "Mean kld_loss loss: 3.2245;\n",
      "Mean faces_reconstruction loss: 0.035961;\n",
      "Mean emotions_reconstruction loss: 0.0;\n",
      "\n",
      "Emotion losses:\n",
      "Mean total loss: 0.80676;\n",
      "Mean reconstruction loss: 0.074079;\n",
      "Mean kld_loss loss: 7.3268;\n",
      "Mean faces_reconstruction loss: 0.0;\n",
      "Mean emotions_reconstruction loss: 0.074079;\n",
      "\n"
     ]
    },
    {
     "name": "stderr",
     "output_type": "stream",
     "text": [
      "\r",
      " 72%|█████████████████▎      | 108/150 [2:00:17<43:59, 62.85s/it]"
     ]
    },
    {
     "name": "stdout",
     "output_type": "stream",
     "text": [
      "Multimodal losses:\n",
      "Mean total loss: 1.7994;\n",
      "Mean reconstruction loss: 0.18864;\n",
      "Mean kld_loss loss: 16.108;\n",
      "Mean faces_reconstruction loss: 0.035716;\n",
      "Mean emotions_reconstruction loss: 0.15292;\n",
      "\n",
      "Face losses:\n",
      "Mean total loss: 0.35899;\n",
      "Mean reconstruction loss: 0.035959;\n",
      "Mean kld_loss loss: 3.2303;\n",
      "Mean faces_reconstruction loss: 0.035959;\n",
      "Mean emotions_reconstruction loss: 0.0;\n",
      "\n",
      "Emotion losses:\n",
      "Mean total loss: 0.80693;\n",
      "Mean reconstruction loss: 0.069385;\n",
      "Mean kld_loss loss: 7.3755;\n",
      "Mean faces_reconstruction loss: 0.0;\n",
      "Mean emotions_reconstruction loss: 0.069385;\n",
      "\n"
     ]
    },
    {
     "name": "stderr",
     "output_type": "stream",
     "text": [
      "\r",
      " 73%|█████████████████▍      | 109/150 [2:01:18<42:27, 62.14s/it]"
     ]
    },
    {
     "name": "stdout",
     "output_type": "stream",
     "text": [
      "Multimodal losses:\n",
      "Mean total loss: 1.8082;\n",
      "Mean reconstruction loss: 0.19359;\n",
      "Mean kld_loss loss: 16.146;\n",
      "Mean faces_reconstruction loss: 0.035732;\n",
      "Mean emotions_reconstruction loss: 0.15786;\n",
      "\n",
      "Face losses:\n",
      "Mean total loss: 0.359;\n",
      "Mean reconstruction loss: 0.035982;\n",
      "Mean kld_loss loss: 3.2302;\n",
      "Mean faces_reconstruction loss: 0.035982;\n",
      "Mean emotions_reconstruction loss: 0.0;\n",
      "\n",
      "Emotion losses:\n",
      "Mean total loss: 0.81611;\n",
      "Mean reconstruction loss: 0.07442;\n",
      "Mean kld_loss loss: 7.4169;\n",
      "Mean faces_reconstruction loss: 0.0;\n",
      "Mean emotions_reconstruction loss: 0.07442;\n",
      "\n"
     ]
    },
    {
     "name": "stderr",
     "output_type": "stream",
     "text": [
      "\r",
      " 73%|█████████████████▌      | 110/150 [2:02:20<41:26, 62.17s/it]"
     ]
    },
    {
     "name": "stdout",
     "output_type": "stream",
     "text": [
      "Multimodal losses:\n",
      "Mean total loss: 1.816;\n",
      "Mean reconstruction loss: 0.20141;\n",
      "Mean kld_loss loss: 16.146;\n",
      "Mean faces_reconstruction loss: 0.03572;\n",
      "Mean emotions_reconstruction loss: 0.16569;\n",
      "\n",
      "Face losses:\n",
      "Mean total loss: 0.35901;\n",
      "Mean reconstruction loss: 0.035967;\n",
      "Mean kld_loss loss: 3.2305;\n",
      "Mean faces_reconstruction loss: 0.035967;\n",
      "Mean emotions_reconstruction loss: 0.0;\n",
      "\n",
      "Emotion losses:\n",
      "Mean total loss: 0.81055;\n",
      "Mean reconstruction loss: 0.071816;\n",
      "Mean kld_loss loss: 7.3874;\n",
      "Mean faces_reconstruction loss: 0.0;\n",
      "Mean emotions_reconstruction loss: 0.071816;\n",
      "\n"
     ]
    },
    {
     "name": "stderr",
     "output_type": "stream",
     "text": [
      "\r",
      " 74%|█████████████████▊      | 111/150 [2:03:21<40:10, 61.81s/it]"
     ]
    },
    {
     "name": "stdout",
     "output_type": "stream",
     "text": [
      "Multimodal losses:\n",
      "Mean total loss: 1.7997;\n",
      "Mean reconstruction loss: 0.19056;\n",
      "Mean kld_loss loss: 16.091;\n",
      "Mean faces_reconstruction loss: 0.035692;\n",
      "Mean emotions_reconstruction loss: 0.15487;\n",
      "\n",
      "Face losses:\n",
      "Mean total loss: 0.36078;\n",
      "Mean reconstruction loss: 0.035925;\n",
      "Mean kld_loss loss: 3.2486;\n",
      "Mean faces_reconstruction loss: 0.035925;\n",
      "Mean emotions_reconstruction loss: 0.0;\n",
      "\n",
      "Emotion losses:\n",
      "Mean total loss: 0.79312;\n",
      "Mean reconstruction loss: 0.065732;\n",
      "Mean kld_loss loss: 7.2738;\n",
      "Mean faces_reconstruction loss: 0.0;\n",
      "Mean emotions_reconstruction loss: 0.065732;\n",
      "\n"
     ]
    },
    {
     "name": "stderr",
     "output_type": "stream",
     "text": [
      "\r",
      " 75%|█████████████████▉      | 112/150 [2:04:25<39:29, 62.36s/it]"
     ]
    },
    {
     "name": "stdout",
     "output_type": "stream",
     "text": [
      "Multimodal losses:\n",
      "Mean total loss: 1.7956;\n",
      "Mean reconstruction loss: 0.18701;\n",
      "Mean kld_loss loss: 16.086;\n",
      "Mean faces_reconstruction loss: 0.035706;\n",
      "Mean emotions_reconstruction loss: 0.15131;\n",
      "\n",
      "Face losses:\n",
      "Mean total loss: 0.36161;\n",
      "Mean reconstruction loss: 0.035959;\n",
      "Mean kld_loss loss: 3.2565;\n",
      "Mean faces_reconstruction loss: 0.035959;\n",
      "Mean emotions_reconstruction loss: 0.0;\n",
      "\n",
      "Emotion losses:\n",
      "Mean total loss: 0.80965;\n",
      "Mean reconstruction loss: 0.08057;\n",
      "Mean kld_loss loss: 7.2908;\n",
      "Mean faces_reconstruction loss: 0.0;\n",
      "Mean emotions_reconstruction loss: 0.08057;\n",
      "\n"
     ]
    },
    {
     "name": "stderr",
     "output_type": "stream",
     "text": [
      "\r",
      " 75%|██████████████████      | 113/150 [2:05:26<38:18, 62.13s/it]"
     ]
    },
    {
     "name": "stdout",
     "output_type": "stream",
     "text": [
      "Multimodal losses:\n",
      "Mean total loss: 1.7982;\n",
      "Mean reconstruction loss: 0.18738;\n",
      "Mean kld_loss loss: 16.108;\n",
      "Mean faces_reconstruction loss: 0.035737;\n",
      "Mean emotions_reconstruction loss: 0.15164;\n",
      "\n",
      "Face losses:\n",
      "Mean total loss: 0.36245;\n",
      "Mean reconstruction loss: 0.035972;\n",
      "Mean kld_loss loss: 3.2648;\n",
      "Mean faces_reconstruction loss: 0.035972;\n",
      "Mean emotions_reconstruction loss: 0.0;\n",
      "\n",
      "Emotion losses:\n",
      "Mean total loss: 0.80339;\n",
      "Mean reconstruction loss: 0.073371;\n",
      "Mean kld_loss loss: 7.3002;\n",
      "Mean faces_reconstruction loss: 0.0;\n",
      "Mean emotions_reconstruction loss: 0.073371;\n",
      "\n"
     ]
    },
    {
     "name": "stderr",
     "output_type": "stream",
     "text": [
      "\r",
      " 76%|██████████████████▏     | 114/150 [2:06:27<37:02, 61.74s/it]"
     ]
    },
    {
     "name": "stdout",
     "output_type": "stream",
     "text": [
      "Multimodal losses:\n",
      "Mean total loss: 1.7882;\n",
      "Mean reconstruction loss: 0.18112;\n",
      "Mean kld_loss loss: 16.07;\n",
      "Mean faces_reconstruction loss: 0.035695;\n",
      "Mean emotions_reconstruction loss: 0.14543;\n",
      "\n",
      "Face losses:\n",
      "Mean total loss: 0.36276;\n",
      "Mean reconstruction loss: 0.035933;\n",
      "Mean kld_loss loss: 3.2682;\n",
      "Mean faces_reconstruction loss: 0.035933;\n",
      "Mean emotions_reconstruction loss: 0.0;\n",
      "\n",
      "Emotion losses:\n",
      "Mean total loss: 0.79992;\n",
      "Mean reconstruction loss: 0.073572;\n",
      "Mean kld_loss loss: 7.2635;\n",
      "Mean faces_reconstruction loss: 0.0;\n",
      "Mean emotions_reconstruction loss: 0.073572;\n",
      "\n"
     ]
    },
    {
     "name": "stderr",
     "output_type": "stream",
     "text": [
      "\r",
      " 77%|██████████████████▍     | 115/150 [2:07:30<36:14, 62.13s/it]"
     ]
    },
    {
     "name": "stdout",
     "output_type": "stream",
     "text": [
      "Multimodal losses:\n",
      "Mean total loss: 1.7944;\n",
      "Mean reconstruction loss: 0.18804;\n",
      "Mean kld_loss loss: 16.064;\n",
      "Mean faces_reconstruction loss: 0.035709;\n",
      "Mean emotions_reconstruction loss: 0.15233;\n",
      "\n",
      "Face losses:\n",
      "Mean total loss: 0.36343;\n",
      "Mean reconstruction loss: 0.035961;\n",
      "Mean kld_loss loss: 3.2747;\n",
      "Mean faces_reconstruction loss: 0.035961;\n",
      "Mean emotions_reconstruction loss: 0.0;\n",
      "\n",
      "Emotion losses:\n",
      "Mean total loss: 0.79033;\n",
      "Mean reconstruction loss: 0.069076;\n",
      "Mean kld_loss loss: 7.2125;\n",
      "Mean faces_reconstruction loss: 0.0;\n",
      "Mean emotions_reconstruction loss: 0.069076;\n",
      "\n"
     ]
    },
    {
     "name": "stderr",
     "output_type": "stream",
     "text": [
      "\r",
      " 77%|██████████████████▌     | 116/150 [2:08:33<35:17, 62.29s/it]"
     ]
    },
    {
     "name": "stdout",
     "output_type": "stream",
     "text": [
      "Multimodal losses:\n",
      "Mean total loss: 1.7915;\n",
      "Mean reconstruction loss: 0.18305;\n",
      "Mean kld_loss loss: 16.084;\n",
      "Mean faces_reconstruction loss: 0.03574;\n",
      "Mean emotions_reconstruction loss: 0.14731;\n",
      "\n",
      "Face losses:\n",
      "Mean total loss: 0.36467;\n",
      "Mean reconstruction loss: 0.035977;\n",
      "Mean kld_loss loss: 3.2869;\n",
      "Mean faces_reconstruction loss: 0.035977;\n",
      "Mean emotions_reconstruction loss: 0.0;\n",
      "\n",
      "Emotion losses:\n",
      "Mean total loss: 0.80901;\n",
      "Mean reconstruction loss: 0.085228;\n",
      "Mean kld_loss loss: 7.2378;\n",
      "Mean faces_reconstruction loss: 0.0;\n",
      "Mean emotions_reconstruction loss: 0.085228;\n",
      "\n"
     ]
    },
    {
     "name": "stderr",
     "output_type": "stream",
     "text": [
      "\r",
      " 78%|██████████████████▋     | 117/150 [2:09:36<34:26, 62.63s/it]"
     ]
    },
    {
     "name": "stdout",
     "output_type": "stream",
     "text": [
      "Multimodal losses:\n",
      "Mean total loss: 1.797;\n",
      "Mean reconstruction loss: 0.19103;\n",
      "Mean kld_loss loss: 16.06;\n",
      "Mean faces_reconstruction loss: 0.035723;\n",
      "Mean emotions_reconstruction loss: 0.1553;\n",
      "\n",
      "Face losses:\n",
      "Mean total loss: 0.36495;\n",
      "Mean reconstruction loss: 0.035955;\n",
      "Mean kld_loss loss: 3.29;\n",
      "Mean faces_reconstruction loss: 0.035955;\n",
      "Mean emotions_reconstruction loss: 0.0;\n",
      "\n",
      "Emotion losses:\n",
      "Mean total loss: 0.78679;\n",
      "Mean reconstruction loss: 0.064277;\n",
      "Mean kld_loss loss: 7.2252;\n",
      "Mean faces_reconstruction loss: 0.0;\n",
      "Mean emotions_reconstruction loss: 0.064277;\n",
      "\n"
     ]
    },
    {
     "name": "stderr",
     "output_type": "stream",
     "text": [
      "\r",
      " 79%|██████████████████▉     | 118/150 [2:10:39<33:22, 62.59s/it]"
     ]
    },
    {
     "name": "stdout",
     "output_type": "stream",
     "text": [
      "Multimodal losses:\n",
      "Mean total loss: 1.7889;\n",
      "Mean reconstruction loss: 0.1767;\n",
      "Mean kld_loss loss: 16.122;\n",
      "Mean faces_reconstruction loss: 0.035729;\n",
      "Mean emotions_reconstruction loss: 0.14097;\n",
      "\n",
      "Face losses:\n",
      "Mean total loss: 0.36496;\n",
      "Mean reconstruction loss: 0.035967;\n",
      "Mean kld_loss loss: 3.2899;\n",
      "Mean faces_reconstruction loss: 0.035967;\n",
      "Mean emotions_reconstruction loss: 0.0;\n",
      "\n",
      "Emotion losses:\n",
      "Mean total loss: 0.80844;\n",
      "Mean reconstruction loss: 0.077374;\n",
      "Mean kld_loss loss: 7.3106;\n",
      "Mean faces_reconstruction loss: 0.0;\n",
      "Mean emotions_reconstruction loss: 0.077374;\n",
      "\n"
     ]
    },
    {
     "name": "stderr",
     "output_type": "stream",
     "text": [
      "\r",
      " 79%|███████████████████     | 119/150 [2:11:41<32:19, 62.58s/it]"
     ]
    },
    {
     "name": "stdout",
     "output_type": "stream",
     "text": [
      "Multimodal losses:\n",
      "Mean total loss: 1.7787;\n",
      "Mean reconstruction loss: 0.17232;\n",
      "Mean kld_loss loss: 16.064;\n",
      "Mean faces_reconstruction loss: 0.035715;\n",
      "Mean emotions_reconstruction loss: 0.1366;\n",
      "\n",
      "Face losses:\n",
      "Mean total loss: 0.36606;\n",
      "Mean reconstruction loss: 0.035953;\n",
      "Mean kld_loss loss: 3.3011;\n",
      "Mean faces_reconstruction loss: 0.035953;\n",
      "Mean emotions_reconstruction loss: 0.0;\n",
      "\n",
      "Emotion losses:\n",
      "Mean total loss: 0.79676;\n",
      "Mean reconstruction loss: 0.075045;\n",
      "Mean kld_loss loss: 7.2171;\n",
      "Mean faces_reconstruction loss: 0.0;\n",
      "Mean emotions_reconstruction loss: 0.075045;\n",
      "\n"
     ]
    },
    {
     "name": "stderr",
     "output_type": "stream",
     "text": [
      "\r",
      " 80%|███████████████████▏    | 120/150 [2:12:43<31:10, 62.35s/it]"
     ]
    },
    {
     "name": "stdout",
     "output_type": "stream",
     "text": [
      "Multimodal losses:\n",
      "Mean total loss: 1.7793;\n",
      "Mean reconstruction loss: 0.17423;\n",
      "Mean kld_loss loss: 16.051;\n",
      "Mean faces_reconstruction loss: 0.035675;\n",
      "Mean emotions_reconstruction loss: 0.13855;\n",
      "\n",
      "Face losses:\n",
      "Mean total loss: 0.36654;\n",
      "Mean reconstruction loss: 0.035926;\n",
      "Mean kld_loss loss: 3.3062;\n",
      "Mean faces_reconstruction loss: 0.035926;\n",
      "Mean emotions_reconstruction loss: 0.0;\n",
      "\n",
      "Emotion losses:\n",
      "Mean total loss: 0.79912;\n",
      "Mean reconstruction loss: 0.079381;\n",
      "Mean kld_loss loss: 7.1974;\n",
      "Mean faces_reconstruction loss: 0.0;\n",
      "Mean emotions_reconstruction loss: 0.079381;\n",
      "\n"
     ]
    },
    {
     "name": "stderr",
     "output_type": "stream",
     "text": [
      "\r",
      " 81%|███████████████████▎    | 121/150 [2:13:50<30:47, 63.69s/it]"
     ]
    },
    {
     "name": "stdout",
     "output_type": "stream",
     "text": [
      "Multimodal losses:\n",
      "Mean total loss: 1.7889;\n",
      "Mean reconstruction loss: 0.18045;\n",
      "Mean kld_loss loss: 16.085;\n",
      "Mean faces_reconstruction loss: 0.035692;\n",
      "Mean emotions_reconstruction loss: 0.14476;\n",
      "\n",
      "Face losses:\n",
      "Mean total loss: 0.36618;\n",
      "Mean reconstruction loss: 0.035954;\n",
      "Mean kld_loss loss: 3.3022;\n",
      "Mean faces_reconstruction loss: 0.035954;\n",
      "Mean emotions_reconstruction loss: 0.0;\n",
      "\n",
      "Emotion losses:\n",
      "Mean total loss: 0.79717;\n",
      "Mean reconstruction loss: 0.076724;\n",
      "Mean kld_loss loss: 7.2044;\n",
      "Mean faces_reconstruction loss: 0.0;\n",
      "Mean emotions_reconstruction loss: 0.076724;\n",
      "\n"
     ]
    },
    {
     "name": "stderr",
     "output_type": "stream",
     "text": [
      "\r",
      " 81%|███████████████████▌    | 122/150 [2:14:52<29:31, 63.27s/it]"
     ]
    },
    {
     "name": "stdout",
     "output_type": "stream",
     "text": [
      "Multimodal losses:\n",
      "Mean total loss: 1.7777;\n",
      "Mean reconstruction loss: 0.17131;\n",
      "Mean kld_loss loss: 16.064;\n",
      "Mean faces_reconstruction loss: 0.035686;\n",
      "Mean emotions_reconstruction loss: 0.13562;\n",
      "\n",
      "Face losses:\n",
      "Mean total loss: 0.36752;\n",
      "Mean reconstruction loss: 0.035932;\n",
      "Mean kld_loss loss: 3.3159;\n",
      "Mean faces_reconstruction loss: 0.035932;\n",
      "Mean emotions_reconstruction loss: 0.0;\n",
      "\n",
      "Emotion losses:\n",
      "Mean total loss: 0.80216;\n",
      "Mean reconstruction loss: 0.083094;\n",
      "Mean kld_loss loss: 7.1906;\n",
      "Mean faces_reconstruction loss: 0.0;\n",
      "Mean emotions_reconstruction loss: 0.083094;\n",
      "\n"
     ]
    },
    {
     "name": "stderr",
     "output_type": "stream",
     "text": [
      "\r",
      " 82%|███████████████████▋    | 123/150 [2:15:55<28:25, 63.15s/it]"
     ]
    },
    {
     "name": "stdout",
     "output_type": "stream",
     "text": [
      "Multimodal losses:\n",
      "Mean total loss: 1.7767;\n",
      "Mean reconstruction loss: 0.16831;\n",
      "Mean kld_loss loss: 16.084;\n",
      "Mean faces_reconstruction loss: 0.035691;\n",
      "Mean emotions_reconstruction loss: 0.13262;\n",
      "\n",
      "Face losses:\n",
      "Mean total loss: 0.36735;\n",
      "Mean reconstruction loss: 0.035946;\n",
      "Mean kld_loss loss: 3.314;\n",
      "Mean faces_reconstruction loss: 0.035946;\n",
      "Mean emotions_reconstruction loss: 0.0;\n",
      "\n",
      "Emotion losses:\n",
      "Mean total loss: 0.79669;\n",
      "Mean reconstruction loss: 0.0749;\n",
      "Mean kld_loss loss: 7.2179;\n",
      "Mean faces_reconstruction loss: 0.0;\n",
      "Mean emotions_reconstruction loss: 0.0749;\n",
      "\n"
     ]
    },
    {
     "name": "stderr",
     "output_type": "stream",
     "text": [
      "\r",
      " 83%|███████████████████▊    | 124/150 [2:16:56<27:01, 62.35s/it]"
     ]
    },
    {
     "name": "stdout",
     "output_type": "stream",
     "text": [
      "Multimodal losses:\n",
      "Mean total loss: 1.7786;\n",
      "Mean reconstruction loss: 0.16899;\n",
      "Mean kld_loss loss: 16.096;\n",
      "Mean faces_reconstruction loss: 0.035669;\n",
      "Mean emotions_reconstruction loss: 0.13333;\n",
      "\n",
      "Face losses:\n",
      "Mean total loss: 0.36721;\n",
      "Mean reconstruction loss: 0.035925;\n",
      "Mean kld_loss loss: 3.3129;\n",
      "Mean faces_reconstruction loss: 0.035925;\n",
      "Mean emotions_reconstruction loss: 0.0;\n",
      "\n",
      "Emotion losses:\n",
      "Mean total loss: 0.79181;\n",
      "Mean reconstruction loss: 0.067988;\n",
      "Mean kld_loss loss: 7.2382;\n",
      "Mean faces_reconstruction loss: 0.0;\n",
      "Mean emotions_reconstruction loss: 0.067988;\n",
      "\n"
     ]
    },
    {
     "name": "stderr",
     "output_type": "stream",
     "text": [
      "\r",
      " 83%|████████████████████    | 125/150 [2:17:58<25:59, 62.40s/it]"
     ]
    },
    {
     "name": "stdout",
     "output_type": "stream",
     "text": [
      "Multimodal losses:\n",
      "Mean total loss: 1.7916;\n",
      "Mean reconstruction loss: 0.17707;\n",
      "Mean kld_loss loss: 16.146;\n",
      "Mean faces_reconstruction loss: 0.035708;\n",
      "Mean emotions_reconstruction loss: 0.14136;\n",
      "\n",
      "Face losses:\n",
      "Mean total loss: 0.36805;\n",
      "Mean reconstruction loss: 0.035941;\n",
      "Mean kld_loss loss: 3.3211;\n",
      "Mean faces_reconstruction loss: 0.035941;\n",
      "Mean emotions_reconstruction loss: 0.0;\n",
      "\n",
      "Emotion losses:\n",
      "Mean total loss: 0.80769;\n",
      "Mean reconstruction loss: 0.080405;\n",
      "Mean kld_loss loss: 7.2728;\n",
      "Mean faces_reconstruction loss: 0.0;\n",
      "Mean emotions_reconstruction loss: 0.080405;\n",
      "\n"
     ]
    },
    {
     "name": "stderr",
     "output_type": "stream",
     "text": [
      "\r",
      " 84%|████████████████████▏   | 126/150 [2:19:05<25:28, 63.69s/it]"
     ]
    },
    {
     "name": "stdout",
     "output_type": "stream",
     "text": [
      "Multimodal losses:\n",
      "Mean total loss: 1.7891;\n",
      "Mean reconstruction loss: 0.17946;\n",
      "Mean kld_loss loss: 16.096;\n",
      "Mean faces_reconstruction loss: 0.035681;\n",
      "Mean emotions_reconstruction loss: 0.14378;\n",
      "\n",
      "Face losses:\n",
      "Mean total loss: 0.36709;\n",
      "Mean reconstruction loss: 0.035944;\n",
      "Mean kld_loss loss: 3.3114;\n",
      "Mean faces_reconstruction loss: 0.035944;\n",
      "Mean emotions_reconstruction loss: 0.0;\n",
      "\n",
      "Emotion losses:\n",
      "Mean total loss: 0.79405;\n",
      "Mean reconstruction loss: 0.070835;\n",
      "Mean kld_loss loss: 7.2322;\n",
      "Mean faces_reconstruction loss: 0.0;\n",
      "Mean emotions_reconstruction loss: 0.070835;\n",
      "\n"
     ]
    },
    {
     "name": "stderr",
     "output_type": "stream",
     "text": [
      "\r",
      " 85%|████████████████████▎   | 127/150 [2:20:08<24:19, 63.47s/it]"
     ]
    },
    {
     "name": "stdout",
     "output_type": "stream",
     "text": [
      "Multimodal losses:\n",
      "Mean total loss: 1.7894;\n",
      "Mean reconstruction loss: 0.17602;\n",
      "Mean kld_loss loss: 16.134;\n",
      "Mean faces_reconstruction loss: 0.035708;\n",
      "Mean emotions_reconstruction loss: 0.14031;\n",
      "\n",
      "Face losses:\n",
      "Mean total loss: 0.36799;\n",
      "Mean reconstruction loss: 0.035955;\n",
      "Mean kld_loss loss: 3.3204;\n",
      "Mean faces_reconstruction loss: 0.035955;\n",
      "Mean emotions_reconstruction loss: 0.0;\n",
      "\n",
      "Emotion losses:\n",
      "Mean total loss: 0.7991;\n",
      "Mean reconstruction loss: 0.074316;\n",
      "Mean kld_loss loss: 7.2479;\n",
      "Mean faces_reconstruction loss: 0.0;\n",
      "Mean emotions_reconstruction loss: 0.074316;\n",
      "\n"
     ]
    },
    {
     "name": "stderr",
     "output_type": "stream",
     "text": [
      "\r",
      " 85%|████████████████████▍   | 128/150 [2:21:09<22:59, 62.72s/it]"
     ]
    },
    {
     "name": "stdout",
     "output_type": "stream",
     "text": [
      "Multimodal losses:\n",
      "Mean total loss: 1.7805;\n",
      "Mean reconstruction loss: 0.17149;\n",
      "Mean kld_loss loss: 16.09;\n",
      "Mean faces_reconstruction loss: 0.035719;\n",
      "Mean emotions_reconstruction loss: 0.13577;\n",
      "\n",
      "Face losses:\n",
      "Mean total loss: 0.36934;\n",
      "Mean reconstruction loss: 0.035974;\n",
      "Mean kld_loss loss: 3.3337;\n",
      "Mean faces_reconstruction loss: 0.035974;\n",
      "Mean emotions_reconstruction loss: 0.0;\n",
      "\n",
      "Emotion losses:\n",
      "Mean total loss: 0.79381;\n",
      "Mean reconstruction loss: 0.075372;\n",
      "Mean kld_loss loss: 7.1844;\n",
      "Mean faces_reconstruction loss: 0.0;\n",
      "Mean emotions_reconstruction loss: 0.075372;\n",
      "\n"
     ]
    },
    {
     "name": "stderr",
     "output_type": "stream",
     "text": [
      "\r",
      " 86%|████████████████████▋   | 129/150 [2:22:10<21:47, 62.25s/it]"
     ]
    },
    {
     "name": "stdout",
     "output_type": "stream",
     "text": [
      "Multimodal losses:\n",
      "Mean total loss: 1.7873;\n",
      "Mean reconstruction loss: 0.17824;\n",
      "Mean kld_loss loss: 16.091;\n",
      "Mean faces_reconstruction loss: 0.035675;\n",
      "Mean emotions_reconstruction loss: 0.14256;\n",
      "\n",
      "Face losses:\n",
      "Mean total loss: 0.3695;\n",
      "Mean reconstruction loss: 0.035935;\n",
      "Mean kld_loss loss: 3.3357;\n",
      "Mean faces_reconstruction loss: 0.035935;\n",
      "Mean emotions_reconstruction loss: 0.0;\n",
      "\n",
      "Emotion losses:\n",
      "Mean total loss: 0.79419;\n",
      "Mean reconstruction loss: 0.072168;\n",
      "Mean kld_loss loss: 7.2202;\n",
      "Mean faces_reconstruction loss: 0.0;\n",
      "Mean emotions_reconstruction loss: 0.072168;\n",
      "\n"
     ]
    },
    {
     "name": "stderr",
     "output_type": "stream",
     "text": [
      "\r",
      " 87%|████████████████████▊   | 130/150 [2:23:12<20:42, 62.14s/it]"
     ]
    },
    {
     "name": "stdout",
     "output_type": "stream",
     "text": [
      "Multimodal losses:\n",
      "Mean total loss: 1.777;\n",
      "Mean reconstruction loss: 0.1673;\n",
      "Mean kld_loss loss: 16.097;\n",
      "Mean faces_reconstruction loss: 0.03567;\n",
      "Mean emotions_reconstruction loss: 0.13163;\n",
      "\n",
      "Face losses:\n",
      "Mean total loss: 0.3691;\n",
      "Mean reconstruction loss: 0.035934;\n",
      "Mean kld_loss loss: 3.3317;\n",
      "Mean faces_reconstruction loss: 0.035934;\n",
      "Mean emotions_reconstruction loss: 0.0;\n",
      "\n",
      "Emotion losses:\n",
      "Mean total loss: 0.79384;\n",
      "Mean reconstruction loss: 0.074502;\n",
      "Mean kld_loss loss: 7.1934;\n",
      "Mean faces_reconstruction loss: 0.0;\n",
      "Mean emotions_reconstruction loss: 0.074502;\n",
      "\n"
     ]
    },
    {
     "name": "stderr",
     "output_type": "stream",
     "text": [
      "\r",
      " 87%|████████████████████▉   | 131/150 [2:24:19<20:07, 63.57s/it]"
     ]
    },
    {
     "name": "stdout",
     "output_type": "stream",
     "text": [
      "Multimodal losses:\n",
      "Mean total loss: 1.7854;\n",
      "Mean reconstruction loss: 0.17361;\n",
      "Mean kld_loss loss: 16.118;\n",
      "Mean faces_reconstruction loss: 0.035664;\n",
      "Mean emotions_reconstruction loss: 0.13794;\n",
      "\n",
      "Face losses:\n",
      "Mean total loss: 0.36921;\n",
      "Mean reconstruction loss: 0.035932;\n",
      "Mean kld_loss loss: 3.3328;\n",
      "Mean faces_reconstruction loss: 0.035932;\n",
      "Mean emotions_reconstruction loss: 0.0;\n",
      "\n",
      "Emotion losses:\n",
      "Mean total loss: 0.7938;\n",
      "Mean reconstruction loss: 0.070612;\n",
      "Mean kld_loss loss: 7.2319;\n",
      "Mean faces_reconstruction loss: 0.0;\n",
      "Mean emotions_reconstruction loss: 0.070612;\n",
      "\n"
     ]
    },
    {
     "name": "stderr",
     "output_type": "stream",
     "text": [
      "\r",
      " 88%|█████████████████████   | 132/150 [2:25:20<18:52, 62.91s/it]"
     ]
    },
    {
     "name": "stdout",
     "output_type": "stream",
     "text": [
      "Multimodal losses:\n",
      "Mean total loss: 1.7793;\n",
      "Mean reconstruction loss: 0.17032;\n",
      "Mean kld_loss loss: 16.089;\n",
      "Mean faces_reconstruction loss: 0.035684;\n",
      "Mean emotions_reconstruction loss: 0.13464;\n",
      "\n",
      "Face losses:\n",
      "Mean total loss: 0.3698;\n",
      "Mean reconstruction loss: 0.03595;\n",
      "Mean kld_loss loss: 3.3385;\n",
      "Mean faces_reconstruction loss: 0.03595;\n",
      "Mean emotions_reconstruction loss: 0.0;\n",
      "\n",
      "Emotion losses:\n",
      "Mean total loss: 0.79199;\n",
      "Mean reconstruction loss: 0.075716;\n",
      "Mean kld_loss loss: 7.1628;\n",
      "Mean faces_reconstruction loss: 0.0;\n",
      "Mean emotions_reconstruction loss: 0.075716;\n",
      "\n"
     ]
    },
    {
     "name": "stderr",
     "output_type": "stream",
     "text": [
      "\r",
      " 89%|█████████████████████▎  | 133/150 [2:26:23<17:50, 62.95s/it]"
     ]
    },
    {
     "name": "stdout",
     "output_type": "stream",
     "text": [
      "Multimodal losses:\n",
      "Mean total loss: 1.7645;\n",
      "Mean reconstruction loss: 0.15642;\n",
      "Mean kld_loss loss: 16.081;\n",
      "Mean faces_reconstruction loss: 0.035682;\n",
      "Mean emotions_reconstruction loss: 0.12074;\n",
      "\n",
      "Face losses:\n",
      "Mean total loss: 0.36979;\n",
      "Mean reconstruction loss: 0.035941;\n",
      "Mean kld_loss loss: 3.3385;\n",
      "Mean faces_reconstruction loss: 0.035941;\n",
      "Mean emotions_reconstruction loss: 0.0;\n",
      "\n",
      "Emotion losses:\n",
      "Mean total loss: 0.79494;\n",
      "Mean reconstruction loss: 0.075459;\n",
      "Mean kld_loss loss: 7.1948;\n",
      "Mean faces_reconstruction loss: 0.0;\n",
      "Mean emotions_reconstruction loss: 0.075459;\n",
      "\n"
     ]
    },
    {
     "name": "stderr",
     "output_type": "stream",
     "text": [
      "\r",
      " 89%|█████████████████████▍  | 134/150 [2:27:25<16:39, 62.49s/it]"
     ]
    },
    {
     "name": "stdout",
     "output_type": "stream",
     "text": [
      "Multimodal losses:\n",
      "Mean total loss: 1.7796;\n",
      "Mean reconstruction loss: 0.17128;\n",
      "Mean kld_loss loss: 16.084;\n",
      "Mean faces_reconstruction loss: 0.035671;\n",
      "Mean emotions_reconstruction loss: 0.13561;\n",
      "\n",
      "Face losses:\n",
      "Mean total loss: 0.36949;\n",
      "Mean reconstruction loss: 0.035936;\n",
      "Mean kld_loss loss: 3.3355;\n",
      "Mean faces_reconstruction loss: 0.035936;\n",
      "Mean emotions_reconstruction loss: 0.0;\n",
      "\n",
      "Emotion losses:\n",
      "Mean total loss: 0.78751;\n",
      "Mean reconstruction loss: 0.072855;\n",
      "Mean kld_loss loss: 7.1466;\n",
      "Mean faces_reconstruction loss: 0.0;\n",
      "Mean emotions_reconstruction loss: 0.072855;\n",
      "\n"
     ]
    },
    {
     "name": "stderr",
     "output_type": "stream",
     "text": [
      "\r",
      " 90%|█████████████████████▌  | 135/150 [2:28:27<15:38, 62.55s/it]"
     ]
    },
    {
     "name": "stdout",
     "output_type": "stream",
     "text": [
      "Multimodal losses:\n",
      "Mean total loss: 1.7727;\n",
      "Mean reconstruction loss: 0.16324;\n",
      "Mean kld_loss loss: 16.095;\n",
      "Mean faces_reconstruction loss: 0.035656;\n",
      "Mean emotions_reconstruction loss: 0.12759;\n",
      "\n",
      "Face losses:\n",
      "Mean total loss: 0.37086;\n",
      "Mean reconstruction loss: 0.035932;\n",
      "Mean kld_loss loss: 3.3493;\n",
      "Mean faces_reconstruction loss: 0.035932;\n",
      "Mean emotions_reconstruction loss: 0.0;\n",
      "\n",
      "Emotion losses:\n",
      "Mean total loss: 0.79804;\n",
      "Mean reconstruction loss: 0.07943;\n",
      "Mean kld_loss loss: 7.1861;\n",
      "Mean faces_reconstruction loss: 0.0;\n",
      "Mean emotions_reconstruction loss: 0.07943;\n",
      "\n"
     ]
    },
    {
     "name": "stderr",
     "output_type": "stream",
     "text": [
      "\r",
      " 91%|█████████████████████▊  | 136/150 [2:29:31<14:41, 62.95s/it]"
     ]
    },
    {
     "name": "stdout",
     "output_type": "stream",
     "text": [
      "Multimodal losses:\n",
      "Mean total loss: 1.7695;\n",
      "Mean reconstruction loss: 0.16155;\n",
      "Mean kld_loss loss: 16.079;\n",
      "Mean faces_reconstruction loss: 0.035674;\n",
      "Mean emotions_reconstruction loss: 0.12588;\n",
      "\n",
      "Face losses:\n",
      "Mean total loss: 0.37023;\n",
      "Mean reconstruction loss: 0.035955;\n",
      "Mean kld_loss loss: 3.3427;\n",
      "Mean faces_reconstruction loss: 0.035955;\n",
      "Mean emotions_reconstruction loss: 0.0;\n",
      "\n",
      "Emotion losses:\n",
      "Mean total loss: 0.80016;\n",
      "Mean reconstruction loss: 0.083342;\n",
      "Mean kld_loss loss: 7.1682;\n",
      "Mean faces_reconstruction loss: 0.0;\n",
      "Mean emotions_reconstruction loss: 0.083342;\n",
      "\n"
     ]
    },
    {
     "name": "stderr",
     "output_type": "stream",
     "text": [
      "\r",
      " 91%|█████████████████████▉  | 137/150 [2:30:34<13:38, 62.93s/it]"
     ]
    },
    {
     "name": "stdout",
     "output_type": "stream",
     "text": [
      "Multimodal losses:\n",
      "Mean total loss: 1.7778;\n",
      "Mean reconstruction loss: 0.16601;\n",
      "Mean kld_loss loss: 16.118;\n",
      "Mean faces_reconstruction loss: 0.035664;\n",
      "Mean emotions_reconstruction loss: 0.13035;\n",
      "\n",
      "Face losses:\n",
      "Mean total loss: 0.36986;\n",
      "Mean reconstruction loss: 0.035939;\n",
      "Mean kld_loss loss: 3.3392;\n",
      "Mean faces_reconstruction loss: 0.035939;\n",
      "Mean emotions_reconstruction loss: 0.0;\n",
      "\n",
      "Emotion losses:\n",
      "Mean total loss: 0.78968;\n",
      "Mean reconstruction loss: 0.067972;\n",
      "Mean kld_loss loss: 7.217;\n",
      "Mean faces_reconstruction loss: 0.0;\n",
      "Mean emotions_reconstruction loss: 0.067972;\n",
      "\n"
     ]
    },
    {
     "name": "stderr",
     "output_type": "stream",
     "text": [
      "\r",
      " 92%|██████████████████████  | 138/150 [2:31:36<12:31, 62.66s/it]"
     ]
    },
    {
     "name": "stdout",
     "output_type": "stream",
     "text": [
      "Multimodal losses:\n",
      "Mean total loss: 1.7731;\n",
      "Mean reconstruction loss: 0.16132;\n",
      "Mean kld_loss loss: 16.117;\n",
      "Mean faces_reconstruction loss: 0.03569;\n",
      "Mean emotions_reconstruction loss: 0.12563;\n",
      "\n",
      "Face losses:\n",
      "Mean total loss: 0.37037;\n",
      "Mean reconstruction loss: 0.035952;\n",
      "Mean kld_loss loss: 3.3441;\n",
      "Mean faces_reconstruction loss: 0.035952;\n",
      "Mean emotions_reconstruction loss: 0.0;\n",
      "\n",
      "Emotion losses:\n",
      "Mean total loss: 0.78967;\n",
      "Mean reconstruction loss: 0.071309;\n",
      "Mean kld_loss loss: 7.1836;\n",
      "Mean faces_reconstruction loss: 0.0;\n",
      "Mean emotions_reconstruction loss: 0.071309;\n",
      "\n"
     ]
    },
    {
     "name": "stderr",
     "output_type": "stream",
     "text": [
      "\r",
      " 93%|██████████████████████▏ | 139/150 [2:32:39<11:31, 62.82s/it]"
     ]
    },
    {
     "name": "stdout",
     "output_type": "stream",
     "text": [
      "Multimodal losses:\n",
      "Mean total loss: 1.7694;\n",
      "Mean reconstruction loss: 0.16271;\n",
      "Mean kld_loss loss: 16.067;\n",
      "Mean faces_reconstruction loss: 0.035651;\n",
      "Mean emotions_reconstruction loss: 0.12706;\n",
      "\n",
      "Face losses:\n",
      "Mean total loss: 0.37034;\n",
      "Mean reconstruction loss: 0.035929;\n",
      "Mean kld_loss loss: 3.3441;\n",
      "Mean faces_reconstruction loss: 0.035929;\n",
      "Mean emotions_reconstruction loss: 0.0;\n",
      "\n",
      "Emotion losses:\n",
      "Mean total loss: 0.78309;\n",
      "Mean reconstruction loss: 0.069902;\n",
      "Mean kld_loss loss: 7.1318;\n",
      "Mean faces_reconstruction loss: 0.0;\n",
      "Mean emotions_reconstruction loss: 0.069902;\n",
      "\n"
     ]
    },
    {
     "name": "stderr",
     "output_type": "stream",
     "text": [
      "\r",
      " 93%|██████████████████████▍ | 140/150 [2:33:44<10:32, 63.28s/it]"
     ]
    },
    {
     "name": "stdout",
     "output_type": "stream",
     "text": [
      "Multimodal losses:\n",
      "Mean total loss: 1.7681;\n",
      "Mean reconstruction loss: 0.16026;\n",
      "Mean kld_loss loss: 16.078;\n",
      "Mean faces_reconstruction loss: 0.035678;\n",
      "Mean emotions_reconstruction loss: 0.12458;\n",
      "\n",
      "Face losses:\n",
      "Mean total loss: 0.37093;\n",
      "Mean reconstruction loss: 0.035941;\n",
      "Mean kld_loss loss: 3.3499;\n",
      "Mean faces_reconstruction loss: 0.035941;\n",
      "Mean emotions_reconstruction loss: 0.0;\n",
      "\n",
      "Emotion losses:\n",
      "Mean total loss: 0.79523;\n",
      "Mean reconstruction loss: 0.078801;\n",
      "Mean kld_loss loss: 7.1643;\n",
      "Mean faces_reconstruction loss: 0.0;\n",
      "Mean emotions_reconstruction loss: 0.078801;\n",
      "\n"
     ]
    },
    {
     "name": "stderr",
     "output_type": "stream",
     "text": [
      "\r",
      " 94%|██████████████████████▌ | 141/150 [2:34:46<09:27, 63.10s/it]"
     ]
    },
    {
     "name": "stdout",
     "output_type": "stream",
     "text": [
      "Multimodal losses:\n",
      "Mean total loss: 1.7718;\n",
      "Mean reconstruction loss: 0.16551;\n",
      "Mean kld_loss loss: 16.062;\n",
      "Mean faces_reconstruction loss: 0.035659;\n",
      "Mean emotions_reconstruction loss: 0.12986;\n",
      "\n",
      "Face losses:\n",
      "Mean total loss: 0.37085;\n",
      "Mean reconstruction loss: 0.035931;\n",
      "Mean kld_loss loss: 3.3492;\n",
      "Mean faces_reconstruction loss: 0.035931;\n",
      "Mean emotions_reconstruction loss: 0.0;\n",
      "\n",
      "Emotion losses:\n",
      "Mean total loss: 0.78606;\n",
      "Mean reconstruction loss: 0.068839;\n",
      "Mean kld_loss loss: 7.1722;\n",
      "Mean faces_reconstruction loss: 0.0;\n",
      "Mean emotions_reconstruction loss: 0.068839;\n",
      "\n"
     ]
    },
    {
     "name": "stderr",
     "output_type": "stream",
     "text": [
      "\r",
      " 95%|██████████████████████▋ | 142/150 [2:35:48<08:20, 62.60s/it]"
     ]
    },
    {
     "name": "stdout",
     "output_type": "stream",
     "text": [
      "Multimodal losses:\n",
      "Mean total loss: 1.7757;\n",
      "Mean reconstruction loss: 0.16547;\n",
      "Mean kld_loss loss: 16.102;\n",
      "Mean faces_reconstruction loss: 0.035662;\n",
      "Mean emotions_reconstruction loss: 0.12981;\n",
      "\n",
      "Face losses:\n",
      "Mean total loss: 0.37098;\n",
      "Mean reconstruction loss: 0.035921;\n",
      "Mean kld_loss loss: 3.3506;\n",
      "Mean faces_reconstruction loss: 0.035921;\n",
      "Mean emotions_reconstruction loss: 0.0;\n",
      "\n",
      "Emotion losses:\n",
      "Mean total loss: 0.79469;\n",
      "Mean reconstruction loss: 0.078352;\n",
      "Mean kld_loss loss: 7.1634;\n",
      "Mean faces_reconstruction loss: 0.0;\n",
      "Mean emotions_reconstruction loss: 0.078352;\n",
      "\n"
     ]
    },
    {
     "name": "stderr",
     "output_type": "stream",
     "text": [
      "\r",
      " 95%|██████████████████████▉ | 143/150 [2:36:50<07:17, 62.51s/it]"
     ]
    },
    {
     "name": "stdout",
     "output_type": "stream",
     "text": [
      "Multimodal losses:\n",
      "Mean total loss: 1.7724;\n",
      "Mean reconstruction loss: 0.16229;\n",
      "Mean kld_loss loss: 16.101;\n",
      "Mean faces_reconstruction loss: 0.035643;\n",
      "Mean emotions_reconstruction loss: 0.12665;\n",
      "\n",
      "Face losses:\n",
      "Mean total loss: 0.37099;\n",
      "Mean reconstruction loss: 0.035924;\n",
      "Mean kld_loss loss: 3.3506;\n",
      "Mean faces_reconstruction loss: 0.035924;\n",
      "Mean emotions_reconstruction loss: 0.0;\n",
      "\n",
      "Emotion losses:\n",
      "Mean total loss: 0.7877;\n",
      "Mean reconstruction loss: 0.068824;\n",
      "Mean kld_loss loss: 7.1888;\n",
      "Mean faces_reconstruction loss: 0.0;\n",
      "Mean emotions_reconstruction loss: 0.068824;\n",
      "\n"
     ]
    },
    {
     "name": "stderr",
     "output_type": "stream",
     "text": [
      "\r",
      " 96%|███████████████████████ | 144/150 [2:37:53<06:15, 62.63s/it]"
     ]
    },
    {
     "name": "stdout",
     "output_type": "stream",
     "text": [
      "Multimodal losses:\n",
      "Mean total loss: 1.7812;\n",
      "Mean reconstruction loss: 0.16858;\n",
      "Mean kld_loss loss: 16.126;\n",
      "Mean faces_reconstruction loss: 0.035656;\n",
      "Mean emotions_reconstruction loss: 0.13292;\n",
      "\n",
      "Face losses:\n",
      "Mean total loss: 0.37148;\n",
      "Mean reconstruction loss: 0.035946;\n",
      "Mean kld_loss loss: 3.3553;\n",
      "Mean faces_reconstruction loss: 0.035946;\n",
      "Mean emotions_reconstruction loss: 0.0;\n",
      "\n",
      "Emotion losses:\n",
      "Mean total loss: 0.79689;\n",
      "Mean reconstruction loss: 0.075392;\n",
      "Mean kld_loss loss: 7.2149;\n",
      "Mean faces_reconstruction loss: 0.0;\n",
      "Mean emotions_reconstruction loss: 0.075392;\n",
      "\n"
     ]
    },
    {
     "name": "stderr",
     "output_type": "stream",
     "text": [
      "\r",
      " 97%|███████████████████████▏| 145/150 [2:38:57<05:14, 62.91s/it]"
     ]
    },
    {
     "name": "stdout",
     "output_type": "stream",
     "text": [
      "Multimodal losses:\n",
      "Mean total loss: 1.7718;\n",
      "Mean reconstruction loss: 0.1615;\n",
      "Mean kld_loss loss: 16.103;\n",
      "Mean faces_reconstruction loss: 0.035648;\n",
      "Mean emotions_reconstruction loss: 0.12585;\n",
      "\n",
      "Face losses:\n",
      "Mean total loss: 0.3717;\n",
      "Mean reconstruction loss: 0.035932;\n",
      "Mean kld_loss loss: 3.3577;\n",
      "Mean faces_reconstruction loss: 0.035932;\n",
      "Mean emotions_reconstruction loss: 0.0;\n",
      "\n",
      "Emotion losses:\n",
      "Mean total loss: 0.79701;\n",
      "Mean reconstruction loss: 0.082763;\n",
      "Mean kld_loss loss: 7.1424;\n",
      "Mean faces_reconstruction loss: 0.0;\n",
      "Mean emotions_reconstruction loss: 0.082763;\n",
      "\n"
     ]
    },
    {
     "name": "stderr",
     "output_type": "stream",
     "text": [
      "\r",
      " 97%|███████████████████████▎| 146/150 [2:39:59<04:10, 62.67s/it]"
     ]
    },
    {
     "name": "stdout",
     "output_type": "stream",
     "text": [
      "Multimodal losses:\n",
      "Mean total loss: 1.7644;\n",
      "Mean reconstruction loss: 0.15645;\n",
      "Mean kld_loss loss: 16.08;\n",
      "Mean faces_reconstruction loss: 0.035611;\n",
      "Mean emotions_reconstruction loss: 0.12084;\n",
      "\n",
      "Face losses:\n",
      "Mean total loss: 0.37141;\n",
      "Mean reconstruction loss: 0.035913;\n",
      "Mean kld_loss loss: 3.355;\n",
      "Mean faces_reconstruction loss: 0.035913;\n",
      "Mean emotions_reconstruction loss: 0.0;\n",
      "\n",
      "Emotion losses:\n",
      "Mean total loss: 0.78483;\n",
      "Mean reconstruction loss: 0.073214;\n",
      "Mean kld_loss loss: 7.1161;\n",
      "Mean faces_reconstruction loss: 0.0;\n",
      "Mean emotions_reconstruction loss: 0.073214;\n",
      "\n"
     ]
    },
    {
     "name": "stderr",
     "output_type": "stream",
     "text": [
      "\r",
      " 98%|███████████████████████▌| 147/150 [2:41:01<03:07, 62.59s/it]"
     ]
    },
    {
     "name": "stdout",
     "output_type": "stream",
     "text": [
      "Multimodal losses:\n",
      "Mean total loss: 1.7679;\n",
      "Mean reconstruction loss: 0.1579;\n",
      "Mean kld_loss loss: 16.1;\n",
      "Mean faces_reconstruction loss: 0.03563;\n",
      "Mean emotions_reconstruction loss: 0.12227;\n",
      "\n",
      "Face losses:\n",
      "Mean total loss: 0.37169;\n",
      "Mean reconstruction loss: 0.035915;\n",
      "Mean kld_loss loss: 3.3577;\n",
      "Mean faces_reconstruction loss: 0.035915;\n",
      "Mean emotions_reconstruction loss: 0.0;\n",
      "\n",
      "Emotion losses:\n",
      "Mean total loss: 0.79781;\n",
      "Mean reconstruction loss: 0.081004;\n",
      "Mean kld_loss loss: 7.168;\n",
      "Mean faces_reconstruction loss: 0.0;\n",
      "Mean emotions_reconstruction loss: 0.081004;\n",
      "\n"
     ]
    },
    {
     "name": "stderr",
     "output_type": "stream",
     "text": [
      "\r",
      " 99%|███████████████████████▋| 148/150 [2:42:04<02:05, 62.84s/it]"
     ]
    },
    {
     "name": "stdout",
     "output_type": "stream",
     "text": [
      "Multimodal losses:\n",
      "Mean total loss: 1.767;\n",
      "Mean reconstruction loss: 0.15307;\n",
      "Mean kld_loss loss: 16.139;\n",
      "Mean faces_reconstruction loss: 0.035653;\n",
      "Mean emotions_reconstruction loss: 0.11741;\n",
      "\n",
      "Face losses:\n",
      "Mean total loss: 0.37131;\n",
      "Mean reconstruction loss: 0.03592;\n",
      "Mean kld_loss loss: 3.3539;\n",
      "Mean faces_reconstruction loss: 0.03592;\n",
      "Mean emotions_reconstruction loss: 0.0;\n",
      "\n",
      "Emotion losses:\n",
      "Mean total loss: 0.80274;\n",
      "Mean reconstruction loss: 0.079747;\n",
      "Mean kld_loss loss: 7.2299;\n",
      "Mean faces_reconstruction loss: 0.0;\n",
      "Mean emotions_reconstruction loss: 0.079747;\n",
      "\n"
     ]
    },
    {
     "name": "stderr",
     "output_type": "stream",
     "text": [
      "\r",
      " 99%|███████████████████████▊| 149/150 [2:43:08<01:03, 63.10s/it]"
     ]
    },
    {
     "name": "stdout",
     "output_type": "stream",
     "text": [
      "Multimodal losses:\n",
      "Mean total loss: 1.7694;\n",
      "Mean reconstruction loss: 0.15881;\n",
      "Mean kld_loss loss: 16.106;\n",
      "Mean faces_reconstruction loss: 0.03565;\n",
      "Mean emotions_reconstruction loss: 0.12316;\n",
      "\n",
      "Face losses:\n",
      "Mean total loss: 0.37094;\n",
      "Mean reconstruction loss: 0.035931;\n",
      "Mean kld_loss loss: 3.3501;\n",
      "Mean faces_reconstruction loss: 0.035931;\n",
      "Mean emotions_reconstruction loss: 0.0;\n",
      "\n",
      "Emotion losses:\n",
      "Mean total loss: 0.80289;\n",
      "Mean reconstruction loss: 0.084677;\n",
      "Mean kld_loss loss: 7.1821;\n",
      "Mean faces_reconstruction loss: 0.0;\n",
      "Mean emotions_reconstruction loss: 0.084677;\n",
      "\n"
     ]
    },
    {
     "name": "stderr",
     "output_type": "stream",
     "text": [
      "100%|████████████████████████| 150/150 [2:44:12<00:00, 65.68s/it]"
     ]
    },
    {
     "name": "stdout",
     "output_type": "stream",
     "text": [
      "Multimodal losses:\n",
      "Mean total loss: 1.7753;\n",
      "Mean reconstruction loss: 0.16188;\n",
      "Mean kld_loss loss: 16.135;\n",
      "Mean faces_reconstruction loss: 0.035628;\n",
      "Mean emotions_reconstruction loss: 0.12625;\n",
      "\n",
      "Face losses:\n",
      "Mean total loss: 0.37151;\n",
      "Mean reconstruction loss: 0.035916;\n",
      "Mean kld_loss loss: 3.3559;\n",
      "Mean faces_reconstruction loss: 0.035916;\n",
      "Mean emotions_reconstruction loss: 0.0;\n",
      "\n",
      "Emotion losses:\n",
      "Mean total loss: 0.79864;\n",
      "Mean reconstruction loss: 0.074897;\n",
      "Mean kld_loss loss: 7.2374;\n",
      "Mean faces_reconstruction loss: 0.0;\n",
      "Mean emotions_reconstruction loss: 0.074897;\n",
      "\n"
     ]
    },
    {
     "name": "stderr",
     "output_type": "stream",
     "text": [
      "\n"
     ]
    }
   ],
   "source": [
    "training_losses = train(\n",
    "    mvae_model=model,\n",
    "    dataset_loader=dataset_loader,\n",
    "    learning_rate=cfg_train.learning_rate,\n",
    "    optim_betas=cfg_train.optim_betas,\n",
    "    num_epochs=cfg_train.num_epochs,\n",
    "    batch_size=cfg_train.batch_size,\n",
    "    checkpoint_every=cfg_train.checkpoint_every,\n",
    "    checkpoint_path=cfg_train.checkpoint_path,\n",
    "    save_model=cfg_train.save_model,\n",
    "    seed=cfg_train.seed,\n",
    "    use_cuda=cfg_train.use_cuda,\n",
    "    cfg=cfg_train\n",
    ")"
   ]
  },
  {
   "cell_type": "code",
   "execution_count": 7,
   "id": "215534f6",
   "metadata": {},
   "outputs": [],
   "source": [
    "skip_epoch_plot=1"
   ]
  },
  {
   "cell_type": "code",
   "execution_count": 8,
   "id": "d1664ae8",
   "metadata": {},
   "outputs": [
    {
     "data": {
      "text/plain": [
       "<matplotlib.legend.Legend at 0x7f267876a310>"
      ]
     },
     "execution_count": 8,
     "metadata": {},
     "output_type": "execute_result"
    },
    {
     "data": {
      "image/png": "[encoded data removed]",
      "text/plain": [
       "<Figure size 432x288 with 1 Axes>"
      ]
     },
     "metadata": {
      "needs_background": "light"
     },
     "output_type": "display_data"
    }
   ],
   "source": [
    "plt.title(\"Total loss\")\n",
    "plt.ylabel(\"Loss \")\n",
    "plt.xlabel(\"Epochs \")\n",
    "plt.plot(training_losses['multimodal_loss'].total_loss[skip_epoch_plot:], color='red', label='multimodal')\n",
    "plt.plot(training_losses['emotion_loss'].total_loss[skip_epoch_plot:], color='green', label='emotion')\n",
    "plt.plot(training_losses['face_loss'].total_loss[skip_epoch_plot:], color='blue', label='face')\n",
    "plt.legend(loc=\"upper right\")"
   ]
  },
  {
   "cell_type": "code",
   "execution_count": 9,
   "id": "5ef8c92e",
   "metadata": {},
   "outputs": [
    {
     "data": {
      "text/plain": [
       "<matplotlib.legend.Legend at 0x7f2681f7b9a0>"
      ]
     },
     "execution_count": 9,
     "metadata": {},
     "output_type": "execute_result"
    },
    {
     "data": {
      "image/png": "[encoded data removed]",
      "text/plain": [
       "<Figure size 432x288 with 1 Axes>"
      ]
     },
     "metadata": {
      "needs_background": "light"
     },
     "output_type": "display_data"
    }
   ],
   "source": [
    "plt.title(\"Reconstruction loss\")\n",
    "plt.ylabel(\"Loss \")\n",
    "plt.xlabel(\"Epochs \")\n",
    "\n",
    "plt.plot(training_losses['multimodal_loss'].reconstruction_loss[skip_epoch_plot:], color='red', label='multimodal')\n",
    "plt.plot(training_losses['emotion_loss'].reconstruction_loss[skip_epoch_plot:], color='green', label='emotion')\n",
    "plt.plot(training_losses['face_loss'].reconstruction_loss[skip_epoch_plot:], color='blue', label='face')\n",
    "plt.legend(loc=\"upper right\")"
   ]
  },
  {
   "cell_type": "code",
   "execution_count": 10,
   "id": "137f69be",
   "metadata": {},
   "outputs": [
    {
     "data": {
      "text/plain": [
       "<matplotlib.legend.Legend at 0x7f2681efb6a0>"
      ]
     },
     "execution_count": 10,
     "metadata": {},
     "output_type": "execute_result"
    },
    {
     "data": {
      "image/png": "[encoded data removed]",
      "text/plain": [
       "<Figure size 432x288 with 1 Axes>"
      ]
     },
     "metadata": {
      "needs_background": "light"
     },
     "output_type": "display_data"
    }
   ],
   "source": [
    "plt.title(\"KLD loss\")\n",
    "plt.ylabel(\"Loss \")\n",
    "plt.xlabel(\"Epochs \")\n",
    "\n",
    "plt.plot(training_losses['multimodal_loss'].kld_loss[skip_epoch_plot:], color='red', label='multimodal')\n",
    "plt.plot(training_losses['emotion_loss'].kld_loss[skip_epoch_plot:], color='green', label='emotion')\n",
    "plt.plot(training_losses['face_loss'].kld_loss[skip_epoch_plot:], color='blue', label='face')\n",
    "plt.legend(loc=\"upper right\")"
   ]
  },
  {
   "cell_type": "code",
   "execution_count": 11,
   "id": "6eacd0d2",
   "metadata": {},
   "outputs": [
    {
     "data": {
      "text/plain": [
       "<matplotlib.legend.Legend at 0x7f2681ece4f0>"
      ]
     },
     "execution_count": 11,
     "metadata": {},
     "output_type": "execute_result"
    },
    {
     "data": {
      "image/png": "[encoded data removed]",
      "text/plain": [
       "<Figure size 432x288 with 1 Axes>"
      ]
     },
     "metadata": {
      "needs_background": "light"
     },
     "output_type": "display_data"
    }
   ],
   "source": [
    "plt.title(\"Face reconstruction loss\")\n",
    "plt.ylabel(\"Loss\")\n",
    "plt.xlabel(\"Epochs\")\n",
    "\n",
    "plt.plot(training_losses['multimodal_loss'].faces_reconstruction_loss[skip_epoch_plot:], color='red', label='multimodal')\n",
    "#plt.plot(training_losses['emotion_loss'].faces_reconstruction_loss[skip_epoch_plot:], color='green', label='emotion')\n",
    "plt.plot(training_losses['face_loss'].faces_reconstruction_loss[skip_epoch_plot:], color='blue', label='face')\n",
    "plt.legend(loc=\"upper right\")"
   ]
  },
  {
   "cell_type": "code",
   "execution_count": 12,
   "id": "1d33f2eb",
   "metadata": {},
   "outputs": [
    {
     "data": {
      "text/plain": [
       "<matplotlib.legend.Legend at 0x7f2681dc4310>"
      ]
     },
     "execution_count": 12,
     "metadata": {},
     "output_type": "execute_result"
    },
    {
     "data": {
      "image/png": "[encoded data removed]",
      "text/plain": [
       "<Figure size 432x288 with 1 Axes>"
      ]
     },
     "metadata": {
      "needs_background": "light"
     },
     "output_type": "display_data"
    }
   ],
   "source": [
    "plt.title(\"Emotion reconstruction loss\")\n",
    "plt.ylabel(\"Loss \")\n",
    "plt.xlabel(\"Epochs \")\n",
    "\n",
    "plt.plot(training_losses['multimodal_loss'].emotions_reconstruction_loss[skip_epoch_plot:], color='red', label='multimodal')\n",
    "plt.plot(training_losses['emotion_loss'].emotions_reconstruction_loss[skip_epoch_plot:], color='green', label='emotion')\n",
    "#plt.plot(training_losses['face_loss'].emotions_reconstruction_loss[skip_epoch_plot:], color='blue', label='face')\n",
    "plt.legend(loc=\"upper right\")"
   ]
  },
  {
   "cell_type": "code",
   "execution_count": 13,
   "id": "4fbcfda3",
   "metadata": {},
   "outputs": [],
   "source": [
    "def testBatch(model, dataset_loader, img_size=64, use_cuda=True):\n",
    "    sample = next(iter(dataset_loader))\n",
    "    images = sample['image']\n",
    "    labels = sample['cat']\n",
    "    \n",
    "    if use_cuda:\n",
    "        images = images.cuda()\n",
    "        labels = labels.cuda()\n",
    "        \n",
    "    input_array = np.zeros(shape=(img_size, 1, 3), dtype=\"uint8\")\n",
    "    reconstructed_array = np.zeros(shape=(img_size, 1, 3), dtype=\"uint8\")\n",
    "    reconstructed_emotions = []\n",
    "    \n",
    "    plt.figure(figsize = (40,10))\n",
    "    \n",
    "    batch_size = images.shape[0]\n",
    "    \n",
    "    reconstructed_images, reconstructed_emotions, _, _ = model(faces=images, emotions=labels)\n",
    "\n",
    "    for idx in range(4):\n",
    "        input_image = images[idx]\n",
    "        \n",
    "        # storing the input image\n",
    "        input_image_display = np.array(input_image.cpu()*255., dtype='uint8').transpose((1, 2, 0))\n",
    "        input_array = np.concatenate((input_array, input_image_display), axis=1)\n",
    "        \n",
    "        # generating the reconstructed image and adding to array\n",
    "        input_image = input_image.view(1, 3, img_size, img_size)\n",
    "        \n",
    "        reconstructed_img = reconstructed_images[idx].cpu().view(3, img_size, img_size).detach().numpy()\n",
    "        reconstructed_img = np.array(reconstructed_img*255., dtype='uint8').transpose((1, 2, 0))\n",
    "        reconstructed_array = np.concatenate((reconstructed_array, reconstructed_img), axis=1)\n",
    "        \n",
    "    # remove first, blank column, and concatenate\n",
    "    input_array = input_array[:,1:,:]\n",
    "    reconstructed_array = reconstructed_array[:,1:,:]\n",
    "    display_array = np.concatenate((input_array, reconstructed_array), axis=0)\n",
    "    plt.imshow(display_array)\n",
    "    \n",
    "    print([Rd.emocat[label.item()] for label in labels[:4]])\n",
    "    print([Rd.emocat[emo.item()] for emo in torch.argmax(reconstructed_emotions, 1)[:4]])"
   ]
  },
  {
   "cell_type": "code",
   "execution_count": 14,
   "id": "5d1c22ae",
   "metadata": {
    "scrolled": false
   },
   "outputs": [
    {
     "name": "stdout",
     "output_type": "stream",
     "text": [
      "['calm', 'surprised', 'surprised', 'calm']\n",
      "['calm', 'sad', 'surprised', 'calm']\n"
     ]
    },
    {
     "data": {
      "image/png": "[encoded data removed]",
      "text/plain": [
       "<Figure size 2880x720 with 1 Axes>"
      ]
     },
     "metadata": {
      "needs_background": "light"
     },
     "output_type": "display_data"
    }
   ],
   "source": [
    "testBatch(model, testset_loader)"
   ]
  },
  {
   "cell_type": "code",
   "execution_count": 15,
   "id": "3ff09b68",
   "metadata": {},
   "outputs": [],
   "source": [
    "from tqdm import tqdm\n",
    "def emotion_accuracy(model, dataset_loader):\n",
    "    \n",
    "    match = 0\n",
    "    total = 0\n",
    "    \n",
    "    for sample in tqdm(iter(dataset_loader)):\n",
    "        labels = sample['cat'].cuda()\n",
    "                            \n",
    "        _, reconstructed_emotions, _, _ = model(faces=None, emotions=labels)  \n",
    "        emotion_cat = torch.argmax(reconstructed_emotions, 1)  \n",
    "        \n",
    "        for idx in range(len(labels)):\n",
    "            total += 1\n",
    "            if labels[idx] == emotion_cat[idx]:\n",
    "                match += 1\n",
    "    \n",
    "    acc = match / total\n",
    "    return acc"
   ]
  },
  {
   "cell_type": "code",
   "execution_count": 16,
   "id": "bb4cb963",
   "metadata": {},
   "outputs": [
    {
     "name": "stderr",
     "output_type": "stream",
     "text": [
      "100%|████████████████████████████| 12/12 [00:06<00:00,  1.91it/s]"
     ]
    },
    {
     "name": "stdout",
     "output_type": "stream",
     "text": [
      "0.9638888888888889\n"
     ]
    },
    {
     "name": "stderr",
     "output_type": "stream",
     "text": [
      "\n"
     ]
    }
   ],
   "source": [
    "print(emotion_accuracy(model, testset_loader))"
   ]
  },
  {
   "cell_type": "code",
   "execution_count": 17,
   "id": "c406f2d6",
   "metadata": {},
   "outputs": [],
   "source": [
    "save_model = False\n",
    "\n",
    "if save_model:\n",
    "    # Do a global and a local save of the model (local to Hydra outputs)\n",
    "    torch.save(mvae_model.state_dict(), cfg.model_save_path)\n",
    "    torch.save(mvae_model.state_dict(), \"ravdess_mvae_pretrained.pt\")\n",
    "    logger.info(f\"Saved model to '{cfg.train.plain.model_save_path}', and also locally.\")\n",
    "\n",
    "    # Do a global and local save of the training stats (local to Hydra outputs)\n",
    "    torch.save(training_losses, cfg.stats_save_path)\n",
    "    torch.save(training_losses, \"ravdess_mvae_pretrained_stats.pt\")\n",
    "    logger.info(f\"Saved model to '{cfg.train.plain.stats_save_path}', and also locally.\")"
   ]
  }
 ],
 "metadata": {
  "kernelspec": {
   "display_name": "Python 3 (ipykernel)",
   "language": "python",
   "name": "python3"
  },
  "language_info": {
   "codemirror_mode": {
    "name": "ipython",
    "version": 3
   },
   "file_extension": ".py",
   "mimetype": "text/x-python",
   "name": "python",
   "nbconvert_exporter": "python",
   "pygments_lexer": "ipython3",
   "version": "3.9.7"
  }
 },
 "nbformat": 4,
 "nbformat_minor": 5
}
