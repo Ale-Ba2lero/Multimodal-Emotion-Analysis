{
 "cells": [
  {
   "cell_type": "code",
   "execution_count": 1,
   "id": "9a8f36e1",
   "metadata": {},
   "outputs": [],
   "source": [
    "import os, sys; sys.path.append(os.path.dirname(os.getcwd()))"
   ]
  },
  {
   "cell_type": "code",
   "execution_count": null,
   "id": "17f22e92",
   "metadata": {},
   "outputs": [],
   "source": [
    "import torch\n",
    "from torchvision import transforms\n",
    "from torch.utils.data import DataLoader\n",
    "\n",
    "import numpy as np\n",
    "import matplotlib.pyplot as plt\n",
    "\n",
    "import util.RAVDESS_dataset_util as Rd\n",
    "import multimodal_vae\n",
    "from train_mvae import build_model, train\n",
    "\n",
    "from config_args import ConfigModelArgs, ConfigTrainArgs"
   ]
  },
  {
   "cell_type": "code",
   "execution_count": null,
   "id": "38e7928d",
   "metadata": {},
   "outputs": [],
   "source": [
    "cfg_model = ConfigModelArgs()\n",
    "cfg_train = ConfigTrainArgs()"
   ]
  },
  {
   "cell_type": "code",
   "execution_count": null,
   "id": "b6282284",
   "metadata": {},
   "outputs": [],
   "source": [
    "face_dataset = Rd.FaceEmotionDataset(\n",
    "    root_dir=cfg_model.dataset_path,\n",
    "    transform=transforms.Compose\n",
    "    ([\n",
    "        Rd.Rescale(cfg_model.img_size), \n",
    "        Rd.CenterCrop(cfg_model.img_size), \n",
    "        Rd.ToTensor()\n",
    "    ]))\n",
    "\n",
    "trainingset_len = len(face_dataset) // 100 * 90\n",
    "testset_len = len(face_dataset) - trainingset_len\n",
    "training_dataset, testing_dataset = torch.utils.data.random_split(\n",
    "    face_dataset, \n",
    "    [trainingset_len, testset_len],\n",
    "    #generator=torch.Generator().manual_seed(42)\n",
    ")\n",
    "\n",
    "dataset_loader = DataLoader(training_dataset, batch_size=cfg_train.batch_size,\n",
    "                        shuffle=True, num_workers=cfg_train.num_workers)\n",
    "\n",
    "testset_loader = DataLoader(testing_dataset, batch_size=cfg_train.batch_size,\n",
    "                        shuffle=True, num_workers=cfg_train.num_workers)\n",
    "\n",
    "print('training set size: ',trainingset_len,'\\ntest set size: ',testset_len)"
   ]
  },
  {
   "cell_type": "code",
   "execution_count": null,
   "id": "d5b31254",
   "metadata": {},
   "outputs": [],
   "source": [
    "model: torch.nn.Module = build_model(\n",
    "    cat_dim=cfg_model.cat_dim,\n",
    "    latent_space_dim=cfg_model.z_dim,\n",
    "    hidden_dim=cfg_model.hidden_dim,\n",
    "    loss_weights=cfg_model.loss_weights,\n",
    "    expert_type=cfg_model.expert_type,\n",
    "    use_cuda=True\n",
    ").double()"
   ]
  },
  {
   "cell_type": "code",
   "execution_count": null,
   "id": "133b91a5",
   "metadata": {
    "scrolled": true
   },
   "outputs": [],
   "source": [
    "training_losses = train(\n",
    "    mvae_model=model,\n",
    "    dataset_loader=dataset_loader,\n",
    "    learning_rate=cfg_train.learning_rate,\n",
    "    optim_betas=cfg_train.optim_betas,\n",
    "    num_epochs=cfg_train.num_epochs,\n",
    "    batch_size=cfg_train.batch_size,\n",
    "    checkpoint_every=cfg_train.checkpoint_every,\n",
    "    checkpoint_path=cfg_train.checkpoint_path,\n",
    "    save_model=cfg_train.save_model,\n",
    "    seed=cfg_train.seed,\n",
    "    use_cuda=cfg_train.use_cuda,\n",
    "    cfg=cfg_train\n",
    ")"
   ]
  },
  {
   "cell_type": "code",
   "execution_count": null,
   "id": "d1664ae8",
   "metadata": {},
   "outputs": [],
   "source": [
    "plt.title(\"Total loss\")\n",
    "plt.ylabel(\"Loss \")\n",
    "plt.xlabel(\"Epochs \")\n",
    "plt.plot(training_losses['multimodal_loss'].total_loss[1:], color='red', label='multimodal')\n",
    "plt.plot(training_losses['emotion_loss'].total_loss[1:], color='green', label='emotion')\n",
    "plt.plot(training_losses['face_loss'].total_loss[1:], color='blue', label='face')\n",
    "plt.legend(loc=\"upper right\")"
   ]
  },
  {
   "cell_type": "code",
   "execution_count": null,
   "id": "3dd0a656",
   "metadata": {},
   "outputs": [],
   "source": [
    "plt.title(\"Reconstruction loss\")\n",
    "plt.ylabel(\"Loss \")\n",
    "plt.xlabel(\"Epochs \")\n",
    "\n",
    "plt.plot(training_losses['multimodal_loss'].reconstruction_loss, color='red', label='multimodal')\n",
    "plt.plot(training_losses['emotion_loss'].reconstruction_loss, color='green', label='emotion')\n",
    "plt.plot(training_losses['face_loss'].reconstruction_loss, color='blue', label='face')\n",
    "plt.legend(loc=\"upper right\")"
   ]
  },
  {
   "cell_type": "code",
   "execution_count": null,
   "id": "0650b276",
   "metadata": {},
   "outputs": [],
   "source": [
    "plt.title(\"KLD loss\")\n",
    "plt.ylabel(\"Loss \")\n",
    "plt.xlabel(\"Epochs \")\n",
    "\n",
    "plt.plot(training_losses['multimodal_loss'].kld_loss[1:], color='red', label='multimodal')\n",
    "plt.plot(training_losses['emotion_loss'].kld_loss[1:], color='green', label='emotion')\n",
    "plt.plot(training_losses['face_loss'].kld_loss[1:], color='blue', label='face')\n",
    "plt.legend(loc=\"upper right\")"
   ]
  },
  {
   "cell_type": "code",
   "execution_count": null,
   "id": "3efa55c0",
   "metadata": {},
   "outputs": [],
   "source": [
    "plt.title(\"Face reconstruction loss\")\n",
    "plt.ylabel(\"Loss\")\n",
    "plt.xlabel(\"Epochs\")\n",
    "\n",
    "plt.plot(training_losses['multimodal_loss'].faces_reconstruction_loss, color='red', label='multimodal')\n",
    "plt.plot(training_losses['emotion_loss'].faces_reconstruction_loss, color='green', label='emotion')\n",
    "plt.plot(training_losses['face_loss'].faces_reconstruction_loss, color='blue', label='face')\n",
    "plt.legend(loc=\"upper right\")"
   ]
  },
  {
   "cell_type": "code",
   "execution_count": null,
   "id": "15871255",
   "metadata": {},
   "outputs": [],
   "source": [
    "plt.title(\"Emotion reconstruction loss\")\n",
    "plt.ylabel(\"Loss \")\n",
    "plt.xlabel(\"Epochs \")\n",
    "\n",
    "plt.plot(training_losses['multimodal_loss'].emotions_reconstruction_loss, color='red', label='multimodal')\n",
    "plt.plot(training_losses['emotion_loss'].emotions_reconstruction_loss, color='green', label='emotion')\n",
    "plt.plot(training_losses['face_loss'].emotions_reconstruction_loss, color='blue', label='face')\n",
    "plt.legend(loc=\"upper right\")"
   ]
  },
  {
   "cell_type": "code",
   "execution_count": null,
   "id": "4fbcfda3",
   "metadata": {},
   "outputs": [],
   "source": [
    "def testBatch(model, dataset_loader, img_size=64, use_cuda=True):\n",
    "    sample = next(iter(dataset_loader))\n",
    "    images = sample['image']\n",
    "    labels = sample['cat']\n",
    "    \n",
    "    if use_cuda:\n",
    "        images = images.cuda()\n",
    "        labels = labels.cuda()\n",
    "        \n",
    "    input_array = np.zeros(shape=(img_size, 1, 3), dtype=\"uint8\")\n",
    "    reconstructed_array = np.zeros(shape=(img_size, 1, 3), dtype=\"uint8\")\n",
    "    reconstructed_emotions = []\n",
    "    \n",
    "    plt.figure(figsize = (40,10))\n",
    "    \n",
    "    batch_size = images.shape[0]\n",
    "    \n",
    "    reconstructed_images, reconstructed_emotions, _, _ = model(faces=images, emotions=labels)\n",
    "\n",
    "    for idx in range(4):\n",
    "        input_image = images[idx]\n",
    "        \n",
    "        # storing the input image\n",
    "        input_image_display = np.array(input_image.cpu()*255., dtype='uint8').transpose((1, 2, 0))\n",
    "        input_array = np.concatenate((input_array, input_image_display), axis=1)\n",
    "        \n",
    "        # generating the reconstructed image and adding to array\n",
    "        input_image = input_image.view(1, 3, img_size, img_size)\n",
    "        \n",
    "        reconstructed_img = reconstructed_images[idx].cpu().view(3, img_size, img_size).detach().numpy()\n",
    "        reconstructed_img = np.array(reconstructed_img*255., dtype='uint8').transpose((1, 2, 0))\n",
    "        reconstructed_array = np.concatenate((reconstructed_array, reconstructed_img), axis=1)\n",
    "        \n",
    "    # remove first, blank column, and concatenate\n",
    "    input_array = input_array[:,1:,:]\n",
    "    reconstructed_array = reconstructed_array[:,1:,:]\n",
    "    display_array = np.concatenate((input_array, reconstructed_array), axis=0)\n",
    "    plt.imshow(display_array)\n",
    "    \n",
    "    print([Rd.emocat[label.item()] for label in labels[:4]])\n",
    "    print([Rd.emocat[emo.item()] for emo in torch.argmax(reconstructed_emotions, 1)[:4]])"
   ]
  },
  {
   "cell_type": "code",
   "execution_count": null,
   "id": "5d1c22ae",
   "metadata": {},
   "outputs": [],
   "source": [
    "testBatch(model, testset_loader)"
   ]
  },
  {
   "cell_type": "code",
   "execution_count": null,
   "id": "3ff09b68",
   "metadata": {},
   "outputs": [],
   "source": [
    "from tqdm import tqdm\n",
    "def emotion_accuracy(model, dataset_loader):\n",
    "    \n",
    "    match = 0\n",
    "    total = 0\n",
    "    \n",
    "    for sample in tqdm(iter(dataset_loader)):\n",
    "        labels = sample['cat'].cuda()\n",
    "                            \n",
    "        _, reconstructed_emotions, _, _ = model(faces=None, emotions=labels)  \n",
    "        emotion_cat = torch.argmax(reconstructed_emotions, 1)  \n",
    "        \n",
    "        for idx in range(len(labels)):\n",
    "            total += 1\n",
    "            if labels[idx] == emotion_cat[idx]:\n",
    "                match += 1\n",
    "    \n",
    "    acc = match / total\n",
    "    return acc"
   ]
  },
  {
   "cell_type": "code",
   "execution_count": null,
   "id": "bb4cb963",
   "metadata": {},
   "outputs": [],
   "source": [
    "print(emotion_accuracy(model, testset_loader))"
   ]
  },
  {
   "cell_type": "code",
   "execution_count": null,
   "id": "c406f2d6",
   "metadata": {},
   "outputs": [],
   "source": [
    "save_model = False\n",
    "\n",
    "if save_model:\n",
    "    # Do a global and a local save of the model (local to Hydra outputs)\n",
    "    torch.save(mvae_model.state_dict(), cfg.model_save_path)\n",
    "    torch.save(mvae_model.state_dict(), \"ravdess_mvae_pretrained.pt\")\n",
    "    logger.info(f\"Saved model to '{cfg.train.plain.model_save_path}', and also locally.\")\n",
    "\n",
    "    # Do a global and local save of the training stats (local to Hydra outputs)\n",
    "    torch.save(training_losses, cfg.stats_save_path)\n",
    "    torch.save(training_losses, \"ravdess_mvae_pretrained_stats.pt\")\n",
    "    logger.info(f\"Saved model to '{cfg.train.plain.stats_save_path}', and also locally.\")"
   ]
  }
 ],
 "metadata": {
  "kernelspec": {
   "display_name": "Python 3 (ipykernel)",
   "language": "python",
   "name": "python3"
  },
  "language_info": {
   "codemirror_mode": {
    "name": "ipython",
    "version": 3
   },
   "file_extension": ".py",
   "mimetype": "text/x-python",
   "name": "python",
   "nbconvert_exporter": "python",
   "pygments_lexer": "ipython3",
   "version": "3.9.7"
  }
 },
 "nbformat": 4,
 "nbformat_minor": 5
}
