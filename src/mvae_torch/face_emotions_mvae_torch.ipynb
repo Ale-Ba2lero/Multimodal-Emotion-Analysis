{
 "cells": [
  {
   "cell_type": "code",
   "execution_count": 1,
   "id": "9a8f36e1",
   "metadata": {},
   "outputs": [],
   "source": [
    "import os, sys; sys.path.append(os.path.dirname(os.getcwd()))"
   ]
  },
  {
   "cell_type": "code",
   "execution_count": 2,
   "id": "17f22e92",
   "metadata": {},
   "outputs": [],
   "source": [
    "import torch\n",
    "from torchvision import transforms\n",
    "from torch.utils.data import DataLoader\n",
    "\n",
    "import numpy as np\n",
    "import matplotlib.pyplot as plt\n",
    "\n",
    "import util.RAVDESS_dataset_util as Rd\n",
    "import multimodal_vae\n",
    "from train_mvae import build_model, train\n",
    "\n",
    "from config_args import ConfigModelArgs, ConfigTrainArgs"
   ]
  },
  {
   "cell_type": "code",
   "execution_count": 3,
   "id": "38e7928d",
   "metadata": {},
   "outputs": [],
   "source": [
    "cfg_model = ConfigModelArgs()\n",
    "cfg_train = ConfigTrainArgs()"
   ]
  },
  {
   "cell_type": "code",
   "execution_count": 4,
   "id": "b6282284",
   "metadata": {},
   "outputs": [
    {
     "name": "stdout",
     "output_type": "stream",
     "text": [
      "training set size:  8820 \n",
      "test set size:  1047\n"
     ]
    }
   ],
   "source": [
    "face_dataset = Rd.FaceEmotionDataset(\n",
    "    root_dir=cfg_model.dataset_path,\n",
    "    transform=transforms.Compose\n",
    "    ([\n",
    "        Rd.Rescale(cfg_model.img_size), \n",
    "        Rd.CenterCrop(cfg_model.img_size), \n",
    "        Rd.ToTensor()\n",
    "    ]))\n",
    "\n",
    "trainingset_len = len(face_dataset) // 100 * 90\n",
    "testset_len = len(face_dataset) - trainingset_len\n",
    "training_dataset, testing_dataset = torch.utils.data.random_split(\n",
    "    face_dataset, \n",
    "    [trainingset_len, testset_len],\n",
    "    #generator=torch.Generator().manual_seed(42)\n",
    ")\n",
    "\n",
    "dataset_loader = DataLoader(training_dataset, batch_size=cfg_train.batch_size,\n",
    "                        shuffle=True, num_workers=cfg_train.num_workers)\n",
    "\n",
    "testset_loader = DataLoader(testing_dataset, batch_size=cfg_train.batch_size,\n",
    "                        shuffle=True, num_workers=cfg_train.num_workers)\n",
    "\n",
    "print('training set size: ',trainingset_len,'\\ntest set size: ',testset_len)"
   ]
  },
  {
   "cell_type": "code",
   "execution_count": 5,
   "id": "d5b31254",
   "metadata": {},
   "outputs": [],
   "source": [
    "model: torch.nn.Module = build_model(\n",
    "    cat_dim=cfg_model.cat_dim,\n",
    "    latent_space_dim=cfg_model.z_dim,\n",
    "    hidden_dim=cfg_model.hidden_dim,\n",
    "    loss_weights=cfg_model.loss_weights,\n",
    "    expert_type=cfg_model.expert_type,\n",
    "    use_cuda=True\n",
    ").double()"
   ]
  },
  {
   "cell_type": "code",
   "execution_count": 6,
   "id": "133b91a5",
   "metadata": {
    "scrolled": true
   },
   "outputs": [
    {
     "name": "stderr",
     "output_type": "stream",
     "text": [
      "  2%|▏      | 1/50 [02:48<2:18:00, 168.99s/it]"
     ]
    },
    {
     "name": "stdout",
     "output_type": "stream",
     "text": [
      "Mean total loss: 3.3103;\n",
      "Mean all modalities loss: 4.6493;\n",
      "Mean faces loss: 1.217;\n",
      "Mean emotions loss: 4.0646;\n",
      "\n"
     ]
    },
    {
     "name": "stderr",
     "output_type": "stream",
     "text": [
      "\r",
      "  4%|▎      | 2/50 [05:35<2:14:13, 167.77s/it]"
     ]
    },
    {
     "name": "stdout",
     "output_type": "stream",
     "text": [
      "Mean total loss: 2.8877;\n",
      "Mean all modalities loss: 3.9856;\n",
      "Mean faces loss: 0.80291;\n",
      "Mean emotions loss: 3.8747;\n",
      "\n"
     ]
    },
    {
     "name": "stderr",
     "output_type": "stream",
     "text": [
      "\r",
      "  6%|▍      | 3/50 [08:17<2:09:21, 165.14s/it]"
     ]
    },
    {
     "name": "stdout",
     "output_type": "stream",
     "text": [
      "Mean total loss: 2.5803;\n",
      "Mean all modalities loss: 3.5614;\n",
      "Mean faces loss: 0.60144;\n",
      "Mean emotions loss: 3.5782;\n",
      "\n"
     ]
    },
    {
     "name": "stderr",
     "output_type": "stream",
     "text": [
      "\r",
      "  8%|▌      | 4/50 [11:02<2:06:21, 164.81s/it]"
     ]
    },
    {
     "name": "stdout",
     "output_type": "stream",
     "text": [
      "Mean total loss: 2.2763;\n",
      "Mean all modalities loss: 3.2217;\n",
      "Mean faces loss: 0.46339;\n",
      "Mean emotions loss: 3.1439;\n",
      "\n"
     ]
    },
    {
     "name": "stderr",
     "output_type": "stream",
     "text": [
      "\r",
      " 10%|▋      | 5/50 [13:55<2:05:49, 167.77s/it]"
     ]
    },
    {
     "name": "stdout",
     "output_type": "stream",
     "text": [
      "Mean total loss: 1.9647;\n",
      "Mean all modalities loss: 2.8937;\n",
      "Mean faces loss: 0.36644;\n",
      "Mean emotions loss: 2.634;\n",
      "\n"
     ]
    },
    {
     "name": "stderr",
     "output_type": "stream",
     "text": [
      "\r",
      " 12%|▊      | 6/50 [16:36<2:01:20, 165.47s/it]"
     ]
    },
    {
     "name": "stdout",
     "output_type": "stream",
     "text": [
      "Mean total loss: 1.7215;\n",
      "Mean all modalities loss: 2.5828;\n",
      "Mean faces loss: 0.28546;\n",
      "Mean emotions loss: 2.2962;\n",
      "\n"
     ]
    },
    {
     "name": "stderr",
     "output_type": "stream",
     "text": [
      "\r",
      " 14%|▉      | 7/50 [19:30<2:00:35, 168.28s/it]"
     ]
    },
    {
     "name": "stdout",
     "output_type": "stream",
     "text": [
      "Mean total loss: 1.6031;\n",
      "Mean all modalities loss: 2.41;\n",
      "Mean faces loss: 0.23864;\n",
      "Mean emotions loss: 2.1606;\n",
      "\n"
     ]
    },
    {
     "name": "stderr",
     "output_type": "stream",
     "text": [
      "\r",
      " 16%|█      | 8/50 [22:11<1:56:17, 166.13s/it]"
     ]
    },
    {
     "name": "stdout",
     "output_type": "stream",
     "text": [
      "Mean total loss: 1.5422;\n",
      "Mean all modalities loss: 2.3289;\n",
      "Mean faces loss: 0.20781;\n",
      "Mean emotions loss: 2.0898;\n",
      "\n"
     ]
    },
    {
     "name": "stderr",
     "output_type": "stream",
     "text": [
      "\r",
      " 18%|█▎     | 9/50 [24:38<1:49:19, 160.00s/it]"
     ]
    },
    {
     "name": "stdout",
     "output_type": "stream",
     "text": [
      "Mean total loss: 1.5103;\n",
      "Mean all modalities loss: 2.2883;\n",
      "Mean faces loss: 0.19217;\n",
      "Mean emotions loss: 2.0505;\n",
      "\n"
     ]
    },
    {
     "name": "stderr",
     "output_type": "stream",
     "text": [
      "\r",
      " 20%|█▏    | 10/50 [27:14<1:45:48, 158.72s/it]"
     ]
    },
    {
     "name": "stdout",
     "output_type": "stream",
     "text": [
      "Mean total loss: 1.4894;\n",
      "Mean all modalities loss: 2.2612;\n",
      "Mean faces loss: 0.18187;\n",
      "Mean emotions loss: 2.0252;\n",
      "\n"
     ]
    },
    {
     "name": "stderr",
     "output_type": "stream",
     "text": [
      "\r",
      " 22%|█▎    | 11/50 [29:49<1:42:25, 157.58s/it]"
     ]
    },
    {
     "name": "stdout",
     "output_type": "stream",
     "text": [
      "Mean total loss: 1.4661;\n",
      "Mean all modalities loss: 2.2308;\n",
      "Mean faces loss: 0.17191;\n",
      "Mean emotions loss: 1.9955;\n",
      "\n"
     ]
    },
    {
     "name": "stderr",
     "output_type": "stream",
     "text": [
      "\r",
      " 24%|█▍    | 12/50 [32:24<1:39:22, 156.91s/it]"
     ]
    },
    {
     "name": "stdout",
     "output_type": "stream",
     "text": [
      "Mean total loss: 1.4431;\n",
      "Mean all modalities loss: 2.2037;\n",
      "Mean faces loss: 0.16537;\n",
      "Mean emotions loss: 1.9602;\n",
      "\n"
     ]
    },
    {
     "name": "stderr",
     "output_type": "stream",
     "text": [
      "\r",
      " 26%|█▌    | 13/50 [34:56<1:35:51, 155.44s/it]"
     ]
    },
    {
     "name": "stdout",
     "output_type": "stream",
     "text": [
      "Mean total loss: 1.419;\n",
      "Mean all modalities loss: 2.1699;\n",
      "Mean faces loss: 0.15999;\n",
      "Mean emotions loss: 1.9272;\n",
      "\n"
     ]
    },
    {
     "name": "stderr",
     "output_type": "stream",
     "text": [
      "\r",
      " 28%|█▋    | 14/50 [37:31<1:33:05, 155.15s/it]"
     ]
    },
    {
     "name": "stdout",
     "output_type": "stream",
     "text": [
      "Mean total loss: 1.3892;\n",
      "Mean all modalities loss: 2.1322;\n",
      "Mean faces loss: 0.15478;\n",
      "Mean emotions loss: 1.8807;\n",
      "\n"
     ]
    },
    {
     "name": "stderr",
     "output_type": "stream",
     "text": [
      "\r",
      " 30%|█▊    | 15/50 [40:04<1:30:09, 154.57s/it]"
     ]
    },
    {
     "name": "stdout",
     "output_type": "stream",
     "text": [
      "Mean total loss: 1.3511;\n",
      "Mean all modalities loss: 2.078;\n",
      "Mean faces loss: 0.14985;\n",
      "Mean emotions loss: 1.8253;\n",
      "\n"
     ]
    },
    {
     "name": "stderr",
     "output_type": "stream",
     "text": [
      "\r",
      " 32%|█▉    | 16/50 [42:32<1:26:25, 152.53s/it]"
     ]
    },
    {
     "name": "stdout",
     "output_type": "stream",
     "text": [
      "Mean total loss: 1.3105;\n",
      "Mean all modalities loss: 2.0254;\n",
      "Mean faces loss: 0.14591;\n",
      "Mean emotions loss: 1.76;\n",
      "\n"
     ]
    },
    {
     "name": "stderr",
     "output_type": "stream",
     "text": [
      "\r",
      " 34%|██    | 17/50 [44:46<1:20:48, 146.93s/it]"
     ]
    },
    {
     "name": "stdout",
     "output_type": "stream",
     "text": [
      "Mean total loss: 1.2677;\n",
      "Mean all modalities loss: 1.9577;\n",
      "Mean faces loss: 0.14301;\n",
      "Mean emotions loss: 1.7024;\n",
      "\n"
     ]
    },
    {
     "name": "stderr",
     "output_type": "stream",
     "text": [
      "\r",
      " 36%|██▏   | 18/50 [47:04<1:16:57, 144.31s/it]"
     ]
    },
    {
     "name": "stdout",
     "output_type": "stream",
     "text": [
      "Mean total loss: 1.2199;\n",
      "Mean all modalities loss: 1.8908;\n",
      "Mean faces loss: 0.13875;\n",
      "Mean emotions loss: 1.63;\n",
      "\n"
     ]
    },
    {
     "name": "stderr",
     "output_type": "stream",
     "text": [
      "\r",
      " 38%|██▎   | 19/50 [49:15<1:12:35, 140.50s/it]"
     ]
    },
    {
     "name": "stdout",
     "output_type": "stream",
     "text": [
      "Mean total loss: 1.1674;\n",
      "Mean all modalities loss: 1.8108;\n",
      "Mean faces loss: 0.1374;\n",
      "Mean emotions loss: 1.5539;\n",
      "\n"
     ]
    },
    {
     "name": "stderr",
     "output_type": "stream",
     "text": [
      "\r",
      " 40%|██▍   | 20/50 [51:17<1:07:26, 134.87s/it]"
     ]
    },
    {
     "name": "stdout",
     "output_type": "stream",
     "text": [
      "Mean total loss: 1.1181;\n",
      "Mean all modalities loss: 1.7336;\n",
      "Mean faces loss: 0.13481;\n",
      "Mean emotions loss: 1.4858;\n",
      "\n"
     ]
    },
    {
     "name": "stderr",
     "output_type": "stream",
     "text": [
      "\r",
      " 42%|██▌   | 21/50 [53:15<1:02:42, 129.76s/it]"
     ]
    },
    {
     "name": "stdout",
     "output_type": "stream",
     "text": [
      "Mean total loss: 1.0715;\n",
      "Mean all modalities loss: 1.6604;\n",
      "Mean faces loss: 0.13289;\n",
      "Mean emotions loss: 1.4211;\n",
      "\n"
     ]
    },
    {
     "name": "stderr",
     "output_type": "stream",
     "text": [
      "\r",
      " 44%|███▌    | 22/50 [55:21<59:58, 128.53s/it]"
     ]
    },
    {
     "name": "stdout",
     "output_type": "stream",
     "text": [
      "Mean total loss: 1.0272;\n",
      "Mean all modalities loss: 1.5881;\n",
      "Mean faces loss: 0.13009;\n",
      "Mean emotions loss: 1.3634;\n",
      "\n"
     ]
    },
    {
     "name": "stderr",
     "output_type": "stream",
     "text": [
      "\r",
      " 46%|███▋    | 23/50 [57:30<57:55, 128.73s/it]"
     ]
    },
    {
     "name": "stdout",
     "output_type": "stream",
     "text": [
      "Mean total loss: 0.98521;\n",
      "Mean all modalities loss: 1.5215;\n",
      "Mean faces loss: 0.12857;\n",
      "Mean emotions loss: 1.3055;\n",
      "\n"
     ]
    },
    {
     "name": "stderr",
     "output_type": "stream",
     "text": [
      "\r",
      " 48%|███▊    | 24/50 [59:41<56:03, 129.35s/it]"
     ]
    },
    {
     "name": "stdout",
     "output_type": "stream",
     "text": [
      "Mean total loss: 0.94818;\n",
      "Mean all modalities loss: 1.4628;\n",
      "Mean faces loss: 0.12634;\n",
      "Mean emotions loss: 1.2555;\n",
      "\n"
     ]
    },
    {
     "name": "stderr",
     "output_type": "stream",
     "text": [
      "\r",
      " 50%|███   | 25/50 [1:01:54<54:25, 130.61s/it]"
     ]
    },
    {
     "name": "stdout",
     "output_type": "stream",
     "text": [
      "Mean total loss: 0.90952;\n",
      "Mean all modalities loss: 1.4087;\n",
      "Mean faces loss: 0.12369;\n",
      "Mean emotions loss: 1.1962;\n",
      "\n"
     ]
    },
    {
     "name": "stderr",
     "output_type": "stream",
     "text": [
      "\r",
      " 52%|███   | 26/50 [1:04:06<52:25, 131.06s/it]"
     ]
    },
    {
     "name": "stdout",
     "output_type": "stream",
     "text": [
      "Mean total loss: 0.88059;\n",
      "Mean all modalities loss: 1.3591;\n",
      "Mean faces loss: 0.12359;\n",
      "Mean emotions loss: 1.1591;\n",
      "\n"
     ]
    },
    {
     "name": "stderr",
     "output_type": "stream",
     "text": [
      "\r",
      " 54%|███▏  | 27/50 [1:06:20<50:30, 131.75s/it]"
     ]
    },
    {
     "name": "stdout",
     "output_type": "stream",
     "text": [
      "Mean total loss: 0.85194;\n",
      "Mean all modalities loss: 1.3149;\n",
      "Mean faces loss: 0.12167;\n",
      "Mean emotions loss: 1.1192;\n",
      "\n"
     ]
    },
    {
     "name": "stderr",
     "output_type": "stream",
     "text": [
      "\r",
      " 56%|███▎  | 28/50 [1:08:28<47:58, 130.83s/it]"
     ]
    },
    {
     "name": "stdout",
     "output_type": "stream",
     "text": [
      "Mean total loss: 0.81916;\n",
      "Mean all modalities loss: 1.2661;\n",
      "Mean faces loss: 0.11974;\n",
      "Mean emotions loss: 1.0717;\n",
      "\n"
     ]
    },
    {
     "name": "stderr",
     "output_type": "stream",
     "text": [
      "\r",
      " 58%|███▍  | 29/50 [1:10:39<45:45, 130.73s/it]"
     ]
    },
    {
     "name": "stdout",
     "output_type": "stream",
     "text": [
      "Mean total loss: 0.80113;\n",
      "Mean all modalities loss: 1.2374;\n",
      "Mean faces loss: 0.11807;\n",
      "Mean emotions loss: 1.048;\n",
      "\n"
     ]
    },
    {
     "name": "stderr",
     "output_type": "stream",
     "text": [
      "\r",
      " 60%|███▌  | 30/50 [1:12:52<43:49, 131.47s/it]"
     ]
    },
    {
     "name": "stdout",
     "output_type": "stream",
     "text": [
      "Mean total loss: 0.77795;\n",
      "Mean all modalities loss: 1.2034;\n",
      "Mean faces loss: 0.1169;\n",
      "Mean emotions loss: 1.0136;\n",
      "\n"
     ]
    },
    {
     "name": "stderr",
     "output_type": "stream",
     "text": [
      "\r",
      " 62%|███▋  | 31/50 [1:15:02<41:26, 130.88s/it]"
     ]
    },
    {
     "name": "stdout",
     "output_type": "stream",
     "text": [
      "Mean total loss: 0.75408;\n",
      "Mean all modalities loss: 1.1624;\n",
      "Mean faces loss: 0.11607;\n",
      "Mean emotions loss: 0.98372;\n",
      "\n"
     ]
    },
    {
     "name": "stderr",
     "output_type": "stream",
     "text": [
      "\r",
      " 64%|███▊  | 32/50 [1:17:12<39:13, 130.74s/it]"
     ]
    },
    {
     "name": "stdout",
     "output_type": "stream",
     "text": [
      "Mean total loss: 0.74359;\n",
      "Mean all modalities loss: 1.1445;\n",
      "Mean faces loss: 0.11472;\n",
      "Mean emotions loss: 0.97155;\n",
      "\n"
     ]
    },
    {
     "name": "stderr",
     "output_type": "stream",
     "text": [
      "\r",
      " 66%|███▉  | 33/50 [1:19:22<36:59, 130.57s/it]"
     ]
    },
    {
     "name": "stdout",
     "output_type": "stream",
     "text": [
      "Mean total loss: 0.73091;\n",
      "Mean all modalities loss: 1.1333;\n",
      "Mean faces loss: 0.11411;\n",
      "Mean emotions loss: 0.9453;\n",
      "\n"
     ]
    },
    {
     "name": "stderr",
     "output_type": "stream",
     "text": [
      "\r",
      " 68%|████  | 34/50 [1:21:32<34:44, 130.29s/it]"
     ]
    },
    {
     "name": "stdout",
     "output_type": "stream",
     "text": [
      "Mean total loss: 0.71466;\n",
      "Mean all modalities loss: 1.1033;\n",
      "Mean faces loss: 0.11348;\n",
      "Mean emotions loss: 0.9272;\n",
      "\n"
     ]
    },
    {
     "name": "stderr",
     "output_type": "stream",
     "text": [
      "\r",
      " 70%|████▏ | 35/50 [1:23:45<32:47, 131.16s/it]"
     ]
    },
    {
     "name": "stdout",
     "output_type": "stream",
     "text": [
      "Mean total loss: 0.7015;\n",
      "Mean all modalities loss: 1.0853;\n",
      "Mean faces loss: 0.11172;\n",
      "Mean emotions loss: 0.9075;\n",
      "\n"
     ]
    },
    {
     "name": "stderr",
     "output_type": "stream",
     "text": [
      "\r",
      " 72%|████▎ | 36/50 [1:25:52<30:20, 130.02s/it]"
     ]
    },
    {
     "name": "stdout",
     "output_type": "stream",
     "text": [
      "Mean total loss: 0.68727;\n",
      "Mean all modalities loss: 1.0589;\n",
      "Mean faces loss: 0.11171;\n",
      "Mean emotions loss: 0.8912;\n",
      "\n"
     ]
    },
    {
     "name": "stderr",
     "output_type": "stream",
     "text": [
      "\r",
      " 74%|████▍ | 37/50 [1:28:07<28:27, 131.37s/it]"
     ]
    },
    {
     "name": "stdout",
     "output_type": "stream",
     "text": [
      "Mean total loss: 0.67921;\n",
      "Mean all modalities loss: 1.0494;\n",
      "Mean faces loss: 0.11041;\n",
      "Mean emotions loss: 0.87783;\n",
      "\n"
     ]
    },
    {
     "name": "stderr",
     "output_type": "stream",
     "text": [
      "\r",
      " 76%|████▌ | 38/50 [1:30:18<26:15, 131.32s/it]"
     ]
    },
    {
     "name": "stdout",
     "output_type": "stream",
     "text": [
      "Mean total loss: 0.67005;\n",
      "Mean all modalities loss: 1.0398;\n",
      "Mean faces loss: 0.10962;\n",
      "Mean emotions loss: 0.86069;\n",
      "\n"
     ]
    },
    {
     "name": "stderr",
     "output_type": "stream",
     "text": [
      "\r",
      " 78%|████▋ | 39/50 [1:32:29<24:04, 131.28s/it]"
     ]
    },
    {
     "name": "stdout",
     "output_type": "stream",
     "text": [
      "Mean total loss: 0.66434;\n",
      "Mean all modalities loss: 1.024;\n",
      "Mean faces loss: 0.10874;\n",
      "Mean emotions loss: 0.86026;\n",
      "\n"
     ]
    },
    {
     "name": "stderr",
     "output_type": "stream",
     "text": [
      "\r",
      " 80%|████▊ | 40/50 [1:34:42<21:58, 131.86s/it]"
     ]
    },
    {
     "name": "stdout",
     "output_type": "stream",
     "text": [
      "Mean total loss: 0.65471;\n",
      "Mean all modalities loss: 1.017;\n",
      "Mean faces loss: 0.10802;\n",
      "Mean emotions loss: 0.83915;\n",
      "\n"
     ]
    },
    {
     "name": "stderr",
     "output_type": "stream",
     "text": [
      "\r",
      " 82%|████▉ | 41/50 [1:36:52<19:39, 131.04s/it]"
     ]
    },
    {
     "name": "stdout",
     "output_type": "stream",
     "text": [
      "Mean total loss: 0.65042;\n",
      "Mean all modalities loss: 1.0053;\n",
      "Mean faces loss: 0.10743;\n",
      "Mean emotions loss: 0.83856;\n",
      "\n"
     ]
    },
    {
     "name": "stderr",
     "output_type": "stream",
     "text": [
      "\r",
      " 84%|█████ | 42/50 [1:39:03<17:29, 131.17s/it]"
     ]
    },
    {
     "name": "stdout",
     "output_type": "stream",
     "text": [
      "Mean total loss: 0.64312;\n",
      "Mean all modalities loss: 1.0034;\n",
      "Mean faces loss: 0.10644;\n",
      "Mean emotions loss: 0.81951;\n",
      "\n"
     ]
    },
    {
     "name": "stderr",
     "output_type": "stream",
     "text": [
      "\r",
      " 86%|█████▏| 43/50 [1:41:07<15:02, 128.90s/it]"
     ]
    },
    {
     "name": "stdout",
     "output_type": "stream",
     "text": [
      "Mean total loss: 0.63534;\n",
      "Mean all modalities loss: 0.98557;\n",
      "Mean faces loss: 0.10625;\n",
      "Mean emotions loss: 0.81421;\n",
      "\n"
     ]
    },
    {
     "name": "stderr",
     "output_type": "stream",
     "text": [
      "\r",
      " 88%|█████▎| 44/50 [1:43:15<12:52, 128.79s/it]"
     ]
    },
    {
     "name": "stdout",
     "output_type": "stream",
     "text": [
      "Mean total loss: 0.63004;\n",
      "Mean all modalities loss: 0.97699;\n",
      "Mean faces loss: 0.10643;\n",
      "Mean emotions loss: 0.80672;\n",
      "\n"
     ]
    },
    {
     "name": "stderr",
     "output_type": "stream",
     "text": [
      "\r",
      " 90%|█████▍| 45/50 [1:45:28<10:49, 129.98s/it]"
     ]
    },
    {
     "name": "stdout",
     "output_type": "stream",
     "text": [
      "Mean total loss: 0.62242;\n",
      "Mean all modalities loss: 0.96759;\n",
      "Mean faces loss: 0.10472;\n",
      "Mean emotions loss: 0.79494;\n",
      "\n"
     ]
    },
    {
     "name": "stderr",
     "output_type": "stream",
     "text": [
      "\r",
      " 92%|█████▌| 46/50 [1:47:40<08:42, 130.52s/it]"
     ]
    },
    {
     "name": "stdout",
     "output_type": "stream",
     "text": [
      "Mean total loss: 0.61803;\n",
      "Mean all modalities loss: 0.95908;\n",
      "Mean faces loss: 0.10439;\n",
      "Mean emotions loss: 0.79061;\n",
      "\n"
     ]
    },
    {
     "name": "stderr",
     "output_type": "stream",
     "text": [
      "\r",
      " 94%|█████▋| 47/50 [1:49:47<06:28, 129.42s/it]"
     ]
    },
    {
     "name": "stdout",
     "output_type": "stream",
     "text": [
      "Mean total loss: 0.61363;\n",
      "Mean all modalities loss: 0.95009;\n",
      "Mean faces loss: 0.10438;\n",
      "Mean emotions loss: 0.78641;\n",
      "\n"
     ]
    },
    {
     "name": "stderr",
     "output_type": "stream",
     "text": [
      "\r",
      " 96%|█████▊| 48/50 [1:51:59<04:20, 130.39s/it]"
     ]
    },
    {
     "name": "stdout",
     "output_type": "stream",
     "text": [
      "Mean total loss: 0.60885;\n",
      "Mean all modalities loss: 0.94704;\n",
      "Mean faces loss: 0.10282;\n",
      "Mean emotions loss: 0.77671;\n",
      "\n"
     ]
    },
    {
     "name": "stderr",
     "output_type": "stream",
     "text": [
      "\r",
      " 98%|█████▉| 49/50 [1:54:11<02:10, 130.75s/it]"
     ]
    },
    {
     "name": "stdout",
     "output_type": "stream",
     "text": [
      "Mean total loss: 0.60318;\n",
      "Mean all modalities loss: 0.94215;\n",
      "Mean faces loss: 0.103;\n",
      "Mean emotions loss: 0.7644;\n",
      "\n"
     ]
    },
    {
     "name": "stderr",
     "output_type": "stream",
     "text": [
      "100%|██████| 50/50 [1:56:20<00:00, 139.61s/it]"
     ]
    },
    {
     "name": "stdout",
     "output_type": "stream",
     "text": [
      "Mean total loss: 0.5981;\n",
      "Mean all modalities loss: 0.92956;\n",
      "Mean faces loss: 0.10287;\n",
      "Mean emotions loss: 0.76187;\n",
      "\n"
     ]
    },
    {
     "name": "stderr",
     "output_type": "stream",
     "text": [
      "\n"
     ]
    }
   ],
   "source": [
    "training_losses = train(\n",
    "    mvae_model=model,\n",
    "    dataset_loader=dataset_loader,\n",
    "    learning_rate=cfg_train.learning_rate,\n",
    "    optim_betas=cfg_train.optim_betas,\n",
    "    num_epochs=cfg_train.num_epochs,\n",
    "    batch_size=cfg_train.batch_size,\n",
    "    checkpoint_every=cfg_train.checkpoint_every,\n",
    "    checkpoint_path=cfg_train.checkpoint_path,\n",
    "    save_model=cfg_train.save_model,\n",
    "    seed=cfg_train.seed,\n",
    "    use_cuda=cfg_train.use_cuda,\n",
    "    cfg=cfg_train\n",
    ")"
   ]
  },
  {
   "cell_type": "code",
   "execution_count": 7,
   "id": "d1664ae8",
   "metadata": {},
   "outputs": [
    {
     "data": {
      "text/plain": [
       "[<matplotlib.lines.Line2D at 0x7ff3cb008e80>]"
      ]
     },
     "execution_count": 7,
     "metadata": {},
     "output_type": "execute_result"
    },
    {
     "data": {
      "image/png": "[encoded data removed]",
      "text/plain": [
       "<Figure size 432x288 with 1 Axes>"
      ]
     },
     "metadata": {
      "needs_background": "light"
     },
     "output_type": "display_data"
    }
   ],
   "source": [
    "plt.ylabel(\"Loss \")\n",
    "plt.xlabel(\"Epochs \")\n",
    "plt.plot(training_losses['total_loss'], color='red')\n",
    "plt.plot(training_losses['multimodal_loss'], color='green')\n",
    "plt.plot(training_losses['faces_loss'], color='blue')\n",
    "plt.plot(training_losses['emotions_loss'], color='black')"
   ]
  },
  {
   "cell_type": "code",
   "execution_count": 8,
   "id": "4fbcfda3",
   "metadata": {},
   "outputs": [],
   "source": [
    "def testBatch(model, dataset_loader, img_size=64, use_cuda=True):\n",
    "    sample = next(iter(dataset_loader))\n",
    "    images = sample['image']\n",
    "    labels = sample['cat']\n",
    "    \n",
    "    if use_cuda:\n",
    "        images = images.cuda()\n",
    "        labels = labels.cuda()\n",
    "        \n",
    "    input_array = np.zeros(shape=(img_size, 1, 3), dtype=\"uint8\")\n",
    "    reconstructed_array = np.zeros(shape=(img_size, 1, 3), dtype=\"uint8\")\n",
    "    reconstructed_emotions = []\n",
    "\n",
    "    batch_size = images.shape[0]\n",
    "    \n",
    "    reconstructed_images, reconstructed_emotions, _, _ = model(faces=images, emotions=labels)\n",
    "\n",
    "    for idx in range(4):\n",
    "        input_image = images[idx]\n",
    "        \n",
    "        # storing the input image\n",
    "        input_image_display = np.array(input_image.cpu()*255., dtype='uint8').transpose((1, 2, 0))\n",
    "        input_array = np.concatenate((input_array, input_image_display), axis=1)\n",
    "        \n",
    "        # generating the reconstructed image and adding to array\n",
    "        input_image = input_image.view(1, 3, img_size, img_size)\n",
    "        \n",
    "        reconstructed_img = reconstructed_images[idx].cpu().view(3, img_size, img_size).detach().numpy()\n",
    "        reconstructed_img = np.array(reconstructed_img*255., dtype='uint8').transpose((1, 2, 0))\n",
    "        reconstructed_array = np.concatenate((reconstructed_array, reconstructed_img), axis=1)\n",
    "        \n",
    "    # remove first, blank column, and concatenate\n",
    "    input_array = input_array[:,1:,:]\n",
    "    reconstructed_array = reconstructed_array[:,1:,:]\n",
    "    display_array = np.concatenate((input_array, reconstructed_array), axis=0)\n",
    "    plt.imshow(display_array)\n",
    "    \n",
    "    print([Rd.emocat[label.item()] for label in labels[:4]])\n",
    "    print([Rd.emocat[emo.item()] for emo in torch.argmax(reconstructed_emotions, 1)[:4]])"
   ]
  },
  {
   "cell_type": "code",
   "execution_count": 9,
   "id": "5d1c22ae",
   "metadata": {},
   "outputs": [
    {
     "name": "stdout",
     "output_type": "stream",
     "text": [
      "['surprised', 'happy', 'fearful', 'surprised']\n",
      "['surprised', 'happy', 'fearful', 'surprised']\n"
     ]
    },
    {
     "data": {
      "image/png": "[encoded data removed]",
      "text/plain": [
       "<Figure size 432x288 with 1 Axes>"
      ]
     },
     "metadata": {
      "needs_background": "light"
     },
     "output_type": "display_data"
    }
   ],
   "source": [
    "testBatch(model, dataset_loader)"
   ]
  },
  {
   "cell_type": "code",
   "execution_count": 10,
   "id": "3ff09b68",
   "metadata": {},
   "outputs": [],
   "source": [
    "from tqdm import tqdm\n",
    "def emotion_accuracy(model, dataset_loader):\n",
    "    \n",
    "    match = 0\n",
    "    total = 0\n",
    "    \n",
    "    for sample in tqdm(iter(dataset_loader)):\n",
    "        labels = sample['cat'].cuda()\n",
    "                            \n",
    "        _, reconstructed_emotions, _, _ = model(faces=None, emotions=labels)  \n",
    "        emotion_cat = torch.argmax(reconstructed_emotions, 1)  \n",
    "        \n",
    "        for idx in range(len(labels)):\n",
    "            total += 1\n",
    "            if labels[idx] == emotion_cat[idx]:\n",
    "                match += 1\n",
    "    \n",
    "    acc = match / total\n",
    "    return acc"
   ]
  },
  {
   "cell_type": "code",
   "execution_count": 11,
   "id": "bb4cb963",
   "metadata": {},
   "outputs": [
    {
     "name": "stderr",
     "output_type": "stream",
     "text": [
      "100%|█████████████████| 33/33 [00:17<00:00,  1.84it/s]"
     ]
    },
    {
     "name": "stdout",
     "output_type": "stream",
     "text": [
      "0.938872970391595\n"
     ]
    },
    {
     "name": "stderr",
     "output_type": "stream",
     "text": [
      "\n"
     ]
    }
   ],
   "source": [
    "print(emotion_accuracy(model, testset_loader))"
   ]
  },
  {
   "cell_type": "code",
   "execution_count": null,
   "id": "c406f2d6",
   "metadata": {},
   "outputs": [],
   "source": [
    "if save_model:\n",
    "    # Do a global and a local save of the model (local to Hydra outputs)\n",
    "    torch.save(mvae_model.state_dict(), cfg.model_save_path)\n",
    "    torch.save(mvae_model.state_dict(), \"ravdess_mvae_pretrained.pt\")\n",
    "    logger.info(f\"Saved model to '{cfg.train.plain.model_save_path}', and also locally.\")\n",
    "\n",
    "    # Do a global and local save of the training stats (local to Hydra outputs)\n",
    "    torch.save(training_losses, cfg.stats_save_path)\n",
    "    torch.save(training_losses, \"ravdess_mvae_pretrained_stats.pt\")\n",
    "    logger.info(f\"Saved model to '{cfg.train.plain.stats_save_path}', and also locally.\")\n"
   ]
  }
 ],
 "metadata": {
  "kernelspec": {
   "display_name": "Python 3 (ipykernel)",
   "language": "python",
   "name": "python3"
  },
  "language_info": {
   "codemirror_mode": {
    "name": "ipython",
    "version": 3
   },
   "file_extension": ".py",
   "mimetype": "text/x-python",
   "name": "python",
   "nbconvert_exporter": "python",
   "pygments_lexer": "ipython3",
   "version": "3.9.7"
  }
 },
 "nbformat": 4,
 "nbformat_minor": 5
}
