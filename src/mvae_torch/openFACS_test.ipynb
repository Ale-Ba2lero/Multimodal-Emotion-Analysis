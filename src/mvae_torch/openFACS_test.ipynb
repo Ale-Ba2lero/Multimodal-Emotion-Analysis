{
 "cells": [
  {
   "cell_type": "code",
   "execution_count": 1,
   "id": "5ff37341",
   "metadata": {},
   "outputs": [],
   "source": [
    "import os, sys; sys.path.append(os.path.dirname(os.getcwd()))\n",
    "from util.openFACS import sendAUS"
   ]
  },
  {
   "cell_type": "code",
   "execution_count": 2,
   "id": "dfd7535f",
   "metadata": {},
   "outputs": [],
   "source": [
    "AU = [5,0,5,0,0,0,0,0,0,0,5,3,0,0,0,0,0,0]\n",
    "sendAUS(AU,0.05)"
   ]
  },
  {
   "cell_type": "code",
   "execution_count": null,
   "id": "7f8e401e",
   "metadata": {},
   "outputs": [],
   "source": []
  }
 ],
 "metadata": {
  "kernelspec": {
   "display_name": "Python 3 (ipykernel)",
   "language": "python",
   "name": "python3"
  },
  "language_info": {
   "codemirror_mode": {
    "name": "ipython",
    "version": 3
   },
   "file_extension": ".py",
   "mimetype": "text/x-python",
   "name": "python",
   "nbconvert_exporter": "python",
   "pygments_lexer": "ipython3",
   "version": "3.9.12"
  }
 },
 "nbformat": 4,
 "nbformat_minor": 5
}
