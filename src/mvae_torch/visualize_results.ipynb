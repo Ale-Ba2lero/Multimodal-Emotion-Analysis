{
 "cells": [
  {
   "cell_type": "code",
   "execution_count": 18,
   "id": "bcbd4dc3",
   "metadata": {},
   "outputs": [],
   "source": [
    "import os, sys; sys.path.append(os.path.dirname(os.getcwd()))"
   ]
  },
  {
   "cell_type": "code",
   "execution_count": 19,
   "id": "ac8a7dc0",
   "metadata": {},
   "outputs": [],
   "source": [
    "import torch\n",
    "from torchvision import transforms\n",
    "from torch.utils.data import DataLoader\n",
    "\n",
    "import matplotlib.pyplot as plt\n",
    "import numpy as np\n",
    "\n",
    "import util.RAVDESS_dataset_util as Rd\n",
    "import multimodal_vae\n",
    "from train_mvae import build_model, train\n",
    "\n",
    "from config_args import ConfigModelArgs, ConfigTrainArgs\n",
    "import torch_mvae_util as U"
   ]
  },
  {
   "cell_type": "code",
   "execution_count": 28,
   "id": "01bcd792",
   "metadata": {},
   "outputs": [
    {
     "name": "stdout",
     "output_type": "stream",
     "text": [
      "training set size:  8820 \n",
      "test set size:  1047\n"
     ]
    }
   ],
   "source": [
    "cfg_model = ConfigModelArgs()\n",
    "cfg_train = ConfigTrainArgs()\n",
    "\n",
    "face_dataset = Rd.FaceEmotionDataset(\n",
    "    root_dir=cfg_model.dataset_path,\n",
    "    transform=transforms.Compose\n",
    "    ([\n",
    "        Rd.Rescale(int(cfg_model.img_size * 1.5)), \n",
    "        Rd.CenterCrop(int(cfg_model.img_size * 1.5)), \n",
    "        Rd.ToTensor()\n",
    "    ]))\n",
    "\n",
    "trainingset_len = len(face_dataset) // 100 * 90\n",
    "testset_len = len(face_dataset) - trainingset_len\n",
    "training_dataset, testing_dataset = torch.utils.data.random_split(\n",
    "    face_dataset, \n",
    "    [trainingset_len, testset_len],\n",
    "    generator=torch.Generator().manual_seed(42)\n",
    ")\n",
    "\n",
    "dataset_loader = DataLoader(training_dataset, batch_size=cfg_train.batch_size,\n",
    "                        shuffle=False, num_workers=cfg_train.num_workers)\n",
    "\n",
    "testset_loader = DataLoader(testing_dataset, batch_size=cfg_train.batch_size,\n",
    "                        shuffle=False, num_workers=cfg_train.num_workers)\n",
    "\n",
    "print('training set size: ',trainingset_len,'\\ntest set size: ',testset_len)"
   ]
  },
  {
   "cell_type": "code",
   "execution_count": 31,
   "id": "d33b15bb",
   "metadata": {},
   "outputs": [
    {
     "name": "stdout",
     "output_type": "stream",
     "text": [
      "torch.Size([3, 64, 64])\n"
     ]
    },
    {
     "data": {
      "image/png": "[encoded data removed]",
      "text/plain": [
       "<Figure size 432x288 with 1 Axes>"
      ]
     },
     "metadata": {
      "needs_background": "light"
     },
     "output_type": "display_data"
    }
   ],
   "source": [
    "img = face_dataset[2]['image']\n",
    "plt.imshow(np.array(img*255., dtype='uint8').transpose((1, 2, 0)))\n",
    "print(img.shape)"
   ]
  },
  {
   "cell_type": "code",
   "execution_count": null,
   "id": "3c7ed644",
   "metadata": {
    "scrolled": false
   },
   "outputs": [],
   "source": [
    "folder_path = \"../trained_models/\"\n",
    "\n",
    "model_names = [\"ravdess_InfoVAE_face_01.save\",\n",
    "               \"ravdess_InfoVAE_face_02.save\",\n",
    "               \"ravdess_InfoVAE_face_03.save\",\n",
    "               \"ravdess_InfoVAE_face_04.save\",\n",
    "              ]\n",
    "\n",
    "for model_name in model_names:\n",
    "    loaded_data = torch.load(folder_path + model_name)\n",
    "    model_args = loaded_data['model_args']\n",
    "    train_args = loaded_data['train_args']\n",
    "    losses = loaded_data['training_loss']\n",
    "    \n",
    "    model: torch.nn.Module = build_model(**loaded_data['model_args']).double()\n",
    "    model.load_state_dict(loaded_data['model_params'])\n",
    "    \n",
    "    U.test_batch(model, testset_loader, num_images=4, model_eval=True)\n",
    "    \n",
    "    #U.print_losses(losses, model_name)\n",
    "    #img = U.display_recontructed_images(model, model_eval=True)\n",
    "    \n",
    "    print(model_name)\n",
    "    print(model_args)\n",
    "    print(train_args)"
   ]
  },
  {
   "cell_type": "code",
   "execution_count": null,
   "id": "f2b4437b",
   "metadata": {},
   "outputs": [],
   "source": []
  }
 ],
 "metadata": {
  "kernelspec": {
   "display_name": "Python 3 (ipykernel)",
   "language": "python",
   "name": "python3"
  },
  "language_info": {
   "codemirror_mode": {
    "name": "ipython",
    "version": 3
   },
   "file_extension": ".py",
   "mimetype": "text/x-python",
   "name": "python",
   "nbconvert_exporter": "python",
   "pygments_lexer": "ipython3",
   "version": "3.9.7"
  }
 },
 "nbformat": 4,
 "nbformat_minor": 5
}
