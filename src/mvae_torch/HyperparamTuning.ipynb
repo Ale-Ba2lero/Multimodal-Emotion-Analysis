{
 "cells": [
  {
   "cell_type": "code",
   "execution_count": 1,
   "id": "ade060c2",
   "metadata": {},
   "outputs": [],
   "source": [
    "import os, sys; sys.path.append(os.path.dirname(os.getcwd()))\n",
    "from tqdm import tqdm\n",
    "import torch\n",
    "from torch.utils.data import DataLoader, random_split\n",
    "from sklearn.metrics import confusion_matrix, classification_report, accuracy_score\n",
    "\n",
    "import numpy as np\n",
    "import pandas as pd\n",
    "import matplotlib.pyplot as plt\n",
    "import seaborn as sn\n",
    "\n",
    "import multimodal_vae\n",
    "import torch_mvae_util as U\n",
    "import util.RAVDESS_dataset_util as Rd\n",
    "from train_mvae import build_model, train"
   ]
  },
  {
   "cell_type": "code",
   "execution_count": 2,
   "id": "7f58b83d",
   "metadata": {},
   "outputs": [],
   "source": [
    "from functools import partial\n",
    "from ray import tune\n",
    "from ray.tune import CLIReporter\n",
    "from ray.tune.schedulers import ASHAScheduler\n",
    "from ray.tune import JupyterNotebookReporter"
   ]
  },
  {
   "cell_type": "code",
   "execution_count": 3,
   "id": "bae71a5b",
   "metadata": {},
   "outputs": [],
   "source": [
    "torch.manual_seed(100)\n",
    "num_workers=32\n",
    "\n",
    "max_num_epochs=100\n",
    "num_epochs=100\n",
    "num_samples=20\n",
    "betas=[0.95, 0.98]\n",
    "data_dir = '/home/studenti/ballerini/Multimodal_RSA/src/util/au-emo_2.csv'\n",
    "checkpoint_dir='./tuning'\n",
    "expert = 'poe'\n",
    "\n",
    "modes={'au':True, 'face':None, 'emotion':True}\n",
    "\n",
    "config = {\n",
    "    'batch_size':tune.choice([64, 128, 256, 512]),\n",
    "    'z_dim':tune.choice([25, 32, 50, 64]),\n",
    "    'hidden_dim':tune.choice([128, 256, 512, 1024]),\n",
    "    'lr': tune.choice([1e-3, 1e-4, 1e-5, 1e-6]),\n",
    "    'alpha': tune.choice([1e1, 1, 5e-1, 1e-1]),\n",
    "    'beta': tune.choice([1e-3, 1e-4, 1e-5, 1e-6, 1e-7]),\n",
    "    'au_weight':tune.loguniform(1e-3, 1e7),\n",
    "    'emotion_weight':tune.loguniform(1e-3, 1e7),\n",
    "}"
   ]
  },
  {
   "cell_type": "code",
   "execution_count": 4,
   "id": "c906e828",
   "metadata": {},
   "outputs": [],
   "source": [
    "def hyper_train(config, data_dir, num_epochs, use_cuda=True, checkpoint_dir=None):\n",
    "    model: torch.nn.Module = build_model(\n",
    "        cat_dim=8,      \n",
    "        au_dim=17,     \n",
    "        latent_space_dim=config['z_dim'],     \n",
    "        hidden_dim=config['hidden_dim'],               \n",
    "        num_filters=None,                 \n",
    "        modes=modes,              \n",
    "        au_weight=config['au_weight'],           \n",
    "        emotion_weight=config['emotion_weight'],              \n",
    "        expert_type=expert,                  \n",
    "        use_cuda=True).double()\n",
    "        \n",
    "    optimizer = torch.optim.Adam(\n",
    "        params=model.parameters(), \n",
    "        lr=config['lr'], \n",
    "        betas=betas)\n",
    "    \n",
    "    trainset_loader, valset_loader, _ = U.load_data(data_dir=data_dir, batch_size=config['batch_size'])\n",
    "    '''    \n",
    "    if checkpoint_dir:\n",
    "        model_state, optimizer_state = torch.load(\n",
    "            os.path.join(checkpoint_dir, \"checkpoint\"))\n",
    "        model.load_state_dict(model_state)\n",
    "        optimizer.load_state_dict(optimizer_state)\n",
    "    '''\n",
    "    \n",
    "    beta = config['beta']\n",
    "    for epoch in range(num_epochs):  # loop over the dataset multiple times\n",
    "        running_loss = 0.0\n",
    "        epoch_steps = 0\n",
    "        \n",
    "        for data in trainset_loader:\n",
    "            # get the inputs; data is a list of [inputs, labels]\n",
    "            au, emotions = data\n",
    "            \n",
    "            if use_cuda:\n",
    "                if au is not None:\n",
    "                    au = au.cuda()\n",
    "                if emotions is not None:\n",
    "                    emotions = emotions.cuda()\n",
    "\n",
    "            # zero the parameter gradients\n",
    "            optimizer.zero_grad()\n",
    "            \n",
    "        #-------------------------------------------------\n",
    "            (\n",
    "                au_reconstruction,\n",
    "                emotion_reconstruction,\n",
    "                z_loc_expert,\n",
    "                z_scale_expert,\n",
    "                latent_sample\n",
    "            ) = model(\n",
    "                au=au,\n",
    "                emotions=emotions\n",
    "            )\n",
    "\n",
    "            loss = model.loss_function(\n",
    "                au=au,\n",
    "                emotions=emotions,\n",
    "                au_reconstruction=au_reconstruction,\n",
    "                emotions_reconstruction=emotion_reconstruction,\n",
    "                z_loc=z_loc_expert,\n",
    "                z_scale=z_scale_expert,\n",
    "                beta=beta,\n",
    "                latent_sample=latent_sample\n",
    "            )\n",
    "            \n",
    "            loss[\"total_loss\"].backward()\n",
    "            optimizer.step()\n",
    "        #-------------------------------------------------\n",
    "            (\n",
    "                au_reconstruction,\n",
    "                emotion_reconstruction,\n",
    "                z_loc_expert,\n",
    "                z_scale_expert,\n",
    "                latent_sample\n",
    "            ) = model(\n",
    "                au=au,\n",
    "                emotions=None\n",
    "            )\n",
    "\n",
    "            loss = model.loss_function(\n",
    "                au=au,\n",
    "                emotions=None,\n",
    "                au_reconstruction=au_reconstruction,\n",
    "                emotions_reconstruction=emotion_reconstruction,\n",
    "                z_loc=z_loc_expert,\n",
    "                z_scale=z_scale_expert,\n",
    "                beta=beta,\n",
    "                latent_sample=latent_sample\n",
    "            )\n",
    "            \n",
    "            loss[\"total_loss\"].backward()\n",
    "            optimizer.step()\n",
    "        #-------------------------------------------------\n",
    "            (\n",
    "                au_reconstruction,\n",
    "                emotion_reconstruction,\n",
    "                z_loc_expert,\n",
    "                z_scale_expert,\n",
    "                latent_sample\n",
    "            ) = model(\n",
    "                au=None,\n",
    "                emotions=emotions\n",
    "            )\n",
    "\n",
    "            loss = model.loss_function(\n",
    "                au=None,\n",
    "                emotions=emotions,\n",
    "                au_reconstruction=au_reconstruction,\n",
    "                emotions_reconstruction=emotion_reconstruction,\n",
    "                z_loc=z_loc_expert,\n",
    "                z_scale=z_scale_expert,\n",
    "                beta=beta,\n",
    "                latent_sample=latent_sample\n",
    "            )\n",
    "            \n",
    "            loss[\"total_loss\"].backward()\n",
    "            optimizer.step()\n",
    "        #-------------------------------------------------\n",
    "            \n",
    "        y_true = []\n",
    "        y_pred = []\n",
    "        val_loss = 0\n",
    "        val_steps = 0\n",
    "        for data in valset_loader:\n",
    "            with torch.no_grad():\n",
    "                au, emotions = data\n",
    "            \n",
    "                if use_cuda:\n",
    "                    if au is not None:\n",
    "                        au = au.cuda()\n",
    "                    if emotions is not None:\n",
    "                        emotions = emotions.cuda()\n",
    "\n",
    "                (\n",
    "                    au_reconstruction,\n",
    "                    emotion_reconstruction,\n",
    "                    z_loc_expert,\n",
    "                    z_scale_expert,\n",
    "                    latent_sample\n",
    "                ) = model(\n",
    "                    au=au,\n",
    "                    emotions=None\n",
    "                )\n",
    "                \n",
    "                loss = model.loss_function(\n",
    "                    au=au,\n",
    "                    emotions=emotions,\n",
    "                    au_reconstruction=au_reconstruction,\n",
    "                    emotions_reconstruction=emotion_reconstruction,\n",
    "                    z_loc=z_loc_expert,\n",
    "                    z_scale=z_scale_expert,\n",
    "                    beta=beta,\n",
    "                    latent_sample=latent_sample\n",
    "                )\n",
    "                \n",
    "                reconstructed_emotions = torch.argmax(emotion_reconstruction, 1)\n",
    "                y_true += emotions.cpu()\n",
    "                y_pred += reconstructed_emotions.cpu()\n",
    "                val_loss += loss['total_loss'].cpu().numpy()\n",
    "                val_steps += 1\n",
    "                \n",
    "        accuracy = accuracy_score(y_true, y_pred)\n",
    "        \n",
    "        with tune.checkpoint_dir(epoch) as checkpoint_dir:\n",
    "            path = os.path.join(checkpoint_dir, \"checkpoint\")\n",
    "            torch.save((model.state_dict(), optimizer.state_dict()), path)\n",
    "        \n",
    "        \n",
    "        tune.report(loss=(val_loss / val_steps), accuracy=accuracy)\n",
    "    print(\"Finished Training\")\n",
    "    "
   ]
  },
  {
   "cell_type": "code",
   "execution_count": 5,
   "id": "f683885e",
   "metadata": {
    "scrolled": true
   },
   "outputs": [
    {
     "data": {
      "text/html": [
       "== Status ==<br>Current time: 2022-07-09 18:03:52 (running for 00:26:20.84)<br>Memory usage on this node: 31.1/187.5 GiB<br>Using AsyncHyperBand: num_stopped=20\n",
       "Bracket: Iter 90.000: -2.0765352650047175 | Iter 30.000: -33.985170014926496 | Iter 10.000: -66.87682097303107<br>Resources requested: 0/48 CPUs, 0/1 GPUs, 0.0/103.94 GiB heap, 0.0/48.54 GiB objects<br>Result logdir: /home/studenti/ballerini/ray_results/hyper_train_2022-07-09_17-37-31<br>Number of trials: 20/20 (20 TERMINATED)<br><table>\n",
       "<thead>\n",
       "<tr><th>Trial name             </th><th>status    </th><th>loc                   </th><th style=\"text-align: right;\">  alpha</th><th style=\"text-align: right;\">       au_weight</th><th style=\"text-align: right;\">  batch_size</th><th style=\"text-align: right;\">  beta</th><th style=\"text-align: right;\">  emotion_weight</th><th style=\"text-align: right;\">  hidden_dim</th><th style=\"text-align: right;\">    lr</th><th style=\"text-align: right;\">  z_dim</th><th style=\"text-align: right;\">  accuracy</th><th style=\"text-align: right;\">            loss</th><th style=\"text-align: right;\">  training_iteration</th></tr>\n",
       "</thead>\n",
       "<tbody>\n",
       "<tr><td>hyper_train_0bd5d_00000</td><td>TERMINATED</td><td>159.149.133.23:2507565</td><td style=\"text-align: right;\">    1  </td><td style=\"text-align: right;\"> 29953          </td><td style=\"text-align: right;\">          64</td><td style=\"text-align: right;\">0.0001</td><td style=\"text-align: right;\">     6.72695    </td><td style=\"text-align: right;\">        1024</td><td style=\"text-align: right;\">1e-06 </td><td style=\"text-align: right;\">     25</td><td style=\"text-align: right;\">  0.239748</td><td style=\"text-align: right;\">  3097.58       </td><td style=\"text-align: right;\">                  10</td></tr>\n",
       "<tr><td>hyper_train_0bd5d_00001</td><td>TERMINATED</td><td>159.149.133.23:2508652</td><td style=\"text-align: right;\">    1  </td><td style=\"text-align: right;\">   114.229      </td><td style=\"text-align: right;\">         512</td><td style=\"text-align: right;\">0.001 </td><td style=\"text-align: right;\">   586.926      </td><td style=\"text-align: right;\">         128</td><td style=\"text-align: right;\">1e-05 </td><td style=\"text-align: right;\">     25</td><td style=\"text-align: right;\">  0.361514</td><td style=\"text-align: right;\">  1057.29       </td><td style=\"text-align: right;\">                 100</td></tr>\n",
       "<tr><td>hyper_train_0bd5d_00002</td><td>TERMINATED</td><td>159.149.133.23:2508654</td><td style=\"text-align: right;\">   10  </td><td style=\"text-align: right;\">     0.00295245 </td><td style=\"text-align: right;\">         256</td><td style=\"text-align: right;\">1e-06 </td><td style=\"text-align: right;\">     0.00296738 </td><td style=\"text-align: right;\">         256</td><td style=\"text-align: right;\">0.0001</td><td style=\"text-align: right;\">     50</td><td style=\"text-align: right;\">  0.169085</td><td style=\"text-align: right;\">     0.0203874  </td><td style=\"text-align: right;\">                 100</td></tr>\n",
       "<tr><td>hyper_train_0bd5d_00003</td><td>TERMINATED</td><td>159.149.133.23:2508656</td><td style=\"text-align: right;\">    0.1</td><td style=\"text-align: right;\">     0.0170091  </td><td style=\"text-align: right;\">          64</td><td style=\"text-align: right;\">1e-05 </td><td style=\"text-align: right;\">    10.9317     </td><td style=\"text-align: right;\">        1024</td><td style=\"text-align: right;\">0.0001</td><td style=\"text-align: right;\">     25</td><td style=\"text-align: right;\">  0.135647</td><td style=\"text-align: right;\">   125.162      </td><td style=\"text-align: right;\">                  90</td></tr>\n",
       "<tr><td>hyper_train_0bd5d_00004</td><td>TERMINATED</td><td>159.149.133.23:2508657</td><td style=\"text-align: right;\">    0.5</td><td style=\"text-align: right;\"> 74149.1        </td><td style=\"text-align: right;\">         256</td><td style=\"text-align: right;\">1e-06 </td><td style=\"text-align: right;\">     2.20639e+06</td><td style=\"text-align: right;\">        1024</td><td style=\"text-align: right;\">1e-06 </td><td style=\"text-align: right;\">     50</td><td style=\"text-align: right;\">  0.155836</td><td style=\"text-align: right;\">     4.61186e+06</td><td style=\"text-align: right;\">                  10</td></tr>\n",
       "<tr><td>hyper_train_0bd5d_00005</td><td>TERMINATED</td><td>159.149.133.23:2508660</td><td style=\"text-align: right;\">   10  </td><td style=\"text-align: right;\">     0.113186   </td><td style=\"text-align: right;\">          64</td><td style=\"text-align: right;\">1e-06 </td><td style=\"text-align: right;\">   210.405      </td><td style=\"text-align: right;\">         256</td><td style=\"text-align: right;\">0.001 </td><td style=\"text-align: right;\">     32</td><td style=\"text-align: right;\">  0.173502</td><td style=\"text-align: right;\">  2762.13       </td><td style=\"text-align: right;\">                  10</td></tr>\n",
       "<tr><td>hyper_train_0bd5d_00006</td><td>TERMINATED</td><td>159.149.133.23:2709343</td><td style=\"text-align: right;\">    1  </td><td style=\"text-align: right;\">     1.83316e+06</td><td style=\"text-align: right;\">         128</td><td style=\"text-align: right;\">1e-05 </td><td style=\"text-align: right;\">     7.55739e+06</td><td style=\"text-align: right;\">         128</td><td style=\"text-align: right;\">1e-06 </td><td style=\"text-align: right;\">     25</td><td style=\"text-align: right;\">  0.235331</td><td style=\"text-align: right;\">     1.52854e+07</td><td style=\"text-align: right;\">                  10</td></tr>\n",
       "<tr><td>hyper_train_0bd5d_00007</td><td>TERMINATED</td><td>159.149.133.23:2804282</td><td style=\"text-align: right;\">   10  </td><td style=\"text-align: right;\">     0.393417   </td><td style=\"text-align: right;\">          64</td><td style=\"text-align: right;\">0.001 </td><td style=\"text-align: right;\">   106.108      </td><td style=\"text-align: right;\">         512</td><td style=\"text-align: right;\">0.0001</td><td style=\"text-align: right;\">     64</td><td style=\"text-align: right;\">  0.140063</td><td style=\"text-align: right;\">   872.023      </td><td style=\"text-align: right;\">                  30</td></tr>\n",
       "<tr><td>hyper_train_0bd5d_00008</td><td>TERMINATED</td><td>159.149.133.23:2816543</td><td style=\"text-align: right;\">    0.5</td><td style=\"text-align: right;\">     0.00584992 </td><td style=\"text-align: right;\">          64</td><td style=\"text-align: right;\">0.0001</td><td style=\"text-align: right;\"> 25933.9        </td><td style=\"text-align: right;\">         128</td><td style=\"text-align: right;\">1e-06 </td><td style=\"text-align: right;\">     32</td><td style=\"text-align: right;\">  0.232177</td><td style=\"text-align: right;\"> 50687.2        </td><td style=\"text-align: right;\">                  10</td></tr>\n",
       "<tr><td>hyper_train_0bd5d_00009</td><td>TERMINATED</td><td>159.149.133.23:2928410</td><td style=\"text-align: right;\">    0.1</td><td style=\"text-align: right;\">     1.27996    </td><td style=\"text-align: right;\">         512</td><td style=\"text-align: right;\">0.001 </td><td style=\"text-align: right;\">     7.95234    </td><td style=\"text-align: right;\">         512</td><td style=\"text-align: right;\">0.001 </td><td style=\"text-align: right;\">     32</td><td style=\"text-align: right;\">  0.139432</td><td style=\"text-align: right;\">    74.5872     </td><td style=\"text-align: right;\">                  30</td></tr>\n",
       "<tr><td>hyper_train_0bd5d_00010</td><td>TERMINATED</td><td>159.149.133.23:3144719</td><td style=\"text-align: right;\">    1  </td><td style=\"text-align: right;\">   152.121      </td><td style=\"text-align: right;\">         512</td><td style=\"text-align: right;\">0.0001</td><td style=\"text-align: right;\">    12.2461     </td><td style=\"text-align: right;\">         128</td><td style=\"text-align: right;\">1e-06 </td><td style=\"text-align: right;\">     25</td><td style=\"text-align: right;\">  0.347003</td><td style=\"text-align: right;\">    34.8287     </td><td style=\"text-align: right;\">                 100</td></tr>\n",
       "<tr><td>hyper_train_0bd5d_00011</td><td>TERMINATED</td><td>159.149.133.23:3469751</td><td style=\"text-align: right;\">   10  </td><td style=\"text-align: right;\">     0.383312   </td><td style=\"text-align: right;\">         512</td><td style=\"text-align: right;\">0.0001</td><td style=\"text-align: right;\">     5.6619     </td><td style=\"text-align: right;\">         512</td><td style=\"text-align: right;\">0.001 </td><td style=\"text-align: right;\">     50</td><td style=\"text-align: right;\">  0.166562</td><td style=\"text-align: right;\">    77.7544     </td><td style=\"text-align: right;\">                  90</td></tr>\n",
       "<tr><td>hyper_train_0bd5d_00012</td><td>TERMINATED</td><td>159.149.133.23:3871063</td><td style=\"text-align: right;\">    0.5</td><td style=\"text-align: right;\">     5.33222    </td><td style=\"text-align: right;\">         512</td><td style=\"text-align: right;\">0.0001</td><td style=\"text-align: right;\">     0.0225208  </td><td style=\"text-align: right;\">         128</td><td style=\"text-align: right;\">1e-06 </td><td style=\"text-align: right;\">     50</td><td style=\"text-align: right;\">  0.202524</td><td style=\"text-align: right;\">     0.50032    </td><td style=\"text-align: right;\">                 100</td></tr>\n",
       "<tr><td>hyper_train_0bd5d_00013</td><td>TERMINATED</td><td>159.149.133.23:3941556</td><td style=\"text-align: right;\">    1  </td><td style=\"text-align: right;\">  2172.74       </td><td style=\"text-align: right;\">         128</td><td style=\"text-align: right;\">1e-06 </td><td style=\"text-align: right;\">    11.735      </td><td style=\"text-align: right;\">         512</td><td style=\"text-align: right;\">0.001 </td><td style=\"text-align: right;\">     64</td><td style=\"text-align: right;\">  0.203155</td><td style=\"text-align: right;\">    68.0495     </td><td style=\"text-align: right;\">                  10</td></tr>\n",
       "<tr><td>hyper_train_0bd5d_00014</td><td>TERMINATED</td><td>159.149.133.23:38752  </td><td style=\"text-align: right;\">   10  </td><td style=\"text-align: right;\">     0.216049   </td><td style=\"text-align: right;\">         512</td><td style=\"text-align: right;\">1e-05 </td><td style=\"text-align: right;\">   644.563      </td><td style=\"text-align: right;\">         256</td><td style=\"text-align: right;\">0.001 </td><td style=\"text-align: right;\">     32</td><td style=\"text-align: right;\">  0.169716</td><td style=\"text-align: right;\">  1936.13       </td><td style=\"text-align: right;\">                  10</td></tr>\n",
       "<tr><td>hyper_train_0bd5d_00015</td><td>TERMINATED</td><td>159.149.133.23:227483 </td><td style=\"text-align: right;\">   10  </td><td style=\"text-align: right;\">270698          </td><td style=\"text-align: right;\">         256</td><td style=\"text-align: right;\">1e-06 </td><td style=\"text-align: right;\">     5.37677e+06</td><td style=\"text-align: right;\">         128</td><td style=\"text-align: right;\">0.001 </td><td style=\"text-align: right;\">     64</td><td style=\"text-align: right;\">  0.222082</td><td style=\"text-align: right;\">     1.76301e+07</td><td style=\"text-align: right;\">                  10</td></tr>\n",
       "<tr><td>hyper_train_0bd5d_00016</td><td>TERMINATED</td><td>159.149.133.23:264291 </td><td style=\"text-align: right;\">   10  </td><td style=\"text-align: right;\">     0.00126099 </td><td style=\"text-align: right;\">          64</td><td style=\"text-align: right;\">0.0001</td><td style=\"text-align: right;\"> 46317.2        </td><td style=\"text-align: right;\">         128</td><td style=\"text-align: right;\">0.001 </td><td style=\"text-align: right;\">     32</td><td style=\"text-align: right;\">  0.11041 </td><td style=\"text-align: right;\">598543          </td><td style=\"text-align: right;\">                  10</td></tr>\n",
       "<tr><td>hyper_train_0bd5d_00017</td><td>TERMINATED</td><td>159.149.133.23:446981 </td><td style=\"text-align: right;\">    1  </td><td style=\"text-align: right;\">  8940.13       </td><td style=\"text-align: right;\">         512</td><td style=\"text-align: right;\">0.001 </td><td style=\"text-align: right;\">     0.632662   </td><td style=\"text-align: right;\">         128</td><td style=\"text-align: right;\">1e-05 </td><td style=\"text-align: right;\">     64</td><td style=\"text-align: right;\">  0.1653  </td><td style=\"text-align: right;\">   751.837      </td><td style=\"text-align: right;\">                  10</td></tr>\n",
       "<tr><td>hyper_train_0bd5d_00018</td><td>TERMINATED</td><td>159.149.133.23:629593 </td><td style=\"text-align: right;\">   10  </td><td style=\"text-align: right;\">451863          </td><td style=\"text-align: right;\">         512</td><td style=\"text-align: right;\">1e-06 </td><td style=\"text-align: right;\">     0.109084   </td><td style=\"text-align: right;\">         128</td><td style=\"text-align: right;\">0.001 </td><td style=\"text-align: right;\">     32</td><td style=\"text-align: right;\">  0.498423</td><td style=\"text-align: right;\">   999.954      </td><td style=\"text-align: right;\">                  10</td></tr>\n",
       "<tr><td>hyper_train_0bd5d_00019</td><td>TERMINATED</td><td>159.149.133.23:647082 </td><td style=\"text-align: right;\">    0.1</td><td style=\"text-align: right;\">   289.88       </td><td style=\"text-align: right;\">          64</td><td style=\"text-align: right;\">0.001 </td><td style=\"text-align: right;\">     0.339378   </td><td style=\"text-align: right;\">        1024</td><td style=\"text-align: right;\">1e-06 </td><td style=\"text-align: right;\">     50</td><td style=\"text-align: right;\">  0.333123</td><td style=\"text-align: right;\">     1.901      </td><td style=\"text-align: right;\">                 100</td></tr>\n",
       "</tbody>\n",
       "</table><br><br>"
      ],
      "text/plain": [
       "<IPython.core.display.HTML object>"
      ]
     },
     "metadata": {},
     "output_type": "display_data"
    },
    {
     "name": "stderr",
     "output_type": "stream",
     "text": [
      "2022-07-09 18:03:52,483\tINFO tune.py:747 -- Total run time: 1580.98 seconds (1580.81 seconds for the tuning loop).\n"
     ]
    },
    {
     "name": "stdout",
     "output_type": "stream",
     "text": [
      "Best trial config: {'batch_size': 512, 'z_dim': 32, 'hidden_dim': 128, 'lr': 0.001, 'alpha': 10.0, 'beta': 1e-06, 'au_weight': 451862.7963646383, 'emotion_weight': 0.10908352020275804}\n",
      "Best trial final validation loss: 999.9537962888122\n",
      "Best trial final validation accuracy: 0.49842271293375395\n"
     ]
    }
   ],
   "source": [
    "scheduler = ASHAScheduler(\n",
    "    metric=\"loss\",\n",
    "    mode=\"min\",\n",
    "    max_t=max_num_epochs,\n",
    "    grace_period=10,\n",
    "    reduction_factor=3)    \n",
    "\n",
    "reporter = JupyterNotebookReporter(\n",
    "    True,\n",
    "    metric_columns=[\"accuracy\",\"loss\",\"training_iteration\"])\n",
    "\n",
    "result = tune.run(\n",
    "        partial(hyper_train, \n",
    "                data_dir=data_dir, \n",
    "                num_epochs=num_epochs, \n",
    "                checkpoint_dir=checkpoint_dir),\n",
    "        resources_per_trial={\"cpu\": 8, \"gpu\": 0.1},\n",
    "        config=config,\n",
    "        num_samples=num_samples,\n",
    "        scheduler=scheduler,\n",
    "        progress_reporter=reporter)\n",
    "\n",
    "best_trial = result.get_best_trial(\"accuracy\", \"max\", \"last\")\n",
    "\n",
    "print(\"Best trial config: {}\".format(best_trial.config))\n",
    "print(\"Best trial final validation loss: {}\".format(best_trial.last_result[\"loss\"]))\n",
    "print(\"Best trial final validation accuracy: {}\".format(best_trial.last_result[\"accuracy\"]))"
   ]
  },
  {
   "cell_type": "code",
   "execution_count": 6,
   "id": "26b0175e",
   "metadata": {},
   "outputs": [
    {
     "name": "stdout",
     "output_type": "stream",
     "text": [
      "model_args= {'cat_dim': 8, 'au_dim': 17, 'latent_space_dim': 32, 'hidden_dim': 128, 'num_filters': None, 'modes': {'au': True, 'face': None, 'emotion': True}, 'au_weight': 451862.7963646383, 'emotion_weight': 0.10908352020275804, 'expert_type': 'poe', 'use_cuda': True}\n",
      "train_args= {'learning_rate': 0.001, 'alpha': 10.0, 'beta': 1e-06, 'optim_betas': [0.95, 0.98], 'num_epochs': 100, 'batch_size': 512}\n"
     ]
    }
   ],
   "source": [
    "model_args = {\n",
    "    'cat_dim':8,      \n",
    "    'au_dim':17,     \n",
    "    'latent_space_dim':best_trial.config['z_dim'],     \n",
    "    'hidden_dim':best_trial.config['hidden_dim'],               \n",
    "    'num_filters':None,                 \n",
    "    'modes':modes,\n",
    "    \n",
    "    'au_weight':best_trial.config['au_weight'],           \n",
    "    'emotion_weight':best_trial.config['emotion_weight'],              \n",
    "    'expert_type':expert,                  \n",
    "    'use_cuda':True}\n",
    "\n",
    "\n",
    "train_args = {\n",
    "    'learning_rate' : best_trial.config['lr'],\n",
    "    'alpha':best_trial.config['alpha'],\n",
    "    'beta': best_trial.config['beta'],\n",
    "    'optim_betas' : betas,\n",
    "    'num_epochs' : num_epochs,\n",
    "    'batch_size' : best_trial.config['batch_size']\n",
    "}\n",
    "\n",
    "print('model_args=', model_args)\n",
    "print('train_args=', train_args)"
   ]
  },
  {
   "cell_type": "code",
   "execution_count": 7,
   "id": "dad62f58",
   "metadata": {},
   "outputs": [],
   "source": [
    "best_trained_model =  build_model(**model_args).double()"
   ]
  },
  {
   "cell_type": "code",
   "execution_count": 8,
   "id": "479430c2",
   "metadata": {},
   "outputs": [
    {
     "data": {
      "text/plain": [
       "<All keys matched successfully>"
      ]
     },
     "execution_count": 8,
     "metadata": {},
     "output_type": "execute_result"
    }
   ],
   "source": [
    "best_checkpoint_dir = best_trial.checkpoint.value\n",
    "model_state, optimizer_state = torch.load(os.path.join(\n",
    "        best_checkpoint_dir, \"checkpoint\"))\n",
    "\n",
    "best_trained_model.load_state_dict(model_state)"
   ]
  },
  {
   "cell_type": "code",
   "execution_count": 9,
   "id": "0984be05",
   "metadata": {},
   "outputs": [],
   "source": [
    "save_model = True\n",
    "\n",
    "if save_model:\n",
    "    PATH = \"../trained_models/best-train-\"+expert+\".save\"\n",
    "    torch.save({'model_args' : model_args,\n",
    "                'train_args' : train_args,\n",
    "                'model_state' : model_state\n",
    "                }, PATH)"
   ]
  },
  {
   "cell_type": "code",
   "execution_count": 10,
   "id": "b650213d",
   "metadata": {},
   "outputs": [
    {
     "name": "stdout",
     "output_type": "stream",
     "text": [
      "              precision    recall  f1-score   support\n",
      "\n",
      "     neutral       0.41      0.32      0.36       135\n",
      "        calm       0.60      0.62      0.61       259\n",
      "       happy       0.68      0.69      0.69       253\n",
      "         sad       0.40      0.44      0.42       270\n",
      "       angry       0.53      0.22      0.31       287\n",
      "     fearful       0.35      0.65      0.45       235\n",
      "     disgust       0.64      0.72      0.67       257\n",
      "   surprised       0.36      0.27      0.31       285\n",
      "\n",
      "    accuracy                           0.49      1981\n",
      "   macro avg       0.50      0.49      0.48      1981\n",
      "weighted avg       0.50      0.49      0.48      1981\n",
      "\n"
     ]
    },
    {
     "data": {
      "image/png": "[encoded data removed]",
      "text/plain": [
       "<Figure size 720x504 with 2 Axes>"
      ]
     },
     "metadata": {
      "needs_background": "light"
     },
     "output_type": "display_data"
    }
   ],
   "source": [
    "_,_, testset_loader = U.load_data(data_dir=data_dir, batch_size=best_trial.config['batch_size'])\n",
    "\n",
    "labels = list(Rd.emocat.values())\n",
    "y_true, y_pred = U.au_classiffication_accuracy(best_trained_model, testset_loader)\n",
    "cr = classification_report(y_true, y_pred, target_names=labels)\n",
    "cm = confusion_matrix(y_true, y_pred)\n",
    "cm = pd.DataFrame(cm, index = [i for i in labels],columns = [i for i in labels])\n",
    "\n",
    "plt.figure(figsize = (10,7))\n",
    "sn.heatmap(cm, annot=True, fmt=\"d\")\n",
    "print(cr)"
   ]
  },
  {
   "cell_type": "code",
   "execution_count": 11,
   "id": "a3efa0b6",
   "metadata": {},
   "outputs": [
    {
     "name": "stderr",
     "output_type": "stream",
     "text": [
      "100%|████████████████████████████████████████████████████████████████| 2048/2048 [00:04<00:00, 417.75it/s]\n"
     ]
    },
    {
     "name": "stdout",
     "output_type": "stream",
     "text": [
      "              precision    recall  f1-score   support\n",
      "\n",
      "     neutral       0.24      0.09      0.13      4129\n",
      "        calm       0.18      0.99      0.31      4056\n",
      "       happy       0.87      0.07      0.14      4121\n",
      "         sad       0.68      0.08      0.15      4125\n",
      "       angry       0.56      0.37      0.44      4026\n",
      "     fearful       0.31      0.28      0.30      4104\n",
      "     disgust       0.84      0.33      0.47      4062\n",
      "   surprised       0.43      0.01      0.01      4145\n",
      "\n",
      "    accuracy                           0.28     32768\n",
      "   macro avg       0.51      0.28      0.24     32768\n",
      "weighted avg       0.51      0.28      0.24     32768\n",
      "\n"
     ]
    },
    {
     "data": {
      "image/png": "[encoded data removed]",
      "text/plain": [
       "<Figure size 720x504 with 2 Axes>"
      ]
     },
     "metadata": {
      "needs_background": "light"
     },
     "output_type": "display_data"
    }
   ],
   "source": [
    "labels = list(Rd.emocat.values())\n",
    "y_true, y_pred = U.au_recon_and_classiffication_accuracy(best_trained_model, num_samples=2048)\n",
    "cr = classification_report(y_true, y_pred, target_names=labels)\n",
    "cm = confusion_matrix(y_true, y_pred)\n",
    "cm = pd.DataFrame(cm, index = [i for i in labels],columns = [i for i in labels])\n",
    "\n",
    "plt.figure(figsize = (10,7))\n",
    "sn.heatmap(cm, annot=True, fmt=\"d\")\n",
    "print(cr)"
   ]
  },
  {
   "cell_type": "code",
   "execution_count": 12,
   "id": "ded12e63",
   "metadata": {},
   "outputs": [],
   "source": [
    "model_args =  {'cat_dim': 8, 'au_dim': 17, 'latent_space_dim': 25, 'hidden_dim': 512, 'num_filters': None, 'modes': {'au': True, 'face': None, 'emotion': True}, 'au_weight': 262330.5833373258, 'emotion_weight': 1.0523573323659556, 'expert_type': 'poe', 'use_cuda': True}\n",
    "train_args =  {'learning_rate': 0.001, 'alpha': 0.5, 'beta': 1e-05, 'optim_betas': [0.95, 0.98], 'num_epochs': 50, 'batch_size': 128}"
   ]
  }
 ],
 "metadata": {
  "kernelspec": {
   "display_name": "Python [conda env:rsa-env]",
   "language": "python",
   "name": "conda-env-rsa-env-py"
  },
  "language_info": {
   "codemirror_mode": {
    "name": "ipython",
    "version": 3
   },
   "file_extension": ".py",
   "mimetype": "text/x-python",
   "name": "python",
   "nbconvert_exporter": "python",
   "pygments_lexer": "ipython3",
   "version": "3.10.4"
  }
 },
 "nbformat": 4,
 "nbformat_minor": 5
}
