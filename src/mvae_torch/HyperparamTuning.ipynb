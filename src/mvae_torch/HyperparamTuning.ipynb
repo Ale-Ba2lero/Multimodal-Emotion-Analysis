{
 "cells": [
  {
   "cell_type": "code",
   "execution_count": 1,
   "id": "ade060c2",
   "metadata": {},
   "outputs": [],
   "source": [
    "import os, sys; sys.path.append(os.path.dirname(os.getcwd()))\n",
    "from tqdm import tqdm\n",
    "import torch\n",
    "from torch.utils.data import DataLoader, random_split\n",
    "from sklearn.metrics import confusion_matrix, classification_report, accuracy_score\n",
    "\n",
    "import numpy as np\n",
    "import pandas as pd\n",
    "import matplotlib.pyplot as plt\n",
    "import seaborn as sn\n",
    "\n",
    "import multimodal_vae\n",
    "import torch_mvae_util as U\n",
    "import util.RAVDESS_dataset_util as Rd\n",
    "from train_mvae import build_model, train"
   ]
  },
  {
   "cell_type": "code",
   "execution_count": 2,
   "id": "7f58b83d",
   "metadata": {},
   "outputs": [],
   "source": [
    "from functools import partial\n",
    "from ray import tune\n",
    "from ray.tune import CLIReporter\n",
    "from ray.tune.schedulers import ASHAScheduler\n",
    "from ray.tune import JupyterNotebookReporter"
   ]
  },
  {
   "cell_type": "code",
   "execution_count": 3,
   "id": "bae71a5b",
   "metadata": {},
   "outputs": [],
   "source": [
    "torch.manual_seed(100)\n",
    "num_workers=32\n",
    "\n",
    "max_num_epochs=100\n",
    "num_epochs=100\n",
    "num_samples=10\n",
    "betas=[0.95, 0.98]\n",
    "data_dir = '/home/studenti/ballerini/Multimodal_RSA/src/util/au-emo_2.csv'\n",
    "checkpoint_dir='./tuning'\n",
    "expert = 'poe'\n",
    "\n",
    "modes={'au':True, 'face':None, 'emotion':True}\n",
    "\n",
    "config = {\n",
    "    'batch_size':tune.choice([64, 128, 256, 512]),\n",
    "    'z_dim':tune.choice([25, 32, 50, 64]),\n",
    "    'hidden_dim':tune.choice([128, 256, 512, 1024]),\n",
    "    'lr': tune.loguniform(1e-5, 1e-2),\n",
    "    'alpha': tune.choice([1, 5e-1]),\n",
    "    'beta': tune.loguniform(1e-7, 1e-2),\n",
    "    'au_weight':tune.loguniform(1e-3, 1e5),\n",
    "    'emotion_weight':tune.loguniform(1e-6, 1e2),\n",
    "}"
   ]
  },
  {
   "cell_type": "code",
   "execution_count": 4,
   "id": "c906e828",
   "metadata": {},
   "outputs": [],
   "source": [
    "def hyper_train(config, data_dir, num_epochs, use_cuda=True, checkpoint_dir=None):\n",
    "    model: torch.nn.Module = build_model(\n",
    "        cat_dim=8,      \n",
    "        au_dim=17,     \n",
    "        latent_space_dim=config['z_dim'],     \n",
    "        hidden_dim=config['hidden_dim'],               \n",
    "        num_filters=None,                 \n",
    "        modes=modes,              \n",
    "        au_weight=config['au_weight'],           \n",
    "        emotion_weight=config['emotion_weight'],              \n",
    "        expert_type=expert,                  \n",
    "        use_cuda=True).double()\n",
    "        \n",
    "    optimizer = torch.optim.Adam(\n",
    "        params=model.parameters(), \n",
    "        lr=config['lr'], \n",
    "        betas=betas)\n",
    "    \n",
    "    trainset_loader, valset_loader, _ = U.load_data(data_dir=data_dir, batch_size=config['batch_size'])\n",
    "    '''    \n",
    "    if checkpoint_dir:\n",
    "        model_state, optimizer_state = torch.load(\n",
    "            os.path.join(checkpoint_dir, \"checkpoint\"))\n",
    "        model.load_state_dict(model_state)\n",
    "        optimizer.load_state_dict(optimizer_state)\n",
    "    '''\n",
    "    \n",
    "    beta = config['beta']\n",
    "    for epoch in range(num_epochs):  # loop over the dataset multiple times\n",
    "        running_loss = 0.0\n",
    "        epoch_steps = 0\n",
    "        \n",
    "        for data in trainset_loader:\n",
    "            # get the inputs; data is a list of [inputs, labels]\n",
    "            au, emotions = data\n",
    "            \n",
    "            if use_cuda:\n",
    "                if au is not None:\n",
    "                    au = au.cuda()\n",
    "                if emotions is not None:\n",
    "                    emotions = emotions.cuda()\n",
    "\n",
    "            # zero the parameter gradients\n",
    "            optimizer.zero_grad()\n",
    "            \n",
    "        #-------------------------------------------------\n",
    "            (\n",
    "                au_reconstruction,\n",
    "                emotion_reconstruction,\n",
    "                z_loc_expert,\n",
    "                z_scale_expert,\n",
    "                latent_sample\n",
    "            ) = model(\n",
    "                au=au,\n",
    "                emotions=emotions\n",
    "            )\n",
    "\n",
    "            loss = model.loss_function(\n",
    "                au=au,\n",
    "                emotions=emotions,\n",
    "                au_reconstruction=au_reconstruction,\n",
    "                emotions_reconstruction=emotion_reconstruction,\n",
    "                z_loc=z_loc_expert,\n",
    "                z_scale=z_scale_expert,\n",
    "                beta=beta,\n",
    "                latent_sample=latent_sample\n",
    "            )\n",
    "            \n",
    "            loss[\"total_loss\"].backward()\n",
    "            optimizer.step()\n",
    "        \n",
    "            (\n",
    "                au_reconstruction,\n",
    "                emotion_reconstruction,\n",
    "                z_loc_expert,\n",
    "                z_scale_expert,\n",
    "                latent_sample\n",
    "            ) = model(\n",
    "                au=None,\n",
    "                emotions=emotions\n",
    "            )\n",
    "\n",
    "            loss = model.loss_function(\n",
    "                au=None,\n",
    "                emotions=emotions,\n",
    "                au_reconstruction=au_reconstruction,\n",
    "                emotions_reconstruction=emotion_reconstruction,\n",
    "                z_loc=z_loc_expert,\n",
    "                z_scale=z_scale_expert,\n",
    "                beta=beta,\n",
    "                latent_sample=latent_sample\n",
    "            )\n",
    "            \n",
    "            loss[\"total_loss\"].backward()\n",
    "            optimizer.step()\n",
    "        #-------------------------------------------------\n",
    "            (\n",
    "                au_reconstruction,\n",
    "                emotion_reconstruction,\n",
    "                z_loc_expert,\n",
    "                z_scale_expert,\n",
    "                latent_sample\n",
    "            ) = model(\n",
    "                au=au,\n",
    "                emotions=None\n",
    "            )\n",
    "\n",
    "            loss = model.loss_function(\n",
    "                au=au,\n",
    "                emotions=None,\n",
    "                au_reconstruction=au_reconstruction,\n",
    "                emotions_reconstruction=emotion_reconstruction,\n",
    "                z_loc=z_loc_expert,\n",
    "                z_scale=z_scale_expert,\n",
    "                beta=beta,\n",
    "                latent_sample=latent_sample\n",
    "            )\n",
    "            \n",
    "            loss[\"total_loss\"].backward()\n",
    "            optimizer.step()\n",
    "            \n",
    "        y_true = []\n",
    "        y_pred = []\n",
    "        val_loss = 0\n",
    "        val_steps = 0\n",
    "        for data in valset_loader:\n",
    "            with torch.no_grad():\n",
    "                au, emotions = data\n",
    "            \n",
    "                if use_cuda:\n",
    "                    if au is not None:\n",
    "                        au = au.cuda()\n",
    "                    if emotions is not None:\n",
    "                        emotions = emotions.cuda()\n",
    "\n",
    "                (\n",
    "                    au_reconstruction,\n",
    "                    emotion_reconstruction,\n",
    "                    z_loc_expert,\n",
    "                    z_scale_expert,\n",
    "                    latent_sample\n",
    "                ) = model(\n",
    "                    au=None,\n",
    "                    emotions=emotions\n",
    "                )\n",
    "                \n",
    "                loss = model.loss_function(\n",
    "                    au=au,\n",
    "                    emotions=emotions,\n",
    "                    au_reconstruction=au_reconstruction,\n",
    "                    emotions_reconstruction=emotion_reconstruction,\n",
    "                    z_loc=z_loc_expert,\n",
    "                    z_scale=z_scale_expert,\n",
    "                    beta=beta,\n",
    "                    latent_sample=latent_sample\n",
    "                )\n",
    "                \n",
    "                reconstructed_emotions = torch.argmax(emotion_reconstruction, 1)\n",
    "                y_true += emotions.cpu()\n",
    "                y_pred += reconstructed_emotions.cpu()\n",
    "                val_loss += loss['total_loss'].cpu().numpy()\n",
    "                val_steps += 1\n",
    "                \n",
    "        accuracy = accuracy_score(y_true, y_pred)\n",
    "        \n",
    "        with tune.checkpoint_dir(epoch) as checkpoint_dir:\n",
    "            path = os.path.join(checkpoint_dir, \"checkpoint\")\n",
    "            torch.save((model.state_dict(), optimizer.state_dict()), path)\n",
    "        \n",
    "        \n",
    "        tune.report(loss=(val_loss / val_steps), accuracy=accuracy)\n",
    "    print(\"Finished Training\")\n",
    "    "
   ]
  },
  {
   "cell_type": "code",
   "execution_count": 5,
   "id": "f683885e",
   "metadata": {
    "scrolled": true
   },
   "outputs": [
    {
     "data": {
      "text/html": [
       "== Status ==<br>Current time: 2022-07-11 16:14:55 (running for 00:21:45.99)<br>Memory usage on this node: 31.1/187.5 GiB<br>Using AsyncHyperBand: num_stopped=10\n",
       "Bracket: Iter 90.000: 1.0 | Iter 30.000: 1.0 | Iter 10.000: 1.0<br>Resources requested: 0/48 CPUs, 0/1 GPUs, 0.0/103.92 GiB heap, 0.0/48.53 GiB objects<br>Result logdir: /home/studenti/ballerini/ray_results/hyper_train_2022-07-11_15-53-09<br>Number of trials: 10/10 (10 TERMINATED)<br><table>\n",
       "<thead>\n",
       "<tr><th>Trial name             </th><th>status    </th><th>loc                   </th><th style=\"text-align: right;\">  alpha</th><th style=\"text-align: right;\">     au_weight</th><th style=\"text-align: right;\">  batch_size</th><th style=\"text-align: right;\">       beta</th><th style=\"text-align: right;\">  emotion_weight</th><th style=\"text-align: right;\">  hidden_dim</th><th style=\"text-align: right;\">         lr</th><th style=\"text-align: right;\">  z_dim</th><th style=\"text-align: right;\">  accuracy</th><th style=\"text-align: right;\">  training_iteration</th></tr>\n",
       "</thead>\n",
       "<tbody>\n",
       "<tr><td>hyper_train_cc667_00000</td><td>TERMINATED</td><td>159.149.133.23:3896403</td><td style=\"text-align: right;\">    1  </td><td style=\"text-align: right;\">  281.551     </td><td style=\"text-align: right;\">         512</td><td style=\"text-align: right;\">0.00293183 </td><td style=\"text-align: right;\">     1.68212e-06</td><td style=\"text-align: right;\">         256</td><td style=\"text-align: right;\">1.36005e-05</td><td style=\"text-align: right;\">     50</td><td style=\"text-align: right;\">  0.99306 </td><td style=\"text-align: right;\">                 100</td></tr>\n",
       "<tr><td>hyper_train_cc667_00001</td><td>TERMINATED</td><td>159.149.133.23:3896433</td><td style=\"text-align: right;\">    1  </td><td style=\"text-align: right;\">  635.575     </td><td style=\"text-align: right;\">         512</td><td style=\"text-align: right;\">0.000310232</td><td style=\"text-align: right;\">     7.05534e-06</td><td style=\"text-align: right;\">        1024</td><td style=\"text-align: right;\">9.88886e-05</td><td style=\"text-align: right;\">     32</td><td style=\"text-align: right;\">  1       </td><td style=\"text-align: right;\">                 100</td></tr>\n",
       "<tr><td>hyper_train_cc667_00002</td><td>TERMINATED</td><td>159.149.133.23:3896436</td><td style=\"text-align: right;\">    0.5</td><td style=\"text-align: right;\">46988.1       </td><td style=\"text-align: right;\">         256</td><td style=\"text-align: right;\">0.000358651</td><td style=\"text-align: right;\">     0.0351834  </td><td style=\"text-align: right;\">         128</td><td style=\"text-align: right;\">0.000351303</td><td style=\"text-align: right;\">     32</td><td style=\"text-align: right;\">  1       </td><td style=\"text-align: right;\">                 100</td></tr>\n",
       "<tr><td>hyper_train_cc667_00003</td><td>TERMINATED</td><td>159.149.133.23:3896439</td><td style=\"text-align: right;\">    1  </td><td style=\"text-align: right;\"> 4122.67      </td><td style=\"text-align: right;\">         256</td><td style=\"text-align: right;\">5.02722e-05</td><td style=\"text-align: right;\">     0.00499154 </td><td style=\"text-align: right;\">         256</td><td style=\"text-align: right;\">0.00230602 </td><td style=\"text-align: right;\">     32</td><td style=\"text-align: right;\">  1       </td><td style=\"text-align: right;\">                 100</td></tr>\n",
       "<tr><td>hyper_train_cc667_00004</td><td>TERMINATED</td><td>159.149.133.23:3896441</td><td style=\"text-align: right;\">    1  </td><td style=\"text-align: right;\">    0.0726364 </td><td style=\"text-align: right;\">          64</td><td style=\"text-align: right;\">8.42419e-05</td><td style=\"text-align: right;\">     0.00322064 </td><td style=\"text-align: right;\">         256</td><td style=\"text-align: right;\">0.000303919</td><td style=\"text-align: right;\">     25</td><td style=\"text-align: right;\">  0.998738</td><td style=\"text-align: right;\">                  10</td></tr>\n",
       "<tr><td>hyper_train_cc667_00005</td><td>TERMINATED</td><td>159.149.133.23:3896442</td><td style=\"text-align: right;\">    0.5</td><td style=\"text-align: right;\"> 9416.57      </td><td style=\"text-align: right;\">         512</td><td style=\"text-align: right;\">0.000392929</td><td style=\"text-align: right;\">     0.00021123 </td><td style=\"text-align: right;\">        1024</td><td style=\"text-align: right;\">0.000344711</td><td style=\"text-align: right;\">     32</td><td style=\"text-align: right;\">  1       </td><td style=\"text-align: right;\">                 100</td></tr>\n",
       "<tr><td>hyper_train_cc667_00006</td><td>TERMINATED</td><td>159.149.133.23:102511 </td><td style=\"text-align: right;\">    0.5</td><td style=\"text-align: right;\">    0.00151694</td><td style=\"text-align: right;\">          64</td><td style=\"text-align: right;\">0.00215588 </td><td style=\"text-align: right;\">     1.7604     </td><td style=\"text-align: right;\">        1024</td><td style=\"text-align: right;\">3.53966e-05</td><td style=\"text-align: right;\">     25</td><td style=\"text-align: right;\">  1       </td><td style=\"text-align: right;\">                 100</td></tr>\n",
       "<tr><td>hyper_train_cc667_00007</td><td>TERMINATED</td><td>159.149.133.23:1275813</td><td style=\"text-align: right;\">    1  </td><td style=\"text-align: right;\">53035.2       </td><td style=\"text-align: right;\">         128</td><td style=\"text-align: right;\">4.84267e-07</td><td style=\"text-align: right;\">     0.00524981 </td><td style=\"text-align: right;\">        1024</td><td style=\"text-align: right;\">0.000253442</td><td style=\"text-align: right;\">     64</td><td style=\"text-align: right;\">  1       </td><td style=\"text-align: right;\">                 100</td></tr>\n",
       "<tr><td>hyper_train_cc667_00008</td><td>TERMINATED</td><td>159.149.133.23:1378189</td><td style=\"text-align: right;\">    0.5</td><td style=\"text-align: right;\">    2.93056   </td><td style=\"text-align: right;\">         512</td><td style=\"text-align: right;\">1.85361e-07</td><td style=\"text-align: right;\">     0.282465   </td><td style=\"text-align: right;\">         256</td><td style=\"text-align: right;\">0.00152786 </td><td style=\"text-align: right;\">     32</td><td style=\"text-align: right;\">  1       </td><td style=\"text-align: right;\">                 100</td></tr>\n",
       "<tr><td>hyper_train_cc667_00009</td><td>TERMINATED</td><td>159.149.133.23:1447279</td><td style=\"text-align: right;\">    1  </td><td style=\"text-align: right;\">    0.00271906</td><td style=\"text-align: right;\">         256</td><td style=\"text-align: right;\">1.09188e-07</td><td style=\"text-align: right;\">     5.75495e-06</td><td style=\"text-align: right;\">        1024</td><td style=\"text-align: right;\">0.000268727</td><td style=\"text-align: right;\">     25</td><td style=\"text-align: right;\">  0.135016</td><td style=\"text-align: right;\">                  10</td></tr>\n",
       "</tbody>\n",
       "</table><br><br>"
      ],
      "text/plain": [
       "<IPython.core.display.HTML object>"
      ]
     },
     "metadata": {},
     "output_type": "display_data"
    },
    {
     "name": "stderr",
     "output_type": "stream",
     "text": [
      "2022-07-11 16:14:55,947\tINFO tune.py:747 -- Total run time: 1306.15 seconds (1305.95 seconds for the tuning loop).\n"
     ]
    },
    {
     "name": "stdout",
     "output_type": "stream",
     "text": [
      "Best trial config: {'batch_size': 512, 'z_dim': 32, 'hidden_dim': 1024, 'lr': 9.88885589031385e-05, 'alpha': 1, 'beta': 0.00031023194033706977, 'au_weight': 635.57475767786, 'emotion_weight': 7.055343091615661e-06}\n",
      "Best trial final validation loss: 16.359323632511792\n",
      "Best trial final validation accuracy: 1.0\n"
     ]
    }
   ],
   "source": [
    "scheduler = ASHAScheduler(\n",
    "    metric=\"accuracy\",\n",
    "    mode=\"max\",\n",
    "    max_t=max_num_epochs,\n",
    "    grace_period=10,\n",
    "    reduction_factor=3)    \n",
    "\n",
    "reporter = JupyterNotebookReporter(\n",
    "    True,\n",
    "    metric_columns=[\"accuracy\",\"training_iteration\"])\n",
    "\n",
    "result = tune.run(\n",
    "        partial(hyper_train, \n",
    "                data_dir=data_dir, \n",
    "                num_epochs=num_epochs, \n",
    "                checkpoint_dir=checkpoint_dir),\n",
    "        resources_per_trial={\"cpu\": 8, \"gpu\": 0.1},\n",
    "        config=config,\n",
    "        num_samples=num_samples,\n",
    "        scheduler=scheduler,\n",
    "        progress_reporter=reporter)\n",
    "\n",
    "best_trial = result.get_best_trial(\"accuracy\", \"max\", \"last\")\n",
    "\n",
    "print(\"Best trial config: {}\".format(best_trial.config))\n",
    "print(\"Best trial final validation loss: {}\".format(best_trial.last_result[\"loss\"]))\n",
    "print(\"Best trial final validation accuracy: {}\".format(best_trial.last_result[\"accuracy\"]))"
   ]
  },
  {
   "cell_type": "code",
   "execution_count": 6,
   "id": "26b0175e",
   "metadata": {},
   "outputs": [
    {
     "name": "stdout",
     "output_type": "stream",
     "text": [
      "model_args= {'cat_dim': 8, 'au_dim': 17, 'latent_space_dim': 32, 'hidden_dim': 1024, 'num_filters': None, 'modes': {'au': True, 'face': None, 'emotion': True}, 'au_weight': 635.57475767786, 'emotion_weight': 7.055343091615661e-06, 'expert_type': 'poe', 'use_cuda': True}\n",
      "train_args= {'learning_rate': 9.88885589031385e-05, 'alpha': 1, 'beta': 0.00031023194033706977, 'optim_betas': [0.95, 0.98], 'num_epochs': 100, 'batch_size': 512}\n"
     ]
    }
   ],
   "source": [
    "model_args = {\n",
    "    'cat_dim':8,      \n",
    "    'au_dim':17,     \n",
    "    'latent_space_dim':best_trial.config['z_dim'],     \n",
    "    'hidden_dim':best_trial.config['hidden_dim'],               \n",
    "    'num_filters':None,                 \n",
    "    'modes':modes,\n",
    "    \n",
    "    'au_weight':best_trial.config['au_weight'],           \n",
    "    'emotion_weight':best_trial.config['emotion_weight'],              \n",
    "    'expert_type':expert,                  \n",
    "    'use_cuda':True}\n",
    "\n",
    "\n",
    "train_args = {\n",
    "    'learning_rate' : best_trial.config['lr'],\n",
    "    'alpha':best_trial.config['alpha'],\n",
    "    'beta': best_trial.config['beta'],\n",
    "    'optim_betas' : betas,\n",
    "    'num_epochs' : num_epochs,\n",
    "    'batch_size' : best_trial.config['batch_size']\n",
    "}\n",
    "\n",
    "print('model_args=', model_args)\n",
    "print('train_args=', train_args)"
   ]
  },
  {
   "cell_type": "code",
   "execution_count": 7,
   "id": "dad62f58",
   "metadata": {},
   "outputs": [],
   "source": [
    "best_trained_model =  build_model(**model_args).double()"
   ]
  },
  {
   "cell_type": "code",
   "execution_count": 8,
   "id": "479430c2",
   "metadata": {},
   "outputs": [
    {
     "data": {
      "text/plain": [
       "<All keys matched successfully>"
      ]
     },
     "execution_count": 8,
     "metadata": {},
     "output_type": "execute_result"
    }
   ],
   "source": [
    "best_checkpoint_dir = best_trial.checkpoint.value\n",
    "model_state, optimizer_state = torch.load(os.path.join(\n",
    "        best_checkpoint_dir, \"checkpoint\"))\n",
    "\n",
    "best_trained_model.load_state_dict(model_state)"
   ]
  },
  {
   "cell_type": "code",
   "execution_count": 9,
   "id": "0984be05",
   "metadata": {},
   "outputs": [],
   "source": [
    "save_model = True\n",
    "\n",
    "if save_model:\n",
    "    PATH = \"../trained_models/best-train-\"+expert+\".save\"\n",
    "    torch.save({'model_args' : model_args,\n",
    "                'train_args' : train_args,\n",
    "                'model_state' : model_state\n",
    "                }, PATH)"
   ]
  },
  {
   "cell_type": "code",
   "execution_count": 10,
   "id": "b650213d",
   "metadata": {},
   "outputs": [
    {
     "name": "stdout",
     "output_type": "stream",
     "text": [
      "              precision    recall  f1-score   support\n",
      "\n",
      "     neutral       0.60      0.23      0.33       135\n",
      "        calm       0.74      0.35      0.47       259\n",
      "       happy       0.78      0.72      0.74       253\n",
      "         sad       0.52      0.50      0.51       270\n",
      "       angry       0.28      0.86      0.42       287\n",
      "     fearful       0.69      0.10      0.18       235\n",
      "     disgust       0.81      0.53      0.64       257\n",
      "   surprised       0.36      0.28      0.31       285\n",
      "\n",
      "    accuracy                           0.47      1981\n",
      "   macro avg       0.60      0.45      0.45      1981\n",
      "weighted avg       0.59      0.47      0.46      1981\n",
      "\n"
     ]
    },
    {
     "data": {
      "image/png": "[encoded data removed]",
      "text/plain": [
       "<Figure size 720x504 with 2 Axes>"
      ]
     },
     "metadata": {
      "needs_background": "light"
     },
     "output_type": "display_data"
    }
   ],
   "source": [
    "_, _, testset_loader = U.load_data(data_dir=data_dir, batch_size=best_trial.config['batch_size'])\n",
    "\n",
    "labels = list(Rd.emocat.values())\n",
    "y_true, y_pred = U.au_classiffication_accuracy(best_trained_model, testset_loader)\n",
    "cr = classification_report(y_true, y_pred, target_names=labels)\n",
    "cm = confusion_matrix(y_true, y_pred)\n",
    "cm = pd.DataFrame(cm, index = [i for i in labels],columns = [i for i in labels])\n",
    "\n",
    "plt.figure(figsize = (10,7))\n",
    "sn.heatmap(cm, annot=True, fmt=\"d\")\n",
    "print(cr)"
   ]
  },
  {
   "cell_type": "code",
   "execution_count": 11,
   "id": "a3efa0b6",
   "metadata": {},
   "outputs": [
    {
     "name": "stderr",
     "output_type": "stream",
     "text": [
      "100%|████████████████████████████████████████████████████████████████| 2048/2048 [00:04<00:00, 413.77it/s]\n"
     ]
    },
    {
     "name": "stdout",
     "output_type": "stream",
     "text": [
      "              precision    recall  f1-score   support\n",
      "\n",
      "     neutral       1.00      0.08      0.14      3917\n",
      "        calm       1.00      1.00      1.00      4090\n",
      "       happy       1.00      1.00      1.00      4088\n",
      "         sad       0.52      0.96      0.67      4181\n",
      "       angry       0.43      1.00      0.60      4085\n",
      "     fearful       0.64      1.00      0.78      4156\n",
      "     disgust       1.00      0.12      0.21      4179\n",
      "   surprised       0.16      0.00      0.00      4072\n",
      "\n",
      "    accuracy                           0.65     32768\n",
      "   macro avg       0.72      0.64      0.55     32768\n",
      "weighted avg       0.72      0.65      0.55     32768\n",
      "\n"
     ]
    },
    {
     "data": {
      "image/png": "[encoded data removed]",
      "text/plain": [
       "<Figure size 720x504 with 2 Axes>"
      ]
     },
     "metadata": {
      "needs_background": "light"
     },
     "output_type": "display_data"
    }
   ],
   "source": [
    "labels = list(Rd.emocat.values())\n",
    "y_true, y_pred = U.au_recon_and_classiffication_accuracy(best_trained_model, num_samples=2048)\n",
    "cr = classification_report(y_true, y_pred, target_names=labels)\n",
    "cm = confusion_matrix(y_true, y_pred)\n",
    "cm = pd.DataFrame(cm, index = [i for i in labels],columns = [i for i in labels])\n",
    "\n",
    "plt.figure(figsize = (10,7))\n",
    "sn.heatmap(cm, annot=True, fmt=\"d\")\n",
    "print(cr)"
   ]
  },
  {
   "cell_type": "code",
   "execution_count": 12,
   "id": "ded12e63",
   "metadata": {},
   "outputs": [],
   "source": [
    "model_args =  {'cat_dim': 8, 'au_dim': 17, 'latent_space_dim': 25, 'hidden_dim': 512, 'num_filters': None, 'modes': {'au': True, 'face': None, 'emotion': True}, 'au_weight': 262330.5833373258, 'emotion_weight': 1.0523573323659556, 'expert_type': 'poe', 'use_cuda': True}\n",
    "train_args =  {'learning_rate': 0.001, 'alpha': 0.5, 'beta': 1e-05, 'optim_betas': [0.95, 0.98], 'num_epochs': 50, 'batch_size': 128}"
   ]
  },
  {
   "cell_type": "code",
   "execution_count": null,
   "id": "7405485a",
   "metadata": {},
   "outputs": [],
   "source": []
  }
 ],
 "metadata": {
  "kernelspec": {
   "display_name": "Python [conda env:rsa-env]",
   "language": "python",
   "name": "conda-env-rsa-env-py"
  },
  "language_info": {
   "codemirror_mode": {
    "name": "ipython",
    "version": 3
   },
   "file_extension": ".py",
   "mimetype": "text/x-python",
   "name": "python",
   "nbconvert_exporter": "python",
   "pygments_lexer": "ipython3",
   "version": "3.10.4"
  }
 },
 "nbformat": 4,
 "nbformat_minor": 5
}
