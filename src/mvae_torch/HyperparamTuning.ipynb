{
 "cells": [
  {
   "cell_type": "code",
   "execution_count": 1,
   "id": "ade060c2",
   "metadata": {},
   "outputs": [],
   "source": [
    "import os, sys; sys.path.append(os.path.dirname(os.getcwd()))\n",
    "from tqdm import tqdm\n",
    "import torch\n",
    "from torch.utils.data import DataLoader, random_split\n",
    "from sklearn.metrics import confusion_matrix, classification_report, accuracy_score\n",
    "\n",
    "import numpy as np\n",
    "import pandas as pd\n",
    "import matplotlib.pyplot as plt\n",
    "import seaborn as sn\n",
    "\n",
    "import multimodal_vae\n",
    "import torch_mvae_util as U\n",
    "import util.RAVDESS_dataset_util as Rd\n",
    "from train_mvae import build_model, train"
   ]
  },
  {
   "cell_type": "code",
   "execution_count": 2,
   "id": "7f58b83d",
   "metadata": {},
   "outputs": [],
   "source": [
    "from functools import partial\n",
    "from ray import tune\n",
    "from ray.tune import CLIReporter\n",
    "from ray.tune.schedulers import ASHAScheduler\n",
    "from ray.tune import JupyterNotebookReporter"
   ]
  },
  {
   "cell_type": "code",
   "execution_count": 3,
   "id": "bae71a5b",
   "metadata": {},
   "outputs": [],
   "source": [
    "torch.manual_seed(100)\n",
    "num_workers=32\n",
    "\n",
    "max_num_epochs=30\n",
    "num_epochs=30\n",
    "num_samples=15\n",
    "betas=[0.95, 0.98]\n",
    "data_dir = '/home/studenti/ballerini/Multimodal_RSA/src/util/au-emo_2.csv'\n",
    "checkpoint_dir='./tuning'\n",
    "expert = 'poe'\n",
    "\n",
    "modes={'au':True, 'face':None, 'emotion':True}\n",
    "\n",
    "config = {\n",
    "    'batch_size':tune.choice([64, 128, 256, 512]),\n",
    "    'z_dim':tune.choice([25, 32, 50, 64]),\n",
    "    'hidden_dim':tune.choice([128, 256, 512]),\n",
    "    'lr': tune.loguniform(1e-5, 1e-2),\n",
    "    'alpha': tune.choice([1, 5e-1]),\n",
    "    'beta': tune.loguniform(1e-7, 1e-2),\n",
    "    'rec_weight': tune.choice([0.1, 1, 10, 100]),\n",
    "    'au_weight':tune.loguniform(1e-3, 1e5),\n",
    "    'emotion_weight':tune.loguniform(1e-6, 1e2),\n",
    "}"
   ]
  },
  {
   "cell_type": "code",
   "execution_count": 4,
   "id": "c906e828",
   "metadata": {},
   "outputs": [],
   "source": [
    "def hyper_train(config, data_dir, num_epochs, use_cuda=True, checkpoint_dir=None):\n",
    "    model: torch.nn.Module = build_model(\n",
    "        cat_dim=8,      \n",
    "        au_dim=17,     \n",
    "        latent_space_dim=config['z_dim'],     \n",
    "        hidden_dim=config['hidden_dim'],               \n",
    "        num_filters=None,                 \n",
    "        modes=modes,              \n",
    "        au_weight=config['au_weight'],           \n",
    "        emotion_weight=config['emotion_weight'],              \n",
    "        expert_type=expert,                  \n",
    "        use_cuda=True).double()\n",
    "        \n",
    "    optimizer = torch.optim.Adam(\n",
    "        params=model.parameters(), \n",
    "        lr=config['lr'], \n",
    "        betas=betas)\n",
    "    \n",
    "    trainset_loader, valset_loader, _ = U.load_data(data_dir=data_dir, batch_size=config['batch_size'])\n",
    "    '''    \n",
    "    if checkpoint_dir:\n",
    "        model_state, optimizer_state = torch.load(\n",
    "            os.path.join(checkpoint_dir, \"checkpoint\"))\n",
    "        model.load_state_dict(model_state)\n",
    "        optimizer.load_state_dict(optimizer_state)\n",
    "    '''\n",
    "    \n",
    "    beta = config['beta']\n",
    "    alpha = config['alpha']\n",
    "    rec_weight = config['rec_weight']\n",
    "    for epoch in range(num_epochs):  # loop over the dataset multiple times\n",
    "        running_loss = 0.0\n",
    "        epoch_steps = 0\n",
    "        \n",
    "        for data in trainset_loader:\n",
    "            # get the inputs; data is a list of [inputs, labels]\n",
    "            au, emotions = data\n",
    "            \n",
    "            if use_cuda:\n",
    "                if au is not None:\n",
    "                    au = au.cuda()\n",
    "                if emotions is not None:\n",
    "                    emotions = emotions.cuda()\n",
    "\n",
    "            # zero the parameter gradients\n",
    "            optimizer.zero_grad()\n",
    "            \n",
    "        #-------------------------------------------------\n",
    "            (\n",
    "                au_reconstruction,\n",
    "                emotion_reconstruction,\n",
    "                z_loc_expert,\n",
    "                z_scale_expert,\n",
    "                latent_sample\n",
    "            ) = model(\n",
    "                au=au,\n",
    "                emotions=emotions\n",
    "            )\n",
    "\n",
    "            loss = model.loss_function(\n",
    "                au=au,\n",
    "                emotions=emotions,\n",
    "                au_reconstruction=au_reconstruction,\n",
    "                emotions_reconstruction=emotion_reconstruction,\n",
    "                z_loc=z_loc_expert,\n",
    "                z_scale=z_scale_expert,\n",
    "                alpha=alpha,\n",
    "                beta=beta,\n",
    "                rec_weight=rec_weight,\n",
    "                latent_sample=latent_sample\n",
    "            )\n",
    "            \n",
    "            loss[\"total_loss\"].backward()\n",
    "            optimizer.step()\n",
    "        #-------------------------------------------------\n",
    "            (\n",
    "                au_reconstruction,\n",
    "                emotion_reconstruction,\n",
    "                z_loc_expert,\n",
    "                z_scale_expert,\n",
    "                latent_sample\n",
    "            ) = model(\n",
    "                au=au,\n",
    "                emotions=None\n",
    "            )\n",
    "\n",
    "            loss = model.loss_function(\n",
    "                au=au,\n",
    "                emotions=None,\n",
    "                au_reconstruction=au_reconstruction,\n",
    "                emotions_reconstruction=emotion_reconstruction,\n",
    "                z_loc=z_loc_expert,\n",
    "                z_scale=z_scale_expert,\n",
    "                alpha=alpha,\n",
    "                beta=beta,\n",
    "                rec_weight=rec_weight,\n",
    "                latent_sample=latent_sample\n",
    "            )\n",
    "            \n",
    "            loss[\"total_loss\"].backward()\n",
    "            optimizer.step()\n",
    "        #-------------------------------------------------\n",
    "            (\n",
    "                au_reconstruction,\n",
    "                emotion_reconstruction,\n",
    "                z_loc_expert,\n",
    "                z_scale_expert,\n",
    "                latent_sample\n",
    "            ) = model(\n",
    "                au=None,\n",
    "                emotions=emotions\n",
    "            )\n",
    "\n",
    "            loss = model.loss_function(\n",
    "                au=None,\n",
    "                emotions=emotions,\n",
    "                au_reconstruction=au_reconstruction,\n",
    "                emotions_reconstruction=emotion_reconstruction,\n",
    "                z_loc=z_loc_expert,\n",
    "                z_scale=z_scale_expert,\n",
    "                alpha=alpha,\n",
    "                beta=beta,\n",
    "                rec_weight=rec_weight,\n",
    "                latent_sample=latent_sample\n",
    "            )\n",
    "            \n",
    "            loss[\"total_loss\"].backward()\n",
    "            optimizer.step()\n",
    "        #-------------------------------------------------\n",
    "            \n",
    "        y_true = []\n",
    "        y_pred = []\n",
    "        val_loss = 0\n",
    "        val_steps = 0\n",
    "        for data in valset_loader:\n",
    "            with torch.no_grad():\n",
    "                au, emotions = data\n",
    "            \n",
    "                if use_cuda:\n",
    "                    if au is not None:\n",
    "                        au = au.cuda()\n",
    "                    if emotions is not None:\n",
    "                        emotions = emotions.cuda()\n",
    "\n",
    "                (\n",
    "                    au_reconstruction,\n",
    "                    emotion_reconstruction,\n",
    "                    z_loc_expert,\n",
    "                    z_scale_expert,\n",
    "                    latent_sample\n",
    "                ) = model(\n",
    "                    au=au,\n",
    "                    emotions=None\n",
    "                )\n",
    "                \n",
    "                loss = model.loss_function(\n",
    "                    au=au,\n",
    "                    emotions=emotions,\n",
    "                    au_reconstruction=au_reconstruction,\n",
    "                    emotions_reconstruction=emotion_reconstruction,\n",
    "                    z_loc=z_loc_expert,\n",
    "                    z_scale=z_scale_expert,\n",
    "                    alpha=alpha,\n",
    "                    beta=beta,\n",
    "                    rec_weight=rec_weight,\n",
    "                    latent_sample=latent_sample\n",
    "                )\n",
    "                \n",
    "                reconstructed_emotions = torch.argmax(emotion_reconstruction, 1)\n",
    "                y_true += emotions.cpu()\n",
    "                y_pred += reconstructed_emotions.cpu()\n",
    "                val_loss += loss['total_loss'].cpu().numpy()\n",
    "                val_steps += 1\n",
    "                \n",
    "        accuracy = accuracy_score(y_true, y_pred)\n",
    "        \n",
    "        with tune.checkpoint_dir(epoch) as checkpoint_dir:\n",
    "            path = os.path.join(checkpoint_dir, \"checkpoint\")\n",
    "            torch.save((model.state_dict(), optimizer.state_dict()), path)\n",
    "        \n",
    "        \n",
    "        tune.report(loss=(val_loss / val_steps), accuracy=accuracy)\n",
    "    print(\"Finished Training\")\n",
    "    "
   ]
  },
  {
   "cell_type": "code",
   "execution_count": 5,
   "id": "f683885e",
   "metadata": {
    "scrolled": true
   },
   "outputs": [
    {
     "data": {
      "text/html": [
       "== Status ==<br>Current time: 2022-07-19 18:28:24 (running for 00:07:40.86)<br>Memory usage on this node: 34.0/187.5 GiB<br>Using AsyncHyperBand: num_stopped=15\n",
       "Bracket: Iter 20.000: 0.4662460567823344 | Iter 10.000: 0.4365930599369085 | Iter 5.000: 0.3728706624605678<br>Resources requested: 0/48 CPUs, 0/1 GPUs, 0.0/102.03 GiB heap, 0.0/47.72 GiB objects<br>Result logdir: /home/studenti/ballerini/ray_results/hyper_train_2022-07-19_18-20-43<br>Number of trials: 15/15 (15 TERMINATED)<br><table>\n",
       "<thead>\n",
       "<tr><th>Trial name             </th><th>status    </th><th>loc                   </th><th style=\"text-align: right;\">  alpha</th><th style=\"text-align: right;\">     au_weight</th><th style=\"text-align: right;\">  batch_size</th><th style=\"text-align: right;\">       beta</th><th style=\"text-align: right;\">  emotion_weight</th><th style=\"text-align: right;\">  hidden_dim</th><th style=\"text-align: right;\">         lr</th><th style=\"text-align: right;\">  rec_weight</th><th style=\"text-align: right;\">  z_dim</th><th style=\"text-align: right;\">  accuracy</th><th style=\"text-align: right;\">  training_iteration</th></tr>\n",
       "</thead>\n",
       "<tbody>\n",
       "<tr><td>hyper_train_bcfea_00000</td><td>TERMINATED</td><td>159.149.133.23:3854323</td><td style=\"text-align: right;\">    0.5</td><td style=\"text-align: right;\">41738.3       </td><td style=\"text-align: right;\">         128</td><td style=\"text-align: right;\">0.000223611</td><td style=\"text-align: right;\">     0.389289   </td><td style=\"text-align: right;\">         128</td><td style=\"text-align: right;\">0.000196953</td><td style=\"text-align: right;\">       100  </td><td style=\"text-align: right;\">     32</td><td style=\"text-align: right;\">  0.535647</td><td style=\"text-align: right;\">                  30</td></tr>\n",
       "<tr><td>hyper_train_bcfea_00001</td><td>TERMINATED</td><td>159.149.133.23:3854353</td><td style=\"text-align: right;\">    0.5</td><td style=\"text-align: right;\">    0.00204611</td><td style=\"text-align: right;\">         512</td><td style=\"text-align: right;\">3.82245e-07</td><td style=\"text-align: right;\">     7.20427e-05</td><td style=\"text-align: right;\">         128</td><td style=\"text-align: right;\">0.00187088 </td><td style=\"text-align: right;\">        10  </td><td style=\"text-align: right;\">     25</td><td style=\"text-align: right;\">  0.140694</td><td style=\"text-align: right;\">                  30</td></tr>\n",
       "<tr><td>hyper_train_bcfea_00002</td><td>TERMINATED</td><td>159.149.133.23:3854355</td><td style=\"text-align: right;\">    0.5</td><td style=\"text-align: right;\">    0.287471  </td><td style=\"text-align: right;\">         256</td><td style=\"text-align: right;\">1.37767e-06</td><td style=\"text-align: right;\">     1.82215e-05</td><td style=\"text-align: right;\">         512</td><td style=\"text-align: right;\">0.00241669 </td><td style=\"text-align: right;\">       100  </td><td style=\"text-align: right;\">     50</td><td style=\"text-align: right;\">  0.188013</td><td style=\"text-align: right;\">                  10</td></tr>\n",
       "<tr><td>hyper_train_bcfea_00003</td><td>TERMINATED</td><td>159.149.133.23:3854357</td><td style=\"text-align: right;\">    0.5</td><td style=\"text-align: right;\">   23.5779    </td><td style=\"text-align: right;\">         512</td><td style=\"text-align: right;\">0.00853297 </td><td style=\"text-align: right;\">     3.26916e-05</td><td style=\"text-align: right;\">         512</td><td style=\"text-align: right;\">3.19012e-05</td><td style=\"text-align: right;\">         0.1</td><td style=\"text-align: right;\">     25</td><td style=\"text-align: right;\">  0.285804</td><td style=\"text-align: right;\">                  30</td></tr>\n",
       "<tr><td>hyper_train_bcfea_00004</td><td>TERMINATED</td><td>159.149.133.23:3854359</td><td style=\"text-align: right;\">    0.5</td><td style=\"text-align: right;\">74142.2       </td><td style=\"text-align: right;\">          64</td><td style=\"text-align: right;\">1.29897e-05</td><td style=\"text-align: right;\">     2.16647e-05</td><td style=\"text-align: right;\">         128</td><td style=\"text-align: right;\">0.000878588</td><td style=\"text-align: right;\">         1  </td><td style=\"text-align: right;\">     25</td><td style=\"text-align: right;\">  0.542587</td><td style=\"text-align: right;\">                  30</td></tr>\n",
       "<tr><td>hyper_train_bcfea_00005</td><td>TERMINATED</td><td>159.149.133.23:4001714</td><td style=\"text-align: right;\">    0.5</td><td style=\"text-align: right;\">  125.082     </td><td style=\"text-align: right;\">         512</td><td style=\"text-align: right;\">1.33278e-05</td><td style=\"text-align: right;\">    20.7309     </td><td style=\"text-align: right;\">         512</td><td style=\"text-align: right;\">0.0021237  </td><td style=\"text-align: right;\">        10  </td><td style=\"text-align: right;\">     64</td><td style=\"text-align: right;\">  0.172871</td><td style=\"text-align: right;\">                  20</td></tr>\n",
       "<tr><td>hyper_train_bcfea_00006</td><td>TERMINATED</td><td>159.149.133.23:20645  </td><td style=\"text-align: right;\">    1  </td><td style=\"text-align: right;\">  330.699     </td><td style=\"text-align: right;\">          64</td><td style=\"text-align: right;\">1.31582e-06</td><td style=\"text-align: right;\">     0.00846854 </td><td style=\"text-align: right;\">         256</td><td style=\"text-align: right;\">0.000216044</td><td style=\"text-align: right;\">         0.1</td><td style=\"text-align: right;\">     32</td><td style=\"text-align: right;\">  0.466877</td><td style=\"text-align: right;\">                  30</td></tr>\n",
       "<tr><td>hyper_train_bcfea_00007</td><td>TERMINATED</td><td>159.149.133.23:63934  </td><td style=\"text-align: right;\">    0.5</td><td style=\"text-align: right;\">    2.80497   </td><td style=\"text-align: right;\">         128</td><td style=\"text-align: right;\">1.1947e-05 </td><td style=\"text-align: right;\">     0.0890376  </td><td style=\"text-align: right;\">         256</td><td style=\"text-align: right;\">0.00268417 </td><td style=\"text-align: right;\">         1  </td><td style=\"text-align: right;\">     32</td><td style=\"text-align: right;\">  0.170978</td><td style=\"text-align: right;\">                   5</td></tr>\n",
       "<tr><td>hyper_train_bcfea_00008</td><td>TERMINATED</td><td>159.149.133.23:72582  </td><td style=\"text-align: right;\">    0.5</td><td style=\"text-align: right;\">    0.051095  </td><td style=\"text-align: right;\">         128</td><td style=\"text-align: right;\">4.11254e-06</td><td style=\"text-align: right;\">     3.87379e-05</td><td style=\"text-align: right;\">         128</td><td style=\"text-align: right;\">0.00138437 </td><td style=\"text-align: right;\">        10  </td><td style=\"text-align: right;\">     32</td><td style=\"text-align: right;\">  0.142587</td><td style=\"text-align: right;\">                   5</td></tr>\n",
       "<tr><td>hyper_train_bcfea_00009</td><td>TERMINATED</td><td>159.149.133.23:144265 </td><td style=\"text-align: right;\">    0.5</td><td style=\"text-align: right;\"> 1270.74      </td><td style=\"text-align: right;\">          64</td><td style=\"text-align: right;\">0.00204495 </td><td style=\"text-align: right;\">     0.0300881  </td><td style=\"text-align: right;\">         512</td><td style=\"text-align: right;\">1.36143e-05</td><td style=\"text-align: right;\">         0.1</td><td style=\"text-align: right;\">     25</td><td style=\"text-align: right;\">  0.459937</td><td style=\"text-align: right;\">                  20</td></tr>\n",
       "<tr><td>hyper_train_bcfea_00010</td><td>TERMINATED</td><td>159.149.133.23:147529 </td><td style=\"text-align: right;\">    1  </td><td style=\"text-align: right;\">59623.7       </td><td style=\"text-align: right;\">          64</td><td style=\"text-align: right;\">0.000572229</td><td style=\"text-align: right;\">     0.000189417</td><td style=\"text-align: right;\">         512</td><td style=\"text-align: right;\">2.0702e-05 </td><td style=\"text-align: right;\">         1  </td><td style=\"text-align: right;\">     50</td><td style=\"text-align: right;\">  0.509779</td><td style=\"text-align: right;\">                  30</td></tr>\n",
       "<tr><td>hyper_train_bcfea_00011</td><td>TERMINATED</td><td>159.149.133.23:185457 </td><td style=\"text-align: right;\">    0.5</td><td style=\"text-align: right;\">    0.00138326</td><td style=\"text-align: right;\">         256</td><td style=\"text-align: right;\">0.00321932 </td><td style=\"text-align: right;\">     0.0174779  </td><td style=\"text-align: right;\">         128</td><td style=\"text-align: right;\">0.000326882</td><td style=\"text-align: right;\">         0.1</td><td style=\"text-align: right;\">     50</td><td style=\"text-align: right;\">  0.135016</td><td style=\"text-align: right;\">                   5</td></tr>\n",
       "<tr><td>hyper_train_bcfea_00012</td><td>TERMINATED</td><td>159.149.133.23:278623 </td><td style=\"text-align: right;\">    1  </td><td style=\"text-align: right;\"> 3764.18      </td><td style=\"text-align: right;\">         512</td><td style=\"text-align: right;\">0.00118579 </td><td style=\"text-align: right;\">     0.205791   </td><td style=\"text-align: right;\">         128</td><td style=\"text-align: right;\">0.00132337 </td><td style=\"text-align: right;\">        10  </td><td style=\"text-align: right;\">     32</td><td style=\"text-align: right;\">  0.376656</td><td style=\"text-align: right;\">                  10</td></tr>\n",
       "<tr><td>hyper_train_bcfea_00013</td><td>TERMINATED</td><td>159.149.133.23:383011 </td><td style=\"text-align: right;\">    1  </td><td style=\"text-align: right;\">15407.2       </td><td style=\"text-align: right;\">         128</td><td style=\"text-align: right;\">0.00406378 </td><td style=\"text-align: right;\">     2.03552e-05</td><td style=\"text-align: right;\">         128</td><td style=\"text-align: right;\">0.00120444 </td><td style=\"text-align: right;\">        10  </td><td style=\"text-align: right;\">     32</td><td style=\"text-align: right;\">  0.522397</td><td style=\"text-align: right;\">                  30</td></tr>\n",
       "<tr><td>hyper_train_bcfea_00014</td><td>TERMINATED</td><td>159.149.133.23:421788 </td><td style=\"text-align: right;\">    0.5</td><td style=\"text-align: right;\"> 9742.77      </td><td style=\"text-align: right;\">         512</td><td style=\"text-align: right;\">0.00605145 </td><td style=\"text-align: right;\">     0.000447938</td><td style=\"text-align: right;\">         512</td><td style=\"text-align: right;\">8.56895e-05</td><td style=\"text-align: right;\">        10  </td><td style=\"text-align: right;\">     25</td><td style=\"text-align: right;\">  0.372871</td><td style=\"text-align: right;\">                   5</td></tr>\n",
       "</tbody>\n",
       "</table><br><br>"
      ],
      "text/plain": [
       "<IPython.core.display.HTML object>"
      ]
     },
     "metadata": {},
     "output_type": "display_data"
    },
    {
     "name": "stderr",
     "output_type": "stream",
     "text": [
      "2022-07-19 18:28:24,633\tINFO tune.py:747 -- Total run time: 461.01 seconds (460.83 seconds for the tuning loop).\n"
     ]
    },
    {
     "name": "stdout",
     "output_type": "stream",
     "text": [
      "Best trial config: {'batch_size': 64, 'z_dim': 25, 'hidden_dim': 128, 'lr': 0.000878588374166725, 'alpha': 0.5, 'beta': 1.2989735641589886e-05, 'rec_weight': 1, 'au_weight': 74142.18212774488, 'emotion_weight': 2.1664720144590643e-05}\n",
      "Best trial final validation loss: 141.96975390743341\n",
      "Best trial final validation accuracy: 0.5425867507886435\n"
     ]
    }
   ],
   "source": [
    "scheduler = ASHAScheduler(\n",
    "    metric=\"accuracy\",\n",
    "    mode=\"max\",\n",
    "    max_t=max_num_epochs,\n",
    "    grace_period=5,\n",
    "    reduction_factor=2)    \n",
    "\n",
    "reporter = JupyterNotebookReporter(\n",
    "    True,\n",
    "    metric_columns=[\"accuracy\",\"training_iteration\"])\n",
    "\n",
    "result = tune.run(\n",
    "        partial(hyper_train, \n",
    "                data_dir=data_dir, \n",
    "                num_epochs=num_epochs, \n",
    "                checkpoint_dir=checkpoint_dir),\n",
    "        resources_per_trial={\"cpu\": 1, \"gpu\": 0.2},\n",
    "        config=config,\n",
    "        num_samples=num_samples,\n",
    "        scheduler=scheduler,\n",
    "        progress_reporter=reporter)\n",
    "\n",
    "best_trial = result.get_best_trial(\"accuracy\", \"max\", \"last\")\n",
    "\n",
    "print(\"Best trial config: {}\".format(best_trial.config))\n",
    "print(\"Best trial final validation loss: {}\".format(best_trial.last_result[\"loss\"]))\n",
    "print(\"Best trial final validation accuracy: {}\".format(best_trial.last_result[\"accuracy\"]))"
   ]
  },
  {
   "cell_type": "code",
   "execution_count": 6,
   "id": "26b0175e",
   "metadata": {},
   "outputs": [
    {
     "name": "stdout",
     "output_type": "stream",
     "text": [
      "model_args= {'cat_dim': 8, 'au_dim': 17, 'latent_space_dim': 25, 'hidden_dim': 128, 'num_filters': None, 'modes': {'au': True, 'face': None, 'emotion': True}, 'au_weight': 74142.18212774488, 'emotion_weight': 2.1664720144590643e-05, 'expert_type': 'poe', 'use_cuda': True}\n",
      "train_args= {'learning_rate': 0.000878588374166725, 'alpha': 0.5, 'beta': 1.2989735641589886e-05, 'rec_weight': 1, 'optim_betas': [0.95, 0.98], 'num_epochs': 30, 'batch_size': 64}\n"
     ]
    }
   ],
   "source": [
    "model_args = {\n",
    "    'cat_dim':8,      \n",
    "    'au_dim':17,     \n",
    "    'latent_space_dim':best_trial.config['z_dim'],     \n",
    "    'hidden_dim':best_trial.config['hidden_dim'],               \n",
    "    'num_filters':None,                 \n",
    "    'modes':modes,\n",
    "    \n",
    "    'au_weight':best_trial.config['au_weight'],           \n",
    "    'emotion_weight':best_trial.config['emotion_weight'],              \n",
    "    'expert_type':expert,                  \n",
    "    'use_cuda':True}\n",
    "\n",
    "\n",
    "train_args = {\n",
    "    'learning_rate' : best_trial.config['lr'],\n",
    "    'alpha':best_trial.config['alpha'],\n",
    "    'beta': best_trial.config['beta'],\n",
    "    'rec_weight': best_trial.config['rec_weight'],\n",
    "    'optim_betas' : betas,\n",
    "    'num_epochs' : num_epochs,\n",
    "    'batch_size' : best_trial.config['batch_size']\n",
    "}\n",
    "\n",
    "print('model_args=', model_args)\n",
    "print('train_args=', train_args)"
   ]
  },
  {
   "cell_type": "code",
   "execution_count": 7,
   "id": "dad62f58",
   "metadata": {},
   "outputs": [],
   "source": [
    "best_trained_model =  build_model(**model_args).double()"
   ]
  },
  {
   "cell_type": "code",
   "execution_count": 8,
   "id": "479430c2",
   "metadata": {},
   "outputs": [
    {
     "data": {
      "text/plain": [
       "<All keys matched successfully>"
      ]
     },
     "execution_count": 8,
     "metadata": {},
     "output_type": "execute_result"
    }
   ],
   "source": [
    "best_checkpoint_dir = best_trial.checkpoint.value\n",
    "model_state, optimizer_state = torch.load(os.path.join(\n",
    "        best_checkpoint_dir, \"checkpoint\"))\n",
    "\n",
    "best_trained_model.load_state_dict(model_state)"
   ]
  },
  {
   "cell_type": "code",
   "execution_count": 9,
   "id": "0984be05",
   "metadata": {},
   "outputs": [],
   "source": [
    "save_model = True\n",
    "\n",
    "if save_model:\n",
    "    PATH = \"../trained_models/best-train-\"+expert+\".save\"\n",
    "    torch.save({'model_args' : model_args,\n",
    "                'train_args' : train_args,\n",
    "                'model_state' : model_state\n",
    "                }, PATH)"
   ]
  },
  {
   "cell_type": "code",
   "execution_count": 10,
   "id": "b650213d",
   "metadata": {},
   "outputs": [
    {
     "name": "stdout",
     "output_type": "stream",
     "text": [
      "              precision    recall  f1-score   support\n",
      "\n",
      "     neutral       0.38      0.60      0.46       135\n",
      "        calm       0.69      0.69      0.69       259\n",
      "       happy       0.73      0.81      0.76       253\n",
      "         sad       0.57      0.39      0.46       270\n",
      "       angry       0.47      0.48      0.47       287\n",
      "     fearful       0.47      0.59      0.53       235\n",
      "     disgust       0.69      0.73      0.71       257\n",
      "   surprised       0.48      0.30      0.37       285\n",
      "\n",
      "    accuracy                           0.57      1981\n",
      "   macro avg       0.56      0.57      0.56      1981\n",
      "weighted avg       0.57      0.57      0.56      1981\n",
      "\n"
     ]
    },
    {
     "data": {
      "image/png": "[encoded data removed]",
      "text/plain": [
       "<Figure size 720x504 with 2 Axes>"
      ]
     },
     "metadata": {
      "needs_background": "light"
     },
     "output_type": "display_data"
    }
   ],
   "source": [
    "_, _, testset_loader = U.load_data(data_dir=data_dir, batch_size=best_trial.config['batch_size'])\n",
    "\n",
    "labels = list(Rd.emocat.values())\n",
    "y_true, y_pred = U.au_classiffication_accuracy(best_trained_model, testset_loader)\n",
    "cr = classification_report(y_true, y_pred, target_names=labels)\n",
    "cm = confusion_matrix(y_true, y_pred)\n",
    "cm = pd.DataFrame(cm, index = [i for i in labels],columns = [i for i in labels])\n",
    "\n",
    "plt.figure(figsize = (10,7))\n",
    "sn.heatmap(cm, annot=True, fmt=\"d\")\n",
    "print(cr)"
   ]
  },
  {
   "cell_type": "code",
   "execution_count": 11,
   "id": "a3efa0b6",
   "metadata": {},
   "outputs": [
    {
     "name": "stderr",
     "output_type": "stream",
     "text": [
      "100%|████████████████████████████████████████████████████████████████| 2048/2048 [00:04<00:00, 474.73it/s]\n"
     ]
    },
    {
     "name": "stdout",
     "output_type": "stream",
     "text": [
      "              precision    recall  f1-score   support\n",
      "\n",
      "     neutral       0.57      0.13      0.21      4098\n",
      "        calm       0.05      0.02      0.03      4076\n",
      "       happy       1.00      0.95      0.97      4121\n",
      "         sad       0.94      0.28      0.43      4102\n",
      "       angry       0.75      0.99      0.85      4042\n",
      "     fearful       0.22      1.00      0.36      4167\n",
      "     disgust       0.01      0.00      0.00      4096\n",
      "   surprised       0.21      0.04      0.06      4066\n",
      "\n",
      "    accuracy                           0.43     32768\n",
      "   macro avg       0.47      0.43      0.37     32768\n",
      "weighted avg       0.47      0.43      0.37     32768\n",
      "\n"
     ]
    },
    {
     "data": {
      "image/png": "[encoded data removed]",
      "text/plain": [
       "<Figure size 720x504 with 2 Axes>"
      ]
     },
     "metadata": {
      "needs_background": "light"
     },
     "output_type": "display_data"
    }
   ],
   "source": [
    "labels = list(Rd.emocat.values())\n",
    "y_true, y_pred = U.au_recon_and_classiffication_accuracy(best_trained_model, num_samples=2048)\n",
    "cr = classification_report(y_true, y_pred, target_names=labels)\n",
    "cm = confusion_matrix(y_true, y_pred)\n",
    "cm = pd.DataFrame(cm, index = [i for i in labels],columns = [i for i in labels])\n",
    "\n",
    "plt.figure(figsize = (10,7))\n",
    "sn.heatmap(cm, annot=True, fmt=\"d\")\n",
    "print(cr)"
   ]
  },
  {
   "cell_type": "code",
   "execution_count": null,
   "id": "7405485a",
   "metadata": {},
   "outputs": [],
   "source": []
  }
 ],
 "metadata": {
  "kernelspec": {
   "display_name": "Python [conda env:rsa-env]",
   "language": "python",
   "name": "conda-env-rsa-env-py"
  },
  "language_info": {
   "codemirror_mode": {
    "name": "ipython",
    "version": 3
   },
   "file_extension": ".py",
   "mimetype": "text/x-python",
   "name": "python",
   "nbconvert_exporter": "python",
   "pygments_lexer": "ipython3",
   "version": "3.10.4"
  }
 },
 "nbformat": 4,
 "nbformat_minor": 5
}
