{
 "cells": [
  {
   "cell_type": "code",
   "execution_count": 1,
   "id": "ade060c2",
   "metadata": {},
   "outputs": [],
   "source": [
    "import os, sys; sys.path.append(os.path.dirname(os.getcwd()))\n",
    "from tqdm import tqdm\n",
    "import torch\n",
    "from torch.utils.data import DataLoader, random_split\n",
    "from sklearn.metrics import confusion_matrix, classification_report\n",
    "\n",
    "import numpy as np\n",
    "import pandas as pd\n",
    "import matplotlib.pyplot as plt\n",
    "import seaborn as sn\n",
    "\n",
    "import multimodal_vae\n",
    "import torch_mvae_util as U\n",
    "import util.RAVDESS_dataset_util as Rd\n",
    "from train_mvae import build_model, train"
   ]
  },
  {
   "cell_type": "code",
   "execution_count": 2,
   "id": "0d0e036f",
   "metadata": {},
   "outputs": [],
   "source": [
    "from functools import partial\n",
    "from ray import tune\n",
    "from ray.tune import CLIReporter\n",
    "from ray.tune.schedulers import ASHAScheduler\n",
    "from ray.tune import JupyterNotebookReporter"
   ]
  },
  {
   "cell_type": "code",
   "execution_count": 20,
   "id": "bae71a5b",
   "metadata": {},
   "outputs": [],
   "source": [
    "num_workers=32\n",
    "max_num_epochs=50\n",
    "num_epochs=100\n",
    "num_samples=20\n",
    "betas=[0.95, 0.98]\n",
    "data_dir='/home/studenti/ballerini/datasets/au-emo.csv'\n",
    "checkpoint_dir='./tuning'\n",
    "\n",
    "modes={'au':True, 'face':None, 'emotion':True}\n",
    "\n",
    "config = {\n",
    "    'batch_size':tune.choice([64, 128, 256, 512]),\n",
    "    'z_dim':tune.choice([25, 50, 100, 150]),\n",
    "    'hidden_dim':tune.choice([64, 128, 256, 512]),\n",
    "    'lr': tune.choice([1e-2, 1e-3, 1e-4, 1e-5]),\n",
    "    'beta': tune.choice([1e-4, 1e-5, 1e-6, 1e-7]),\n",
    "    'au_weight':tune.loguniform(1e-3, 1e6),\n",
    "    'emotion_weight':tune.loguniform(1e-3, 1e6),\n",
    "}"
   ]
  },
  {
   "cell_type": "code",
   "execution_count": 4,
   "id": "fade8815",
   "metadata": {},
   "outputs": [],
   "source": [
    "def load_data(data_dir='./data'):\n",
    "    au_dataset = pd.read_csv(data_dir).to_numpy()\n",
    "    au = au_dataset[:,:-1]\n",
    "    emotions = au_dataset[:,-1].astype(int)-1\n",
    "    au_dataset = [(x, y) for x, y in zip(au, emotions)]\n",
    "\n",
    "    trainingset_len = int(len(au_dataset) * 0.8)\n",
    "    testset_len = len(au_dataset) - trainingset_len\n",
    "\n",
    "    trainset, testset = torch.utils.data.random_split(\n",
    "        au_dataset, \n",
    "        [trainingset_len, testset_len],\n",
    "        generator=torch.Generator().manual_seed(66)\n",
    "    )\n",
    "    \n",
    "    return trainset, testset"
   ]
  },
  {
   "cell_type": "code",
   "execution_count": 5,
   "id": "ad021b87",
   "metadata": {},
   "outputs": [],
   "source": [
    "def hyper_train(config, data_dir, num_epochs, use_cuda=True, checkpoint_dir=None):\n",
    "    model: torch.nn.Module = build_model(\n",
    "        cat_dim=8,      \n",
    "        au_dim=18,     \n",
    "        latent_space_dim=config['z_dim'],     \n",
    "        hidden_dim=config['hidden_dim'],               \n",
    "        num_filters=None,                 \n",
    "        modes=modes,              \n",
    "        au_weight=config['au_weight'],           \n",
    "        emotion_weight=config['emotion_weight'],              \n",
    "        expert_type='poe',                  \n",
    "        use_cuda=True).double()\n",
    "        \n",
    "    optimizer = torch.optim.Adam(\n",
    "        params=model.parameters(), \n",
    "        lr=config['lr'], \n",
    "        betas=betas)\n",
    "    '''    \n",
    "    if checkpoint_dir:\n",
    "        model_state, optimizer_state = torch.load(\n",
    "            os.path.join(checkpoint_dir, \"checkpoint\"))\n",
    "        model.load_state_dict(model_state)\n",
    "        optimizer.load_state_dict(optimizer_state)\n",
    "    '''\n",
    "    trainset, testset = load_data(data_dir)\n",
    "    \n",
    "    test_abs = int(len(trainset) * 0.8)\n",
    "    train_subset, val_subset = random_split(\n",
    "        trainset, [test_abs, len(trainset) - test_abs])\n",
    "    \n",
    "    trainloader = DataLoader(\n",
    "        trainset, \n",
    "        batch_size=config['batch_size'],\n",
    "        shuffle=True, \n",
    "        num_workers=32)\n",
    "\n",
    "    valloader = DataLoader(\n",
    "        val_subset, \n",
    "        batch_size=config['batch_size'],\n",
    "        shuffle=True, \n",
    "        num_workers=32)\n",
    "    \n",
    "    beta = config['beta']\n",
    "    for epoch in range(num_epochs):  # loop over the dataset multiple times\n",
    "        running_loss = 0.0\n",
    "        epoch_steps = 0\n",
    "        \n",
    "        for i, data in enumerate(trainloader, 0):\n",
    "            # get the inputs; data is a list of [inputs, labels]\n",
    "            au, emotions = data\n",
    "            \n",
    "            if use_cuda:\n",
    "                if au is not None:\n",
    "                    au = au.cuda()\n",
    "                if emotions is not None:\n",
    "                    emotions = emotions.cuda()\n",
    "\n",
    "            # zero the parameter gradients\n",
    "            optimizer.zero_grad()\n",
    "            \n",
    "            (\n",
    "                au_reconstruction,\n",
    "                emotion_reconstruction,\n",
    "                z_loc_expert,\n",
    "                z_scale_expert,\n",
    "                latent_sample\n",
    "            ) = model(\n",
    "                au=au,\n",
    "                emotions=emotions\n",
    "            )\n",
    "\n",
    "            loss = model.loss_function(\n",
    "                au=au,\n",
    "                emotions=emotions,\n",
    "                au_reconstruction=au_reconstruction,\n",
    "                emotions_reconstruction=emotion_reconstruction,\n",
    "                z_loc=z_loc_expert,\n",
    "                z_scale=z_scale_expert,\n",
    "                beta=beta,\n",
    "                latent_sample=latent_sample\n",
    "            )\n",
    "            \n",
    "            loss[\"total_loss\"].backward()\n",
    "            optimizer.step()\n",
    "\n",
    "        y_true = []\n",
    "        y_pred = []\n",
    "        val_loss = 0\n",
    "        val_steps = 0\n",
    "        for i, data in enumerate(valloader, 0):\n",
    "            with torch.no_grad():\n",
    "                au, emotions = data\n",
    "            \n",
    "                if use_cuda:\n",
    "                    if au is not None:\n",
    "                        au = au.cuda()\n",
    "                    if emotions is not None:\n",
    "                        emotions = emotions.cuda()\n",
    "\n",
    "                (\n",
    "                    au_reconstruction,\n",
    "                    emotion_reconstruction,\n",
    "                    z_loc_expert,\n",
    "                    z_scale_expert,\n",
    "                    latent_sample\n",
    "                ) = model(\n",
    "                    au=au,\n",
    "                    emotions=None\n",
    "                )\n",
    "                \n",
    "                loss = model.loss_function(\n",
    "                    au=au,\n",
    "                    emotions=emotions,\n",
    "                    au_reconstruction=au_reconstruction,\n",
    "                    emotions_reconstruction=emotion_reconstruction,\n",
    "                    z_loc=z_loc_expert,\n",
    "                    z_scale=z_scale_expert,\n",
    "                    beta=beta,\n",
    "                    latent_sample=latent_sample\n",
    "                )\n",
    "                \n",
    "                reconstructed_emotions = torch.argmax(emotion_reconstruction, 1)\n",
    "                y_true += emotions.cpu()\n",
    "                y_pred += reconstructed_emotions.cpu()\n",
    "                val_loss += loss['total_loss'].cpu().numpy()\n",
    "                val_steps += 1\n",
    "                \n",
    "        matrix = confusion_matrix(y_true, y_pred)\n",
    "        accuracy = matrix.diagonal()/matrix.sum(axis=1)\n",
    "        accuracy = sum(accuracy) / len(accuracy)\n",
    "        \n",
    "        with tune.checkpoint_dir(epoch) as checkpoint_dir:\n",
    "            path = os.path.join(checkpoint_dir, \"checkpoint\")\n",
    "            torch.save((model.state_dict(), optimizer.state_dict()), path)\n",
    "        \n",
    "\n",
    "        tune.report(loss=(val_loss / val_steps), accuracy=accuracy)\n",
    "    print(\"Finished Training\")\n",
    "    "
   ]
  },
  {
   "cell_type": "code",
   "execution_count": 6,
   "id": "5ce74ea4",
   "metadata": {},
   "outputs": [],
   "source": [
    "#hyper_train(config, data_dir, num_epochs)"
   ]
  },
  {
   "cell_type": "code",
   "execution_count": 7,
   "id": "f683885e",
   "metadata": {
    "scrolled": false
   },
   "outputs": [
    {
     "data": {
      "text/html": [
       "== Status ==<br>Current time: 2022-07-04 17:12:27 (running for 00:06:48.48)<br>Memory usage on this node: 14.6/187.5 GiB<br>Using AsyncHyperBand: num_stopped=20\n",
       "Bracket: Iter 48.000: 0.5390568377410658 | Iter 24.000: 0.5526708845285784 | Iter 12.000: 0.4577409663676725 | Iter 6.000: 0.332971801840105 | Iter 3.000: 0.24318459847001095<br>Resources requested: 0/48 CPUs, 0/1 GPUs, 0.0/115.49 GiB heap, 0.0/53.49 GiB objects<br>Result logdir: /home/studenti/ballerini/ray_results/hyper_train_2022-07-04_17-05-39<br>Number of trials: 20/20 (20 TERMINATED)<br><table>\n",
       "<thead>\n",
       "<tr><th>Trial name             </th><th>status    </th><th>loc                   </th><th style=\"text-align: right;\">      au_weight</th><th style=\"text-align: right;\">  batch_size</th><th style=\"text-align: right;\">  beta</th><th style=\"text-align: right;\">  emotion_weight</th><th style=\"text-align: right;\">  hidden_dim</th><th style=\"text-align: right;\">    lr</th><th style=\"text-align: right;\">  z_dim</th><th style=\"text-align: right;\">  accuracy</th><th style=\"text-align: right;\">           loss</th><th style=\"text-align: right;\">  training_iteration</th></tr>\n",
       "</thead>\n",
       "<tbody>\n",
       "<tr><td>hyper_train_c4098_00000</td><td>TERMINATED</td><td>159.149.133.23:4037648</td><td style=\"text-align: right;\">183883         </td><td style=\"text-align: right;\">          64</td><td style=\"text-align: right;\">1e-05 </td><td style=\"text-align: right;\"> 133320         </td><td style=\"text-align: right;\">          64</td><td style=\"text-align: right;\">0.0001</td><td style=\"text-align: right;\">    150</td><td style=\"text-align: right;\">  0.247161</td><td style=\"text-align: right;\">275135         </td><td style=\"text-align: right;\">                   6</td></tr>\n",
       "<tr><td>hyper_train_c4098_00001</td><td>TERMINATED</td><td>159.149.133.23:4037679</td><td style=\"text-align: right;\">     0.0198274 </td><td style=\"text-align: right;\">         256</td><td style=\"text-align: right;\">1e-07 </td><td style=\"text-align: right;\">      0.0548111 </td><td style=\"text-align: right;\">         256</td><td style=\"text-align: right;\">0.001 </td><td style=\"text-align: right;\">    150</td><td style=\"text-align: right;\">  0.338624</td><td style=\"text-align: right;\">     0.113041  </td><td style=\"text-align: right;\">                  12</td></tr>\n",
       "<tr><td>hyper_train_c4098_00002</td><td>TERMINATED</td><td>159.149.133.23:4037681</td><td style=\"text-align: right;\"> 11117.5       </td><td style=\"text-align: right;\">         256</td><td style=\"text-align: right;\">0.0001</td><td style=\"text-align: right;\">      0.0151267 </td><td style=\"text-align: right;\">         128</td><td style=\"text-align: right;\">0.0001</td><td style=\"text-align: right;\">     25</td><td style=\"text-align: right;\">  0.515961</td><td style=\"text-align: right;\">    91.9123    </td><td style=\"text-align: right;\">                  50</td></tr>\n",
       "<tr><td>hyper_train_c4098_00003</td><td>TERMINATED</td><td>159.149.133.23:4037684</td><td style=\"text-align: right;\">289750         </td><td style=\"text-align: right;\">          64</td><td style=\"text-align: right;\">1e-07 </td><td style=\"text-align: right;\">   1239.06      </td><td style=\"text-align: right;\">         256</td><td style=\"text-align: right;\">1e-05 </td><td style=\"text-align: right;\">    100</td><td style=\"text-align: right;\">  0.198818</td><td style=\"text-align: right;\">153708         </td><td style=\"text-align: right;\">                   3</td></tr>\n",
       "<tr><td>hyper_train_c4098_00004</td><td>TERMINATED</td><td>159.149.133.23:4037686</td><td style=\"text-align: right;\">  3452.06      </td><td style=\"text-align: right;\">          64</td><td style=\"text-align: right;\">1e-07 </td><td style=\"text-align: right;\">      0.499478  </td><td style=\"text-align: right;\">          64</td><td style=\"text-align: right;\">0.0001</td><td style=\"text-align: right;\">     50</td><td style=\"text-align: right;\">  0.519424</td><td style=\"text-align: right;\">    57.1869    </td><td style=\"text-align: right;\">                  48</td></tr>\n",
       "<tr><td>hyper_train_c4098_00005</td><td>TERMINATED</td><td>159.149.133.23:4037687</td><td style=\"text-align: right;\">     0.00593868</td><td style=\"text-align: right;\">         128</td><td style=\"text-align: right;\">1e-07 </td><td style=\"text-align: right;\">      0.171799  </td><td style=\"text-align: right;\">         128</td><td style=\"text-align: right;\">0.001 </td><td style=\"text-align: right;\">     25</td><td style=\"text-align: right;\">  0.216777</td><td style=\"text-align: right;\">     0.454254  </td><td style=\"text-align: right;\">                   3</td></tr>\n",
       "<tr><td>hyper_train_c4098_00006</td><td>TERMINATED</td><td>159.149.133.23:4093742</td><td style=\"text-align: right;\">     0.462435  </td><td style=\"text-align: right;\">         512</td><td style=\"text-align: right;\">0.0001</td><td style=\"text-align: right;\">    777.204     </td><td style=\"text-align: right;\">         512</td><td style=\"text-align: right;\">1e-05 </td><td style=\"text-align: right;\">     50</td><td style=\"text-align: right;\">  0.153951</td><td style=\"text-align: right;\">  1626.89      </td><td style=\"text-align: right;\">                   3</td></tr>\n",
       "<tr><td>hyper_train_c4098_00007</td><td>TERMINATED</td><td>159.149.133.23:4109375</td><td style=\"text-align: right;\">    91.8843    </td><td style=\"text-align: right;\">         256</td><td style=\"text-align: right;\">1e-06 </td><td style=\"text-align: right;\">  25765.9       </td><td style=\"text-align: right;\">          64</td><td style=\"text-align: right;\">1e-05 </td><td style=\"text-align: right;\">    150</td><td style=\"text-align: right;\">  0.179849</td><td style=\"text-align: right;\"> 52853.6       </td><td style=\"text-align: right;\">                   3</td></tr>\n",
       "<tr><td>hyper_train_c4098_00008</td><td>TERMINATED</td><td>159.149.133.23:4159911</td><td style=\"text-align: right;\">     0.0196144 </td><td style=\"text-align: right;\">         128</td><td style=\"text-align: right;\">1e-07 </td><td style=\"text-align: right;\">      0.00343357</td><td style=\"text-align: right;\">          64</td><td style=\"text-align: right;\">0.0001</td><td style=\"text-align: right;\">     50</td><td style=\"text-align: right;\">  0.353411</td><td style=\"text-align: right;\">     0.00947759</td><td style=\"text-align: right;\">                  12</td></tr>\n",
       "<tr><td>hyper_train_c4098_00009</td><td>TERMINATED</td><td>159.149.133.23:4159962</td><td style=\"text-align: right;\">  1006.37      </td><td style=\"text-align: right;\">         256</td><td style=\"text-align: right;\">1e-05 </td><td style=\"text-align: right;\">   1124.55      </td><td style=\"text-align: right;\">          64</td><td style=\"text-align: right;\">1e-05 </td><td style=\"text-align: right;\">     25</td><td style=\"text-align: right;\">  0.17162 </td><td style=\"text-align: right;\">  3286.72      </td><td style=\"text-align: right;\">                   3</td></tr>\n",
       "<tr><td>hyper_train_c4098_00010</td><td>TERMINATED</td><td>159.149.133.23:4184998</td><td style=\"text-align: right;\">     0.0852463 </td><td style=\"text-align: right;\">         128</td><td style=\"text-align: right;\">1e-05 </td><td style=\"text-align: right;\">    767.126     </td><td style=\"text-align: right;\">         256</td><td style=\"text-align: right;\">0.01  </td><td style=\"text-align: right;\">     50</td><td style=\"text-align: right;\">  0.219414</td><td style=\"text-align: right;\">  4311.11      </td><td style=\"text-align: right;\">                   3</td></tr>\n",
       "<tr><td>hyper_train_c4098_00011</td><td>TERMINATED</td><td>159.149.133.23:27932  </td><td style=\"text-align: right;\">   833.355     </td><td style=\"text-align: right;\">         256</td><td style=\"text-align: right;\">0.0001</td><td style=\"text-align: right;\">      0.0580222 </td><td style=\"text-align: right;\">         512</td><td style=\"text-align: right;\">0.001 </td><td style=\"text-align: right;\">     25</td><td style=\"text-align: right;\">  0.721613</td><td style=\"text-align: right;\">     6.18042   </td><td style=\"text-align: right;\">                  50</td></tr>\n",
       "<tr><td>hyper_train_c4098_00012</td><td>TERMINATED</td><td>159.149.133.23:40003  </td><td style=\"text-align: right;\">  3743.69      </td><td style=\"text-align: right;\">          64</td><td style=\"text-align: right;\">0.0001</td><td style=\"text-align: right;\">      0.152533  </td><td style=\"text-align: right;\">         512</td><td style=\"text-align: right;\">0.01  </td><td style=\"text-align: right;\">     25</td><td style=\"text-align: right;\">  0.206522</td><td style=\"text-align: right;\">   294.503     </td><td style=\"text-align: right;\">                   3</td></tr>\n",
       "<tr><td>hyper_train_c4098_00013</td><td>TERMINATED</td><td>159.149.133.23:66717  </td><td style=\"text-align: right;\">703223         </td><td style=\"text-align: right;\">          64</td><td style=\"text-align: right;\">1e-07 </td><td style=\"text-align: right;\">      0.00111101</td><td style=\"text-align: right;\">         128</td><td style=\"text-align: right;\">0.001 </td><td style=\"text-align: right;\">     50</td><td style=\"text-align: right;\">  0.568438</td><td style=\"text-align: right;\"> 10781.1       </td><td style=\"text-align: right;\">                  50</td></tr>\n",
       "<tr><td>hyper_train_c4098_00014</td><td>TERMINATED</td><td>159.149.133.23:124534 </td><td style=\"text-align: right;\">     0.560264  </td><td style=\"text-align: right;\">         256</td><td style=\"text-align: right;\">1e-07 </td><td style=\"text-align: right;\">    231.071     </td><td style=\"text-align: right;\">          64</td><td style=\"text-align: right;\">0.01  </td><td style=\"text-align: right;\">    100</td><td style=\"text-align: right;\">  0.157631</td><td style=\"text-align: right;\">  1306.1       </td><td style=\"text-align: right;\">                   3</td></tr>\n",
       "<tr><td>hyper_train_c4098_00015</td><td>TERMINATED</td><td>159.149.133.23:187595 </td><td style=\"text-align: right;\">   798.994     </td><td style=\"text-align: right;\">          64</td><td style=\"text-align: right;\">1e-05 </td><td style=\"text-align: right;\">    613.131     </td><td style=\"text-align: right;\">         256</td><td style=\"text-align: right;\">0.001 </td><td style=\"text-align: right;\">     50</td><td style=\"text-align: right;\">  0.213857</td><td style=\"text-align: right;\">  2549.82      </td><td style=\"text-align: right;\">                   6</td></tr>\n",
       "<tr><td>hyper_train_c4098_00016</td><td>TERMINATED</td><td>159.149.133.23:194678 </td><td style=\"text-align: right;\">     0.00760455</td><td style=\"text-align: right;\">         512</td><td style=\"text-align: right;\">1e-05 </td><td style=\"text-align: right;\">    267.893     </td><td style=\"text-align: right;\">         512</td><td style=\"text-align: right;\">0.0001</td><td style=\"text-align: right;\">     50</td><td style=\"text-align: right;\">  0.288486</td><td style=\"text-align: right;\">   505.27      </td><td style=\"text-align: right;\">                   6</td></tr>\n",
       "<tr><td>hyper_train_c4098_00017</td><td>TERMINATED</td><td>159.149.133.23:305774 </td><td style=\"text-align: right;\">     0.0448189 </td><td style=\"text-align: right;\">          64</td><td style=\"text-align: right;\">0.0001</td><td style=\"text-align: right;\">      2.48729   </td><td style=\"text-align: right;\">          64</td><td style=\"text-align: right;\">0.01  </td><td style=\"text-align: right;\">     50</td><td style=\"text-align: right;\">  0.168919</td><td style=\"text-align: right;\">    17.3778    </td><td style=\"text-align: right;\">                   3</td></tr>\n",
       "<tr><td>hyper_train_c4098_00018</td><td>TERMINATED</td><td>159.149.133.23:337645 </td><td style=\"text-align: right;\">     0.00330163</td><td style=\"text-align: right;\">          64</td><td style=\"text-align: right;\">1e-07 </td><td style=\"text-align: right;\">      0.00217078</td><td style=\"text-align: right;\">         128</td><td style=\"text-align: right;\">0.001 </td><td style=\"text-align: right;\">    100</td><td style=\"text-align: right;\">  0.153198</td><td style=\"text-align: right;\">     0.00988248</td><td style=\"text-align: right;\">                   6</td></tr>\n",
       "<tr><td>hyper_train_c4098_00019</td><td>TERMINATED</td><td>159.149.133.23:392954 </td><td style=\"text-align: right;\">     0.00121837</td><td style=\"text-align: right;\">          64</td><td style=\"text-align: right;\">1e-05 </td><td style=\"text-align: right;\">   2064.94      </td><td style=\"text-align: right;\">         256</td><td style=\"text-align: right;\">0.0001</td><td style=\"text-align: right;\">    150</td><td style=\"text-align: right;\">  0.257127</td><td style=\"text-align: right;\">  4063.76      </td><td style=\"text-align: right;\">                   6</td></tr>\n",
       "</tbody>\n",
       "</table><br><br>"
      ],
      "text/plain": [
       "<IPython.core.display.HTML object>"
      ]
     },
     "metadata": {},
     "output_type": "display_data"
    },
    {
     "name": "stderr",
     "output_type": "stream",
     "text": [
      "2022-07-04 17:12:27,969\tINFO tune.py:747 -- Total run time: 408.63 seconds (408.45 seconds for the tuning loop).\n"
     ]
    },
    {
     "name": "stdout",
     "output_type": "stream",
     "text": [
      "Best trial config: {'batch_size': 256, 'z_dim': 25, 'hidden_dim': 512, 'lr': 0.001, 'beta': 0.0001, 'au_weight': 833.3546001379926, 'emotion_weight': 0.05802217598435909}\n",
      "Best trial final validation loss: 6.1804226791689265\n",
      "Best trial final validation accuracy: 0.7216134608677832\n"
     ]
    }
   ],
   "source": [
    "scheduler = ASHAScheduler(\n",
    "    metric=\"accuracy\",\n",
    "    mode=\"max\",\n",
    "    max_t=max_num_epochs,\n",
    "    grace_period=3,\n",
    "    reduction_factor=2)    \n",
    "\n",
    "reporter = JupyterNotebookReporter(\n",
    "    True,\n",
    "    metric_columns=[\"accuracy\",\"loss\",\"training_iteration\"])\n",
    "\n",
    "result = tune.run(\n",
    "        partial(hyper_train, data_dir=data_dir, num_epochs=num_epochs, checkpoint_dir=checkpoint_dir),\n",
    "        resources_per_trial={\"cpu\": 8, \"gpu\": 0.1},\n",
    "        config=config,\n",
    "        num_samples=num_samples,\n",
    "        scheduler=scheduler,\n",
    "        progress_reporter=reporter)\n",
    "\n",
    "best_trial = result.get_best_trial(\"accuracy\", \"max\", \"last\")\n",
    "\n",
    "print(\"Best trial config: {}\".format(best_trial.config))\n",
    "print(\"Best trial final validation loss: {}\".format(best_trial.last_result[\"loss\"]))\n",
    "print(\"Best trial final validation accuracy: {}\".format(best_trial.last_result[\"accuracy\"]))"
   ]
  },
  {
   "cell_type": "code",
   "execution_count": 8,
   "id": "269a00a3",
   "metadata": {},
   "outputs": [
    {
     "data": {
      "text/plain": [
       "{'batch_size': 256,\n",
       " 'z_dim': 25,\n",
       " 'hidden_dim': 512,\n",
       " 'lr': 0.001,\n",
       " 'beta': 0.0001,\n",
       " 'au_weight': 833.3546001379926,\n",
       " 'emotion_weight': 0.05802217598435909}"
      ]
     },
     "execution_count": 8,
     "metadata": {},
     "output_type": "execute_result"
    }
   ],
   "source": [
    "best_trial.config"
   ]
  },
  {
   "cell_type": "code",
   "execution_count": 23,
   "id": "7642b555",
   "metadata": {},
   "outputs": [
    {
     "name": "stdout",
     "output_type": "stream",
     "text": [
      "{'cat_dim': 8, 'au_dim': 18, 'latent_space_dim': 25, 'hidden_dim': 512, 'num_filters': None, 'modes': {'au': True, 'face': None, 'emotion': True}, 'au_weight': 833.3546001379926, 'emotion_weight': 0.05802217598435909, 'expert_type': 'poe', 'use_cuda': True}\n",
      "{'learning_rate': 0.001, 'optim_betas': [0.95, 0.98], 'num_epochs': 100, 'batch_size': 256}\n"
     ]
    }
   ],
   "source": [
    "model_args = {\n",
    "    'cat_dim':8,      \n",
    "    'au_dim':18,     \n",
    "    'latent_space_dim':best_trial.config['z_dim'],     \n",
    "    'hidden_dim':best_trial.config['hidden_dim'],               \n",
    "    'num_filters':None,                 \n",
    "    'modes':modes,              \n",
    "    'au_weight':best_trial.config['au_weight'],           \n",
    "    'emotion_weight':best_trial.config['emotion_weight'],              \n",
    "    'expert_type':'poe',                  \n",
    "    'use_cuda':True}\n",
    "\n",
    "print(model_args)\n",
    "train_args = {\n",
    "    'learning_rate' : best_trial.config['lr'],\n",
    "    'optim_betas' : betas,\n",
    "    'num_epochs' : num_epochs,\n",
    "    'batch_size' : best_trial.config['batch_size']\n",
    "}\n",
    "print(train_args)"
   ]
  },
  {
   "cell_type": "code",
   "execution_count": 24,
   "id": "f7d08fdc",
   "metadata": {},
   "outputs": [],
   "source": [
    "best_trained_model =  build_model(**model_args).double()"
   ]
  },
  {
   "cell_type": "code",
   "execution_count": 25,
   "id": "6c050645",
   "metadata": {},
   "outputs": [
    {
     "data": {
      "text/plain": [
       "<All keys matched successfully>"
      ]
     },
     "execution_count": 25,
     "metadata": {},
     "output_type": "execute_result"
    }
   ],
   "source": [
    "best_checkpoint_dir = best_trial.checkpoint.value\n",
    "model_state, optimizer_state = torch.load(os.path.join(\n",
    "        best_checkpoint_dir, \"checkpoint\"))\n",
    "\n",
    "best_trained_model.load_state_dict(model_state)"
   ]
  },
  {
   "cell_type": "code",
   "execution_count": 26,
   "id": "2578f0be",
   "metadata": {},
   "outputs": [],
   "source": [
    "save_model = False\n",
    "\n",
    "if save_model:\n",
    "    PATH = \"../trained_models/best_train_moe.save\"\n",
    "    torch.save({'model_args' : model_args,\n",
    "                'train_args' : train_args,\n",
    "                'model_state' : model_state,\n",
    "                'optimizer_state':optimizer_state\n",
    "                }, PATH)"
   ]
  },
  {
   "cell_type": "code",
   "execution_count": 27,
   "id": "f33a4ac3",
   "metadata": {},
   "outputs": [
    {
     "name": "stderr",
     "output_type": "stream",
     "text": [
      "100%|████████████████████████████████████████████████████████████████| 2048/2048 [00:05<00:00, 384.73it/s]\n"
     ]
    },
    {
     "name": "stdout",
     "output_type": "stream",
     "text": [
      "              precision    recall  f1-score   support\n",
      "\n",
      "     neutral       0.84      0.56      0.67      4019\n",
      "        calm       0.45      0.66      0.53      4064\n",
      "       happy       0.56      0.44      0.49      4170\n",
      "         sad       0.18      0.38      0.24      4146\n",
      "       angry       0.55      0.42      0.47      4107\n",
      "     fearful       0.25      0.20      0.22      4106\n",
      "     disgust       0.60      0.60      0.60      3999\n",
      "   surprised       0.36      0.14      0.21      4157\n",
      "\n",
      "    accuracy                           0.42     32768\n",
      "   macro avg       0.47      0.42      0.43     32768\n",
      "weighted avg       0.47      0.42      0.43     32768\n",
      "\n"
     ]
    },
    {
     "data": {
      "image/png": "[encoded data removed]",
      "text/plain": [
       "<Figure size 720x504 with 2 Axes>"
      ]
     },
     "metadata": {
      "needs_background": "light"
     },
     "output_type": "display_data"
    }
   ],
   "source": [
    "labels = list(Rd.emocat.values())\n",
    "y_true, y_pred = U.au_recon_and_classiffication_accuracy(best_trained_model, num_samples=2048)\n",
    "cr = classification_report(y_true, y_pred, target_names=labels)\n",
    "cm = confusion_matrix(y_true, y_pred)\n",
    "cm = pd.DataFrame(cm, index = [i for i in labels],columns = [i for i in labels])\n",
    "\n",
    "plt.figure(figsize = (10,7))\n",
    "sn.heatmap(cm, annot=True, fmt=\"d\")\n",
    "print(cr)"
   ]
  },
  {
   "cell_type": "code",
   "execution_count": null,
   "id": "92e7e114",
   "metadata": {},
   "outputs": [],
   "source": []
  }
 ],
 "metadata": {
  "kernelspec": {
   "display_name": "Python [conda env:rsa-env]",
   "language": "python",
   "name": "conda-env-rsa-env-py"
  },
  "language_info": {
   "codemirror_mode": {
    "name": "ipython",
    "version": 3
   },
   "file_extension": ".py",
   "mimetype": "text/x-python",
   "name": "python",
   "nbconvert_exporter": "python",
   "pygments_lexer": "ipython3",
   "version": "3.10.4"
  }
 },
 "nbformat": 4,
 "nbformat_minor": 5
}
