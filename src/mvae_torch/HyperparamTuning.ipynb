{
 "cells": [
  {
   "cell_type": "code",
   "execution_count": 1,
   "id": "ade060c2",
   "metadata": {},
   "outputs": [],
   "source": [
    "import os, sys; sys.path.append(os.path.dirname(os.getcwd()))\n",
    "from tqdm import tqdm\n",
    "import torch\n",
    "from torch.utils.data import DataLoader, random_split\n",
    "from sklearn.metrics import confusion_matrix, classification_report\n",
    "\n",
    "import numpy as np\n",
    "import pandas as pd\n",
    "import matplotlib.pyplot as plt\n",
    "import seaborn as sn\n",
    "\n",
    "import multimodal_vae\n",
    "import torch_mvae_util as U\n",
    "import util.RAVDESS_dataset_util as Rd\n",
    "from train_mvae import build_model, train"
   ]
  },
  {
   "cell_type": "code",
   "execution_count": 2,
   "id": "7f58b83d",
   "metadata": {},
   "outputs": [],
   "source": [
    "from functools import partial\n",
    "from ray import tune\n",
    "from ray.tune import CLIReporter\n",
    "from ray.tune.schedulers import ASHAScheduler\n",
    "from ray.tune import JupyterNotebookReporter"
   ]
  },
  {
   "cell_type": "code",
   "execution_count": 3,
   "id": "bae71a5b",
   "metadata": {},
   "outputs": [],
   "source": [
    "num_workers=32\n",
    "max_num_epochs=50\n",
    "num_epochs=100\n",
    "num_samples=20\n",
    "betas=[0.95, 0.98]\n",
    "data_dir='/home/studenti/ballerini/datasets/au-emo.csv'\n",
    "checkpoint_dir='./tuning'\n",
    "\n",
    "modes={'au':True, 'face':None, 'emotion':True}\n",
    "\n",
    "config = {\n",
    "    'batch_size':tune.choice([64, 128, 256, 512]),\n",
    "    'z_dim':tune.choice([25, 50, 100, 150]),\n",
    "    'hidden_dim':tune.choice([64, 128, 256, 512]),\n",
    "    'lr': tune.choice([1e-2, 1e-3, 1e-4, 1e-5]),\n",
    "    'beta': tune.choice([1e-4, 1e-5, 1e-6, 1e-7]),\n",
    "    'au_weight':tune.loguniform(1e-3, 1e6),\n",
    "    'emotion_weight':tune.loguniform(1e-3, 1e6),\n",
    "}"
   ]
  },
  {
   "cell_type": "code",
   "execution_count": 4,
   "id": "fade8815",
   "metadata": {},
   "outputs": [],
   "source": [
    "def load_data(data_dir='./data'):\n",
    "    au_dataset = pd.read_csv(data_dir).to_numpy()\n",
    "    au = au_dataset[:,:-1]\n",
    "    emotions = au_dataset[:,-1].astype(int)-1\n",
    "    au_dataset = [(x, y) for x, y in zip(au, emotions)]\n",
    "\n",
    "    trainingset_len = int(len(au_dataset) * 0.8)\n",
    "    testset_len = len(au_dataset) - trainingset_len\n",
    "\n",
    "    trainset, testset = torch.utils.data.random_split(\n",
    "        au_dataset, \n",
    "        [trainingset_len, testset_len],\n",
    "        generator=torch.Generator().manual_seed(66)\n",
    "    )\n",
    "    \n",
    "    return trainset, testset"
   ]
  },
  {
   "cell_type": "code",
   "execution_count": 5,
   "id": "c906e828",
   "metadata": {},
   "outputs": [],
   "source": [
    "def hyper_train(config, data_dir, num_epochs, use_cuda=True, checkpoint_dir=None):\n",
    "    model: torch.nn.Module = build_model(\n",
    "        cat_dim=8,      \n",
    "        au_dim=18,     \n",
    "        latent_space_dim=config['z_dim'],     \n",
    "        hidden_dim=config['hidden_dim'],               \n",
    "        num_filters=None,                 \n",
    "        modes=modes,              \n",
    "        au_weight=config['au_weight'],           \n",
    "        emotion_weight=config['emotion_weight'],              \n",
    "        expert_type='poe',                  \n",
    "        use_cuda=True).double()\n",
    "        \n",
    "    optimizer = torch.optim.Adam(\n",
    "        params=model.parameters(), \n",
    "        lr=config['lr'], \n",
    "        betas=betas)\n",
    "    \n",
    "    '''    \n",
    "    if checkpoint_dir:\n",
    "        model_state, optimizer_state = torch.load(\n",
    "            os.path.join(checkpoint_dir, \"checkpoint\"))\n",
    "        model.load_state_dict(model_state)\n",
    "        optimizer.load_state_dict(optimizer_state)\n",
    "    '''\n",
    "    trainset, testset = load_data(data_dir)\n",
    "    \n",
    "    test_abs = int(len(trainset) * 0.8)\n",
    "    train_subset, val_subset = random_split(\n",
    "        trainset, [test_abs, len(trainset) - test_abs])\n",
    "    \n",
    "    trainloader = DataLoader(\n",
    "        trainset, \n",
    "        batch_size=config['batch_size'],\n",
    "        shuffle=True, \n",
    "        num_workers=32)\n",
    "\n",
    "    valloader = DataLoader(\n",
    "        val_subset, \n",
    "        batch_size=config['batch_size'],\n",
    "        shuffle=True, \n",
    "        num_workers=32)\n",
    "    \n",
    "    beta = config['beta']\n",
    "    for epoch in range(num_epochs):  # loop over the dataset multiple times\n",
    "        running_loss = 0.0\n",
    "        epoch_steps = 0\n",
    "        \n",
    "        for i, data in enumerate(trainloader, 0):\n",
    "            # get the inputs; data is a list of [inputs, labels]\n",
    "            au, emotions = data\n",
    "            \n",
    "            if use_cuda:\n",
    "                if au is not None:\n",
    "                    au = au.cuda()\n",
    "                if emotions is not None:\n",
    "                    emotions = emotions.cuda()\n",
    "\n",
    "            # zero the parameter gradients\n",
    "            optimizer.zero_grad()\n",
    "            \n",
    "            (\n",
    "                au_reconstruction,\n",
    "                emotion_reconstruction,\n",
    "                z_loc_expert,\n",
    "                z_scale_expert,\n",
    "                latent_sample\n",
    "            ) = model(\n",
    "                au=au,\n",
    "                emotions=emotions\n",
    "            )\n",
    "\n",
    "            loss = model.loss_function(\n",
    "                au=au,\n",
    "                emotions=emotions,\n",
    "                au_reconstruction=au_reconstruction,\n",
    "                emotions_reconstruction=emotion_reconstruction,\n",
    "                z_loc=z_loc_expert,\n",
    "                z_scale=z_scale_expert,\n",
    "                beta=beta,\n",
    "                latent_sample=latent_sample\n",
    "            )\n",
    "            \n",
    "            loss[\"total_loss\"].backward()\n",
    "            optimizer.step()\n",
    "\n",
    "        y_true = []\n",
    "        y_pred = []\n",
    "        val_loss = 0\n",
    "        val_steps = 0\n",
    "        for i, data in enumerate(valloader, 0):\n",
    "            with torch.no_grad():\n",
    "                au, emotions = data\n",
    "            \n",
    "                if use_cuda:\n",
    "                    if au is not None:\n",
    "                        au = au.cuda()\n",
    "                    if emotions is not None:\n",
    "                        emotions = emotions.cuda()\n",
    "\n",
    "                (\n",
    "                    au_reconstruction,\n",
    "                    emotion_reconstruction,\n",
    "                    z_loc_expert,\n",
    "                    z_scale_expert,\n",
    "                    latent_sample\n",
    "                ) = model(\n",
    "                    au=au,\n",
    "                    emotions=None\n",
    "                )\n",
    "                \n",
    "                loss = model.loss_function(\n",
    "                    au=au,\n",
    "                    emotions=emotions,\n",
    "                    au_reconstruction=au_reconstruction,\n",
    "                    emotions_reconstruction=emotion_reconstruction,\n",
    "                    z_loc=z_loc_expert,\n",
    "                    z_scale=z_scale_expert,\n",
    "                    beta=beta,\n",
    "                    latent_sample=latent_sample\n",
    "                )\n",
    "                \n",
    "                reconstructed_emotions = torch.argmax(emotion_reconstruction, 1)\n",
    "                y_true += emotions.cpu()\n",
    "                y_pred += reconstructed_emotions.cpu()\n",
    "                val_loss += loss['total_loss'].cpu().numpy()\n",
    "                val_steps += 1\n",
    "                \n",
    "        matrix = confusion_matrix(y_true, y_pred)\n",
    "        accuracy = matrix.diagonal()/matrix.sum(axis=1)\n",
    "        accuracy = sum(accuracy) / len(accuracy)\n",
    "        \n",
    "        with tune.checkpoint_dir(epoch) as checkpoint_dir:\n",
    "            path = os.path.join(checkpoint_dir, \"checkpoint\")\n",
    "            torch.save((model.state_dict(), optimizer.state_dict()), path)\n",
    "        \n",
    "\n",
    "        tune.report(loss=(val_loss / val_steps), accuracy=accuracy)\n",
    "    print(\"Finished Training\")\n",
    "    "
   ]
  },
  {
   "cell_type": "code",
   "execution_count": 7,
   "id": "f683885e",
   "metadata": {
    "scrolled": false
   },
   "outputs": [
    {
     "data": {
      "text/html": [
       "== Status ==<br>Current time: 2022-07-04 18:24:55 (running for 00:05:52.60)<br>Memory usage on this node: 14.6/187.5 GiB<br>Using AsyncHyperBand: num_stopped=20\n",
       "Bracket: Iter 48.000: 0.36107533409688847 | Iter 24.000: 0.40237906958770864 | Iter 12.000: 0.3517135097076225 | Iter 6.000: 0.33055646442207687 | Iter 3.000: 0.24478630002872087<br>Resources requested: 0/48 CPUs, 0/1 GPUs, 0.0/115.47 GiB heap, 0.0/53.48 GiB objects<br>Result logdir: /home/studenti/ballerini/ray_results/hyper_train_2022-07-04_18-19-03<br>Number of trials: 20/20 (20 TERMINATED)<br><table>\n",
       "<thead>\n",
       "<tr><th>Trial name             </th><th>status    </th><th>loc                   </th><th style=\"text-align: right;\">      au_weight</th><th style=\"text-align: right;\">  batch_size</th><th style=\"text-align: right;\">  beta</th><th style=\"text-align: right;\">  emotion_weight</th><th style=\"text-align: right;\">  hidden_dim</th><th style=\"text-align: right;\">    lr</th><th style=\"text-align: right;\">  z_dim</th><th style=\"text-align: right;\">  accuracy</th><th style=\"text-align: right;\">            loss</th><th style=\"text-align: right;\">  training_iteration</th></tr>\n",
       "</thead>\n",
       "<tbody>\n",
       "<tr><td>hyper_train_04d9c_00000</td><td>TERMINATED</td><td>159.149.133.23:861517 </td><td style=\"text-align: right;\"> 15614.8       </td><td style=\"text-align: right;\">         512</td><td style=\"text-align: right;\">1e-06 </td><td style=\"text-align: right;\">     23.7237    </td><td style=\"text-align: right;\">         512</td><td style=\"text-align: right;\">0.0001</td><td style=\"text-align: right;\">    100</td><td style=\"text-align: right;\">  0.195148</td><td style=\"text-align: right;\">   372.162      </td><td style=\"text-align: right;\">                  50</td></tr>\n",
       "<tr><td>hyper_train_04d9c_00001</td><td>TERMINATED</td><td>159.149.133.23:861547 </td><td style=\"text-align: right;\">   501.801     </td><td style=\"text-align: right;\">         256</td><td style=\"text-align: right;\">1e-06 </td><td style=\"text-align: right;\">      0.685339  </td><td style=\"text-align: right;\">         128</td><td style=\"text-align: right;\">1e-05 </td><td style=\"text-align: right;\">     50</td><td style=\"text-align: right;\">  0.126795</td><td style=\"text-align: right;\">   545.003      </td><td style=\"text-align: right;\">                   3</td></tr>\n",
       "<tr><td>hyper_train_04d9c_00002</td><td>TERMINATED</td><td>159.149.133.23:861549 </td><td style=\"text-align: right;\">  1715.67      </td><td style=\"text-align: right;\">         512</td><td style=\"text-align: right;\">0.0001</td><td style=\"text-align: right;\">    171.886     </td><td style=\"text-align: right;\">         128</td><td style=\"text-align: right;\">0.01  </td><td style=\"text-align: right;\">     50</td><td style=\"text-align: right;\">  0.26242 </td><td style=\"text-align: right;\">   844.355      </td><td style=\"text-align: right;\">                   3</td></tr>\n",
       "<tr><td>hyper_train_04d9c_00003</td><td>TERMINATED</td><td>159.149.133.23:861552 </td><td style=\"text-align: right;\">     0.034634  </td><td style=\"text-align: right;\">          64</td><td style=\"text-align: right;\">0.0001</td><td style=\"text-align: right;\">  60471.9       </td><td style=\"text-align: right;\">         128</td><td style=\"text-align: right;\">1e-05 </td><td style=\"text-align: right;\">     25</td><td style=\"text-align: right;\">  0.313553</td><td style=\"text-align: right;\">111227          </td><td style=\"text-align: right;\">                   6</td></tr>\n",
       "<tr><td>hyper_train_04d9c_00004</td><td>TERMINATED</td><td>159.149.133.23:861553 </td><td style=\"text-align: right;\">     0.79315   </td><td style=\"text-align: right;\">         512</td><td style=\"text-align: right;\">0.0001</td><td style=\"text-align: right;\">   1176.89      </td><td style=\"text-align: right;\">         128</td><td style=\"text-align: right;\">0.0001</td><td style=\"text-align: right;\">    150</td><td style=\"text-align: right;\">  0.333239</td><td style=\"text-align: right;\">  2086.83       </td><td style=\"text-align: right;\">                  12</td></tr>\n",
       "<tr><td>hyper_train_04d9c_00005</td><td>TERMINATED</td><td>159.149.133.23:861554 </td><td style=\"text-align: right;\"> 70197.2       </td><td style=\"text-align: right;\">          64</td><td style=\"text-align: right;\">1e-07 </td><td style=\"text-align: right;\">  53197.4       </td><td style=\"text-align: right;\">         512</td><td style=\"text-align: right;\">1e-05 </td><td style=\"text-align: right;\">     50</td><td style=\"text-align: right;\">  0.225175</td><td style=\"text-align: right;\">146857          </td><td style=\"text-align: right;\">                   3</td></tr>\n",
       "<tr><td>hyper_train_04d9c_00006</td><td>TERMINATED</td><td>159.149.133.23:915137 </td><td style=\"text-align: right;\"> 93488.5       </td><td style=\"text-align: right;\">          64</td><td style=\"text-align: right;\">1e-05 </td><td style=\"text-align: right;\">      0.00645051</td><td style=\"text-align: right;\">         128</td><td style=\"text-align: right;\">0.01  </td><td style=\"text-align: right;\">    150</td><td style=\"text-align: right;\">  0.247049</td><td style=\"text-align: right;\">  6143.36       </td><td style=\"text-align: right;\">                   3</td></tr>\n",
       "<tr><td>hyper_train_04d9c_00007</td><td>TERMINATED</td><td>159.149.133.23:921344 </td><td style=\"text-align: right;\">     3.25485   </td><td style=\"text-align: right;\">         128</td><td style=\"text-align: right;\">0.0001</td><td style=\"text-align: right;\">      0.366391  </td><td style=\"text-align: right;\">          64</td><td style=\"text-align: right;\">0.0001</td><td style=\"text-align: right;\">    150</td><td style=\"text-align: right;\">  0.330531</td><td style=\"text-align: right;\">     0.801495   </td><td style=\"text-align: right;\">                   6</td></tr>\n",
       "<tr><td>hyper_train_04d9c_00008</td><td>TERMINATED</td><td>159.149.133.23:936609 </td><td style=\"text-align: right;\"> 50034.1       </td><td style=\"text-align: right;\">          64</td><td style=\"text-align: right;\">1e-07 </td><td style=\"text-align: right;\">      2.55607   </td><td style=\"text-align: right;\">          64</td><td style=\"text-align: right;\">0.0001</td><td style=\"text-align: right;\">     25</td><td style=\"text-align: right;\">  0.528251</td><td style=\"text-align: right;\">   706.995      </td><td style=\"text-align: right;\">                  50</td></tr>\n",
       "<tr><td>hyper_train_04d9c_00009</td><td>TERMINATED</td><td>159.149.133.23:988283 </td><td style=\"text-align: right;\">     0.00887919</td><td style=\"text-align: right;\">         256</td><td style=\"text-align: right;\">1e-05 </td><td style=\"text-align: right;\">      0.392567  </td><td style=\"text-align: right;\">          64</td><td style=\"text-align: right;\">0.001 </td><td style=\"text-align: right;\">     50</td><td style=\"text-align: right;\">  0.203191</td><td style=\"text-align: right;\">     0.914433   </td><td style=\"text-align: right;\">                   3</td></tr>\n",
       "<tr><td>hyper_train_04d9c_00010</td><td>TERMINATED</td><td>159.149.133.23:988444 </td><td style=\"text-align: right;\">     1.84894   </td><td style=\"text-align: right;\">         256</td><td style=\"text-align: right;\">1e-05 </td><td style=\"text-align: right;\">      0.0779147 </td><td style=\"text-align: right;\">         128</td><td style=\"text-align: right;\">0.0001</td><td style=\"text-align: right;\">    150</td><td style=\"text-align: right;\">  0.333042</td><td style=\"text-align: right;\">     0.19654    </td><td style=\"text-align: right;\">                  12</td></tr>\n",
       "<tr><td>hyper_train_04d9c_00011</td><td>TERMINATED</td><td>159.149.133.23:1046999</td><td style=\"text-align: right;\">     0.010877  </td><td style=\"text-align: right;\">         512</td><td style=\"text-align: right;\">0.0001</td><td style=\"text-align: right;\">      6.42286   </td><td style=\"text-align: right;\">         256</td><td style=\"text-align: right;\">0.01  </td><td style=\"text-align: right;\">     50</td><td style=\"text-align: right;\">  0.158279</td><td style=\"text-align: right;\">    36.8542     </td><td style=\"text-align: right;\">                   3</td></tr>\n",
       "<tr><td>hyper_train_04d9c_00012</td><td>TERMINATED</td><td>159.149.133.23:1052609</td><td style=\"text-align: right;\">     1.72014   </td><td style=\"text-align: right;\">         128</td><td style=\"text-align: right;\">1e-06 </td><td style=\"text-align: right;\"> 152182         </td><td style=\"text-align: right;\">         256</td><td style=\"text-align: right;\">0.001 </td><td style=\"text-align: right;\">     50</td><td style=\"text-align: right;\">  0.240703</td><td style=\"text-align: right;\">354985          </td><td style=\"text-align: right;\">                   3</td></tr>\n",
       "<tr><td>hyper_train_04d9c_00013</td><td>TERMINATED</td><td>159.149.133.23:1052658</td><td style=\"text-align: right;\">252132         </td><td style=\"text-align: right;\">         128</td><td style=\"text-align: right;\">1e-06 </td><td style=\"text-align: right;\">   2103.03      </td><td style=\"text-align: right;\">         128</td><td style=\"text-align: right;\">0.01  </td><td style=\"text-align: right;\">     25</td><td style=\"text-align: right;\">  0.215112</td><td style=\"text-align: right;\"> 33897.2        </td><td style=\"text-align: right;\">                   3</td></tr>\n",
       "<tr><td>hyper_train_04d9c_00014</td><td>TERMINATED</td><td>159.149.133.23:1102064</td><td style=\"text-align: right;\">     0.019509  </td><td style=\"text-align: right;\">          64</td><td style=\"text-align: right;\">0.0001</td><td style=\"text-align: right;\">      0.578929  </td><td style=\"text-align: right;\">          64</td><td style=\"text-align: right;\">1e-05 </td><td style=\"text-align: right;\">     25</td><td style=\"text-align: right;\">  0.242524</td><td style=\"text-align: right;\">     1.16075    </td><td style=\"text-align: right;\">                   3</td></tr>\n",
       "<tr><td>hyper_train_04d9c_00015</td><td>TERMINATED</td><td>159.149.133.23:1125383</td><td style=\"text-align: right;\">   303.738     </td><td style=\"text-align: right;\">         256</td><td style=\"text-align: right;\">1e-06 </td><td style=\"text-align: right;\"> 384485         </td><td style=\"text-align: right;\">         256</td><td style=\"text-align: right;\">0.0001</td><td style=\"text-align: right;\">    100</td><td style=\"text-align: right;\">  0.314363</td><td style=\"text-align: right;\">701907          </td><td style=\"text-align: right;\">                   6</td></tr>\n",
       "<tr><td>hyper_train_04d9c_00016</td><td>TERMINATED</td><td>159.149.133.23:1135402</td><td style=\"text-align: right;\">     3.59733   </td><td style=\"text-align: right;\">         128</td><td style=\"text-align: right;\">0.0001</td><td style=\"text-align: right;\">      0.00389841</td><td style=\"text-align: right;\">         512</td><td style=\"text-align: right;\">0.01  </td><td style=\"text-align: right;\">     25</td><td style=\"text-align: right;\">  0.222602</td><td style=\"text-align: right;\">     0.346348   </td><td style=\"text-align: right;\">                   3</td></tr>\n",
       "<tr><td>hyper_train_04d9c_00017</td><td>TERMINATED</td><td>159.149.133.23:1178968</td><td style=\"text-align: right;\">  1410.93      </td><td style=\"text-align: right;\">         256</td><td style=\"text-align: right;\">1e-06 </td><td style=\"text-align: right;\">      0.00827242</td><td style=\"text-align: right;\">          64</td><td style=\"text-align: right;\">0.01  </td><td style=\"text-align: right;\">     25</td><td style=\"text-align: right;\">  0.157815</td><td style=\"text-align: right;\">   146.353      </td><td style=\"text-align: right;\">                   3</td></tr>\n",
       "<tr><td>hyper_train_04d9c_00018</td><td>TERMINATED</td><td>159.149.133.23:1185587</td><td style=\"text-align: right;\">  8307.24      </td><td style=\"text-align: right;\">         512</td><td style=\"text-align: right;\">0.0001</td><td style=\"text-align: right;\">     64.9964    </td><td style=\"text-align: right;\">         256</td><td style=\"text-align: right;\">0.01  </td><td style=\"text-align: right;\">    150</td><td style=\"text-align: right;\">  0.236591</td><td style=\"text-align: right;\">  1556.8        </td><td style=\"text-align: right;\">                   3</td></tr>\n",
       "<tr><td>hyper_train_04d9c_00019</td><td>TERMINATED</td><td>159.149.133.23:1201854</td><td style=\"text-align: right;\">145146         </td><td style=\"text-align: right;\">          64</td><td style=\"text-align: right;\">0.0001</td><td style=\"text-align: right;\"> 674097         </td><td style=\"text-align: right;\">         512</td><td style=\"text-align: right;\">0.001 </td><td style=\"text-align: right;\">     50</td><td style=\"text-align: right;\">  0.278324</td><td style=\"text-align: right;\">     2.19852e+06</td><td style=\"text-align: right;\">                   6</td></tr>\n",
       "</tbody>\n",
       "</table><br><br>"
      ],
      "text/plain": [
       "<IPython.core.display.HTML object>"
      ]
     },
     "metadata": {},
     "output_type": "display_data"
    },
    {
     "name": "stderr",
     "output_type": "stream",
     "text": [
      "2022-07-04 18:24:55,801\tINFO tune.py:747 -- Total run time: 352.76 seconds (352.58 seconds for the tuning loop).\n"
     ]
    },
    {
     "name": "stdout",
     "output_type": "stream",
     "text": [
      "Best trial config: {'batch_size': 64, 'z_dim': 25, 'hidden_dim': 64, 'lr': 0.0001, 'beta': 1e-07, 'au_weight': 50034.05640947136, 'emotion_weight': 2.556065361069233}\n",
      "Best trial final validation loss: 706.9954784199389\n",
      "Best trial final validation accuracy: 0.528250660580455\n"
     ]
    }
   ],
   "source": [
    "scheduler = ASHAScheduler(\n",
    "    metric=\"accuracy\",\n",
    "    mode=\"max\",\n",
    "    max_t=max_num_epochs,\n",
    "    grace_period=3,\n",
    "    reduction_factor=2)    \n",
    "\n",
    "reporter = JupyterNotebookReporter(\n",
    "    True,\n",
    "    metric_columns=[\"accuracy\",\"loss\",\"training_iteration\"])\n",
    "\n",
    "result = tune.run(\n",
    "        partial(hyper_train, data_dir=data_dir, num_epochs=num_epochs, checkpoint_dir=checkpoint_dir),\n",
    "        resources_per_trial={\"cpu\": 8, \"gpu\": 0.1},\n",
    "        config=config,\n",
    "        num_samples=num_samples,\n",
    "        scheduler=scheduler,\n",
    "        progress_reporter=reporter)\n",
    "\n",
    "best_trial = result.get_best_trial(\"accuracy\", \"max\", \"last\")\n",
    "\n",
    "print(\"Best trial config: {}\".format(best_trial.config))\n",
    "print(\"Best trial final validation loss: {}\".format(best_trial.last_result[\"loss\"]))\n",
    "print(\"Best trial final validation accuracy: {}\".format(best_trial.last_result[\"accuracy\"]))"
   ]
  },
  {
   "cell_type": "code",
   "execution_count": 8,
   "id": "bb41c8f2",
   "metadata": {},
   "outputs": [
    {
     "data": {
      "text/plain": [
       "{'batch_size': 64,\n",
       " 'z_dim': 25,\n",
       " 'hidden_dim': 64,\n",
       " 'lr': 0.0001,\n",
       " 'beta': 1e-07,\n",
       " 'au_weight': 50034.05640947136,\n",
       " 'emotion_weight': 2.556065361069233}"
      ]
     },
     "execution_count": 8,
     "metadata": {},
     "output_type": "execute_result"
    }
   ],
   "source": [
    "best_trial.config"
   ]
  },
  {
   "cell_type": "code",
   "execution_count": 9,
   "id": "26b0175e",
   "metadata": {},
   "outputs": [
    {
     "name": "stdout",
     "output_type": "stream",
     "text": [
      "{'cat_dim': 8, 'au_dim': 18, 'latent_space_dim': 25, 'hidden_dim': 64, 'num_filters': None, 'modes': {'au': True, 'face': None, 'emotion': True}, 'au_weight': 50034.05640947136, 'emotion_weight': 2.556065361069233, 'expert_type': 'poe', 'use_cuda': True}\n",
      "{'learning_rate': 0.0001, 'beta': 1e-07, 'optim_betas': [0.95, 0.98], 'num_epochs': 100, 'batch_size': 64}\n"
     ]
    }
   ],
   "source": [
    "model_args = {\n",
    "    'cat_dim':8,      \n",
    "    'au_dim':18,     \n",
    "    'latent_space_dim':best_trial.config['z_dim'],     \n",
    "    'hidden_dim':best_trial.config['hidden_dim'],               \n",
    "    'num_filters':None,                 \n",
    "    'modes':modes,              \n",
    "    'au_weight':best_trial.config['au_weight'],           \n",
    "    'emotion_weight':best_trial.config['emotion_weight'],              \n",
    "    'expert_type':'poe',                  \n",
    "    'use_cuda':True}\n",
    "\n",
    "print(model_args)\n",
    "train_args = {\n",
    "    'learning_rate' : best_trial.config['lr'],\n",
    "    'beta': best_trial.config['beta'],\n",
    "    'optim_betas' : betas,\n",
    "    'num_epochs' : num_epochs,\n",
    "    'batch_size' : best_trial.config['batch_size']\n",
    "}\n",
    "print(train_args)"
   ]
  },
  {
   "cell_type": "code",
   "execution_count": 10,
   "id": "dad62f58",
   "metadata": {},
   "outputs": [],
   "source": [
    "best_trained_model =  build_model(**model_args).double()"
   ]
  },
  {
   "cell_type": "code",
   "execution_count": 11,
   "id": "479430c2",
   "metadata": {},
   "outputs": [
    {
     "data": {
      "text/plain": [
       "<All keys matched successfully>"
      ]
     },
     "execution_count": 11,
     "metadata": {},
     "output_type": "execute_result"
    }
   ],
   "source": [
    "best_checkpoint_dir = best_trial.checkpoint.value\n",
    "model_state, optimizer_state = torch.load(os.path.join(\n",
    "        best_checkpoint_dir, \"checkpoint\"))\n",
    "\n",
    "best_trained_model.load_state_dict(model_state)"
   ]
  },
  {
   "cell_type": "code",
   "execution_count": 12,
   "id": "0984be05",
   "metadata": {},
   "outputs": [],
   "source": [
    "save_model = False\n",
    "\n",
    "if save_model:\n",
    "    PATH = \"../trained_models/best_train_moe.save\"\n",
    "    torch.save({'model_args' : model_args,\n",
    "                'train_args' : train_args,\n",
    "                'model_state' : model_state\n",
    "                }, PATH)"
   ]
  },
  {
   "cell_type": "code",
   "execution_count": 13,
   "id": "a3efa0b6",
   "metadata": {},
   "outputs": [
    {
     "name": "stderr",
     "output_type": "stream",
     "text": [
      "100%|████████████████████████████████████████████████████████████████| 2048/2048 [00:05<00:00, 380.40it/s]\n",
      "/home/studenti/ballerini/miniconda3/envs/rsa-env/lib/python3.10/site-packages/sklearn/metrics/_classification.py:1327: UndefinedMetricWarning: Precision and F-score are ill-defined and being set to 0.0 in labels with no predicted samples. Use `zero_division` parameter to control this behavior.\n",
      "  _warn_prf(average, modifier, msg_start, len(result))\n",
      "/home/studenti/ballerini/miniconda3/envs/rsa-env/lib/python3.10/site-packages/sklearn/metrics/_classification.py:1327: UndefinedMetricWarning: Precision and F-score are ill-defined and being set to 0.0 in labels with no predicted samples. Use `zero_division` parameter to control this behavior.\n",
      "  _warn_prf(average, modifier, msg_start, len(result))\n",
      "/home/studenti/ballerini/miniconda3/envs/rsa-env/lib/python3.10/site-packages/sklearn/metrics/_classification.py:1327: UndefinedMetricWarning: Precision and F-score are ill-defined and being set to 0.0 in labels with no predicted samples. Use `zero_division` parameter to control this behavior.\n",
      "  _warn_prf(average, modifier, msg_start, len(result))\n"
     ]
    },
    {
     "name": "stdout",
     "output_type": "stream",
     "text": [
      "              precision    recall  f1-score   support\n",
      "\n",
      "     neutral       0.01      0.00      0.00      4100\n",
      "        calm       0.54      0.33      0.41      3984\n",
      "       happy       0.82      0.05      0.09      4182\n",
      "         sad       0.29      0.47      0.36      4242\n",
      "       angry       0.00      0.00      0.00      4076\n",
      "     fearful       0.17      0.97      0.29      3981\n",
      "     disgust       1.00      0.00      0.00      4054\n",
      "   surprised       0.06      0.00      0.00      4149\n",
      "\n",
      "    accuracy                           0.22     32768\n",
      "   macro avg       0.36      0.23      0.14     32768\n",
      "weighted avg       0.36      0.22      0.14     32768\n",
      "\n"
     ]
    },
    {
     "data": {
      "image/png": "[encoded data removed]",
      "text/plain": [
       "<Figure size 720x504 with 2 Axes>"
      ]
     },
     "metadata": {
      "needs_background": "light"
     },
     "output_type": "display_data"
    }
   ],
   "source": [
    "labels = list(Rd.emocat.values())\n",
    "y_true, y_pred = U.au_recon_and_classiffication_accuracy(best_trained_model, num_samples=2048)\n",
    "cr = classification_report(y_true, y_pred, target_names=labels)\n",
    "cm = confusion_matrix(y_true, y_pred)\n",
    "cm = pd.DataFrame(cm, index = [i for i in labels],columns = [i for i in labels])\n",
    "\n",
    "plt.figure(figsize = (10,7))\n",
    "sn.heatmap(cm, annot=True, fmt=\"d\")\n",
    "print(cr)"
   ]
  },
  {
   "cell_type": "code",
   "execution_count": null,
   "id": "ded12e63",
   "metadata": {},
   "outputs": [],
   "source": []
  }
 ],
 "metadata": {
  "kernelspec": {
   "display_name": "Python [conda env:rsa-env]",
   "language": "python",
   "name": "conda-env-rsa-env-py"
  },
  "language_info": {
   "codemirror_mode": {
    "name": "ipython",
    "version": 3
   },
   "file_extension": ".py",
   "mimetype": "text/x-python",
   "name": "python",
   "nbconvert_exporter": "python",
   "pygments_lexer": "ipython3",
   "version": "3.10.4"
  }
 },
 "nbformat": 4,
 "nbformat_minor": 5
}
