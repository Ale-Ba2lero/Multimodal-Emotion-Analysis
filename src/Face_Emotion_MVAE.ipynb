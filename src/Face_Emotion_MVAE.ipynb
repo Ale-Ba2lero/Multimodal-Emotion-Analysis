{
 "cells": [
  {
   "cell_type": "code",
   "execution_count": 1,
   "id": "ad139ce7",
   "metadata": {},
   "outputs": [],
   "source": [
    "import os\n",
    "\n",
    "import pyro\n",
    "from pyro.infer import SVI, Trace_ELBO\n",
    "from pyro.optim import Adam\n",
    "\n",
    "import matplotlib.pyplot as plt\n",
    "from PIL import Image\n",
    "\n",
    "from RAVDESS_dataset_util import *\n",
    "from EmoClassCNN import *\n",
    "from MVAE import *\n",
    "\n",
    "torch.set_default_dtype(torch.float64)\n",
    "\n",
    "pyro.enable_validation(False)"
   ]
  },
  {
   "cell_type": "code",
   "execution_count": 2,
   "id": "93157fa0",
   "metadata": {},
   "outputs": [],
   "source": [
    "folder_path = '/home/studenti/ballerini/datasets/RAVDESS_frames_ds'"
   ]
  },
  {
   "cell_type": "code",
   "execution_count": 3,
   "id": "b95168e3",
   "metadata": {},
   "outputs": [
    {
     "name": "stdout",
     "output_type": "stream",
     "text": [
      "training set size:  8820\n",
      "test set size:  1047\n",
      "9867\n"
     ]
    }
   ],
   "source": [
    "img_size = 64\n",
    "batch_size = 16\n",
    "num_classes = len(emocat)\n",
    "\n",
    "face_dataset = FaceEmotionDataset(root_dir=folder_path,\n",
    "                                    transform=transforms.Compose([\n",
    "                                        Rescale(img_size), \n",
    "                                        CenterCrop(img_size), \n",
    "                                        ToTensor()\n",
    "                                    ]))        \n",
    "\n",
    "trainingset_len = len(face_dataset) // 100 * 90\n",
    "testset_len = len(face_dataset) - trainingset_len\n",
    "\n",
    "print('training set size: ', trainingset_len)\n",
    "print('test set size: ', testset_len)\n",
    "\n",
    "train_set, test_set = torch.utils.data.random_split(face_dataset, \n",
    "                                                    [trainingset_len, testset_len], \n",
    "                                                    #generator=torch.Generator().manual_seed(42)\n",
    "                                                   )\n",
    "                                                    \n",
    "                                                    \n",
    "dataset_loader = DataLoader(train_set, batch_size=batch_size,\n",
    "                        shuffle=True, num_workers=20)\n",
    "\n",
    "testset_loader = DataLoader(train_set, batch_size=batch_size,\n",
    "                        shuffle=True, num_workers=20)\n",
    "\n",
    "print(len(face_dataset))"
   ]
  },
  {
   "cell_type": "code",
   "execution_count": 4,
   "id": "c050bcf9",
   "metadata": {},
   "outputs": [
    {
     "name": "stdout",
     "output_type": "stream",
     "text": [
      "(64, 64, 3)\n"
     ]
    },
    {
     "data": {
      "text/plain": [
       "<matplotlib.image.AxesImage at 0x7f728fe8fbb0>"
      ]
     },
     "execution_count": 4,
     "metadata": {},
     "output_type": "execute_result"
    },
    {
     "data": {
      "image/png": "[encoded data removed]",
      "text/plain": [
       "<Figure size 432x288 with 1 Axes>"
      ]
     },
     "metadata": {
      "needs_background": "light"
     },
     "output_type": "display_data"
    }
   ],
   "source": [
    "img = np.array(next(iter(face_dataset))['image']).transpose((1, 2, 0))\n",
    "print(img.shape)\n",
    "plt.imshow(img)"
   ]
  },
  {
   "cell_type": "code",
   "execution_count": 5,
   "id": "e785e94e",
   "metadata": {},
   "outputs": [],
   "source": [
    "def emotion_rating_conversion(cat):\n",
    "    ratings = torch.zeros(num_classes)\n",
    "    ratings[cat] = 1\n",
    "    return ratings"
   ]
  },
  {
   "cell_type": "code",
   "execution_count": 6,
   "id": "43fc48dc",
   "metadata": {},
   "outputs": [],
   "source": [
    "import gc\n",
    "\n",
    "gc.collect()\n",
    "torch.cuda.empty_cache()\n",
    "pyro.clear_param_store()\n",
    "\n",
    "class Args:\n",
    "    \n",
    "    learning_rate = 1e-5\n",
    "    weight_decay = 1e-6\n",
    "    num_epochs = 100\n",
    "    z_dim = 64\n",
    "    ch_size = 64\n",
    "    \n",
    "    emotion_dim = num_classes\n",
    "    img_size = img_size\n",
    "    seed = 30\n",
    "    cuda = True\n",
    "    \n",
    "args = Args()\n",
    "\n",
    "# setup the optimizer\n",
    "adam_args = {\"lr\": args.learning_rate, \"weight_decay\":args.weight_decay}\n",
    "optimizer = Adam(adam_args)\n",
    "\n",
    "# setup the VAE\n",
    "mvae = MVAE(z_dim=args.z_dim, \n",
    "            emotion_dim = args.emotion_dim,\n",
    "            img_size=args.img_size, \n",
    "            use_cuda=args.cuda,\n",
    "            ch_size=args.ch_size)\n",
    "\n",
    "# setup the inference algorithm\n",
    "svi = SVI(mvae.model, mvae.guide, optimizer, loss=Trace_ELBO())"
   ]
  },
  {
   "cell_type": "code",
   "execution_count": 16,
   "id": "83091858",
   "metadata": {},
   "outputs": [],
   "source": [
    "loadmodel = False\n",
    "trainmodel = True\n"
   ]
  },
  {
   "cell_type": "code",
   "execution_count": 8,
   "id": "3a75cce9",
   "metadata": {},
   "outputs": [],
   "source": [
    "if loadmodel:\n",
    "    pyro.get_param_store().load('trained_models/mvae_pretrained-02.save')\n",
    "    pyro.module(\"mvae\", mvae, update_module_params=True)"
   ]
  },
  {
   "cell_type": "code",
   "execution_count": 17,
   "id": "ca984027",
   "metadata": {
    "scrolled": true
   },
   "outputs": [
    {
     "name": "stderr",
     "output_type": "stream",
     "text": [
      "  1%|▎                         | 1/100 [01:29<2:27:25, 89.35s/it]"
     ]
    },
    {
     "name": "stdout",
     "output_type": "stream",
     "text": [
      "average training loss: 53564.3284\n"
     ]
    },
    {
     "name": "stderr",
     "output_type": "stream",
     "text": [
      "\r",
      "  2%|▌                         | 2/100 [03:01<2:28:23, 90.85s/it]"
     ]
    },
    {
     "name": "stdout",
     "output_type": "stream",
     "text": [
      "average training loss: 63526.7842\n"
     ]
    },
    {
     "name": "stderr",
     "output_type": "stream",
     "text": [
      "\r",
      "  3%|▊                         | 3/100 [04:32<2:27:14, 91.08s/it]"
     ]
    },
    {
     "name": "stdout",
     "output_type": "stream",
     "text": [
      "average training loss: 55888.8198\n"
     ]
    },
    {
     "name": "stderr",
     "output_type": "stream",
     "text": [
      "\r",
      "  4%|█                         | 4/100 [06:05<2:26:58, 91.86s/it]"
     ]
    },
    {
     "name": "stdout",
     "output_type": "stream",
     "text": [
      "average training loss: 54076.2172\n"
     ]
    },
    {
     "name": "stderr",
     "output_type": "stream",
     "text": [
      "\r",
      "  5%|█▎                        | 5/100 [07:53<2:34:34, 97.62s/it]"
     ]
    },
    {
     "name": "stdout",
     "output_type": "stream",
     "text": [
      "average training loss: 56021.1075\n"
     ]
    },
    {
     "name": "stderr",
     "output_type": "stream",
     "text": [
      "\r",
      "  6%|█▌                        | 6/100 [09:29<2:32:03, 97.06s/it]"
     ]
    },
    {
     "name": "stdout",
     "output_type": "stream",
     "text": [
      "average training loss: 57846.7951\n"
     ]
    },
    {
     "name": "stderr",
     "output_type": "stream",
     "text": [
      "\r",
      "  7%|█▊                        | 7/100 [11:04<2:29:10, 96.24s/it]"
     ]
    },
    {
     "name": "stdout",
     "output_type": "stream",
     "text": [
      "average training loss: 50025.3270\n"
     ]
    },
    {
     "name": "stderr",
     "output_type": "stream",
     "text": [
      "\r",
      "  8%|██                        | 8/100 [12:47<2:31:02, 98.50s/it]"
     ]
    },
    {
     "name": "stdout",
     "output_type": "stream",
     "text": [
      "average training loss: 53031.6412\n"
     ]
    },
    {
     "name": "stderr",
     "output_type": "stream",
     "text": [
      "\r",
      "  9%|██▎                       | 9/100 [14:27<2:29:59, 98.90s/it]"
     ]
    },
    {
     "name": "stdout",
     "output_type": "stream",
     "text": [
      "average training loss: 53329.4572\n"
     ]
    },
    {
     "name": "stderr",
     "output_type": "stream",
     "text": [
      "\r",
      " 10%|██▌                      | 10/100 [16:00<2:25:47, 97.19s/it]"
     ]
    },
    {
     "name": "stdout",
     "output_type": "stream",
     "text": [
      "average training loss: 54293.2006\n"
     ]
    },
    {
     "name": "stderr",
     "output_type": "stream",
     "text": [
      "\r",
      " 11%|██▊                      | 11/100 [17:31<2:21:14, 95.22s/it]"
     ]
    },
    {
     "name": "stdout",
     "output_type": "stream",
     "text": [
      "average training loss: 75030.4961\n"
     ]
    },
    {
     "name": "stderr",
     "output_type": "stream",
     "text": [
      "\r",
      " 12%|███                      | 12/100 [19:03<2:18:07, 94.17s/it]"
     ]
    },
    {
     "name": "stdout",
     "output_type": "stream",
     "text": [
      "average training loss: 58731.3792\n"
     ]
    },
    {
     "name": "stderr",
     "output_type": "stream",
     "text": [
      "\r",
      " 13%|███▎                     | 13/100 [20:41<2:18:17, 95.38s/it]"
     ]
    },
    {
     "name": "stdout",
     "output_type": "stream",
     "text": [
      "average training loss: 59842.3877\n"
     ]
    },
    {
     "name": "stderr",
     "output_type": "stream",
     "text": [
      "\r",
      " 14%|███▌                     | 14/100 [22:19<2:17:50, 96.17s/it]"
     ]
    },
    {
     "name": "stdout",
     "output_type": "stream",
     "text": [
      "average training loss: 56051.3505\n"
     ]
    },
    {
     "name": "stderr",
     "output_type": "stream",
     "text": [
      "\r",
      " 15%|███▊                     | 15/100 [23:53<2:15:31, 95.66s/it]"
     ]
    },
    {
     "name": "stdout",
     "output_type": "stream",
     "text": [
      "average training loss: 54164.6248\n"
     ]
    },
    {
     "name": "stderr",
     "output_type": "stream",
     "text": [
      "\r",
      " 16%|████                     | 16/100 [25:32<2:15:18, 96.64s/it]"
     ]
    },
    {
     "name": "stdout",
     "output_type": "stream",
     "text": [
      "average training loss: 61169.7158\n"
     ]
    },
    {
     "name": "stderr",
     "output_type": "stream",
     "text": [
      "\r",
      " 17%|████▎                    | 17/100 [27:13<2:15:39, 98.06s/it]"
     ]
    },
    {
     "name": "stdout",
     "output_type": "stream",
     "text": [
      "average training loss: 61873.4640\n"
     ]
    },
    {
     "name": "stderr",
     "output_type": "stream",
     "text": [
      "\r",
      " 18%|████▌                    | 18/100 [28:45<2:11:18, 96.08s/it]"
     ]
    },
    {
     "name": "stdout",
     "output_type": "stream",
     "text": [
      "average training loss: 62729.8718\n"
     ]
    },
    {
     "name": "stderr",
     "output_type": "stream",
     "text": [
      "\r",
      " 19%|████▊                    | 19/100 [30:21<2:09:53, 96.21s/it]"
     ]
    },
    {
     "name": "stdout",
     "output_type": "stream",
     "text": [
      "average training loss: 65167.5713\n"
     ]
    },
    {
     "name": "stderr",
     "output_type": "stream",
     "text": [
      "\r",
      " 20%|█████                    | 20/100 [31:56<2:07:30, 95.64s/it]"
     ]
    },
    {
     "name": "stdout",
     "output_type": "stream",
     "text": [
      "average training loss: 59728.6720\n"
     ]
    },
    {
     "name": "stderr",
     "output_type": "stream",
     "text": [
      "\r",
      " 21%|█████▎                   | 21/100 [33:18<2:00:49, 91.76s/it]"
     ]
    },
    {
     "name": "stdout",
     "output_type": "stream",
     "text": [
      "average training loss: 54159.4882\n"
     ]
    },
    {
     "name": "stderr",
     "output_type": "stream",
     "text": [
      "\r",
      " 22%|█████▌                   | 22/100 [34:41<1:55:39, 88.97s/it]"
     ]
    },
    {
     "name": "stdout",
     "output_type": "stream",
     "text": [
      "average training loss: 51091.7862\n"
     ]
    },
    {
     "name": "stderr",
     "output_type": "stream",
     "text": [
      "\r",
      " 23%|█████▊                   | 23/100 [36:04<1:51:43, 87.06s/it]"
     ]
    },
    {
     "name": "stdout",
     "output_type": "stream",
     "text": [
      "average training loss: 80093.1215\n"
     ]
    },
    {
     "name": "stderr",
     "output_type": "stream",
     "text": [
      "\r",
      " 24%|██████                   | 24/100 [37:24<1:47:50, 85.14s/it]"
     ]
    },
    {
     "name": "stdout",
     "output_type": "stream",
     "text": [
      "average training loss: 62655.0195\n"
     ]
    },
    {
     "name": "stderr",
     "output_type": "stream",
     "text": [
      "\r",
      " 25%|██████▎                  | 25/100 [38:44<1:44:24, 83.53s/it]"
     ]
    },
    {
     "name": "stdout",
     "output_type": "stream",
     "text": [
      "average training loss: 60175.2265\n"
     ]
    },
    {
     "name": "stderr",
     "output_type": "stream",
     "text": [
      "\r",
      " 26%|██████▌                  | 26/100 [40:04<1:41:53, 82.61s/it]"
     ]
    },
    {
     "name": "stdout",
     "output_type": "stream",
     "text": [
      "average training loss: 56191.7857\n"
     ]
    },
    {
     "name": "stderr",
     "output_type": "stream",
     "text": [
      "\r",
      " 27%|██████▊                  | 27/100 [41:25<1:39:51, 82.07s/it]"
     ]
    },
    {
     "name": "stdout",
     "output_type": "stream",
     "text": [
      "average training loss: 53438.4723\n"
     ]
    },
    {
     "name": "stderr",
     "output_type": "stream",
     "text": [
      "\r",
      " 28%|███████                  | 28/100 [42:45<1:37:46, 81.48s/it]"
     ]
    },
    {
     "name": "stdout",
     "output_type": "stream",
     "text": [
      "average training loss: 47999.4322\n"
     ]
    },
    {
     "name": "stderr",
     "output_type": "stream",
     "text": [
      "\r",
      " 29%|███████▏                 | 29/100 [44:06<1:36:05, 81.21s/it]"
     ]
    },
    {
     "name": "stdout",
     "output_type": "stream",
     "text": [
      "average training loss: 57095.6541\n"
     ]
    },
    {
     "name": "stderr",
     "output_type": "stream",
     "text": [
      "\r",
      " 30%|███████▌                 | 30/100 [45:27<1:34:39, 81.14s/it]"
     ]
    },
    {
     "name": "stdout",
     "output_type": "stream",
     "text": [
      "average training loss: 53599.0239\n"
     ]
    },
    {
     "name": "stderr",
     "output_type": "stream",
     "text": [
      "\r",
      " 31%|███████▊                 | 31/100 [47:32<1:48:20, 94.21s/it]"
     ]
    },
    {
     "name": "stdout",
     "output_type": "stream",
     "text": [
      "average training loss: 51137.7323\n"
     ]
    },
    {
     "name": "stderr",
     "output_type": "stream",
     "text": [
      "\r",
      " 32%|███████▋                | 32/100 [49:39<1:58:00, 104.12s/it]"
     ]
    },
    {
     "name": "stdout",
     "output_type": "stream",
     "text": [
      "average training loss: 56969.5650\n"
     ]
    },
    {
     "name": "stderr",
     "output_type": "stream",
     "text": [
      "\r",
      " 33%|███████▉                | 33/100 [51:47<2:04:22, 111.38s/it]"
     ]
    },
    {
     "name": "stdout",
     "output_type": "stream",
     "text": [
      "average training loss: 53960.2127\n"
     ]
    },
    {
     "name": "stderr",
     "output_type": "stream",
     "text": [
      "\r",
      " 34%|████████▏               | 34/100 [53:55<2:07:49, 116.21s/it]"
     ]
    },
    {
     "name": "stdout",
     "output_type": "stream",
     "text": [
      "average training loss: 51048.5774\n"
     ]
    },
    {
     "name": "stderr",
     "output_type": "stream",
     "text": [
      "\r",
      " 35%|████████▍               | 35/100 [56:03<2:09:49, 119.84s/it]"
     ]
    },
    {
     "name": "stdout",
     "output_type": "stream",
     "text": [
      "average training loss: 54071.4503\n"
     ]
    },
    {
     "name": "stderr",
     "output_type": "stream",
     "text": [
      "\r",
      " 36%|████████▋               | 36/100 [58:11<2:10:18, 122.17s/it]"
     ]
    },
    {
     "name": "stdout",
     "output_type": "stream",
     "text": [
      "average training loss: 56556.2351\n"
     ]
    },
    {
     "name": "stderr",
     "output_type": "stream",
     "text": [
      "\r",
      " 37%|████████▏             | 37/100 [1:00:20<2:10:28, 124.27s/it]"
     ]
    },
    {
     "name": "stdout",
     "output_type": "stream",
     "text": [
      "average training loss: 66008.1861\n"
     ]
    },
    {
     "name": "stderr",
     "output_type": "stream",
     "text": [
      "\r",
      " 38%|████████▎             | 38/100 [1:02:28<2:09:40, 125.49s/it]"
     ]
    },
    {
     "name": "stdout",
     "output_type": "stream",
     "text": [
      "average training loss: 67634.5930\n"
     ]
    },
    {
     "name": "stderr",
     "output_type": "stream",
     "text": [
      "\r",
      " 39%|████████▌             | 39/100 [1:04:38<2:08:48, 126.69s/it]"
     ]
    },
    {
     "name": "stdout",
     "output_type": "stream",
     "text": [
      "average training loss: 56850.5663\n"
     ]
    },
    {
     "name": "stderr",
     "output_type": "stream",
     "text": [
      "\r",
      " 40%|████████▊             | 40/100 [1:06:45<2:07:00, 127.00s/it]"
     ]
    },
    {
     "name": "stdout",
     "output_type": "stream",
     "text": [
      "average training loss: 58598.3302\n"
     ]
    },
    {
     "name": "stderr",
     "output_type": "stream",
     "text": [
      "\r",
      " 41%|█████████             | 41/100 [1:08:54<2:05:20, 127.46s/it]"
     ]
    },
    {
     "name": "stdout",
     "output_type": "stream",
     "text": [
      "average training loss: 54521.3800\n"
     ]
    },
    {
     "name": "stderr",
     "output_type": "stream",
     "text": [
      "\r",
      " 42%|█████████▏            | 42/100 [1:11:02<2:03:21, 127.61s/it]"
     ]
    },
    {
     "name": "stdout",
     "output_type": "stream",
     "text": [
      "average training loss: 51725.7143\n"
     ]
    },
    {
     "name": "stderr",
     "output_type": "stream",
     "text": [
      "\r",
      " 43%|█████████▍            | 43/100 [1:13:10<2:01:30, 127.91s/it]"
     ]
    },
    {
     "name": "stdout",
     "output_type": "stream",
     "text": [
      "average training loss: 54759.5596\n"
     ]
    },
    {
     "name": "stderr",
     "output_type": "stream",
     "text": [
      "\r",
      " 44%|█████████▋            | 44/100 [1:15:19<1:59:30, 128.04s/it]"
     ]
    },
    {
     "name": "stdout",
     "output_type": "stream",
     "text": [
      "average training loss: 77501.0376\n"
     ]
    },
    {
     "name": "stderr",
     "output_type": "stream",
     "text": [
      "\r",
      " 45%|█████████▉            | 45/100 [1:17:28<1:57:34, 128.27s/it]"
     ]
    },
    {
     "name": "stdout",
     "output_type": "stream",
     "text": [
      "average training loss: 55908.6246\n"
     ]
    },
    {
     "name": "stderr",
     "output_type": "stream",
     "text": [
      "\r",
      " 46%|██████████            | 46/100 [1:19:36<1:55:22, 128.20s/it]"
     ]
    },
    {
     "name": "stdout",
     "output_type": "stream",
     "text": [
      "average training loss: 68541.0536\n"
     ]
    },
    {
     "name": "stderr",
     "output_type": "stream",
     "text": [
      "\r",
      " 47%|██████████▎           | 47/100 [1:21:43<1:53:00, 127.94s/it]"
     ]
    },
    {
     "name": "stdout",
     "output_type": "stream",
     "text": [
      "average training loss: 53239.1421\n"
     ]
    },
    {
     "name": "stderr",
     "output_type": "stream",
     "text": [
      "\r",
      " 48%|██████████▌           | 48/100 [1:23:52<1:51:03, 128.15s/it]"
     ]
    },
    {
     "name": "stdout",
     "output_type": "stream",
     "text": [
      "average training loss: 55076.1440\n"
     ]
    },
    {
     "name": "stderr",
     "output_type": "stream",
     "text": [
      "\r",
      " 49%|██████████▊           | 49/100 [1:26:00<1:49:00, 128.24s/it]"
     ]
    },
    {
     "name": "stdout",
     "output_type": "stream",
     "text": [
      "average training loss: 55326.8484\n"
     ]
    },
    {
     "name": "stderr",
     "output_type": "stream",
     "text": [
      "\r",
      " 50%|███████████           | 50/100 [1:28:09<1:47:05, 128.51s/it]"
     ]
    },
    {
     "name": "stdout",
     "output_type": "stream",
     "text": [
      "average training loss: 56282.4146\n"
     ]
    },
    {
     "name": "stderr",
     "output_type": "stream",
     "text": [
      "\r",
      " 51%|███████████▏          | 51/100 [1:30:16<1:44:39, 128.15s/it]"
     ]
    },
    {
     "name": "stdout",
     "output_type": "stream",
     "text": [
      "average training loss: 49729.5434\n"
     ]
    },
    {
     "name": "stderr",
     "output_type": "stream",
     "text": [
      "\r",
      " 52%|███████████▍          | 52/100 [1:32:23<1:42:14, 127.79s/it]"
     ]
    },
    {
     "name": "stdout",
     "output_type": "stream",
     "text": [
      "average training loss: 52899.9914\n"
     ]
    },
    {
     "name": "stderr",
     "output_type": "stream",
     "text": [
      "\r",
      " 53%|███████████▋          | 53/100 [1:34:31<1:40:08, 127.84s/it]"
     ]
    },
    {
     "name": "stdout",
     "output_type": "stream",
     "text": [
      "average training loss: 47153.9546\n"
     ]
    },
    {
     "name": "stderr",
     "output_type": "stream",
     "text": [
      "\r",
      " 54%|███████████▉          | 54/100 [1:36:37<1:37:32, 127.23s/it]"
     ]
    },
    {
     "name": "stdout",
     "output_type": "stream",
     "text": [
      "average training loss: 47434.5951\n"
     ]
    },
    {
     "name": "stderr",
     "output_type": "stream",
     "text": [
      "\r",
      " 55%|████████████          | 55/100 [1:38:46<1:35:41, 127.59s/it]"
     ]
    },
    {
     "name": "stdout",
     "output_type": "stream",
     "text": [
      "average training loss: 45568.7828\n"
     ]
    },
    {
     "name": "stderr",
     "output_type": "stream",
     "text": [
      "\r",
      " 56%|████████████▎         | 56/100 [1:40:54<1:33:42, 127.79s/it]"
     ]
    },
    {
     "name": "stdout",
     "output_type": "stream",
     "text": [
      "average training loss: 46078.9206\n"
     ]
    },
    {
     "name": "stderr",
     "output_type": "stream",
     "text": [
      "\r",
      " 57%|████████████▌         | 57/100 [1:43:02<1:31:35, 127.80s/it]"
     ]
    },
    {
     "name": "stdout",
     "output_type": "stream",
     "text": [
      "average training loss: 47721.4533\n"
     ]
    },
    {
     "name": "stderr",
     "output_type": "stream",
     "text": [
      "\r",
      " 58%|████████████▊         | 58/100 [1:45:11<1:29:47, 128.28s/it]"
     ]
    },
    {
     "name": "stdout",
     "output_type": "stream",
     "text": [
      "average training loss: 49301.8474\n"
     ]
    },
    {
     "name": "stderr",
     "output_type": "stream",
     "text": [
      "\r",
      " 59%|████████████▉         | 59/100 [1:47:17<1:27:08, 127.52s/it]"
     ]
    },
    {
     "name": "stdout",
     "output_type": "stream",
     "text": [
      "average training loss: 49143.0956\n"
     ]
    },
    {
     "name": "stderr",
     "output_type": "stream",
     "text": [
      "\r",
      " 60%|█████████████▏        | 60/100 [1:49:26<1:25:19, 127.99s/it]"
     ]
    },
    {
     "name": "stdout",
     "output_type": "stream",
     "text": [
      "average training loss: 49168.8213\n"
     ]
    },
    {
     "name": "stderr",
     "output_type": "stream",
     "text": [
      "\r",
      " 61%|█████████████▍        | 61/100 [1:51:33<1:22:57, 127.63s/it]"
     ]
    },
    {
     "name": "stdout",
     "output_type": "stream",
     "text": [
      "average training loss: 47118.6180\n"
     ]
    },
    {
     "name": "stderr",
     "output_type": "stream",
     "text": [
      "\r",
      " 62%|█████████████▋        | 62/100 [1:53:38<1:20:23, 126.94s/it]"
     ]
    },
    {
     "name": "stdout",
     "output_type": "stream",
     "text": [
      "average training loss: 44180.9903\n"
     ]
    },
    {
     "name": "stderr",
     "output_type": "stream",
     "text": [
      "\r",
      " 63%|█████████████▊        | 63/100 [1:55:43<1:17:49, 126.20s/it]"
     ]
    },
    {
     "name": "stdout",
     "output_type": "stream",
     "text": [
      "average training loss: 47056.0711\n"
     ]
    },
    {
     "name": "stderr",
     "output_type": "stream",
     "text": [
      "\r",
      " 64%|██████████████        | 64/100 [1:57:51<1:16:06, 126.85s/it]"
     ]
    },
    {
     "name": "stdout",
     "output_type": "stream",
     "text": [
      "average training loss: 58318.7557\n"
     ]
    },
    {
     "name": "stderr",
     "output_type": "stream",
     "text": [
      "\r",
      " 65%|██████████████▎       | 65/100 [1:59:59<1:14:09, 127.12s/it]"
     ]
    },
    {
     "name": "stdout",
     "output_type": "stream",
     "text": [
      "average training loss: 44617.5522\n"
     ]
    },
    {
     "name": "stderr",
     "output_type": "stream",
     "text": [
      "\r",
      " 66%|██████████████▌       | 66/100 [2:02:08<1:12:21, 127.70s/it]"
     ]
    },
    {
     "name": "stdout",
     "output_type": "stream",
     "text": [
      "average training loss: 51448.1131\n"
     ]
    },
    {
     "name": "stderr",
     "output_type": "stream",
     "text": [
      "\r",
      " 67%|██████████████▋       | 67/100 [2:04:16<1:10:18, 127.84s/it]"
     ]
    },
    {
     "name": "stdout",
     "output_type": "stream",
     "text": [
      "average training loss: 49701.6599\n"
     ]
    },
    {
     "name": "stderr",
     "output_type": "stream",
     "text": [
      "\r",
      " 68%|██████████████▉       | 68/100 [2:06:25<1:08:19, 128.12s/it]"
     ]
    },
    {
     "name": "stdout",
     "output_type": "stream",
     "text": [
      "average training loss: 48084.3664\n"
     ]
    },
    {
     "name": "stderr",
     "output_type": "stream",
     "text": [
      "\r",
      " 69%|███████████████▏      | 69/100 [2:08:30<1:05:43, 127.20s/it]"
     ]
    },
    {
     "name": "stdout",
     "output_type": "stream",
     "text": [
      "average training loss: 53216.7871\n"
     ]
    },
    {
     "name": "stderr",
     "output_type": "stream",
     "text": [
      "\r",
      " 70%|███████████████▍      | 70/100 [2:10:35<1:03:23, 126.78s/it]"
     ]
    },
    {
     "name": "stdout",
     "output_type": "stream",
     "text": [
      "average training loss: 49539.1104\n"
     ]
    },
    {
     "name": "stderr",
     "output_type": "stream",
     "text": [
      "\r",
      " 71%|███████████████▌      | 71/100 [2:12:44<1:01:35, 127.44s/it]"
     ]
    },
    {
     "name": "stdout",
     "output_type": "stream",
     "text": [
      "average training loss: 47216.3659\n"
     ]
    },
    {
     "name": "stderr",
     "output_type": "stream",
     "text": [
      "\r",
      " 72%|█████████████████▎      | 72/100 [2:14:46<58:38, 125.66s/it]"
     ]
    },
    {
     "name": "stdout",
     "output_type": "stream",
     "text": [
      "average training loss: 46545.0699\n"
     ]
    },
    {
     "name": "stderr",
     "output_type": "stream",
     "text": [
      "\r",
      " 73%|█████████████████▌      | 73/100 [2:16:53<56:44, 126.10s/it]"
     ]
    },
    {
     "name": "stdout",
     "output_type": "stream",
     "text": [
      "average training loss: 43278.8578\n"
     ]
    },
    {
     "name": "stderr",
     "output_type": "stream",
     "text": [
      "\r",
      " 74%|█████████████████▊      | 74/100 [2:18:58<54:27, 125.68s/it]"
     ]
    },
    {
     "name": "stdout",
     "output_type": "stream",
     "text": [
      "average training loss: 48123.3214\n"
     ]
    },
    {
     "name": "stderr",
     "output_type": "stream",
     "text": [
      "\r",
      " 75%|██████████████████      | 75/100 [2:20:44<49:58, 119.95s/it]"
     ]
    },
    {
     "name": "stdout",
     "output_type": "stream",
     "text": [
      "average training loss: 48421.0505\n"
     ]
    },
    {
     "name": "stderr",
     "output_type": "stream",
     "text": [
      "\r",
      " 76%|██████████████████▏     | 76/100 [2:22:49<48:31, 121.30s/it]"
     ]
    },
    {
     "name": "stdout",
     "output_type": "stream",
     "text": [
      "average training loss: 44971.6387\n"
     ]
    },
    {
     "name": "stderr",
     "output_type": "stream",
     "text": [
      "\r",
      " 77%|██████████████████▍     | 77/100 [2:24:57<47:14, 123.24s/it]"
     ]
    },
    {
     "name": "stdout",
     "output_type": "stream",
     "text": [
      "average training loss: 51937.3010\n"
     ]
    },
    {
     "name": "stderr",
     "output_type": "stream",
     "text": [
      "\r",
      " 78%|██████████████████▋     | 78/100 [2:27:05<45:44, 124.75s/it]"
     ]
    },
    {
     "name": "stdout",
     "output_type": "stream",
     "text": [
      "average training loss: 55745.5751\n"
     ]
    },
    {
     "name": "stderr",
     "output_type": "stream",
     "text": [
      "\r",
      " 79%|██████████████████▉     | 79/100 [2:28:41<40:39, 116.17s/it]"
     ]
    },
    {
     "name": "stdout",
     "output_type": "stream",
     "text": [
      "average training loss: 48745.5898\n"
     ]
    },
    {
     "name": "stderr",
     "output_type": "stream",
     "text": [
      "\r",
      " 80%|███████████████████▏    | 80/100 [2:30:40<38:59, 116.98s/it]"
     ]
    },
    {
     "name": "stdout",
     "output_type": "stream",
     "text": [
      "average training loss: 42856.4094\n"
     ]
    },
    {
     "name": "stderr",
     "output_type": "stream",
     "text": [
      "\r",
      " 81%|███████████████████▍    | 81/100 [2:32:47<37:59, 119.97s/it]"
     ]
    },
    {
     "name": "stdout",
     "output_type": "stream",
     "text": [
      "average training loss: 47917.9826\n"
     ]
    },
    {
     "name": "stderr",
     "output_type": "stream",
     "text": [
      "\r",
      " 82%|███████████████████▋    | 82/100 [2:34:55<36:43, 122.39s/it]"
     ]
    },
    {
     "name": "stdout",
     "output_type": "stream",
     "text": [
      "average training loss: 44516.9895\n"
     ]
    },
    {
     "name": "stderr",
     "output_type": "stream",
     "text": [
      "\r",
      " 83%|███████████████████▉    | 83/100 [2:37:03<35:10, 124.17s/it]"
     ]
    },
    {
     "name": "stdout",
     "output_type": "stream",
     "text": [
      "average training loss: 43951.5221\n"
     ]
    },
    {
     "name": "stderr",
     "output_type": "stream",
     "text": [
      "\r",
      " 84%|████████████████████▏   | 84/100 [2:38:42<31:04, 116.50s/it]"
     ]
    },
    {
     "name": "stdout",
     "output_type": "stream",
     "text": [
      "average training loss: 51838.3635\n"
     ]
    },
    {
     "name": "stderr",
     "output_type": "stream",
     "text": [
      "\r",
      " 85%|████████████████████▍   | 85/100 [2:40:20<27:46, 111.07s/it]"
     ]
    },
    {
     "name": "stdout",
     "output_type": "stream",
     "text": [
      "average training loss: 52830.0380\n"
     ]
    },
    {
     "name": "stderr",
     "output_type": "stream",
     "text": [
      "\r",
      " 86%|████████████████████▋   | 86/100 [2:42:21<26:34, 113.86s/it]"
     ]
    },
    {
     "name": "stdout",
     "output_type": "stream",
     "text": [
      "average training loss: 50597.6403\n"
     ]
    },
    {
     "name": "stderr",
     "output_type": "stream",
     "text": [
      "\r",
      " 87%|████████████████████▉   | 87/100 [2:44:27<25:29, 117.66s/it]"
     ]
    },
    {
     "name": "stdout",
     "output_type": "stream",
     "text": [
      "average training loss: 43945.4224\n"
     ]
    },
    {
     "name": "stderr",
     "output_type": "stream",
     "text": [
      "\r",
      " 88%|█████████████████████   | 88/100 [2:46:34<24:05, 120.42s/it]"
     ]
    },
    {
     "name": "stdout",
     "output_type": "stream",
     "text": [
      "average training loss: 46025.6222\n"
     ]
    },
    {
     "name": "stderr",
     "output_type": "stream",
     "text": [
      "\r",
      " 89%|█████████████████████▎  | 89/100 [2:48:42<22:30, 122.78s/it]"
     ]
    },
    {
     "name": "stdout",
     "output_type": "stream",
     "text": [
      "average training loss: 41911.5541\n"
     ]
    },
    {
     "name": "stderr",
     "output_type": "stream",
     "text": [
      "\r",
      " 90%|█████████████████████▌  | 90/100 [2:50:50<20:43, 124.38s/it]"
     ]
    },
    {
     "name": "stdout",
     "output_type": "stream",
     "text": [
      "average training loss: 44090.3141\n"
     ]
    },
    {
     "name": "stderr",
     "output_type": "stream",
     "text": [
      "\r",
      " 91%|█████████████████████▊  | 91/100 [2:52:58<18:49, 125.48s/it]"
     ]
    },
    {
     "name": "stdout",
     "output_type": "stream",
     "text": [
      "average training loss: 45629.1356\n"
     ]
    },
    {
     "name": "stderr",
     "output_type": "stream",
     "text": [
      "\r",
      " 92%|██████████████████████  | 92/100 [2:54:58<16:29, 123.71s/it]"
     ]
    },
    {
     "name": "stdout",
     "output_type": "stream",
     "text": [
      "average training loss: 46313.8644\n"
     ]
    },
    {
     "name": "stderr",
     "output_type": "stream",
     "text": [
      "\r",
      " 93%|██████████████████████▎ | 93/100 [2:56:40<13:41, 117.32s/it]"
     ]
    },
    {
     "name": "stdout",
     "output_type": "stream",
     "text": [
      "average training loss: 45801.4759\n"
     ]
    },
    {
     "name": "stderr",
     "output_type": "stream",
     "text": [
      "\r",
      " 94%|██████████████████████▌ | 94/100 [2:58:19<11:10, 111.69s/it]"
     ]
    },
    {
     "name": "stdout",
     "output_type": "stream",
     "text": [
      "average training loss: 46769.7943\n"
     ]
    },
    {
     "name": "stderr",
     "output_type": "stream",
     "text": [
      "\r",
      " 95%|██████████████████████▊ | 95/100 [3:00:02<09:05, 109.01s/it]"
     ]
    },
    {
     "name": "stdout",
     "output_type": "stream",
     "text": [
      "average training loss: 45173.4301\n"
     ]
    },
    {
     "name": "stderr",
     "output_type": "stream",
     "text": [
      "\r",
      " 96%|███████████████████████ | 96/100 [3:01:42<07:06, 106.50s/it]"
     ]
    },
    {
     "name": "stdout",
     "output_type": "stream",
     "text": [
      "average training loss: 44108.5059\n"
     ]
    },
    {
     "name": "stderr",
     "output_type": "stream",
     "text": [
      "\r",
      " 97%|███████████████████████▎| 97/100 [3:03:29<05:19, 106.57s/it]"
     ]
    },
    {
     "name": "stdout",
     "output_type": "stream",
     "text": [
      "average training loss: 47551.5957\n"
     ]
    },
    {
     "name": "stderr",
     "output_type": "stream",
     "text": [
      "\r",
      " 98%|███████████████████████▌| 98/100 [3:05:20<03:35, 107.84s/it]"
     ]
    },
    {
     "name": "stdout",
     "output_type": "stream",
     "text": [
      "average training loss: 47829.8555\n"
     ]
    },
    {
     "name": "stderr",
     "output_type": "stream",
     "text": [
      "\r",
      " 99%|███████████████████████▊| 99/100 [3:07:11<01:48, 108.81s/it]"
     ]
    },
    {
     "name": "stdout",
     "output_type": "stream",
     "text": [
      "average training loss: 43583.6915\n"
     ]
    },
    {
     "name": "stderr",
     "output_type": "stream",
     "text": [
      "100%|███████████████████████| 100/100 [3:09:01<00:00, 113.41s/it]"
     ]
    },
    {
     "name": "stdout",
     "output_type": "stream",
     "text": [
      "average training loss: 41450.6528\n",
      "41450.65282237355\n"
     ]
    },
    {
     "name": "stderr",
     "output_type": "stream",
     "text": [
      "\n"
     ]
    },
    {
     "data": {
      "image/png": "[encoded data removed]",
      "text/plain": [
       "<Figure size 432x288 with 1 Axes>"
      ]
     },
     "metadata": {
      "needs_background": "light"
     },
     "output_type": "display_data"
    }
   ],
   "source": [
    "from tqdm import tqdm\n",
    "model_params = pyro.get_param_store()\n",
    "if trainmodel:\n",
    "    best_loss = -1\n",
    "    train_elbo = []\n",
    "    test_elbo = []\n",
    "    # training loop\n",
    "    for epoch in tqdm(range(args.num_epochs)):\n",
    "        epoch_loss = 0.\n",
    "        for batch_num, sample in enumerate(dataset_loader):\n",
    "\n",
    "            faces, emotions = sample['image'], sample['cat']\n",
    "            emotions = torch.stack([emotion_rating_conversion(emo) for emo in emotions])\n",
    "\n",
    "            # if on GPU put mini-batch into CUDA memory\n",
    "            if args.cuda:\n",
    "                faces, emotions = faces.cuda(), emotions.cuda()\n",
    "\n",
    "            # do ELBO gradient and accumulate loss\n",
    "            epoch_loss += svi.step(images=faces, emotions=emotions)\n",
    "            epoch_loss += svi.step(images=faces, emotions=None)\n",
    "            epoch_loss += svi.step(images=None, emotions=emotions)\n",
    "\n",
    "        # report training diagnostics\n",
    "        normalizer_train = len(dataset_loader)\n",
    "        total_epoch_loss_train = epoch_loss / normalizer_train\n",
    "        train_elbo.append(total_epoch_loss_train)\n",
    "        \n",
    "        if best_loss == -1:\n",
    "            best_loss = total_epoch_loss_train\n",
    "        else:\n",
    "            if best_loss > total_epoch_loss_train:\n",
    "                best_loss = total_epoch_loss_train\n",
    "                model_params = pyro.get_param_store()\n",
    "\n",
    "        # report training diagnostics\n",
    "        print(\"average training loss: %.4f\" % (total_epoch_loss_train))\n",
    "    plt.plot(train_elbo)\n",
    "    print(best_loss)"
   ]
  },
  {
   "cell_type": "code",
   "execution_count": 25,
   "id": "f11ec974",
   "metadata": {},
   "outputs": [],
   "source": [
    "savemodel = True\n",
    "\n",
    "if savemodel:\n",
    "    if not os.path.exists('./trained_models'):\n",
    "      os.mkdir('./trained_models')\n",
    "    model_params.save('trained_models/mvae_pretrained-02.save')"
   ]
  },
  {
   "cell_type": "code",
   "execution_count": 22,
   "id": "483f892e",
   "metadata": {},
   "outputs": [
    {
     "data": {
      "text/plain": [
       "<matplotlib.image.AxesImage at 0x7f728832e3a0>"
      ]
     },
     "execution_count": 22,
     "metadata": {},
     "output_type": "execute_result"
    },
    {
     "data": {
      "image/png": "[encoded data removed]",
      "text/plain": [
       "<Figure size 432x288 with 1 Axes>"
      ]
     },
     "metadata": {
      "needs_background": "light"
     },
     "output_type": "display_data"
    }
   ],
   "source": [
    "num_samples = 4\n",
    "input_array = np.zeros(shape=(img_size, 1, 3), dtype=\"uint8\")\n",
    "reconstructed_array = np.zeros(shape=(img_size, 1, 3), dtype=\"uint8\")\n",
    "    \n",
    "# pick NUM_SAMPLES random test images from the first mini-batch and\n",
    "# visualize how well we're reconstructing them\n",
    "\n",
    "faces = next(iter(dataset_loader))['image']\n",
    "if args.cuda:\n",
    "    faces = faces.cuda()\n",
    "\n",
    "reco_indices = np.random.randint(0, faces.size(0), num_samples)\n",
    "for index in reco_indices:\n",
    "    input_img = faces[index, :]\n",
    "    # storing the input image\n",
    "    input_img_display = np.array(input_img.cpu()*255., dtype='uint8')\n",
    "    input_img_display = input_img_display.transpose((1, 2, 0))\n",
    "    input_array = np.concatenate((input_array, input_img_display), axis=1)\n",
    "\n",
    "    # generating the reconstructed image and adding to array\n",
    "    input_img = input_img.view(1, 3, img_size, img_size)\n",
    "    reconstructed_img = mvae.reconstruct_img(input_img)\n",
    "    reconstructed_img = reconstructed_img.cpu().view(3, img_size, img_size).detach().numpy()\n",
    "    reconstructed_img = np.array(reconstructed_img*255., dtype='uint8')\n",
    "    reconstructed_img = reconstructed_img.transpose((1, 2, 0))\n",
    "    reconstructed_array = np.concatenate((reconstructed_array, reconstructed_img), axis=1)\n",
    "\n",
    "\n",
    "from PIL import Image\n",
    "# remove first, blank column, and concatenate\n",
    "input_array = input_array[:,1:,:]\n",
    "reconstructed_array = reconstructed_array[:,1:,:]\n",
    "display_array = np.concatenate((input_array, reconstructed_array), axis=0)\n",
    "plt.imshow(display_array)"
   ]
  },
  {
   "cell_type": "code",
   "execution_count": 23,
   "id": "0cffd683",
   "metadata": {},
   "outputs": [],
   "source": [
    "def testBatch(model, dataset_loader, categories):\n",
    "    sample = next(iter(dataset_loader))\n",
    "    images = sample['image']\n",
    "    labels = sample['cat']\n",
    "    if args.cuda:\n",
    "        images = images.cuda()\n",
    "        labels = labels.cuda()\n",
    "\n",
    "    #imageshow(torchvision.utils.make_grid(images))\n",
    "    batch_size = len(labels)\n",
    "       \n",
    "    # img -> z -> img\n",
    "    predicted = []\n",
    "    for image in images:\n",
    "        output = model.emotion_classifier(input_img)\n",
    "        predicted.append(torch.argmax(output, 1))\n",
    "    \n",
    "    # Show the real labels on the screen \n",
    "    #print('Real labels:', '\\t'.join('%5s' % categories[labels[j].item()] for j in range(batch_size-8)))\n",
    "    # Let's show the predicted labels on the screen to compare with the real ones\n",
    "    #print('Predicted:', '\\t'.join('%5s' % categories[predicted[j].item()] for j in range(batch_size-8)))\n",
    "    \n",
    "    # img -> z -> emo\n",
    "    acc = 0\n",
    "    for i in range(len(labels)):\n",
    "        if categories[labels[i].item()] == categories[predicted[i].item()]:\n",
    "            acc += 1\n",
    "    acc = acc / len(labels)\n",
    "    print ('img -> z -> emo accuracy: ', acc)\n",
    "    \n",
    "    \n",
    "    # emo -> z -Z emo\n",
    "    acc = 0\n",
    "    emotions = torch.stack([emotion_rating_conversion(emo) for emo in labels]).cuda()\n",
    "    z = model.emoToZ(emotions)\n",
    "    pred_emo = torch.argmax(model.zToEmo(z), 1)\n",
    "    \n",
    "    for i in range(batch_size):\n",
    "        if labels[i] == pred_emo[i]:\n",
    "            acc+=1\n",
    "    acc = acc / len(labels)\n",
    "    print ('emo -> z -> emo accuracy: ', acc)"
   ]
  },
  {
   "cell_type": "code",
   "execution_count": 24,
   "id": "3bb485eb",
   "metadata": {},
   "outputs": [
    {
     "name": "stdout",
     "output_type": "stream",
     "text": [
      "img -> z -> emo accuracy:  0.125\n",
      "emo -> z -> emo accuracy:  0.6875\n"
     ]
    }
   ],
   "source": [
    "testBatch(mvae, testset_loader, emocat)"
   ]
  },
  {
   "cell_type": "code",
   "execution_count": null,
   "id": "29c3c904",
   "metadata": {},
   "outputs": [],
   "source": []
  }
 ],
 "metadata": {
  "kernelspec": {
   "display_name": "Python 3 (ipykernel)",
   "language": "python",
   "name": "python3"
  },
  "language_info": {
   "codemirror_mode": {
    "name": "ipython",
    "version": 3
   },
   "file_extension": ".py",
   "mimetype": "text/x-python",
   "name": "python",
   "nbconvert_exporter": "python",
   "pygments_lexer": "ipython3",
   "version": "3.9.7"
  }
 },
 "nbformat": 4,
 "nbformat_minor": 5
}
