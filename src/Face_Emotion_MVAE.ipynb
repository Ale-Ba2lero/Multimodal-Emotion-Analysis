{
 "cells": [
  {
   "cell_type": "code",
   "execution_count": 1,
   "id": "ad139ce7",
   "metadata": {},
   "outputs": [],
   "source": [
    "import os\n",
    "\n",
    "import pyro\n",
    "from pyro.infer import SVI, Trace_ELBO\n",
    "from pyro.optim import Adam\n",
    "\n",
    "import matplotlib.pyplot as plt\n",
    "from PIL import Image\n",
    "\n",
    "from RAVDESS_dataset_util import *\n",
    "from EmoClassCNN import *\n",
    "from MVAE import *\n",
    "\n",
    "torch.set_default_dtype(torch.float64)\n",
    "\n",
    "pyro.enable_validation(False)"
   ]
  },
  {
   "cell_type": "code",
   "execution_count": 2,
   "id": "93157fa0",
   "metadata": {},
   "outputs": [],
   "source": [
    "folder_path = '/home/studenti/ballerini/datasets/RAVDESS_frames_ds'"
   ]
  },
  {
   "cell_type": "code",
   "execution_count": 3,
   "id": "b95168e3",
   "metadata": {},
   "outputs": [
    {
     "name": "stdout",
     "output_type": "stream",
     "text": [
      "training set size:  8820\n",
      "test set size:  1047\n",
      "9867\n"
     ]
    }
   ],
   "source": [
    "img_size = 64\n",
    "batch_size = 16\n",
    "num_classes = len(emocat)\n",
    "\n",
    "face_dataset = FaceEmotionDataset(root_dir=folder_path,\n",
    "                                    transform=transforms.Compose([\n",
    "                                        Rescale(img_size), \n",
    "                                        CenterCrop(img_size), \n",
    "                                        ToTensor()\n",
    "                                    ]))        \n",
    "\n",
    "trainingset_len = len(face_dataset) // 100 * 90\n",
    "testset_len = len(face_dataset) - trainingset_len\n",
    "\n",
    "print('training set size: ', trainingset_len)\n",
    "print('test set size: ', testset_len)\n",
    "\n",
    "train_set, test_set = torch.utils.data.random_split(face_dataset, \n",
    "                                                    [trainingset_len, testset_len], \n",
    "                                                    #generator=torch.Generator().manual_seed(42)\n",
    "                                                   )\n",
    "                                                    \n",
    "                                                    \n",
    "dataset_loader = DataLoader(train_set, batch_size=batch_size,\n",
    "                        shuffle=True, num_workers=20)\n",
    "\n",
    "testset_loader = DataLoader(train_set, batch_size=batch_size,\n",
    "                        shuffle=True, num_workers=20)\n",
    "\n",
    "print(len(face_dataset))"
   ]
  },
  {
   "cell_type": "code",
   "execution_count": 4,
   "id": "c050bcf9",
   "metadata": {},
   "outputs": [
    {
     "name": "stdout",
     "output_type": "stream",
     "text": [
      "(64, 64, 3)\n"
     ]
    },
    {
     "data": {
      "text/plain": [
       "<matplotlib.image.AxesImage at 0x7fe9a7758ca0>"
      ]
     },
     "execution_count": 4,
     "metadata": {},
     "output_type": "execute_result"
    },
    {
     "data": {
      "image/png": "[encoded data removed]",
      "text/plain": [
       "<Figure size 432x288 with 1 Axes>"
      ]
     },
     "metadata": {
      "needs_background": "light"
     },
     "output_type": "display_data"
    }
   ],
   "source": [
    "img = np.array(next(iter(face_dataset))['image']).transpose((1, 2, 0))\n",
    "print(img.shape)\n",
    "plt.imshow(img)"
   ]
  },
  {
   "cell_type": "code",
   "execution_count": 5,
   "id": "e785e94e",
   "metadata": {},
   "outputs": [],
   "source": [
    "def emotion_rating_conversion(cat):\n",
    "    ratings = torch.zeros(num_classes)\n",
    "    ratings[cat] = 1\n",
    "    return ratings"
   ]
  },
  {
   "cell_type": "code",
   "execution_count": 6,
   "id": "43fc48dc",
   "metadata": {},
   "outputs": [],
   "source": [
    "import gc\n",
    "\n",
    "gc.collect()\n",
    "torch.cuda.empty_cache()\n",
    "pyro.clear_param_store()\n",
    "\n",
    "class Args:\n",
    "    \n",
    "    learning_rate = 1e-5\n",
    "    weight_decay = 1e-6\n",
    "    num_epochs = 35\n",
    "    z_dim = 128\n",
    "    ch_size = 16\n",
    "    \n",
    "    emotion_dim = num_classes\n",
    "    img_size = img_size\n",
    "    seed = 30\n",
    "    cuda = True\n",
    "    \n",
    "args = Args()\n",
    "\n",
    "# setup the optimizer\n",
    "adam_args = {\"lr\": args.learning_rate}#, \"weight_decay\":args.weight_decay}\n",
    "optimizer = Adam(adam_args)\n",
    "\n",
    "# setup the VAE\n",
    "mvae = MVAE(z_dim=args.z_dim, \n",
    "            emotion_dim = args.emotion_dim,\n",
    "            img_size=args.img_size, \n",
    "            use_cuda=args.cuda,\n",
    "            ch_size=args.ch_size)\n",
    "\n",
    "# setup the inference algorithm\n",
    "svi = SVI(mvae.model, mvae.guide, optimizer, loss=Trace_ELBO())"
   ]
  },
  {
   "cell_type": "code",
   "execution_count": null,
   "id": "ca984027",
   "metadata": {
    "scrolled": true
   },
   "outputs": [
    {
     "name": "stderr",
     "output_type": "stream",
     "text": [
      "  3%|██▋                                                                                           | 1/35 [02:04<1:10:43, 124.80s/it]"
     ]
    },
    {
     "name": "stdout",
     "output_type": "stream",
     "text": [
      "average training loss: 4988445.4068\n"
     ]
    },
    {
     "name": "stderr",
     "output_type": "stream",
     "text": [
      "\r",
      "  6%|█████▎                                                                                        | 2/35 [04:17<1:11:04, 129.23s/it]"
     ]
    },
    {
     "name": "stdout",
     "output_type": "stream",
     "text": [
      "average training loss: 4406508.6357\n"
     ]
    },
    {
     "name": "stderr",
     "output_type": "stream",
     "text": [
      "\r",
      "  9%|████████                                                                                      | 3/35 [06:27<1:09:15, 129.87s/it]"
     ]
    },
    {
     "name": "stdout",
     "output_type": "stream",
     "text": [
      "average training loss: 3859789.7987\n"
     ]
    }
   ],
   "source": [
    "from tqdm import tqdm\n",
    "\n",
    "train = True\n",
    "savemodel = False\n",
    "\n",
    "if train:\n",
    "    train_elbo = []\n",
    "    test_elbo = []\n",
    "    # training loop\n",
    "    for epoch in tqdm(range(args.num_epochs)):\n",
    "        epoch_loss = 0.\n",
    "        for batch_num, sample in enumerate(dataset_loader):\n",
    "\n",
    "            faces, emotions = sample['image'], sample['cat']\n",
    "            emotions = torch.stack([emotion_rating_conversion(emo) for emo in emotions])\n",
    "\n",
    "            # if on GPU put mini-batch into CUDA memory\n",
    "            if args.cuda:\n",
    "                faces, emotions = faces.cuda(), emotions.cuda()\n",
    "\n",
    "            # do ELBO gradient and accumulate loss\n",
    "            epoch_loss += svi.step(images=faces, emotions=emotions)\n",
    "            epoch_loss += svi.step(images=faces, emotions=None)\n",
    "            epoch_loss += svi.step(images=None, emotions=emotions)\n",
    "\n",
    "        # report training diagnostics\n",
    "        normalizer_train = len(dataset_loader)\n",
    "        total_epoch_loss_train = epoch_loss / normalizer_train\n",
    "        train_elbo.append(total_epoch_loss_train)\n",
    "\n",
    "        # report training diagnostics\n",
    "        print(\"average training loss: %.4f\" % (total_epoch_loss_train))\n",
    "    plt.plot(train_elbo)\n",
    "else:\n",
    "    pyro.get_param_store().load('trained_models/mvae_pretrained.save')\n",
    "    pyro.module(\"mvae\", mvae, update_module_params=True)\n",
    "\n",
    "if savemodel:\n",
    "        if not os.path.exists('./trained_models'):\n",
    "          os.mkdir('./trained_models')\n",
    "        pyro.get_param_store().save('trained_models/mvae_pretrained.save')"
   ]
  },
  {
   "cell_type": "code",
   "execution_count": null,
   "id": "483f892e",
   "metadata": {},
   "outputs": [],
   "source": [
    "num_samples = 4\n",
    "input_array = np.zeros(shape=(img_size, 1, 3), dtype=\"uint8\")\n",
    "reconstructed_array = np.zeros(shape=(img_size, 1, 3), dtype=\"uint8\")\n",
    "    \n",
    "# pick NUM_SAMPLES random test images from the first mini-batch and\n",
    "# visualize how well we're reconstructing them\n",
    "\n",
    "faces = next(iter(dataset_loader))['image']\n",
    "if args.cuda:\n",
    "    faces = faces.cuda()\n",
    "\n",
    "reco_indices = np.random.randint(0, faces.size(0), num_samples)\n",
    "for index in reco_indices:\n",
    "    input_img = faces[index, :]\n",
    "    # storing the input image\n",
    "    input_img_display = np.array(input_img.cpu()*255., dtype='uint8')\n",
    "    input_img_display = input_img_display.transpose((1, 2, 0))\n",
    "    input_array = np.concatenate((input_array, input_img_display), axis=1)\n",
    "\n",
    "    # generating the reconstructed image and adding to array\n",
    "    input_img = input_img.view(1, 3, img_size, img_size)\n",
    "    reconstructed_img = mvae.reconstruct_img_nosample(input_img)\n",
    "    reconstructed_img = reconstructed_img.cpu().view(3, img_size, img_size).detach().numpy()\n",
    "    reconstructed_img = np.array(reconstructed_img*255., dtype='uint8')\n",
    "    reconstructed_img = reconstructed_img.transpose((1, 2, 0))\n",
    "    reconstructed_array = np.concatenate((reconstructed_array, reconstructed_img), axis=1)\n",
    "\n",
    "\n",
    "from PIL import Image\n",
    "# remove first, blank column, and concatenate\n",
    "input_array = input_array[:,1:,:]\n",
    "reconstructed_array = reconstructed_array[:,1:,:]\n",
    "display_array = np.concatenate((input_array, reconstructed_array), axis=0)\n",
    "plt.imshow(display_array)"
   ]
  },
  {
   "cell_type": "code",
   "execution_count": null,
   "id": "afef0a85",
   "metadata": {},
   "outputs": [],
   "source": [
    "def testBatch(model, dataset_loader, categories):\n",
    "    sample = next(iter(dataset_loader))\n",
    "    images = sample['image']\n",
    "    labels = sample['cat']\n",
    "    if args.cuda:\n",
    "        images = images.cuda()\n",
    "        labels = labels.cuda()\n",
    "\n",
    "    imageshow(torchvision.utils.make_grid(images))\n",
    "\n",
    "    batch_size = len(labels)\n",
    "\n",
    "    # Show the real labels on the screen \n",
    "    print('Real labels:', '\\t'.join('%5s' % categories[labels[j].item()] for j in range(batch_size)))\n",
    "\n",
    "    predicted = []\n",
    "    for image in images:\n",
    "        output = model.emotion_classifier(input_img)\n",
    "        predicted.append(torch.argmax(output, 1))\n",
    "\n",
    "    # Let's show the predicted labels on the screen to compare with the real ones\n",
    "    print('Predicted:', '\\t'.join('%5s' % categories[predicted[j].item()] for j in range(batch_size)))"
   ]
  },
  {
   "cell_type": "code",
   "execution_count": null,
   "id": "db17a49d",
   "metadata": {},
   "outputs": [],
   "source": [
    "testBatch(mvae, testset_loader, emocat)"
   ]
  },
  {
   "cell_type": "code",
   "execution_count": null,
   "id": "1589507f",
   "metadata": {},
   "outputs": [],
   "source": []
  }
 ],
 "metadata": {
  "kernelspec": {
   "display_name": "Python 3 (ipykernel)",
   "language": "python",
   "name": "python3"
  },
  "language_info": {
   "codemirror_mode": {
    "name": "ipython",
    "version": 3
   },
   "file_extension": ".py",
   "mimetype": "text/x-python",
   "name": "python",
   "nbconvert_exporter": "python",
   "pygments_lexer": "ipython3",
   "version": "3.9.7"
  }
 },
 "nbformat": 4,
 "nbformat_minor": 5
}
