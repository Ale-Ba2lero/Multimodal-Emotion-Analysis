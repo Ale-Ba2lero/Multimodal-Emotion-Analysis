{
 "cells": [
  {
   "cell_type": "markdown",
   "metadata": {},
   "source": [
    "#### Esploration script for The Ryerson Audio-Visual Database of Emotional Speech and Song (RAVDESS)\n",
    "\n",
    "https://zenodo.org/record/1188976#.YlPtjdNBy4R\n",
    "\n",
    "File naming convention\n",
    "\n",
    "Each of the 7356 RAVDESS files has a unique filename. The filename consists of a 7-part numerical identifier (e.g., 02-01-06-01-02-01-12.mp4). These identifiers define the stimulus characteristics: \n",
    "\n",
    "Filename identifiers \n",
    "\n",
    "    Modality (01 = full-AV, 02 = video-only, 03 = audio-only).\n",
    "    Vocal channel (01 = speech, 02 = song).\n",
    "    Emotion (01 = neutral, 02 = calm, 03 = happy, 04 = sad, 05 = angry, 06 = fearful, 07 = disgust, 08 = surprised).\n",
    "    Emotional intensity (01 = normal, 02 = strong). NOTE: There is no strong intensity for the 'neutral' emotion.\n",
    "    Statement (01 = \"Kids are talking by the door\", 02 = \"Dogs are sitting by the door\").\n",
    "    Repetition (01 = 1st repetition, 02 = 2nd repetition).\n",
    "    Actor (01 to 24. Odd numbered actors are male, even numbered actors are female).\n",
    "\n",
    "\n",
    "Filename example: 02-01-06-01-02-01-12.mp4 \n",
    "\n",
    "    Video-only (02)\n",
    "    Speech (01)\n",
    "    Fearful (06)\n",
    "    Normal intensity (01)\n",
    "    Statement \"dogs\" (02)\n",
    "    1st Repetition (01)\n",
    "    12th Actor (12)\n",
    "    Female, as the actor ID number is even.\n"
   ]
  },
  {
   "cell_type": "code",
   "execution_count": 1,
   "metadata": {},
   "outputs": [],
   "source": [
    "import matplotlib.pyplot as plt\n",
    "from extract_frames import find_video_files, get_frames\n",
    "import os"
   ]
  },
  {
   "cell_type": "code",
   "execution_count": 2,
   "metadata": {},
   "outputs": [],
   "source": [
    "FOLDER_PATH = 'C:/Users/aless/Documents/datasets/RAVDESS_MOD'\n",
    "DESTINATION_FOLDER = 'C:/Users/aless/Desktop/frames'\n",
    "\n",
    "os.makedirs(DESTINATION_FOLDER)"
   ]
  },
  {
   "cell_type": "code",
   "execution_count": 3,
   "metadata": {},
   "outputs": [
    {
     "name": "stdout",
     "output_type": "stream",
     "text": [
      "60 mp4 files found!\n",
      "Saving frames in  C:/Users/aless/Desktop/frames\n",
      "Creating...C:/Users/aless/Desktop/frames\\01-01-pn0.jpg\n",
      "Creating...C:/Users/aless/Desktop/frames\\01-01-pn1.jpg\n",
      "Creating...C:/Users/aless/Desktop/frames\\01-01-pn2.jpg\n",
      "Creating...C:/Users/aless/Desktop/frames\\01-01-pn3.jpg\n",
      "Creating...C:/Users/aless/Desktop/frames\\02-01-pn4.jpg\n",
      "Creating...C:/Users/aless/Desktop/frames\\02-01-pn5.jpg\n",
      "Creating...C:/Users/aless/Desktop/frames\\02-01-pn6.jpg\n",
      "Creating...C:/Users/aless/Desktop/frames\\02-01-pn7.jpg\n",
      "Creating...C:/Users/aless/Desktop/frames\\02-01-pn8.jpg\n",
      "Creating...C:/Users/aless/Desktop/frames\\02-01-pn9.jpg\n",
      "Creating...C:/Users/aless/Desktop/frames\\02-01-pn10.jpg\n",
      "Creating...C:/Users/aless/Desktop/frames\\02-01-pn11.jpg\n",
      "Creating...C:/Users/aless/Desktop/frames\\03-01-pn12.jpg\n",
      "Creating...C:/Users/aless/Desktop/frames\\03-01-pn13.jpg\n",
      "Creating...C:/Users/aless/Desktop/frames\\03-01-pn14.jpg\n",
      "Creating...C:/Users/aless/Desktop/frames\\03-01-pn15.jpg\n",
      "Creating...C:/Users/aless/Desktop/frames\\03-01-pn16.jpg\n",
      "Creating...C:/Users/aless/Desktop/frames\\03-01-pn17.jpg\n",
      "Creating...C:/Users/aless/Desktop/frames\\03-01-pn18.jpg\n",
      "Creating...C:/Users/aless/Desktop/frames\\03-01-pn19.jpg\n",
      "Creating...C:/Users/aless/Desktop/frames\\04-01-pn20.jpg\n",
      "Creating...C:/Users/aless/Desktop/frames\\04-01-pn21.jpg\n",
      "Creating...C:/Users/aless/Desktop/frames\\04-01-pn22.jpg\n",
      "Creating...C:/Users/aless/Desktop/frames\\04-01-pn23.jpg\n",
      "Creating...C:/Users/aless/Desktop/frames\\04-01-pn24.jpg\n",
      "Creating...C:/Users/aless/Desktop/frames\\04-01-pn25.jpg\n",
      "Creating...C:/Users/aless/Desktop/frames\\04-01-pn26.jpg\n",
      "Creating...C:/Users/aless/Desktop/frames\\04-01-pn27.jpg\n",
      "Creating...C:/Users/aless/Desktop/frames\\05-01-pn28.jpg\n",
      "Creating...C:/Users/aless/Desktop/frames\\05-01-pn29.jpg\n",
      "Creating...C:/Users/aless/Desktop/frames\\05-01-pn30.jpg\n",
      "Creating...C:/Users/aless/Desktop/frames\\05-01-pn31.jpg\n",
      "Creating...C:/Users/aless/Desktop/frames\\05-01-pn32.jpg\n",
      "Creating...C:/Users/aless/Desktop/frames\\05-01-pn33.jpg\n",
      "Creating...C:/Users/aless/Desktop/frames\\05-01-pn34.jpg\n",
      "Creating...C:/Users/aless/Desktop/frames\\05-01-pn35.jpg\n",
      "Creating...C:/Users/aless/Desktop/frames\\06-01-pn36.jpg\n",
      "Creating...C:/Users/aless/Desktop/frames\\06-01-pn37.jpg\n",
      "Creating...C:/Users/aless/Desktop/frames\\06-01-pn38.jpg\n",
      "Creating...C:/Users/aless/Desktop/frames\\06-01-pn39.jpg\n",
      "Creating...C:/Users/aless/Desktop/frames\\06-01-pn40.jpg\n",
      "Creating...C:/Users/aless/Desktop/frames\\06-01-pn41.jpg\n",
      "Creating...C:/Users/aless/Desktop/frames\\06-01-pn42.jpg\n",
      "Creating...C:/Users/aless/Desktop/frames\\06-01-pn43.jpg\n",
      "Creating...C:/Users/aless/Desktop/frames\\07-01-pn44.jpg\n",
      "Creating...C:/Users/aless/Desktop/frames\\07-01-pn45.jpg\n",
      "Creating...C:/Users/aless/Desktop/frames\\07-01-pn46.jpg\n",
      "Creating...C:/Users/aless/Desktop/frames\\07-01-pn47.jpg\n",
      "Creating...C:/Users/aless/Desktop/frames\\07-01-pn48.jpg\n",
      "Creating...C:/Users/aless/Desktop/frames\\07-01-pn49.jpg\n",
      "Creating...C:/Users/aless/Desktop/frames\\07-01-pn50.jpg\n",
      "Creating...C:/Users/aless/Desktop/frames\\07-01-pn51.jpg\n",
      "Creating...C:/Users/aless/Desktop/frames\\08-01-pn52.jpg\n",
      "Creating...C:/Users/aless/Desktop/frames\\08-01-pn53.jpg\n",
      "Creating...C:/Users/aless/Desktop/frames\\08-01-pn54.jpg\n",
      "Creating...C:/Users/aless/Desktop/frames\\08-01-pn55.jpg\n",
      "Creating...C:/Users/aless/Desktop/frames\\08-01-pn56.jpg\n",
      "Creating...C:/Users/aless/Desktop/frames\\08-01-pn57.jpg\n",
      "Creating...C:/Users/aless/Desktop/frames\\08-01-pn58.jpg\n",
      "Creating...C:/Users/aless/Desktop/frames\\08-01-pn59.jpg\n"
     ]
    }
   ],
   "source": [
    "get_frames(files_paths=find_video_files(FOLDER_PATH), destination_folder=DESTINATION_FOLDER)"
   ]
  },
  {
   "cell_type": "code",
   "execution_count": null,
   "metadata": {},
   "outputs": [],
   "source": [
    "\n",
    "# plt.imshow(frame[...,::-1])"
   ]
  }
 ],
 "metadata": {
  "interpreter": {
   "hash": "57baa5815c940fdaff4d14510622de9616cae602444507ba5d0b6727c008cbd6"
  },
  "kernelspec": {
   "display_name": "Python 3.7.4 64-bit",
   "language": "python",
   "name": "python3"
  },
  "language_info": {
   "codemirror_mode": {
    "name": "ipython",
    "version": 3
   },
   "file_extension": ".py",
   "mimetype": "text/x-python",
   "name": "python",
   "nbconvert_exporter": "python",
   "pygments_lexer": "ipython3",
   "version": "3.9.7"
  },
  "orig_nbformat": 4
 },
 "nbformat": 4,
 "nbformat_minor": 2
}
